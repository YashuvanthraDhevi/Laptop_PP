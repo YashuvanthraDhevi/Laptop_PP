{
  "cells": [
    {
      "cell_type": "code",
      "execution_count": 1,
      "metadata": {
        "id": "H60CE9scLTxs"
      },
      "outputs": [],
      "source": [
        "#Importing all the necessary data preprocessing and visualization lib\n",
        "import pandas as pd\n",
        "import numpy as np\n",
        "import matplotlib.pyplot as plt\n",
        "import seaborn as sns\n",
        "import plotly.express as px\n",
        "import plotly.graph_objects as go\n",
        "import warnings\n",
        "warnings.filterwarnings('ignore')"
      ]
    },
    {
      "cell_type": "code",
      "execution_count": 3,
      "metadata": {
        "id": "Yf2XHZ1DLzEq"
      },
      "outputs": [],
      "source": [
        "df = pd.read_csv(\"data.csv\")"
      ]
    },
    {
      "cell_type": "code",
      "execution_count": 4,
      "metadata": {
        "colab": {
          "base_uri": "https://localhost:8080/",
          "height": 521
        },
        "id": "1QiDJPvdMhMf",
        "outputId": "ac8e7ce9-0ed9-464d-b12e-afc2975c9752"
      },
      "outputs": [
        {
          "data": {
            "text/html": [
              "<div>\n",
              "<style scoped>\n",
              "    .dataframe tbody tr th:only-of-type {\n",
              "        vertical-align: middle;\n",
              "    }\n",
              "\n",
              "    .dataframe tbody tr th {\n",
              "        vertical-align: top;\n",
              "    }\n",
              "\n",
              "    .dataframe thead th {\n",
              "        text-align: right;\n",
              "    }\n",
              "</style>\n",
              "<table border=\"1\" class=\"dataframe\">\n",
              "  <thead>\n",
              "    <tr style=\"text-align: right;\">\n",
              "      <th></th>\n",
              "      <th>Unnamed: 0.1</th>\n",
              "      <th>Unnamed: 0</th>\n",
              "      <th>brand</th>\n",
              "      <th>name</th>\n",
              "      <th>price</th>\n",
              "      <th>spec_rating</th>\n",
              "      <th>processor</th>\n",
              "      <th>CPU</th>\n",
              "      <th>Ram</th>\n",
              "      <th>Ram_type</th>\n",
              "      <th>ROM</th>\n",
              "      <th>ROM_type</th>\n",
              "      <th>GPU</th>\n",
              "      <th>display_size</th>\n",
              "      <th>resolution_width</th>\n",
              "      <th>resolution_height</th>\n",
              "      <th>OS</th>\n",
              "      <th>warranty</th>\n",
              "    </tr>\n",
              "  </thead>\n",
              "  <tbody>\n",
              "    <tr>\n",
              "      <th>0</th>\n",
              "      <td>0</td>\n",
              "      <td>0</td>\n",
              "      <td>HP</td>\n",
              "      <td>Victus 15-fb0157AX Gaming Laptop</td>\n",
              "      <td>49900</td>\n",
              "      <td>73.000000</td>\n",
              "      <td>5th Gen AMD Ryzen 5 5600H</td>\n",
              "      <td>Hexa Core, 12 Threads</td>\n",
              "      <td>8GB</td>\n",
              "      <td>DDR4</td>\n",
              "      <td>512GB</td>\n",
              "      <td>SSD</td>\n",
              "      <td>4GB AMD Radeon RX 6500M</td>\n",
              "      <td>15.6</td>\n",
              "      <td>1920.0</td>\n",
              "      <td>1080.0</td>\n",
              "      <td>Windows 11 OS</td>\n",
              "      <td>1</td>\n",
              "    </tr>\n",
              "    <tr>\n",
              "      <th>1</th>\n",
              "      <td>1</td>\n",
              "      <td>1</td>\n",
              "      <td>HP</td>\n",
              "      <td>15s-fq5007TU Laptop</td>\n",
              "      <td>39900</td>\n",
              "      <td>60.000000</td>\n",
              "      <td>12th Gen Intel Core i3 1215U</td>\n",
              "      <td>Hexa Core (2P + 4E), 8 Threads</td>\n",
              "      <td>8GB</td>\n",
              "      <td>DDR4</td>\n",
              "      <td>512GB</td>\n",
              "      <td>SSD</td>\n",
              "      <td>Intel UHD Graphics</td>\n",
              "      <td>15.6</td>\n",
              "      <td>1920.0</td>\n",
              "      <td>1080.0</td>\n",
              "      <td>Windows 11 OS</td>\n",
              "      <td>1</td>\n",
              "    </tr>\n",
              "    <tr>\n",
              "      <th>2</th>\n",
              "      <td>2</td>\n",
              "      <td>2</td>\n",
              "      <td>Acer</td>\n",
              "      <td>One 14 Z8-415 Laptop</td>\n",
              "      <td>26990</td>\n",
              "      <td>69.323529</td>\n",
              "      <td>11th Gen Intel Core i3 1115G4</td>\n",
              "      <td>Dual Core, 4 Threads</td>\n",
              "      <td>8GB</td>\n",
              "      <td>DDR4</td>\n",
              "      <td>512GB</td>\n",
              "      <td>SSD</td>\n",
              "      <td>Intel Iris Xe Graphics</td>\n",
              "      <td>14.0</td>\n",
              "      <td>1920.0</td>\n",
              "      <td>1080.0</td>\n",
              "      <td>Windows 11 OS</td>\n",
              "      <td>1</td>\n",
              "    </tr>\n",
              "    <tr>\n",
              "      <th>3</th>\n",
              "      <td>3</td>\n",
              "      <td>3</td>\n",
              "      <td>Lenovo</td>\n",
              "      <td>Yoga Slim 6 14IAP8 82WU0095IN Laptop</td>\n",
              "      <td>59729</td>\n",
              "      <td>66.000000</td>\n",
              "      <td>12th Gen Intel Core i5 1240P</td>\n",
              "      <td>12 Cores (4P + 8E), 16 Threads</td>\n",
              "      <td>16GB</td>\n",
              "      <td>LPDDR5</td>\n",
              "      <td>512GB</td>\n",
              "      <td>SSD</td>\n",
              "      <td>Intel Integrated Iris Xe</td>\n",
              "      <td>14.0</td>\n",
              "      <td>2240.0</td>\n",
              "      <td>1400.0</td>\n",
              "      <td>Windows 11 OS</td>\n",
              "      <td>1</td>\n",
              "    </tr>\n",
              "    <tr>\n",
              "      <th>4</th>\n",
              "      <td>4</td>\n",
              "      <td>4</td>\n",
              "      <td>Apple</td>\n",
              "      <td>MacBook Air 2020 MGND3HN Laptop</td>\n",
              "      <td>69990</td>\n",
              "      <td>69.323529</td>\n",
              "      <td>Apple M1</td>\n",
              "      <td>Octa Core (4P + 4E)</td>\n",
              "      <td>8GB</td>\n",
              "      <td>DDR4</td>\n",
              "      <td>256GB</td>\n",
              "      <td>SSD</td>\n",
              "      <td>Apple M1 Integrated Graphics</td>\n",
              "      <td>13.3</td>\n",
              "      <td>2560.0</td>\n",
              "      <td>1600.0</td>\n",
              "      <td>Mac OS</td>\n",
              "      <td>1</td>\n",
              "    </tr>\n",
              "  </tbody>\n",
              "</table>\n",
              "</div>"
            ],
            "text/plain": [
              "   Unnamed: 0.1  Unnamed: 0   brand                                  name  \\\n",
              "0             0           0      HP      Victus 15-fb0157AX Gaming Laptop   \n",
              "1             1           1      HP                   15s-fq5007TU Laptop   \n",
              "2             2           2    Acer                  One 14 Z8-415 Laptop   \n",
              "3             3           3  Lenovo  Yoga Slim 6 14IAP8 82WU0095IN Laptop   \n",
              "4             4           4   Apple       MacBook Air 2020 MGND3HN Laptop   \n",
              "\n",
              "   price  spec_rating                      processor  \\\n",
              "0  49900    73.000000      5th Gen AMD Ryzen 5 5600H   \n",
              "1  39900    60.000000   12th Gen Intel Core i3 1215U   \n",
              "2  26990    69.323529  11th Gen Intel Core i3 1115G4   \n",
              "3  59729    66.000000   12th Gen Intel Core i5 1240P   \n",
              "4  69990    69.323529                       Apple M1   \n",
              "\n",
              "                              CPU   Ram Ram_type    ROM ROM_type  \\\n",
              "0           Hexa Core, 12 Threads   8GB     DDR4  512GB      SSD   \n",
              "1  Hexa Core (2P + 4E), 8 Threads   8GB     DDR4  512GB      SSD   \n",
              "2            Dual Core, 4 Threads   8GB     DDR4  512GB      SSD   \n",
              "3  12 Cores (4P + 8E), 16 Threads  16GB   LPDDR5  512GB      SSD   \n",
              "4             Octa Core (4P + 4E)   8GB     DDR4  256GB      SSD   \n",
              "\n",
              "                            GPU  display_size  resolution_width  \\\n",
              "0       4GB AMD Radeon RX 6500M          15.6            1920.0   \n",
              "1            Intel UHD Graphics          15.6            1920.0   \n",
              "2        Intel Iris Xe Graphics          14.0            1920.0   \n",
              "3      Intel Integrated Iris Xe          14.0            2240.0   \n",
              "4  Apple M1 Integrated Graphics          13.3            2560.0   \n",
              "\n",
              "   resolution_height             OS  warranty  \n",
              "0             1080.0  Windows 11 OS         1  \n",
              "1             1080.0  Windows 11 OS         1  \n",
              "2             1080.0  Windows 11 OS         1  \n",
              "3             1400.0  Windows 11 OS         1  \n",
              "4             1600.0         Mac OS         1  "
            ]
          },
          "execution_count": 4,
          "metadata": {},
          "output_type": "execute_result"
        }
      ],
      "source": [
        "df.head()"
      ]
    },
    {
      "cell_type": "code",
      "execution_count": 5,
      "metadata": {
        "colab": {
          "base_uri": "https://localhost:8080/",
          "height": 683
        },
        "id": "EIc6oqQSND7i",
        "outputId": "920ef8a0-656a-4541-b0f3-ab513fe3bee4"
      },
      "outputs": [
        {
          "data": {
            "text/html": [
              "<div>\n",
              "<style scoped>\n",
              "    .dataframe tbody tr th:only-of-type {\n",
              "        vertical-align: middle;\n",
              "    }\n",
              "\n",
              "    .dataframe tbody tr th {\n",
              "        vertical-align: top;\n",
              "    }\n",
              "\n",
              "    .dataframe thead th {\n",
              "        text-align: right;\n",
              "    }\n",
              "</style>\n",
              "<table border=\"1\" class=\"dataframe\">\n",
              "  <thead>\n",
              "    <tr style=\"text-align: right;\">\n",
              "      <th></th>\n",
              "      <th>0</th>\n",
              "      <th>1</th>\n",
              "      <th>2</th>\n",
              "      <th>3</th>\n",
              "      <th>4</th>\n",
              "    </tr>\n",
              "  </thead>\n",
              "  <tbody>\n",
              "    <tr>\n",
              "      <th>Unnamed: 0.1</th>\n",
              "      <td>0</td>\n",
              "      <td>1</td>\n",
              "      <td>2</td>\n",
              "      <td>3</td>\n",
              "      <td>4</td>\n",
              "    </tr>\n",
              "    <tr>\n",
              "      <th>Unnamed: 0</th>\n",
              "      <td>0</td>\n",
              "      <td>1</td>\n",
              "      <td>2</td>\n",
              "      <td>3</td>\n",
              "      <td>4</td>\n",
              "    </tr>\n",
              "    <tr>\n",
              "      <th>brand</th>\n",
              "      <td>HP</td>\n",
              "      <td>HP</td>\n",
              "      <td>Acer</td>\n",
              "      <td>Lenovo</td>\n",
              "      <td>Apple</td>\n",
              "    </tr>\n",
              "    <tr>\n",
              "      <th>name</th>\n",
              "      <td>Victus 15-fb0157AX Gaming Laptop</td>\n",
              "      <td>15s-fq5007TU Laptop</td>\n",
              "      <td>One 14 Z8-415 Laptop</td>\n",
              "      <td>Yoga Slim 6 14IAP8 82WU0095IN Laptop</td>\n",
              "      <td>MacBook Air 2020 MGND3HN Laptop</td>\n",
              "    </tr>\n",
              "    <tr>\n",
              "      <th>price</th>\n",
              "      <td>49900</td>\n",
              "      <td>39900</td>\n",
              "      <td>26990</td>\n",
              "      <td>59729</td>\n",
              "      <td>69990</td>\n",
              "    </tr>\n",
              "    <tr>\n",
              "      <th>spec_rating</th>\n",
              "      <td>73.0</td>\n",
              "      <td>60.0</td>\n",
              "      <td>69.323529</td>\n",
              "      <td>66.0</td>\n",
              "      <td>69.323529</td>\n",
              "    </tr>\n",
              "    <tr>\n",
              "      <th>processor</th>\n",
              "      <td>5th Gen AMD Ryzen 5 5600H</td>\n",
              "      <td>12th Gen Intel Core i3 1215U</td>\n",
              "      <td>11th Gen Intel Core i3 1115G4</td>\n",
              "      <td>12th Gen Intel Core i5 1240P</td>\n",
              "      <td>Apple M1</td>\n",
              "    </tr>\n",
              "    <tr>\n",
              "      <th>CPU</th>\n",
              "      <td>Hexa Core, 12 Threads</td>\n",
              "      <td>Hexa Core (2P + 4E), 8 Threads</td>\n",
              "      <td>Dual Core, 4 Threads</td>\n",
              "      <td>12 Cores (4P + 8E), 16 Threads</td>\n",
              "      <td>Octa Core (4P + 4E)</td>\n",
              "    </tr>\n",
              "    <tr>\n",
              "      <th>Ram</th>\n",
              "      <td>8GB</td>\n",
              "      <td>8GB</td>\n",
              "      <td>8GB</td>\n",
              "      <td>16GB</td>\n",
              "      <td>8GB</td>\n",
              "    </tr>\n",
              "    <tr>\n",
              "      <th>Ram_type</th>\n",
              "      <td>DDR4</td>\n",
              "      <td>DDR4</td>\n",
              "      <td>DDR4</td>\n",
              "      <td>LPDDR5</td>\n",
              "      <td>DDR4</td>\n",
              "    </tr>\n",
              "    <tr>\n",
              "      <th>ROM</th>\n",
              "      <td>512GB</td>\n",
              "      <td>512GB</td>\n",
              "      <td>512GB</td>\n",
              "      <td>512GB</td>\n",
              "      <td>256GB</td>\n",
              "    </tr>\n",
              "    <tr>\n",
              "      <th>ROM_type</th>\n",
              "      <td>SSD</td>\n",
              "      <td>SSD</td>\n",
              "      <td>SSD</td>\n",
              "      <td>SSD</td>\n",
              "      <td>SSD</td>\n",
              "    </tr>\n",
              "    <tr>\n",
              "      <th>GPU</th>\n",
              "      <td>4GB AMD Radeon RX 6500M</td>\n",
              "      <td>Intel UHD Graphics</td>\n",
              "      <td>Intel Iris Xe Graphics</td>\n",
              "      <td>Intel Integrated Iris Xe</td>\n",
              "      <td>Apple M1 Integrated Graphics</td>\n",
              "    </tr>\n",
              "    <tr>\n",
              "      <th>display_size</th>\n",
              "      <td>15.6</td>\n",
              "      <td>15.6</td>\n",
              "      <td>14.0</td>\n",
              "      <td>14.0</td>\n",
              "      <td>13.3</td>\n",
              "    </tr>\n",
              "    <tr>\n",
              "      <th>resolution_width</th>\n",
              "      <td>1920.0</td>\n",
              "      <td>1920.0</td>\n",
              "      <td>1920.0</td>\n",
              "      <td>2240.0</td>\n",
              "      <td>2560.0</td>\n",
              "    </tr>\n",
              "    <tr>\n",
              "      <th>resolution_height</th>\n",
              "      <td>1080.0</td>\n",
              "      <td>1080.0</td>\n",
              "      <td>1080.0</td>\n",
              "      <td>1400.0</td>\n",
              "      <td>1600.0</td>\n",
              "    </tr>\n",
              "    <tr>\n",
              "      <th>OS</th>\n",
              "      <td>Windows 11 OS</td>\n",
              "      <td>Windows 11 OS</td>\n",
              "      <td>Windows 11 OS</td>\n",
              "      <td>Windows 11 OS</td>\n",
              "      <td>Mac OS</td>\n",
              "    </tr>\n",
              "    <tr>\n",
              "      <th>warranty</th>\n",
              "      <td>1</td>\n",
              "      <td>1</td>\n",
              "      <td>1</td>\n",
              "      <td>1</td>\n",
              "      <td>1</td>\n",
              "    </tr>\n",
              "  </tbody>\n",
              "</table>\n",
              "</div>"
            ],
            "text/plain": [
              "                                                  0  \\\n",
              "Unnamed: 0.1                                      0   \n",
              "Unnamed: 0                                        0   \n",
              "brand                                            HP   \n",
              "name               Victus 15-fb0157AX Gaming Laptop   \n",
              "price                                         49900   \n",
              "spec_rating                                    73.0   \n",
              "processor                 5th Gen AMD Ryzen 5 5600H   \n",
              "CPU                           Hexa Core, 12 Threads   \n",
              "Ram                                             8GB   \n",
              "Ram_type                                       DDR4   \n",
              "ROM                                           512GB   \n",
              "ROM_type                                        SSD   \n",
              "GPU                         4GB AMD Radeon RX 6500M   \n",
              "display_size                                   15.6   \n",
              "resolution_width                             1920.0   \n",
              "resolution_height                            1080.0   \n",
              "OS                                    Windows 11 OS   \n",
              "warranty                                          1   \n",
              "\n",
              "                                                1  \\\n",
              "Unnamed: 0.1                                    1   \n",
              "Unnamed: 0                                      1   \n",
              "brand                                          HP   \n",
              "name                          15s-fq5007TU Laptop   \n",
              "price                                       39900   \n",
              "spec_rating                                  60.0   \n",
              "processor            12th Gen Intel Core i3 1215U   \n",
              "CPU                Hexa Core (2P + 4E), 8 Threads   \n",
              "Ram                                           8GB   \n",
              "Ram_type                                     DDR4   \n",
              "ROM                                         512GB   \n",
              "ROM_type                                      SSD   \n",
              "GPU                            Intel UHD Graphics   \n",
              "display_size                                 15.6   \n",
              "resolution_width                           1920.0   \n",
              "resolution_height                          1080.0   \n",
              "OS                                  Windows 11 OS   \n",
              "warranty                                        1   \n",
              "\n",
              "                                               2  \\\n",
              "Unnamed: 0.1                                   2   \n",
              "Unnamed: 0                                     2   \n",
              "brand                                       Acer   \n",
              "name                        One 14 Z8-415 Laptop   \n",
              "price                                      26990   \n",
              "spec_rating                            69.323529   \n",
              "processor          11th Gen Intel Core i3 1115G4   \n",
              "CPU                         Dual Core, 4 Threads   \n",
              "Ram                                          8GB   \n",
              "Ram_type                                    DDR4   \n",
              "ROM                                        512GB   \n",
              "ROM_type                                     SSD   \n",
              "GPU                       Intel Iris Xe Graphics   \n",
              "display_size                                14.0   \n",
              "resolution_width                          1920.0   \n",
              "resolution_height                         1080.0   \n",
              "OS                                 Windows 11 OS   \n",
              "warranty                                       1   \n",
              "\n",
              "                                                      3  \\\n",
              "Unnamed: 0.1                                          3   \n",
              "Unnamed: 0                                            3   \n",
              "brand                                            Lenovo   \n",
              "name               Yoga Slim 6 14IAP8 82WU0095IN Laptop   \n",
              "price                                             59729   \n",
              "spec_rating                                        66.0   \n",
              "processor                  12th Gen Intel Core i5 1240P   \n",
              "CPU                      12 Cores (4P + 8E), 16 Threads   \n",
              "Ram                                                16GB   \n",
              "Ram_type                                         LPDDR5   \n",
              "ROM                                               512GB   \n",
              "ROM_type                                            SSD   \n",
              "GPU                            Intel Integrated Iris Xe   \n",
              "display_size                                       14.0   \n",
              "resolution_width                                 2240.0   \n",
              "resolution_height                                1400.0   \n",
              "OS                                        Windows 11 OS   \n",
              "warranty                                              1   \n",
              "\n",
              "                                                 4  \n",
              "Unnamed: 0.1                                     4  \n",
              "Unnamed: 0                                       4  \n",
              "brand                                        Apple  \n",
              "name               MacBook Air 2020 MGND3HN Laptop  \n",
              "price                                        69990  \n",
              "spec_rating                              69.323529  \n",
              "processor                                 Apple M1  \n",
              "CPU                            Octa Core (4P + 4E)  \n",
              "Ram                                            8GB  \n",
              "Ram_type                                      DDR4  \n",
              "ROM                                          256GB  \n",
              "ROM_type                                       SSD  \n",
              "GPU                   Apple M1 Integrated Graphics  \n",
              "display_size                                  13.3  \n",
              "resolution_width                            2560.0  \n",
              "resolution_height                           1600.0  \n",
              "OS                                          Mac OS  \n",
              "warranty                                         1  "
            ]
          },
          "execution_count": 5,
          "metadata": {},
          "output_type": "execute_result"
        }
      ],
      "source": [
        "df.head().T"
      ]
    },
    {
      "cell_type": "code",
      "execution_count": 6,
      "metadata": {
        "colab": {
          "base_uri": "https://localhost:8080/"
        },
        "id": "1Iv8bnRTNLZx",
        "outputId": "71c03571-0b66-48d4-92a0-7b99a52eb4dd"
      },
      "outputs": [
        {
          "name": "stdout",
          "output_type": "stream",
          "text": [
            "<class 'pandas.core.frame.DataFrame'>\n",
            "RangeIndex: 893 entries, 0 to 892\n",
            "Data columns (total 18 columns):\n",
            " #   Column             Non-Null Count  Dtype  \n",
            "---  ------             --------------  -----  \n",
            " 0   Unnamed: 0.1       893 non-null    int64  \n",
            " 1   Unnamed: 0         893 non-null    int64  \n",
            " 2   brand              893 non-null    object \n",
            " 3   name               893 non-null    object \n",
            " 4   price              893 non-null    int64  \n",
            " 5   spec_rating        893 non-null    float64\n",
            " 6   processor          893 non-null    object \n",
            " 7   CPU                893 non-null    object \n",
            " 8   Ram                893 non-null    object \n",
            " 9   Ram_type           893 non-null    object \n",
            " 10  ROM                893 non-null    object \n",
            " 11  ROM_type           893 non-null    object \n",
            " 12  GPU                893 non-null    object \n",
            " 13  display_size       893 non-null    float64\n",
            " 14  resolution_width   893 non-null    float64\n",
            " 15  resolution_height  893 non-null    float64\n",
            " 16  OS                 893 non-null    object \n",
            " 17  warranty           893 non-null    int64  \n",
            "dtypes: float64(4), int64(4), object(10)\n",
            "memory usage: 125.7+ KB\n"
          ]
        }
      ],
      "source": [
        "df.info()"
      ]
    },
    {
      "cell_type": "markdown",
      "metadata": {
        "id": "dWoQ9JLwNu3U"
      },
      "source": [
        "We can clearly see that there are no null values."
      ]
    },
    {
      "cell_type": "code",
      "execution_count": 7,
      "metadata": {
        "colab": {
          "base_uri": "https://localhost:8080/"
        },
        "id": "mykSSQi7NPuq",
        "outputId": "47ba6c90-f0c2-49e5-e3a4-cdce184ad148"
      },
      "outputs": [
        {
          "name": "stdout",
          "output_type": "stream",
          "text": [
            "This Laptop Price Dataset has 893 rows and 18 columns\n"
          ]
        }
      ],
      "source": [
        "print(f\"This Laptop Price Dataset has {df.shape[0]} rows and {df.shape[1]} columns\")"
      ]
    },
    {
      "cell_type": "code",
      "execution_count": 8,
      "metadata": {
        "id": "k2v7iMZqNXCD"
      },
      "outputs": [],
      "source": [
        "#Dropping the unwanted col:\n",
        "df.drop(['Unnamed: 0.1', 'Unnamed: 0'], axis=1, inplace=True)"
      ]
    },
    {
      "cell_type": "code",
      "execution_count": 9,
      "metadata": {
        "colab": {
          "base_uri": "https://localhost:8080/",
          "height": 504
        },
        "id": "TuT-pJoyOANP",
        "outputId": "9386922d-5980-4628-caf7-3007af6020f6"
      },
      "outputs": [
        {
          "data": {
            "text/html": [
              "<div>\n",
              "<style scoped>\n",
              "    .dataframe tbody tr th:only-of-type {\n",
              "        vertical-align: middle;\n",
              "    }\n",
              "\n",
              "    .dataframe tbody tr th {\n",
              "        vertical-align: top;\n",
              "    }\n",
              "\n",
              "    .dataframe thead th {\n",
              "        text-align: right;\n",
              "    }\n",
              "</style>\n",
              "<table border=\"1\" class=\"dataframe\">\n",
              "  <thead>\n",
              "    <tr style=\"text-align: right;\">\n",
              "      <th></th>\n",
              "      <th>brand</th>\n",
              "      <th>name</th>\n",
              "      <th>price</th>\n",
              "      <th>spec_rating</th>\n",
              "      <th>processor</th>\n",
              "      <th>CPU</th>\n",
              "      <th>Ram</th>\n",
              "      <th>Ram_type</th>\n",
              "      <th>ROM</th>\n",
              "      <th>ROM_type</th>\n",
              "      <th>GPU</th>\n",
              "      <th>display_size</th>\n",
              "      <th>resolution_width</th>\n",
              "      <th>resolution_height</th>\n",
              "      <th>OS</th>\n",
              "      <th>warranty</th>\n",
              "    </tr>\n",
              "  </thead>\n",
              "  <tbody>\n",
              "    <tr>\n",
              "      <th>0</th>\n",
              "      <td>HP</td>\n",
              "      <td>Victus 15-fb0157AX Gaming Laptop</td>\n",
              "      <td>49900</td>\n",
              "      <td>73.000000</td>\n",
              "      <td>5th Gen AMD Ryzen 5 5600H</td>\n",
              "      <td>Hexa Core, 12 Threads</td>\n",
              "      <td>8GB</td>\n",
              "      <td>DDR4</td>\n",
              "      <td>512GB</td>\n",
              "      <td>SSD</td>\n",
              "      <td>4GB AMD Radeon RX 6500M</td>\n",
              "      <td>15.6</td>\n",
              "      <td>1920.0</td>\n",
              "      <td>1080.0</td>\n",
              "      <td>Windows 11 OS</td>\n",
              "      <td>1</td>\n",
              "    </tr>\n",
              "    <tr>\n",
              "      <th>1</th>\n",
              "      <td>HP</td>\n",
              "      <td>15s-fq5007TU Laptop</td>\n",
              "      <td>39900</td>\n",
              "      <td>60.000000</td>\n",
              "      <td>12th Gen Intel Core i3 1215U</td>\n",
              "      <td>Hexa Core (2P + 4E), 8 Threads</td>\n",
              "      <td>8GB</td>\n",
              "      <td>DDR4</td>\n",
              "      <td>512GB</td>\n",
              "      <td>SSD</td>\n",
              "      <td>Intel UHD Graphics</td>\n",
              "      <td>15.6</td>\n",
              "      <td>1920.0</td>\n",
              "      <td>1080.0</td>\n",
              "      <td>Windows 11 OS</td>\n",
              "      <td>1</td>\n",
              "    </tr>\n",
              "    <tr>\n",
              "      <th>2</th>\n",
              "      <td>Acer</td>\n",
              "      <td>One 14 Z8-415 Laptop</td>\n",
              "      <td>26990</td>\n",
              "      <td>69.323529</td>\n",
              "      <td>11th Gen Intel Core i3 1115G4</td>\n",
              "      <td>Dual Core, 4 Threads</td>\n",
              "      <td>8GB</td>\n",
              "      <td>DDR4</td>\n",
              "      <td>512GB</td>\n",
              "      <td>SSD</td>\n",
              "      <td>Intel Iris Xe Graphics</td>\n",
              "      <td>14.0</td>\n",
              "      <td>1920.0</td>\n",
              "      <td>1080.0</td>\n",
              "      <td>Windows 11 OS</td>\n",
              "      <td>1</td>\n",
              "    </tr>\n",
              "    <tr>\n",
              "      <th>3</th>\n",
              "      <td>Lenovo</td>\n",
              "      <td>Yoga Slim 6 14IAP8 82WU0095IN Laptop</td>\n",
              "      <td>59729</td>\n",
              "      <td>66.000000</td>\n",
              "      <td>12th Gen Intel Core i5 1240P</td>\n",
              "      <td>12 Cores (4P + 8E), 16 Threads</td>\n",
              "      <td>16GB</td>\n",
              "      <td>LPDDR5</td>\n",
              "      <td>512GB</td>\n",
              "      <td>SSD</td>\n",
              "      <td>Intel Integrated Iris Xe</td>\n",
              "      <td>14.0</td>\n",
              "      <td>2240.0</td>\n",
              "      <td>1400.0</td>\n",
              "      <td>Windows 11 OS</td>\n",
              "      <td>1</td>\n",
              "    </tr>\n",
              "    <tr>\n",
              "      <th>4</th>\n",
              "      <td>Apple</td>\n",
              "      <td>MacBook Air 2020 MGND3HN Laptop</td>\n",
              "      <td>69990</td>\n",
              "      <td>69.323529</td>\n",
              "      <td>Apple M1</td>\n",
              "      <td>Octa Core (4P + 4E)</td>\n",
              "      <td>8GB</td>\n",
              "      <td>DDR4</td>\n",
              "      <td>256GB</td>\n",
              "      <td>SSD</td>\n",
              "      <td>Apple M1 Integrated Graphics</td>\n",
              "      <td>13.3</td>\n",
              "      <td>2560.0</td>\n",
              "      <td>1600.0</td>\n",
              "      <td>Mac OS</td>\n",
              "      <td>1</td>\n",
              "    </tr>\n",
              "  </tbody>\n",
              "</table>\n",
              "</div>"
            ],
            "text/plain": [
              "    brand                                  name  price  spec_rating  \\\n",
              "0      HP      Victus 15-fb0157AX Gaming Laptop  49900    73.000000   \n",
              "1      HP                   15s-fq5007TU Laptop  39900    60.000000   \n",
              "2    Acer                  One 14 Z8-415 Laptop  26990    69.323529   \n",
              "3  Lenovo  Yoga Slim 6 14IAP8 82WU0095IN Laptop  59729    66.000000   \n",
              "4   Apple       MacBook Air 2020 MGND3HN Laptop  69990    69.323529   \n",
              "\n",
              "                       processor                             CPU   Ram  \\\n",
              "0      5th Gen AMD Ryzen 5 5600H           Hexa Core, 12 Threads   8GB   \n",
              "1   12th Gen Intel Core i3 1215U  Hexa Core (2P + 4E), 8 Threads   8GB   \n",
              "2  11th Gen Intel Core i3 1115G4            Dual Core, 4 Threads   8GB   \n",
              "3   12th Gen Intel Core i5 1240P  12 Cores (4P + 8E), 16 Threads  16GB   \n",
              "4                       Apple M1             Octa Core (4P + 4E)   8GB   \n",
              "\n",
              "  Ram_type    ROM ROM_type                           GPU  display_size  \\\n",
              "0     DDR4  512GB      SSD       4GB AMD Radeon RX 6500M          15.6   \n",
              "1     DDR4  512GB      SSD            Intel UHD Graphics          15.6   \n",
              "2     DDR4  512GB      SSD        Intel Iris Xe Graphics          14.0   \n",
              "3   LPDDR5  512GB      SSD      Intel Integrated Iris Xe          14.0   \n",
              "4     DDR4  256GB      SSD  Apple M1 Integrated Graphics          13.3   \n",
              "\n",
              "   resolution_width  resolution_height             OS  warranty  \n",
              "0            1920.0             1080.0  Windows 11 OS         1  \n",
              "1            1920.0             1080.0  Windows 11 OS         1  \n",
              "2            1920.0             1080.0  Windows 11 OS         1  \n",
              "3            2240.0             1400.0  Windows 11 OS         1  \n",
              "4            2560.0             1600.0         Mac OS         1  "
            ]
          },
          "execution_count": 9,
          "metadata": {},
          "output_type": "execute_result"
        }
      ],
      "source": [
        "df.head()"
      ]
    },
    {
      "cell_type": "code",
      "execution_count": 10,
      "metadata": {
        "colab": {
          "base_uri": "https://localhost:8080/",
          "height": 300
        },
        "id": "zoU-WdAkOB8I",
        "outputId": "fee17f64-784a-4714-c35a-e02a08f719f1"
      },
      "outputs": [
        {
          "data": {
            "text/html": [
              "<div>\n",
              "<style scoped>\n",
              "    .dataframe tbody tr th:only-of-type {\n",
              "        vertical-align: middle;\n",
              "    }\n",
              "\n",
              "    .dataframe tbody tr th {\n",
              "        vertical-align: top;\n",
              "    }\n",
              "\n",
              "    .dataframe thead th {\n",
              "        text-align: right;\n",
              "    }\n",
              "</style>\n",
              "<table border=\"1\" class=\"dataframe\">\n",
              "  <thead>\n",
              "    <tr style=\"text-align: right;\">\n",
              "      <th></th>\n",
              "      <th>price</th>\n",
              "      <th>spec_rating</th>\n",
              "      <th>display_size</th>\n",
              "      <th>resolution_width</th>\n",
              "      <th>resolution_height</th>\n",
              "      <th>warranty</th>\n",
              "    </tr>\n",
              "  </thead>\n",
              "  <tbody>\n",
              "    <tr>\n",
              "      <th>count</th>\n",
              "      <td>893.000000</td>\n",
              "      <td>893.000000</td>\n",
              "      <td>893.000000</td>\n",
              "      <td>893.000000</td>\n",
              "      <td>893.000000</td>\n",
              "      <td>893.000000</td>\n",
              "    </tr>\n",
              "    <tr>\n",
              "      <th>mean</th>\n",
              "      <td>79907.409854</td>\n",
              "      <td>69.379026</td>\n",
              "      <td>15.173751</td>\n",
              "      <td>2035.393057</td>\n",
              "      <td>1218.324748</td>\n",
              "      <td>1.079507</td>\n",
              "    </tr>\n",
              "    <tr>\n",
              "      <th>std</th>\n",
              "      <td>60880.043823</td>\n",
              "      <td>5.541555</td>\n",
              "      <td>0.939095</td>\n",
              "      <td>426.076009</td>\n",
              "      <td>326.756883</td>\n",
              "      <td>0.326956</td>\n",
              "    </tr>\n",
              "    <tr>\n",
              "      <th>min</th>\n",
              "      <td>9999.000000</td>\n",
              "      <td>60.000000</td>\n",
              "      <td>11.600000</td>\n",
              "      <td>1080.000000</td>\n",
              "      <td>768.000000</td>\n",
              "      <td>0.000000</td>\n",
              "    </tr>\n",
              "    <tr>\n",
              "      <th>25%</th>\n",
              "      <td>44500.000000</td>\n",
              "      <td>66.000000</td>\n",
              "      <td>14.000000</td>\n",
              "      <td>1920.000000</td>\n",
              "      <td>1080.000000</td>\n",
              "      <td>1.000000</td>\n",
              "    </tr>\n",
              "    <tr>\n",
              "      <th>50%</th>\n",
              "      <td>61990.000000</td>\n",
              "      <td>69.323529</td>\n",
              "      <td>15.600000</td>\n",
              "      <td>1920.000000</td>\n",
              "      <td>1080.000000</td>\n",
              "      <td>1.000000</td>\n",
              "    </tr>\n",
              "    <tr>\n",
              "      <th>75%</th>\n",
              "      <td>90990.000000</td>\n",
              "      <td>71.000000</td>\n",
              "      <td>15.600000</td>\n",
              "      <td>1920.000000</td>\n",
              "      <td>1200.000000</td>\n",
              "      <td>1.000000</td>\n",
              "    </tr>\n",
              "    <tr>\n",
              "      <th>max</th>\n",
              "      <td>450039.000000</td>\n",
              "      <td>89.000000</td>\n",
              "      <td>18.000000</td>\n",
              "      <td>3840.000000</td>\n",
              "      <td>3456.000000</td>\n",
              "      <td>3.000000</td>\n",
              "    </tr>\n",
              "  </tbody>\n",
              "</table>\n",
              "</div>"
            ],
            "text/plain": [
              "               price  spec_rating  display_size  resolution_width  \\\n",
              "count     893.000000   893.000000    893.000000        893.000000   \n",
              "mean    79907.409854    69.379026     15.173751       2035.393057   \n",
              "std     60880.043823     5.541555      0.939095        426.076009   \n",
              "min      9999.000000    60.000000     11.600000       1080.000000   \n",
              "25%     44500.000000    66.000000     14.000000       1920.000000   \n",
              "50%     61990.000000    69.323529     15.600000       1920.000000   \n",
              "75%     90990.000000    71.000000     15.600000       1920.000000   \n",
              "max    450039.000000    89.000000     18.000000       3840.000000   \n",
              "\n",
              "       resolution_height    warranty  \n",
              "count         893.000000  893.000000  \n",
              "mean         1218.324748    1.079507  \n",
              "std           326.756883    0.326956  \n",
              "min           768.000000    0.000000  \n",
              "25%          1080.000000    1.000000  \n",
              "50%          1080.000000    1.000000  \n",
              "75%          1200.000000    1.000000  \n",
              "max          3456.000000    3.000000  "
            ]
          },
          "execution_count": 10,
          "metadata": {},
          "output_type": "execute_result"
        }
      ],
      "source": [
        "df.describe()"
      ]
    },
    {
      "cell_type": "markdown",
      "metadata": {
        "id": "IGXV-NKnPGzF"
      },
      "source": [
        "For better understanding of the dataset let's do some visualization!"
      ]
    },
    {
      "cell_type": "code",
      "execution_count": 11,
      "metadata": {
        "colab": {
          "base_uri": "https://localhost:8080/",
          "height": 542
        },
        "id": "UGGaa1oUO3u0",
        "outputId": "02e95d50-5fca-46c2-8e49-c3e8a2fce0b1"
      },
      "outputs": [
        {
          "data": {
            "application/vnd.plotly.v1+json": {
              "config": {
                "plotlyServerURL": "https://plot.ly"
              },
              "data": [
                {
                  "alignmentgroup": "True",
                  "bingroup": "x",
                  "hovertemplate": "brand=%{x}<br>count=%{y}<extra></extra>",
                  "legendgroup": "HP",
                  "marker": {
                    "color": "rgb(102, 197, 204)",
                    "pattern": {
                      "shape": ""
                    }
                  },
                  "name": "HP",
                  "offsetgroup": "HP",
                  "orientation": "v",
                  "showlegend": true,
                  "type": "histogram",
                  "x": [
                    "HP",
                    "HP",
                    "HP",
                    "HP",
                    "HP",
                    "HP",
                    "HP",
                    "HP",
                    "HP",
                    "HP",
                    "HP",
                    "HP",
                    "HP",
                    "HP",
                    "HP",
                    "HP",
                    "HP",
                    "HP",
                    "HP",
                    "HP",
                    "HP",
                    "HP",
                    "HP",
                    "HP",
                    "HP",
                    "HP",
                    "HP",
                    "HP",
                    "HP",
                    "HP",
                    "HP",
                    "HP",
                    "HP",
                    "HP",
                    "HP",
                    "HP",
                    "HP",
                    "HP",
                    "HP",
                    "HP",
                    "HP",
                    "HP",
                    "HP",
                    "HP",
                    "HP",
                    "HP",
                    "HP",
                    "HP",
                    "HP",
                    "HP",
                    "HP",
                    "HP",
                    "HP",
                    "HP",
                    "HP",
                    "HP",
                    "HP",
                    "HP",
                    "HP",
                    "HP",
                    "HP",
                    "HP",
                    "HP",
                    "HP",
                    "HP",
                    "HP",
                    "HP",
                    "HP",
                    "HP",
                    "HP",
                    "HP",
                    "HP",
                    "HP",
                    "HP",
                    "HP",
                    "HP",
                    "HP",
                    "HP",
                    "HP",
                    "HP",
                    "HP",
                    "HP",
                    "HP",
                    "HP",
                    "HP",
                    "HP",
                    "HP",
                    "HP",
                    "HP",
                    "HP",
                    "HP",
                    "HP",
                    "HP",
                    "HP",
                    "HP",
                    "HP",
                    "HP",
                    "HP",
                    "HP",
                    "HP",
                    "HP",
                    "HP",
                    "HP",
                    "HP",
                    "HP",
                    "HP",
                    "HP",
                    "HP",
                    "HP",
                    "HP",
                    "HP",
                    "HP",
                    "HP",
                    "HP",
                    "HP",
                    "HP",
                    "HP",
                    "HP",
                    "HP",
                    "HP",
                    "HP",
                    "HP",
                    "HP",
                    "HP",
                    "HP",
                    "HP",
                    "HP",
                    "HP",
                    "HP",
                    "HP",
                    "HP",
                    "HP",
                    "HP",
                    "HP",
                    "HP",
                    "HP",
                    "HP",
                    "HP",
                    "HP",
                    "HP",
                    "HP",
                    "HP",
                    "HP",
                    "HP",
                    "HP",
                    "HP",
                    "HP",
                    "HP",
                    "HP",
                    "HP",
                    "HP",
                    "HP",
                    "HP",
                    "HP",
                    "HP",
                    "HP",
                    "HP",
                    "HP",
                    "HP",
                    "HP",
                    "HP",
                    "HP",
                    "HP",
                    "HP",
                    "HP",
                    "HP",
                    "HP",
                    "HP",
                    "HP",
                    "HP",
                    "HP",
                    "HP",
                    "HP",
                    "HP",
                    "HP",
                    "HP",
                    "HP",
                    "HP",
                    "HP",
                    "HP",
                    "HP",
                    "HP",
                    "HP",
                    "HP",
                    "HP",
                    "HP"
                  ],
                  "xaxis": "x",
                  "yaxis": "y"
                },
                {
                  "alignmentgroup": "True",
                  "bingroup": "x",
                  "hovertemplate": "brand=%{x}<br>count=%{y}<extra></extra>",
                  "legendgroup": "Acer",
                  "marker": {
                    "color": "rgb(246, 207, 113)",
                    "pattern": {
                      "shape": ""
                    }
                  },
                  "name": "Acer",
                  "offsetgroup": "Acer",
                  "orientation": "v",
                  "showlegend": true,
                  "type": "histogram",
                  "x": [
                    "Acer",
                    "Acer",
                    "Acer",
                    "Acer",
                    "Acer",
                    "Acer",
                    "Acer",
                    "Acer",
                    "Acer",
                    "Acer",
                    "Acer",
                    "Acer",
                    "Acer",
                    "Acer",
                    "Acer",
                    "Acer",
                    "Acer",
                    "Acer",
                    "Acer",
                    "Acer",
                    "Acer",
                    "Acer",
                    "Acer",
                    "Acer",
                    "Acer",
                    "Acer",
                    "Acer",
                    "Acer",
                    "Acer",
                    "Acer",
                    "Acer",
                    "Acer",
                    "Acer",
                    "Acer",
                    "Acer",
                    "Acer",
                    "Acer",
                    "Acer",
                    "Acer",
                    "Acer",
                    "Acer",
                    "Acer",
                    "Acer",
                    "Acer",
                    "Acer",
                    "Acer",
                    "Acer",
                    "Acer",
                    "Acer",
                    "Acer",
                    "Acer",
                    "Acer",
                    "Acer",
                    "Acer",
                    "Acer",
                    "Acer",
                    "Acer",
                    "Acer",
                    "Acer",
                    "Acer",
                    "Acer",
                    "Acer",
                    "Acer",
                    "Acer",
                    "Acer",
                    "Acer",
                    "Acer",
                    "Acer",
                    "Acer",
                    "Acer",
                    "Acer",
                    "Acer",
                    "Acer",
                    "Acer",
                    "Acer",
                    "Acer",
                    "Acer",
                    "Acer",
                    "Acer",
                    "Acer",
                    "Acer",
                    "Acer",
                    "Acer",
                    "Acer"
                  ],
                  "xaxis": "x",
                  "yaxis": "y"
                },
                {
                  "alignmentgroup": "True",
                  "bingroup": "x",
                  "hovertemplate": "brand=%{x}<br>count=%{y}<extra></extra>",
                  "legendgroup": "Lenovo",
                  "marker": {
                    "color": "rgb(248, 156, 116)",
                    "pattern": {
                      "shape": ""
                    }
                  },
                  "name": "Lenovo",
                  "offsetgroup": "Lenovo",
                  "orientation": "v",
                  "showlegend": true,
                  "type": "histogram",
                  "x": [
                    "Lenovo",
                    "Lenovo",
                    "Lenovo",
                    "Lenovo",
                    "Lenovo",
                    "Lenovo",
                    "Lenovo",
                    "Lenovo",
                    "Lenovo",
                    "Lenovo",
                    "Lenovo",
                    "Lenovo",
                    "Lenovo",
                    "Lenovo",
                    "Lenovo",
                    "Lenovo",
                    "Lenovo",
                    "Lenovo",
                    "Lenovo",
                    "Lenovo",
                    "Lenovo",
                    "Lenovo",
                    "Lenovo",
                    "Lenovo",
                    "Lenovo",
                    "Lenovo",
                    "Lenovo",
                    "Lenovo",
                    "Lenovo",
                    "Lenovo",
                    "Lenovo",
                    "Lenovo",
                    "Lenovo",
                    "Lenovo",
                    "Lenovo",
                    "Lenovo",
                    "Lenovo",
                    "Lenovo",
                    "Lenovo",
                    "Lenovo",
                    "Lenovo",
                    "Lenovo",
                    "Lenovo",
                    "Lenovo",
                    "Lenovo",
                    "Lenovo",
                    "Lenovo",
                    "Lenovo",
                    "Lenovo",
                    "Lenovo",
                    "Lenovo",
                    "Lenovo",
                    "Lenovo",
                    "Lenovo",
                    "Lenovo",
                    "Lenovo",
                    "Lenovo",
                    "Lenovo",
                    "Lenovo",
                    "Lenovo",
                    "Lenovo",
                    "Lenovo",
                    "Lenovo",
                    "Lenovo",
                    "Lenovo",
                    "Lenovo",
                    "Lenovo",
                    "Lenovo",
                    "Lenovo",
                    "Lenovo",
                    "Lenovo",
                    "Lenovo",
                    "Lenovo",
                    "Lenovo",
                    "Lenovo",
                    "Lenovo",
                    "Lenovo",
                    "Lenovo",
                    "Lenovo",
                    "Lenovo",
                    "Lenovo",
                    "Lenovo",
                    "Lenovo",
                    "Lenovo",
                    "Lenovo",
                    "Lenovo",
                    "Lenovo",
                    "Lenovo",
                    "Lenovo",
                    "Lenovo",
                    "Lenovo",
                    "Lenovo",
                    "Lenovo",
                    "Lenovo",
                    "Lenovo",
                    "Lenovo",
                    "Lenovo",
                    "Lenovo",
                    "Lenovo",
                    "Lenovo",
                    "Lenovo",
                    "Lenovo",
                    "Lenovo",
                    "Lenovo",
                    "Lenovo",
                    "Lenovo",
                    "Lenovo",
                    "Lenovo",
                    "Lenovo",
                    "Lenovo",
                    "Lenovo",
                    "Lenovo",
                    "Lenovo",
                    "Lenovo",
                    "Lenovo",
                    "Lenovo",
                    "Lenovo",
                    "Lenovo",
                    "Lenovo",
                    "Lenovo",
                    "Lenovo",
                    "Lenovo",
                    "Lenovo",
                    "Lenovo",
                    "Lenovo",
                    "Lenovo",
                    "Lenovo",
                    "Lenovo",
                    "Lenovo",
                    "Lenovo",
                    "Lenovo",
                    "Lenovo",
                    "Lenovo",
                    "Lenovo",
                    "Lenovo",
                    "Lenovo",
                    "Lenovo",
                    "Lenovo",
                    "Lenovo",
                    "Lenovo",
                    "Lenovo",
                    "Lenovo",
                    "Lenovo",
                    "Lenovo",
                    "Lenovo",
                    "Lenovo",
                    "Lenovo",
                    "Lenovo",
                    "Lenovo",
                    "Lenovo",
                    "Lenovo",
                    "Lenovo",
                    "Lenovo",
                    "Lenovo",
                    "Lenovo",
                    "Lenovo",
                    "Lenovo",
                    "Lenovo",
                    "Lenovo",
                    "Lenovo",
                    "Lenovo",
                    "Lenovo",
                    "Lenovo",
                    "Lenovo",
                    "Lenovo",
                    "Lenovo",
                    "Lenovo",
                    "Lenovo",
                    "Lenovo"
                  ],
                  "xaxis": "x",
                  "yaxis": "y"
                },
                {
                  "alignmentgroup": "True",
                  "bingroup": "x",
                  "hovertemplate": "brand=%{x}<br>count=%{y}<extra></extra>",
                  "legendgroup": "Apple",
                  "marker": {
                    "color": "rgb(220, 176, 242)",
                    "pattern": {
                      "shape": ""
                    }
                  },
                  "name": "Apple",
                  "offsetgroup": "Apple",
                  "orientation": "v",
                  "showlegend": true,
                  "type": "histogram",
                  "x": [
                    "Apple",
                    "Apple",
                    "Apple",
                    "Apple",
                    "Apple",
                    "Apple",
                    "Apple",
                    "Apple",
                    "Apple",
                    "Apple",
                    "Apple",
                    "Apple",
                    "Apple",
                    "Apple",
                    "Apple",
                    "Apple"
                  ],
                  "xaxis": "x",
                  "yaxis": "y"
                },
                {
                  "alignmentgroup": "True",
                  "bingroup": "x",
                  "hovertemplate": "brand=%{x}<br>count=%{y}<extra></extra>",
                  "legendgroup": "Dell",
                  "marker": {
                    "color": "rgb(135, 197, 95)",
                    "pattern": {
                      "shape": ""
                    }
                  },
                  "name": "Dell",
                  "offsetgroup": "Dell",
                  "orientation": "v",
                  "showlegend": true,
                  "type": "histogram",
                  "x": [
                    "Dell",
                    "Dell",
                    "Dell",
                    "Dell",
                    "Dell",
                    "Dell",
                    "Dell",
                    "Dell",
                    "Dell",
                    "Dell",
                    "Dell",
                    "Dell",
                    "Dell",
                    "Dell",
                    "Dell",
                    "Dell",
                    "Dell",
                    "Dell",
                    "Dell",
                    "Dell",
                    "Dell",
                    "Dell",
                    "Dell",
                    "Dell",
                    "Dell",
                    "Dell",
                    "Dell",
                    "Dell",
                    "Dell",
                    "Dell",
                    "Dell",
                    "Dell",
                    "Dell",
                    "Dell",
                    "Dell",
                    "Dell",
                    "Dell",
                    "Dell",
                    "Dell",
                    "Dell",
                    "Dell",
                    "Dell",
                    "Dell",
                    "Dell",
                    "Dell",
                    "Dell",
                    "Dell",
                    "Dell",
                    "Dell",
                    "Dell",
                    "Dell",
                    "Dell",
                    "Dell",
                    "Dell",
                    "Dell",
                    "Dell",
                    "Dell",
                    "Dell",
                    "Dell",
                    "Dell",
                    "Dell",
                    "Dell",
                    "Dell",
                    "Dell",
                    "Dell",
                    "Dell",
                    "Dell",
                    "Dell",
                    "Dell",
                    "Dell",
                    "Dell",
                    "Dell",
                    "Dell",
                    "Dell",
                    "Dell",
                    "Dell",
                    "Dell",
                    "Dell",
                    "Dell",
                    "Dell",
                    "Dell",
                    "Dell",
                    "Dell",
                    "Dell",
                    "Dell",
                    "Dell",
                    "Dell",
                    "Dell",
                    "Dell",
                    "Dell",
                    "Dell",
                    "Dell",
                    "Dell",
                    "Dell",
                    "Dell",
                    "Dell",
                    "Dell",
                    "Dell",
                    "Dell",
                    "Dell",
                    "Dell",
                    "Dell",
                    "Dell",
                    "Dell",
                    "Dell",
                    "Dell",
                    "Dell"
                  ],
                  "xaxis": "x",
                  "yaxis": "y"
                },
                {
                  "alignmentgroup": "True",
                  "bingroup": "x",
                  "hovertemplate": "brand=%{x}<br>count=%{y}<extra></extra>",
                  "legendgroup": "Asus",
                  "marker": {
                    "color": "rgb(158, 185, 243)",
                    "pattern": {
                      "shape": ""
                    }
                  },
                  "name": "Asus",
                  "offsetgroup": "Asus",
                  "orientation": "v",
                  "showlegend": true,
                  "type": "histogram",
                  "x": [
                    "Asus",
                    "Asus",
                    "Asus",
                    "Asus",
                    "Asus",
                    "Asus",
                    "Asus",
                    "Asus",
                    "Asus",
                    "Asus",
                    "Asus",
                    "Asus",
                    "Asus",
                    "Asus",
                    "Asus",
                    "Asus",
                    "Asus",
                    "Asus",
                    "Asus",
                    "Asus",
                    "Asus",
                    "Asus",
                    "Asus",
                    "Asus",
                    "Asus",
                    "Asus",
                    "Asus",
                    "Asus",
                    "Asus",
                    "Asus",
                    "Asus",
                    "Asus",
                    "Asus",
                    "Asus",
                    "Asus",
                    "Asus",
                    "Asus",
                    "Asus",
                    "Asus",
                    "Asus",
                    "Asus",
                    "Asus",
                    "Asus",
                    "Asus",
                    "Asus",
                    "Asus",
                    "Asus",
                    "Asus",
                    "Asus",
                    "Asus",
                    "Asus",
                    "Asus",
                    "Asus",
                    "Asus",
                    "Asus",
                    "Asus",
                    "Asus",
                    "Asus",
                    "Asus",
                    "Asus",
                    "Asus",
                    "Asus",
                    "Asus",
                    "Asus",
                    "Asus",
                    "Asus",
                    "Asus",
                    "Asus",
                    "Asus",
                    "Asus",
                    "Asus",
                    "Asus",
                    "Asus",
                    "Asus",
                    "Asus",
                    "Asus",
                    "Asus",
                    "Asus",
                    "Asus",
                    "Asus",
                    "Asus",
                    "Asus",
                    "Asus",
                    "Asus",
                    "Asus",
                    "Asus",
                    "Asus",
                    "Asus",
                    "Asus",
                    "Asus",
                    "Asus",
                    "Asus",
                    "Asus",
                    "Asus",
                    "Asus",
                    "Asus",
                    "Asus",
                    "Asus",
                    "Asus",
                    "Asus",
                    "Asus",
                    "Asus",
                    "Asus",
                    "Asus",
                    "Asus",
                    "Asus",
                    "Asus",
                    "Asus",
                    "Asus",
                    "Asus",
                    "Asus",
                    "Asus",
                    "Asus",
                    "Asus",
                    "Asus",
                    "Asus",
                    "Asus",
                    "Asus",
                    "Asus",
                    "Asus",
                    "Asus",
                    "Asus",
                    "Asus",
                    "Asus",
                    "Asus",
                    "Asus",
                    "Asus",
                    "Asus",
                    "Asus",
                    "Asus",
                    "Asus",
                    "Asus",
                    "Asus",
                    "Asus",
                    "Asus",
                    "Asus",
                    "Asus",
                    "Asus",
                    "Asus",
                    "Asus",
                    "Asus",
                    "Asus",
                    "Asus",
                    "Asus",
                    "Asus",
                    "Asus",
                    "Asus",
                    "Asus",
                    "Asus",
                    "Asus",
                    "Asus",
                    "Asus",
                    "Asus",
                    "Asus",
                    "Asus",
                    "Asus",
                    "Asus"
                  ],
                  "xaxis": "x",
                  "yaxis": "y"
                },
                {
                  "alignmentgroup": "True",
                  "bingroup": "x",
                  "hovertemplate": "brand=%{x}<br>count=%{y}<extra></extra>",
                  "legendgroup": "Samsung",
                  "marker": {
                    "color": "rgb(254, 136, 177)",
                    "pattern": {
                      "shape": ""
                    }
                  },
                  "name": "Samsung",
                  "offsetgroup": "Samsung",
                  "orientation": "v",
                  "showlegend": true,
                  "type": "histogram",
                  "x": [
                    "Samsung",
                    "Samsung",
                    "Samsung",
                    "Samsung",
                    "Samsung",
                    "Samsung",
                    "Samsung",
                    "Samsung",
                    "Samsung",
                    "Samsung",
                    "Samsung",
                    "Samsung",
                    "Samsung",
                    "Samsung",
                    "Samsung",
                    "Samsung",
                    "Samsung",
                    "Samsung",
                    "Samsung",
                    "Samsung",
                    "Samsung",
                    "Samsung",
                    "Samsung",
                    "Samsung",
                    "Samsung",
                    "Samsung",
                    "Samsung",
                    "Samsung"
                  ],
                  "xaxis": "x",
                  "yaxis": "y"
                },
                {
                  "alignmentgroup": "True",
                  "bingroup": "x",
                  "hovertemplate": "brand=%{x}<br>count=%{y}<extra></extra>",
                  "legendgroup": "Ultimus",
                  "marker": {
                    "color": "rgb(201, 219, 116)",
                    "pattern": {
                      "shape": ""
                    }
                  },
                  "name": "Ultimus",
                  "offsetgroup": "Ultimus",
                  "orientation": "v",
                  "showlegend": true,
                  "type": "histogram",
                  "x": [
                    "Ultimus",
                    "Ultimus",
                    "Ultimus",
                    "Ultimus"
                  ],
                  "xaxis": "x",
                  "yaxis": "y"
                },
                {
                  "alignmentgroup": "True",
                  "bingroup": "x",
                  "hovertemplate": "brand=%{x}<br>count=%{y}<extra></extra>",
                  "legendgroup": "Primebook",
                  "marker": {
                    "color": "rgb(139, 224, 164)",
                    "pattern": {
                      "shape": ""
                    }
                  },
                  "name": "Primebook",
                  "offsetgroup": "Primebook",
                  "orientation": "v",
                  "showlegend": true,
                  "type": "histogram",
                  "x": [
                    "Primebook"
                  ],
                  "xaxis": "x",
                  "yaxis": "y"
                },
                {
                  "alignmentgroup": "True",
                  "bingroup": "x",
                  "hovertemplate": "brand=%{x}<br>count=%{y}<extra></extra>",
                  "legendgroup": "MSI",
                  "marker": {
                    "color": "rgb(180, 151, 231)",
                    "pattern": {
                      "shape": ""
                    }
                  },
                  "name": "MSI",
                  "offsetgroup": "MSI",
                  "orientation": "v",
                  "showlegend": true,
                  "type": "histogram",
                  "x": [
                    "MSI",
                    "MSI",
                    "MSI",
                    "MSI",
                    "MSI",
                    "MSI",
                    "MSI",
                    "MSI",
                    "MSI",
                    "MSI",
                    "MSI",
                    "MSI",
                    "MSI",
                    "MSI",
                    "MSI",
                    "MSI",
                    "MSI",
                    "MSI",
                    "MSI",
                    "MSI",
                    "MSI",
                    "MSI",
                    "MSI",
                    "MSI",
                    "MSI",
                    "MSI",
                    "MSI",
                    "MSI",
                    "MSI",
                    "MSI",
                    "MSI",
                    "MSI",
                    "MSI",
                    "MSI",
                    "MSI",
                    "MSI",
                    "MSI",
                    "MSI",
                    "MSI",
                    "MSI",
                    "MSI",
                    "MSI",
                    "MSI",
                    "MSI",
                    "MSI",
                    "MSI",
                    "MSI",
                    "MSI",
                    "MSI",
                    "MSI",
                    "MSI",
                    "MSI",
                    "MSI",
                    "MSI",
                    "MSI",
                    "MSI",
                    "MSI",
                    "MSI",
                    "MSI",
                    "MSI",
                    "MSI",
                    "MSI",
                    "MSI",
                    "MSI",
                    "MSI"
                  ],
                  "xaxis": "x",
                  "yaxis": "y"
                },
                {
                  "alignmentgroup": "True",
                  "bingroup": "x",
                  "hovertemplate": "brand=%{x}<br>count=%{y}<extra></extra>",
                  "legendgroup": "Infinix",
                  "marker": {
                    "color": "rgb(179, 179, 179)",
                    "pattern": {
                      "shape": ""
                    }
                  },
                  "name": "Infinix",
                  "offsetgroup": "Infinix",
                  "orientation": "v",
                  "showlegend": true,
                  "type": "histogram",
                  "x": [
                    "Infinix",
                    "Infinix",
                    "Infinix",
                    "Infinix",
                    "Infinix",
                    "Infinix",
                    "Infinix",
                    "Infinix",
                    "Infinix",
                    "Infinix",
                    "Infinix",
                    "Infinix",
                    "Infinix",
                    "Infinix",
                    "Infinix"
                  ],
                  "xaxis": "x",
                  "yaxis": "y"
                },
                {
                  "alignmentgroup": "True",
                  "bingroup": "x",
                  "hovertemplate": "brand=%{x}<br>count=%{y}<extra></extra>",
                  "legendgroup": "Wings",
                  "marker": {
                    "color": "rgb(102, 197, 204)",
                    "pattern": {
                      "shape": ""
                    }
                  },
                  "name": "Wings",
                  "offsetgroup": "Wings",
                  "orientation": "v",
                  "showlegend": true,
                  "type": "histogram",
                  "x": [
                    "Wings",
                    "Wings",
                    "Wings"
                  ],
                  "xaxis": "x",
                  "yaxis": "y"
                },
                {
                  "alignmentgroup": "True",
                  "bingroup": "x",
                  "hovertemplate": "brand=%{x}<br>count=%{y}<extra></extra>",
                  "legendgroup": "Honor",
                  "marker": {
                    "color": "rgb(246, 207, 113)",
                    "pattern": {
                      "shape": ""
                    }
                  },
                  "name": "Honor",
                  "offsetgroup": "Honor",
                  "orientation": "v",
                  "showlegend": true,
                  "type": "histogram",
                  "x": [
                    "Honor",
                    "Honor"
                  ],
                  "xaxis": "x",
                  "yaxis": "y"
                },
                {
                  "alignmentgroup": "True",
                  "bingroup": "x",
                  "hovertemplate": "brand=%{x}<br>count=%{y}<extra></extra>",
                  "legendgroup": "Zebronics",
                  "marker": {
                    "color": "rgb(248, 156, 116)",
                    "pattern": {
                      "shape": ""
                    }
                  },
                  "name": "Zebronics",
                  "offsetgroup": "Zebronics",
                  "orientation": "v",
                  "showlegend": true,
                  "type": "histogram",
                  "x": [
                    "Zebronics",
                    "Zebronics",
                    "Zebronics",
                    "Zebronics"
                  ],
                  "xaxis": "x",
                  "yaxis": "y"
                },
                {
                  "alignmentgroup": "True",
                  "bingroup": "x",
                  "hovertemplate": "brand=%{x}<br>count=%{y}<extra></extra>",
                  "legendgroup": "Xiaomi",
                  "marker": {
                    "color": "rgb(220, 176, 242)",
                    "pattern": {
                      "shape": ""
                    }
                  },
                  "name": "Xiaomi",
                  "offsetgroup": "Xiaomi",
                  "orientation": "v",
                  "showlegend": true,
                  "type": "histogram",
                  "x": [
                    "Xiaomi",
                    "Xiaomi",
                    "Xiaomi",
                    "Xiaomi",
                    "Xiaomi",
                    "Xiaomi",
                    "Xiaomi",
                    "Xiaomi"
                  ],
                  "xaxis": "x",
                  "yaxis": "y"
                },
                {
                  "alignmentgroup": "True",
                  "bingroup": "x",
                  "hovertemplate": "brand=%{x}<br>count=%{y}<extra></extra>",
                  "legendgroup": "iBall",
                  "marker": {
                    "color": "rgb(135, 197, 95)",
                    "pattern": {
                      "shape": ""
                    }
                  },
                  "name": "iBall",
                  "offsetgroup": "iBall",
                  "orientation": "v",
                  "showlegend": true,
                  "type": "histogram",
                  "x": [
                    "iBall"
                  ],
                  "xaxis": "x",
                  "yaxis": "y"
                },
                {
                  "alignmentgroup": "True",
                  "bingroup": "x",
                  "hovertemplate": "brand=%{x}<br>count=%{y}<extra></extra>",
                  "legendgroup": "Chuwi",
                  "marker": {
                    "color": "rgb(158, 185, 243)",
                    "pattern": {
                      "shape": ""
                    }
                  },
                  "name": "Chuwi",
                  "offsetgroup": "Chuwi",
                  "orientation": "v",
                  "showlegend": true,
                  "type": "histogram",
                  "x": [
                    "Chuwi",
                    "Chuwi",
                    "Chuwi"
                  ],
                  "xaxis": "x",
                  "yaxis": "y"
                },
                {
                  "alignmentgroup": "True",
                  "bingroup": "x",
                  "hovertemplate": "brand=%{x}<br>count=%{y}<extra></extra>",
                  "legendgroup": "Realme",
                  "marker": {
                    "color": "rgb(254, 136, 177)",
                    "pattern": {
                      "shape": ""
                    }
                  },
                  "name": "Realme",
                  "offsetgroup": "Realme",
                  "orientation": "v",
                  "showlegend": true,
                  "type": "histogram",
                  "x": [
                    "Realme",
                    "Realme",
                    "Realme"
                  ],
                  "xaxis": "x",
                  "yaxis": "y"
                },
                {
                  "alignmentgroup": "True",
                  "bingroup": "x",
                  "hovertemplate": "brand=%{x}<br>count=%{y}<extra></extra>",
                  "legendgroup": "Avita",
                  "marker": {
                    "color": "rgb(201, 219, 116)",
                    "pattern": {
                      "shape": ""
                    }
                  },
                  "name": "Avita",
                  "offsetgroup": "Avita",
                  "orientation": "v",
                  "showlegend": true,
                  "type": "histogram",
                  "x": [
                    "Avita"
                  ],
                  "xaxis": "x",
                  "yaxis": "y"
                },
                {
                  "alignmentgroup": "True",
                  "bingroup": "x",
                  "hovertemplate": "brand=%{x}<br>count=%{y}<extra></extra>",
                  "legendgroup": "Walker",
                  "marker": {
                    "color": "rgb(139, 224, 164)",
                    "pattern": {
                      "shape": ""
                    }
                  },
                  "name": "Walker",
                  "offsetgroup": "Walker",
                  "orientation": "v",
                  "showlegend": true,
                  "type": "histogram",
                  "x": [
                    "Walker"
                  ],
                  "xaxis": "x",
                  "yaxis": "y"
                },
                {
                  "alignmentgroup": "True",
                  "bingroup": "x",
                  "hovertemplate": "brand=%{x}<br>count=%{y}<extra></extra>",
                  "legendgroup": "Huawei",
                  "marker": {
                    "color": "rgb(180, 151, 231)",
                    "pattern": {
                      "shape": ""
                    }
                  },
                  "name": "Huawei",
                  "offsetgroup": "Huawei",
                  "orientation": "v",
                  "showlegend": true,
                  "type": "histogram",
                  "x": [
                    "Huawei",
                    "Huawei"
                  ],
                  "xaxis": "x",
                  "yaxis": "y"
                },
                {
                  "alignmentgroup": "True",
                  "bingroup": "x",
                  "hovertemplate": "brand=%{x}<br>count=%{y}<extra></extra>",
                  "legendgroup": "Tecno",
                  "marker": {
                    "color": "rgb(179, 179, 179)",
                    "pattern": {
                      "shape": ""
                    }
                  },
                  "name": "Tecno",
                  "offsetgroup": "Tecno",
                  "orientation": "v",
                  "showlegend": true,
                  "type": "histogram",
                  "x": [
                    "Tecno",
                    "Tecno",
                    "Tecno"
                  ],
                  "xaxis": "x",
                  "yaxis": "y"
                },
                {
                  "alignmentgroup": "True",
                  "bingroup": "x",
                  "hovertemplate": "brand=%{x}<br>count=%{y}<extra></extra>",
                  "legendgroup": "Gigabyte",
                  "marker": {
                    "color": "rgb(102, 197, 204)",
                    "pattern": {
                      "shape": ""
                    }
                  },
                  "name": "Gigabyte",
                  "offsetgroup": "Gigabyte",
                  "orientation": "v",
                  "showlegend": true,
                  "type": "histogram",
                  "x": [
                    "Gigabyte",
                    "Gigabyte",
                    "Gigabyte",
                    "Gigabyte",
                    "Gigabyte",
                    "Gigabyte",
                    "Gigabyte",
                    "Gigabyte"
                  ],
                  "xaxis": "x",
                  "yaxis": "y"
                },
                {
                  "alignmentgroup": "True",
                  "bingroup": "x",
                  "hovertemplate": "brand=%{x}<br>count=%{y}<extra></extra>",
                  "legendgroup": "Vaio",
                  "marker": {
                    "color": "rgb(246, 207, 113)",
                    "pattern": {
                      "shape": ""
                    }
                  },
                  "name": "Vaio",
                  "offsetgroup": "Vaio",
                  "orientation": "v",
                  "showlegend": true,
                  "type": "histogram",
                  "x": [
                    "Vaio"
                  ],
                  "xaxis": "x",
                  "yaxis": "y"
                },
                {
                  "alignmentgroup": "True",
                  "bingroup": "x",
                  "hovertemplate": "brand=%{x}<br>count=%{y}<extra></extra>",
                  "legendgroup": "Microsoft",
                  "marker": {
                    "color": "rgb(248, 156, 116)",
                    "pattern": {
                      "shape": ""
                    }
                  },
                  "name": "Microsoft",
                  "offsetgroup": "Microsoft",
                  "orientation": "v",
                  "showlegend": true,
                  "type": "histogram",
                  "x": [
                    "Microsoft",
                    "Microsoft"
                  ],
                  "xaxis": "x",
                  "yaxis": "y"
                },
                {
                  "alignmentgroup": "True",
                  "bingroup": "x",
                  "hovertemplate": "brand=%{x}<br>count=%{y}<extra></extra>",
                  "legendgroup": "Fujitsu",
                  "marker": {
                    "color": "rgb(220, 176, 242)",
                    "pattern": {
                      "shape": ""
                    }
                  },
                  "name": "Fujitsu",
                  "offsetgroup": "Fujitsu",
                  "orientation": "v",
                  "showlegend": true,
                  "type": "histogram",
                  "x": [
                    "Fujitsu",
                    "Fujitsu",
                    "Fujitsu",
                    "Fujitsu",
                    "Fujitsu",
                    "Fujitsu"
                  ],
                  "xaxis": "x",
                  "yaxis": "y"
                },
                {
                  "alignmentgroup": "True",
                  "bingroup": "x",
                  "hovertemplate": "brand=%{x}<br>count=%{y}<extra></extra>",
                  "legendgroup": "LG",
                  "marker": {
                    "color": "rgb(135, 197, 95)",
                    "pattern": {
                      "shape": ""
                    }
                  },
                  "name": "LG",
                  "offsetgroup": "LG",
                  "orientation": "v",
                  "showlegend": true,
                  "type": "histogram",
                  "x": [
                    "LG",
                    "LG",
                    "LG",
                    "LG",
                    "LG",
                    "LG",
                    "LG",
                    "LG",
                    "LG"
                  ],
                  "xaxis": "x",
                  "yaxis": "y"
                },
                {
                  "alignmentgroup": "True",
                  "bingroup": "x",
                  "hovertemplate": "brand=%{x}<br>count=%{y}<extra></extra>",
                  "legendgroup": "Ninkear",
                  "marker": {
                    "color": "rgb(158, 185, 243)",
                    "pattern": {
                      "shape": ""
                    }
                  },
                  "name": "Ninkear",
                  "offsetgroup": "Ninkear",
                  "orientation": "v",
                  "showlegend": true,
                  "type": "histogram",
                  "x": [
                    "Ninkear"
                  ],
                  "xaxis": "x",
                  "yaxis": "y"
                },
                {
                  "alignmentgroup": "True",
                  "bingroup": "x",
                  "hovertemplate": "brand=%{x}<br>count=%{y}<extra></extra>",
                  "legendgroup": "Razer",
                  "marker": {
                    "color": "rgb(254, 136, 177)",
                    "pattern": {
                      "shape": ""
                    }
                  },
                  "name": "Razer",
                  "offsetgroup": "Razer",
                  "orientation": "v",
                  "showlegend": true,
                  "type": "histogram",
                  "x": [
                    "Razer"
                  ],
                  "xaxis": "x",
                  "yaxis": "y"
                },
                {
                  "alignmentgroup": "True",
                  "bingroup": "x",
                  "hovertemplate": "brand=%{x}<br>count=%{y}<extra></extra>",
                  "legendgroup": "AXL",
                  "marker": {
                    "color": "rgb(201, 219, 116)",
                    "pattern": {
                      "shape": ""
                    }
                  },
                  "name": "AXL",
                  "offsetgroup": "AXL",
                  "orientation": "v",
                  "showlegend": true,
                  "type": "histogram",
                  "x": [
                    "AXL",
                    "AXL"
                  ],
                  "xaxis": "x",
                  "yaxis": "y"
                }
              ],
              "layout": {
                "barmode": "relative",
                "legend": {
                  "title": {
                    "text": "brand"
                  },
                  "tracegroupgap": 0
                },
                "template": {
                  "data": {
                    "bar": [
                      {
                        "error_x": {
                          "color": "#2a3f5f"
                        },
                        "error_y": {
                          "color": "#2a3f5f"
                        },
                        "marker": {
                          "line": {
                            "color": "#E5ECF6",
                            "width": 0.5
                          },
                          "pattern": {
                            "fillmode": "overlay",
                            "size": 10,
                            "solidity": 0.2
                          }
                        },
                        "type": "bar"
                      }
                    ],
                    "barpolar": [
                      {
                        "marker": {
                          "line": {
                            "color": "#E5ECF6",
                            "width": 0.5
                          },
                          "pattern": {
                            "fillmode": "overlay",
                            "size": 10,
                            "solidity": 0.2
                          }
                        },
                        "type": "barpolar"
                      }
                    ],
                    "carpet": [
                      {
                        "aaxis": {
                          "endlinecolor": "#2a3f5f",
                          "gridcolor": "white",
                          "linecolor": "white",
                          "minorgridcolor": "white",
                          "startlinecolor": "#2a3f5f"
                        },
                        "baxis": {
                          "endlinecolor": "#2a3f5f",
                          "gridcolor": "white",
                          "linecolor": "white",
                          "minorgridcolor": "white",
                          "startlinecolor": "#2a3f5f"
                        },
                        "type": "carpet"
                      }
                    ],
                    "choropleth": [
                      {
                        "colorbar": {
                          "outlinewidth": 0,
                          "ticks": ""
                        },
                        "type": "choropleth"
                      }
                    ],
                    "contour": [
                      {
                        "colorbar": {
                          "outlinewidth": 0,
                          "ticks": ""
                        },
                        "colorscale": [
                          [
                            0,
                            "#0d0887"
                          ],
                          [
                            0.1111111111111111,
                            "#46039f"
                          ],
                          [
                            0.2222222222222222,
                            "#7201a8"
                          ],
                          [
                            0.3333333333333333,
                            "#9c179e"
                          ],
                          [
                            0.4444444444444444,
                            "#bd3786"
                          ],
                          [
                            0.5555555555555556,
                            "#d8576b"
                          ],
                          [
                            0.6666666666666666,
                            "#ed7953"
                          ],
                          [
                            0.7777777777777778,
                            "#fb9f3a"
                          ],
                          [
                            0.8888888888888888,
                            "#fdca26"
                          ],
                          [
                            1,
                            "#f0f921"
                          ]
                        ],
                        "type": "contour"
                      }
                    ],
                    "contourcarpet": [
                      {
                        "colorbar": {
                          "outlinewidth": 0,
                          "ticks": ""
                        },
                        "type": "contourcarpet"
                      }
                    ],
                    "heatmap": [
                      {
                        "colorbar": {
                          "outlinewidth": 0,
                          "ticks": ""
                        },
                        "colorscale": [
                          [
                            0,
                            "#0d0887"
                          ],
                          [
                            0.1111111111111111,
                            "#46039f"
                          ],
                          [
                            0.2222222222222222,
                            "#7201a8"
                          ],
                          [
                            0.3333333333333333,
                            "#9c179e"
                          ],
                          [
                            0.4444444444444444,
                            "#bd3786"
                          ],
                          [
                            0.5555555555555556,
                            "#d8576b"
                          ],
                          [
                            0.6666666666666666,
                            "#ed7953"
                          ],
                          [
                            0.7777777777777778,
                            "#fb9f3a"
                          ],
                          [
                            0.8888888888888888,
                            "#fdca26"
                          ],
                          [
                            1,
                            "#f0f921"
                          ]
                        ],
                        "type": "heatmap"
                      }
                    ],
                    "heatmapgl": [
                      {
                        "colorbar": {
                          "outlinewidth": 0,
                          "ticks": ""
                        },
                        "colorscale": [
                          [
                            0,
                            "#0d0887"
                          ],
                          [
                            0.1111111111111111,
                            "#46039f"
                          ],
                          [
                            0.2222222222222222,
                            "#7201a8"
                          ],
                          [
                            0.3333333333333333,
                            "#9c179e"
                          ],
                          [
                            0.4444444444444444,
                            "#bd3786"
                          ],
                          [
                            0.5555555555555556,
                            "#d8576b"
                          ],
                          [
                            0.6666666666666666,
                            "#ed7953"
                          ],
                          [
                            0.7777777777777778,
                            "#fb9f3a"
                          ],
                          [
                            0.8888888888888888,
                            "#fdca26"
                          ],
                          [
                            1,
                            "#f0f921"
                          ]
                        ],
                        "type": "heatmapgl"
                      }
                    ],
                    "histogram": [
                      {
                        "marker": {
                          "pattern": {
                            "fillmode": "overlay",
                            "size": 10,
                            "solidity": 0.2
                          }
                        },
                        "type": "histogram"
                      }
                    ],
                    "histogram2d": [
                      {
                        "colorbar": {
                          "outlinewidth": 0,
                          "ticks": ""
                        },
                        "colorscale": [
                          [
                            0,
                            "#0d0887"
                          ],
                          [
                            0.1111111111111111,
                            "#46039f"
                          ],
                          [
                            0.2222222222222222,
                            "#7201a8"
                          ],
                          [
                            0.3333333333333333,
                            "#9c179e"
                          ],
                          [
                            0.4444444444444444,
                            "#bd3786"
                          ],
                          [
                            0.5555555555555556,
                            "#d8576b"
                          ],
                          [
                            0.6666666666666666,
                            "#ed7953"
                          ],
                          [
                            0.7777777777777778,
                            "#fb9f3a"
                          ],
                          [
                            0.8888888888888888,
                            "#fdca26"
                          ],
                          [
                            1,
                            "#f0f921"
                          ]
                        ],
                        "type": "histogram2d"
                      }
                    ],
                    "histogram2dcontour": [
                      {
                        "colorbar": {
                          "outlinewidth": 0,
                          "ticks": ""
                        },
                        "colorscale": [
                          [
                            0,
                            "#0d0887"
                          ],
                          [
                            0.1111111111111111,
                            "#46039f"
                          ],
                          [
                            0.2222222222222222,
                            "#7201a8"
                          ],
                          [
                            0.3333333333333333,
                            "#9c179e"
                          ],
                          [
                            0.4444444444444444,
                            "#bd3786"
                          ],
                          [
                            0.5555555555555556,
                            "#d8576b"
                          ],
                          [
                            0.6666666666666666,
                            "#ed7953"
                          ],
                          [
                            0.7777777777777778,
                            "#fb9f3a"
                          ],
                          [
                            0.8888888888888888,
                            "#fdca26"
                          ],
                          [
                            1,
                            "#f0f921"
                          ]
                        ],
                        "type": "histogram2dcontour"
                      }
                    ],
                    "mesh3d": [
                      {
                        "colorbar": {
                          "outlinewidth": 0,
                          "ticks": ""
                        },
                        "type": "mesh3d"
                      }
                    ],
                    "parcoords": [
                      {
                        "line": {
                          "colorbar": {
                            "outlinewidth": 0,
                            "ticks": ""
                          }
                        },
                        "type": "parcoords"
                      }
                    ],
                    "pie": [
                      {
                        "automargin": true,
                        "type": "pie"
                      }
                    ],
                    "scatter": [
                      {
                        "fillpattern": {
                          "fillmode": "overlay",
                          "size": 10,
                          "solidity": 0.2
                        },
                        "type": "scatter"
                      }
                    ],
                    "scatter3d": [
                      {
                        "line": {
                          "colorbar": {
                            "outlinewidth": 0,
                            "ticks": ""
                          }
                        },
                        "marker": {
                          "colorbar": {
                            "outlinewidth": 0,
                            "ticks": ""
                          }
                        },
                        "type": "scatter3d"
                      }
                    ],
                    "scattercarpet": [
                      {
                        "marker": {
                          "colorbar": {
                            "outlinewidth": 0,
                            "ticks": ""
                          }
                        },
                        "type": "scattercarpet"
                      }
                    ],
                    "scattergeo": [
                      {
                        "marker": {
                          "colorbar": {
                            "outlinewidth": 0,
                            "ticks": ""
                          }
                        },
                        "type": "scattergeo"
                      }
                    ],
                    "scattergl": [
                      {
                        "marker": {
                          "colorbar": {
                            "outlinewidth": 0,
                            "ticks": ""
                          }
                        },
                        "type": "scattergl"
                      }
                    ],
                    "scattermapbox": [
                      {
                        "marker": {
                          "colorbar": {
                            "outlinewidth": 0,
                            "ticks": ""
                          }
                        },
                        "type": "scattermapbox"
                      }
                    ],
                    "scatterpolar": [
                      {
                        "marker": {
                          "colorbar": {
                            "outlinewidth": 0,
                            "ticks": ""
                          }
                        },
                        "type": "scatterpolar"
                      }
                    ],
                    "scatterpolargl": [
                      {
                        "marker": {
                          "colorbar": {
                            "outlinewidth": 0,
                            "ticks": ""
                          }
                        },
                        "type": "scatterpolargl"
                      }
                    ],
                    "scatterternary": [
                      {
                        "marker": {
                          "colorbar": {
                            "outlinewidth": 0,
                            "ticks": ""
                          }
                        },
                        "type": "scatterternary"
                      }
                    ],
                    "surface": [
                      {
                        "colorbar": {
                          "outlinewidth": 0,
                          "ticks": ""
                        },
                        "colorscale": [
                          [
                            0,
                            "#0d0887"
                          ],
                          [
                            0.1111111111111111,
                            "#46039f"
                          ],
                          [
                            0.2222222222222222,
                            "#7201a8"
                          ],
                          [
                            0.3333333333333333,
                            "#9c179e"
                          ],
                          [
                            0.4444444444444444,
                            "#bd3786"
                          ],
                          [
                            0.5555555555555556,
                            "#d8576b"
                          ],
                          [
                            0.6666666666666666,
                            "#ed7953"
                          ],
                          [
                            0.7777777777777778,
                            "#fb9f3a"
                          ],
                          [
                            0.8888888888888888,
                            "#fdca26"
                          ],
                          [
                            1,
                            "#f0f921"
                          ]
                        ],
                        "type": "surface"
                      }
                    ],
                    "table": [
                      {
                        "cells": {
                          "fill": {
                            "color": "#EBF0F8"
                          },
                          "line": {
                            "color": "white"
                          }
                        },
                        "header": {
                          "fill": {
                            "color": "#C8D4E3"
                          },
                          "line": {
                            "color": "white"
                          }
                        },
                        "type": "table"
                      }
                    ]
                  },
                  "layout": {
                    "annotationdefaults": {
                      "arrowcolor": "#2a3f5f",
                      "arrowhead": 0,
                      "arrowwidth": 1
                    },
                    "autotypenumbers": "strict",
                    "coloraxis": {
                      "colorbar": {
                        "outlinewidth": 0,
                        "ticks": ""
                      }
                    },
                    "colorscale": {
                      "diverging": [
                        [
                          0,
                          "#8e0152"
                        ],
                        [
                          0.1,
                          "#c51b7d"
                        ],
                        [
                          0.2,
                          "#de77ae"
                        ],
                        [
                          0.3,
                          "#f1b6da"
                        ],
                        [
                          0.4,
                          "#fde0ef"
                        ],
                        [
                          0.5,
                          "#f7f7f7"
                        ],
                        [
                          0.6,
                          "#e6f5d0"
                        ],
                        [
                          0.7,
                          "#b8e186"
                        ],
                        [
                          0.8,
                          "#7fbc41"
                        ],
                        [
                          0.9,
                          "#4d9221"
                        ],
                        [
                          1,
                          "#276419"
                        ]
                      ],
                      "sequential": [
                        [
                          0,
                          "#0d0887"
                        ],
                        [
                          0.1111111111111111,
                          "#46039f"
                        ],
                        [
                          0.2222222222222222,
                          "#7201a8"
                        ],
                        [
                          0.3333333333333333,
                          "#9c179e"
                        ],
                        [
                          0.4444444444444444,
                          "#bd3786"
                        ],
                        [
                          0.5555555555555556,
                          "#d8576b"
                        ],
                        [
                          0.6666666666666666,
                          "#ed7953"
                        ],
                        [
                          0.7777777777777778,
                          "#fb9f3a"
                        ],
                        [
                          0.8888888888888888,
                          "#fdca26"
                        ],
                        [
                          1,
                          "#f0f921"
                        ]
                      ],
                      "sequentialminus": [
                        [
                          0,
                          "#0d0887"
                        ],
                        [
                          0.1111111111111111,
                          "#46039f"
                        ],
                        [
                          0.2222222222222222,
                          "#7201a8"
                        ],
                        [
                          0.3333333333333333,
                          "#9c179e"
                        ],
                        [
                          0.4444444444444444,
                          "#bd3786"
                        ],
                        [
                          0.5555555555555556,
                          "#d8576b"
                        ],
                        [
                          0.6666666666666666,
                          "#ed7953"
                        ],
                        [
                          0.7777777777777778,
                          "#fb9f3a"
                        ],
                        [
                          0.8888888888888888,
                          "#fdca26"
                        ],
                        [
                          1,
                          "#f0f921"
                        ]
                      ]
                    },
                    "colorway": [
                      "#636efa",
                      "#EF553B",
                      "#00cc96",
                      "#ab63fa",
                      "#FFA15A",
                      "#19d3f3",
                      "#FF6692",
                      "#B6E880",
                      "#FF97FF",
                      "#FECB52"
                    ],
                    "font": {
                      "color": "#2a3f5f"
                    },
                    "geo": {
                      "bgcolor": "white",
                      "lakecolor": "white",
                      "landcolor": "#E5ECF6",
                      "showlakes": true,
                      "showland": true,
                      "subunitcolor": "white"
                    },
                    "hoverlabel": {
                      "align": "left"
                    },
                    "hovermode": "closest",
                    "mapbox": {
                      "style": "light"
                    },
                    "paper_bgcolor": "white",
                    "plot_bgcolor": "#E5ECF6",
                    "polar": {
                      "angularaxis": {
                        "gridcolor": "white",
                        "linecolor": "white",
                        "ticks": ""
                      },
                      "bgcolor": "#E5ECF6",
                      "radialaxis": {
                        "gridcolor": "white",
                        "linecolor": "white",
                        "ticks": ""
                      }
                    },
                    "scene": {
                      "xaxis": {
                        "backgroundcolor": "#E5ECF6",
                        "gridcolor": "white",
                        "gridwidth": 2,
                        "linecolor": "white",
                        "showbackground": true,
                        "ticks": "",
                        "zerolinecolor": "white"
                      },
                      "yaxis": {
                        "backgroundcolor": "#E5ECF6",
                        "gridcolor": "white",
                        "gridwidth": 2,
                        "linecolor": "white",
                        "showbackground": true,
                        "ticks": "",
                        "zerolinecolor": "white"
                      },
                      "zaxis": {
                        "backgroundcolor": "#E5ECF6",
                        "gridcolor": "white",
                        "gridwidth": 2,
                        "linecolor": "white",
                        "showbackground": true,
                        "ticks": "",
                        "zerolinecolor": "white"
                      }
                    },
                    "shapedefaults": {
                      "line": {
                        "color": "#2a3f5f"
                      }
                    },
                    "ternary": {
                      "aaxis": {
                        "gridcolor": "white",
                        "linecolor": "white",
                        "ticks": ""
                      },
                      "baxis": {
                        "gridcolor": "white",
                        "linecolor": "white",
                        "ticks": ""
                      },
                      "bgcolor": "#E5ECF6",
                      "caxis": {
                        "gridcolor": "white",
                        "linecolor": "white",
                        "ticks": ""
                      }
                    },
                    "title": {
                      "x": 0.05
                    },
                    "xaxis": {
                      "automargin": true,
                      "gridcolor": "white",
                      "linecolor": "white",
                      "ticks": "",
                      "title": {
                        "standoff": 15
                      },
                      "zerolinecolor": "white",
                      "zerolinewidth": 2
                    },
                    "yaxis": {
                      "automargin": true,
                      "gridcolor": "white",
                      "linecolor": "white",
                      "ticks": "",
                      "title": {
                        "standoff": 15
                      },
                      "zerolinecolor": "white",
                      "zerolinewidth": 2
                    }
                  }
                },
                "title": {
                  "text": "Brand Distribution"
                },
                "xaxis": {
                  "anchor": "y",
                  "categoryarray": [
                    "HP",
                    "Acer",
                    "Lenovo",
                    "Apple",
                    "Dell",
                    "Asus",
                    "Samsung",
                    "Ultimus",
                    "Primebook",
                    "MSI",
                    "Infinix",
                    "Wings",
                    "Honor",
                    "Zebronics",
                    "Xiaomi",
                    "iBall",
                    "Chuwi",
                    "Realme",
                    "Avita",
                    "Walker",
                    "Huawei",
                    "Tecno",
                    "Gigabyte",
                    "Vaio",
                    "Microsoft",
                    "Fujitsu",
                    "LG",
                    "Ninkear",
                    "Razer",
                    "AXL"
                  ],
                  "categoryorder": "array",
                  "domain": [
                    0,
                    1
                  ],
                  "title": {
                    "text": "brand"
                  }
                },
                "yaxis": {
                  "anchor": "x",
                  "domain": [
                    0,
                    1
                  ],
                  "title": {
                    "text": "count"
                  }
                }
              }
            }
          },
          "metadata": {},
          "output_type": "display_data"
        }
      ],
      "source": [
        "# Brands in the dataset\n",
        "plt = px.histogram(df, x=\"brand\", title=\"Brand Distribution\",\n",
        "                   color=\"brand\", color_discrete_sequence=px.colors.qualitative.Pastel)\n",
        "plt.show()"
      ]
    },
    {
      "cell_type": "markdown",
      "metadata": {
        "id": "7kiqTlpzPbsG"
      },
      "source": [
        "### Top 3 Laptop Brands:\n",
        "\n",
        "1) HP\n",
        "\n",
        "2) Lenovo\n",
        "\n",
        "3) Asus"
      ]
    },
    {
      "cell_type": "code",
      "execution_count": 12,
      "metadata": {
        "colab": {
          "base_uri": "https://localhost:8080/",
          "height": 542
        },
        "id": "sbZvrQOYPUbB",
        "outputId": "13235c17-6bfa-45cf-fca4-5053acb72a56"
      },
      "outputs": [
        {
          "data": {
            "application/vnd.plotly.v1+json": {
              "config": {
                "plotlyServerURL": "https://plot.ly"
              },
              "data": [
                {
                  "hovertemplate": "spec_rating=%{x}<br>index=%{y}<extra></extra>",
                  "legendgroup": "",
                  "marker": {
                    "color": "rgb(102, 197, 204)",
                    "symbol": "circle"
                  },
                  "mode": "markers",
                  "name": "",
                  "orientation": "h",
                  "showlegend": false,
                  "type": "scatter",
                  "x": [
                    73,
                    60,
                    69.32352941176471,
                    66,
                    69.32352941176471,
                    62,
                    60,
                    63,
                    64,
                    68,
                    69.32352941176471,
                    69.32352941176471,
                    76,
                    69.32352941176471,
                    69.32352941176471,
                    70,
                    69.32352941176471,
                    71,
                    65,
                    71,
                    65,
                    69.32352941176471,
                    72,
                    64,
                    71,
                    63,
                    69.32352941176471,
                    69.32352941176471,
                    71,
                    69.32352941176471,
                    60,
                    78,
                    71,
                    60,
                    77,
                    66,
                    75,
                    60,
                    69.32352941176471,
                    70,
                    60,
                    73,
                    62,
                    69.32352941176471,
                    70,
                    84,
                    69.32352941176471,
                    69.32352941176471,
                    71,
                    78,
                    69.32352941176471,
                    64,
                    66,
                    62,
                    70,
                    63,
                    69,
                    69.32352941176471,
                    71,
                    76,
                    67,
                    80,
                    75,
                    66,
                    67,
                    69.32352941176471,
                    64,
                    70,
                    69.32352941176471,
                    72,
                    76,
                    69.32352941176471,
                    72,
                    62,
                    65,
                    70,
                    76,
                    69,
                    69.32352941176471,
                    64,
                    76,
                    70,
                    64,
                    73,
                    69.32352941176471,
                    80,
                    73,
                    64,
                    60,
                    69.32352941176471,
                    71,
                    69.32352941176471,
                    72,
                    72,
                    77,
                    69.32352941176471,
                    69.32352941176471,
                    62,
                    69.32352941176471,
                    67,
                    80,
                    69.32352941176471,
                    60,
                    64,
                    65,
                    69.32352941176471,
                    69.32352941176471,
                    67,
                    65,
                    66,
                    69.32352941176471,
                    75,
                    62,
                    70,
                    71,
                    64,
                    66,
                    71,
                    69.32352941176471,
                    69,
                    69,
                    60,
                    69,
                    62,
                    69.32352941176471,
                    63,
                    66,
                    66,
                    69.32352941176471,
                    65,
                    69.32352941176471,
                    67,
                    64,
                    65,
                    67,
                    68,
                    69.32352941176471,
                    69.32352941176471,
                    70,
                    60,
                    69.32352941176471,
                    82,
                    69.32352941176471,
                    60,
                    70,
                    76,
                    80,
                    69,
                    69.32352941176471,
                    79,
                    70,
                    62,
                    63,
                    70,
                    60,
                    69,
                    69.32352941176471,
                    70,
                    69.32352941176471,
                    64,
                    69.32352941176471,
                    66,
                    69,
                    77,
                    77,
                    72,
                    69.32352941176471,
                    69.32352941176471,
                    78,
                    62,
                    75,
                    62,
                    75,
                    60,
                    69.32352941176471,
                    73,
                    72,
                    75,
                    70,
                    65,
                    69.32352941176471,
                    69.32352941176471,
                    68,
                    62,
                    69.32352941176471,
                    79,
                    69.32352941176471,
                    70,
                    69.32352941176471,
                    74,
                    67,
                    69.32352941176471,
                    66,
                    67,
                    60,
                    69.32352941176471,
                    67,
                    80,
                    69.32352941176471,
                    69.32352941176471,
                    69.32352941176471,
                    66,
                    65,
                    60,
                    79,
                    69.32352941176471,
                    69.32352941176471,
                    64,
                    62,
                    69.32352941176471,
                    64,
                    69.32352941176471,
                    69.32352941176471,
                    69.32352941176471,
                    69.32352941176471,
                    81,
                    72,
                    63,
                    66,
                    69.32352941176471,
                    75,
                    69.32352941176471,
                    69.32352941176471,
                    69.32352941176471,
                    64,
                    70,
                    76,
                    76,
                    72,
                    83,
                    60,
                    75,
                    60,
                    75,
                    69.32352941176471,
                    62,
                    69.32352941176471,
                    64,
                    69.32352941176471,
                    69.32352941176471,
                    69.32352941176471,
                    63,
                    69.32352941176471,
                    67,
                    65,
                    71,
                    71,
                    69.32352941176471,
                    60,
                    69.32352941176471,
                    70,
                    71,
                    69.32352941176471,
                    89,
                    67,
                    69.32352941176471,
                    69.32352941176471,
                    69.32352941176471,
                    60,
                    69.32352941176471,
                    69.32352941176471,
                    60,
                    64,
                    69.32352941176471,
                    69.32352941176471,
                    63,
                    62,
                    66,
                    69.32352941176471,
                    63,
                    69.32352941176471,
                    69.32352941176471,
                    69.32352941176471,
                    69.32352941176471,
                    60,
                    80,
                    63,
                    69,
                    71,
                    69.32352941176471,
                    75,
                    69.32352941176471,
                    69,
                    75,
                    65,
                    69.32352941176471,
                    69.32352941176471,
                    63,
                    83,
                    75,
                    60,
                    69.32352941176471,
                    63,
                    60,
                    69.32352941176471,
                    71,
                    69.32352941176471,
                    69,
                    69,
                    62,
                    64,
                    69.32352941176471,
                    60,
                    70,
                    69.32352941176471,
                    69.32352941176471,
                    72,
                    69.32352941176471,
                    70,
                    69.32352941176471,
                    66,
                    69.32352941176471,
                    69.32352941176471,
                    78,
                    69.32352941176471,
                    79,
                    69.32352941176471,
                    66,
                    64,
                    73,
                    73,
                    79,
                    78,
                    84,
                    70,
                    64,
                    69.32352941176471,
                    69.32352941176471,
                    69.32352941176471,
                    69.32352941176471,
                    69,
                    67,
                    88,
                    69.32352941176471,
                    66,
                    70,
                    69,
                    69.32352941176471,
                    69.32352941176471,
                    71,
                    69.32352941176471,
                    64,
                    62,
                    71,
                    72,
                    65,
                    69.32352941176471,
                    69.32352941176471,
                    69.32352941176471,
                    69.32352941176471,
                    69.32352941176471,
                    69.32352941176471,
                    69.32352941176471,
                    71,
                    72,
                    67,
                    68,
                    69.32352941176471,
                    70,
                    69.32352941176471,
                    69.32352941176471,
                    69.32352941176471,
                    68,
                    73,
                    80,
                    66,
                    71,
                    66,
                    72,
                    81,
                    74,
                    78,
                    61,
                    60,
                    60,
                    61,
                    69.32352941176471,
                    70,
                    60,
                    67,
                    77,
                    63,
                    69.32352941176471,
                    60,
                    69.32352941176471,
                    69.32352941176471,
                    75,
                    69.32352941176471,
                    69.32352941176471,
                    71,
                    71,
                    66,
                    69.32352941176471,
                    69.32352941176471,
                    69.32352941176471,
                    72,
                    71,
                    64,
                    70,
                    69.32352941176471,
                    69,
                    65,
                    70,
                    66,
                    69.32352941176471,
                    67,
                    69.32352941176471,
                    81,
                    60,
                    71,
                    69.32352941176471,
                    70,
                    60,
                    71,
                    69.32352941176471,
                    69.32352941176471,
                    65,
                    64,
                    69.32352941176471,
                    73,
                    69.32352941176471,
                    69.32352941176471,
                    69.32352941176471,
                    74,
                    67,
                    69.32352941176471,
                    62,
                    62,
                    75,
                    78,
                    79,
                    61,
                    69.32352941176471,
                    68,
                    69.32352941176471,
                    69.32352941176471,
                    71,
                    66,
                    64,
                    69.32352941176471,
                    69.32352941176471,
                    85,
                    60,
                    61,
                    60,
                    65,
                    67,
                    69.32352941176471,
                    69.32352941176471,
                    69.32352941176471,
                    77,
                    66,
                    69.32352941176471,
                    66,
                    86,
                    61,
                    70,
                    62,
                    64,
                    69.32352941176471,
                    65,
                    67,
                    62,
                    69.32352941176471,
                    69.32352941176471,
                    69.32352941176471,
                    69.32352941176471,
                    69.32352941176471,
                    69.32352941176471,
                    60,
                    69.32352941176471,
                    69.32352941176471,
                    72,
                    65,
                    69.32352941176471,
                    67,
                    62,
                    69.32352941176471,
                    61,
                    69.32352941176471,
                    65,
                    69.32352941176471,
                    61,
                    69.32352941176471,
                    62,
                    62,
                    64,
                    69,
                    64,
                    86,
                    62,
                    69.32352941176471,
                    69.32352941176471,
                    69.32352941176471,
                    62,
                    69.32352941176471,
                    69.32352941176471,
                    69.32352941176471,
                    63,
                    72,
                    67,
                    71,
                    69.32352941176471,
                    69.32352941176471,
                    69.32352941176471,
                    69.32352941176471,
                    69.32352941176471,
                    65,
                    70,
                    60,
                    70,
                    69.32352941176471,
                    69.32352941176471,
                    69.32352941176471,
                    69.32352941176471,
                    67,
                    69,
                    69.32352941176471,
                    77,
                    69.32352941176471,
                    69.32352941176471,
                    75,
                    69,
                    69.32352941176471,
                    69.32352941176471,
                    65,
                    71,
                    64,
                    69.32352941176471,
                    69.32352941176471,
                    66,
                    69.32352941176471,
                    69.32352941176471,
                    69,
                    71,
                    69,
                    69.32352941176471,
                    69.32352941176471,
                    63,
                    69.32352941176471,
                    69.32352941176471,
                    69.32352941176471,
                    63,
                    88,
                    65,
                    64,
                    69.32352941176471,
                    78,
                    80,
                    88,
                    70,
                    85,
                    63,
                    69,
                    66,
                    67,
                    69.32352941176471,
                    69.32352941176471,
                    85,
                    78,
                    77,
                    66,
                    89,
                    65,
                    62,
                    70,
                    69.32352941176471,
                    69.32352941176471,
                    69.32352941176471,
                    65,
                    65,
                    71,
                    73,
                    69.32352941176471,
                    70,
                    62,
                    69.32352941176471,
                    69.32352941176471,
                    69.32352941176471,
                    69.32352941176471,
                    62,
                    69.32352941176471,
                    69.32352941176471,
                    69.32352941176471,
                    69.32352941176471,
                    82,
                    63,
                    69.32352941176471,
                    83,
                    69.32352941176471,
                    69,
                    75,
                    69.32352941176471,
                    65,
                    71,
                    63,
                    69.32352941176471,
                    67,
                    79,
                    83,
                    70,
                    71,
                    69.32352941176471,
                    83,
                    69,
                    60,
                    69.32352941176471,
                    67,
                    66,
                    69,
                    67,
                    63,
                    67,
                    67,
                    64,
                    69.32352941176471,
                    76,
                    69.32352941176471,
                    64,
                    62,
                    63,
                    64,
                    69.32352941176471,
                    69.32352941176471,
                    73,
                    69.32352941176471,
                    69.32352941176471,
                    64,
                    72,
                    69.32352941176471,
                    69.32352941176471,
                    69.32352941176471,
                    69.32352941176471,
                    69.32352941176471,
                    62,
                    71,
                    73,
                    60,
                    72,
                    65,
                    69,
                    69.32352941176471,
                    69.32352941176471,
                    69,
                    65,
                    70,
                    71,
                    76,
                    65,
                    76,
                    62,
                    63,
                    60,
                    69.32352941176471,
                    69.32352941176471,
                    78,
                    70,
                    69.32352941176471,
                    76,
                    69,
                    63,
                    78,
                    69.32352941176471,
                    69.32352941176471,
                    69.32352941176471,
                    60,
                    62,
                    69.32352941176471,
                    75,
                    69.32352941176471,
                    63,
                    69.32352941176471,
                    62,
                    60,
                    63,
                    71,
                    65,
                    77,
                    77,
                    83,
                    76,
                    71,
                    72,
                    75,
                    86,
                    83,
                    64,
                    67,
                    69.32352941176471,
                    72,
                    71,
                    72,
                    69.32352941176471,
                    71,
                    67,
                    80,
                    73,
                    89,
                    69.32352941176471,
                    77,
                    65,
                    67,
                    73,
                    69.32352941176471,
                    77,
                    62,
                    75,
                    69.32352941176471,
                    67,
                    85,
                    60,
                    65,
                    72,
                    63,
                    85,
                    65,
                    65,
                    80,
                    77,
                    69,
                    70,
                    82,
                    72,
                    75,
                    69,
                    80,
                    78,
                    69.32352941176471,
                    60,
                    67,
                    62,
                    72,
                    66,
                    73,
                    69.32352941176471,
                    67,
                    89,
                    83,
                    80,
                    69.32352941176471,
                    84,
                    86,
                    78,
                    69.32352941176471,
                    71,
                    72,
                    69,
                    65,
                    69.32352941176471,
                    73,
                    63,
                    62,
                    69.32352941176471,
                    69,
                    71,
                    69.32352941176471,
                    67,
                    60,
                    65,
                    64,
                    75,
                    60,
                    62,
                    66,
                    70,
                    66,
                    66,
                    69.32352941176471,
                    60,
                    60,
                    69.32352941176471,
                    64,
                    67,
                    66,
                    67,
                    79,
                    69.32352941176471,
                    70,
                    60,
                    69,
                    69.32352941176471,
                    83,
                    71,
                    69.32352941176471,
                    63,
                    76,
                    69.32352941176471,
                    77,
                    67,
                    70,
                    69.32352941176471,
                    77,
                    67,
                    73,
                    78,
                    66,
                    62,
                    69.32352941176471,
                    69.32352941176471,
                    69.32352941176471,
                    62,
                    69.32352941176471,
                    60,
                    62,
                    85,
                    70,
                    69,
                    69.32352941176471,
                    78,
                    78,
                    69.32352941176471,
                    71,
                    66,
                    69.32352941176471,
                    75,
                    77,
                    77,
                    63,
                    72,
                    70,
                    66,
                    69.32352941176471,
                    82,
                    88,
                    82,
                    71,
                    77,
                    75,
                    63,
                    70,
                    76,
                    76,
                    72,
                    75,
                    62,
                    69.32352941176471,
                    69.32352941176471,
                    69.32352941176471,
                    62,
                    69,
                    69.32352941176471,
                    69.32352941176471,
                    69.32352941176471,
                    64,
                    70,
                    69,
                    72,
                    66,
                    64,
                    69.32352941176471,
                    69.32352941176471,
                    69.32352941176471,
                    64,
                    71,
                    78,
                    82,
                    69.32352941176471,
                    79,
                    69.32352941176471,
                    69.32352941176471,
                    69.32352941176471,
                    69.32352941176471,
                    60,
                    69.32352941176471,
                    69.32352941176471,
                    67,
                    69.32352941176471,
                    63,
                    69.32352941176471,
                    69.32352941176471,
                    69.32352941176471,
                    66,
                    65,
                    63,
                    69.32352941176471,
                    65,
                    69.32352941176471,
                    75,
                    75,
                    69.32352941176471,
                    64,
                    69.32352941176471,
                    76,
                    73,
                    79,
                    75,
                    69.32352941176471,
                    69.32352941176471,
                    69.32352941176471,
                    71,
                    89,
                    73,
                    84
                  ],
                  "xaxis": "x",
                  "y": [
                    0,
                    1,
                    2,
                    3,
                    4,
                    5,
                    6,
                    7,
                    8,
                    9,
                    10,
                    11,
                    12,
                    13,
                    14,
                    15,
                    16,
                    17,
                    18,
                    19,
                    20,
                    21,
                    22,
                    23,
                    24,
                    25,
                    26,
                    27,
                    28,
                    29,
                    30,
                    31,
                    32,
                    33,
                    34,
                    35,
                    36,
                    37,
                    38,
                    39,
                    40,
                    41,
                    42,
                    43,
                    44,
                    45,
                    46,
                    47,
                    48,
                    49,
                    50,
                    51,
                    52,
                    53,
                    54,
                    55,
                    56,
                    57,
                    58,
                    59,
                    60,
                    61,
                    62,
                    63,
                    64,
                    65,
                    66,
                    67,
                    68,
                    69,
                    70,
                    71,
                    72,
                    73,
                    74,
                    75,
                    76,
                    77,
                    78,
                    79,
                    80,
                    81,
                    82,
                    83,
                    84,
                    85,
                    86,
                    87,
                    88,
                    89,
                    90,
                    91,
                    92,
                    93,
                    94,
                    95,
                    96,
                    97,
                    98,
                    99,
                    100,
                    101,
                    102,
                    103,
                    104,
                    105,
                    106,
                    107,
                    108,
                    109,
                    110,
                    111,
                    112,
                    113,
                    114,
                    115,
                    116,
                    117,
                    118,
                    119,
                    120,
                    121,
                    122,
                    123,
                    124,
                    125,
                    126,
                    127,
                    128,
                    129,
                    130,
                    131,
                    132,
                    133,
                    134,
                    135,
                    136,
                    137,
                    138,
                    139,
                    140,
                    141,
                    142,
                    143,
                    144,
                    145,
                    146,
                    147,
                    148,
                    149,
                    150,
                    151,
                    152,
                    153,
                    154,
                    155,
                    156,
                    157,
                    158,
                    159,
                    160,
                    161,
                    162,
                    163,
                    164,
                    165,
                    166,
                    167,
                    168,
                    169,
                    170,
                    171,
                    172,
                    173,
                    174,
                    175,
                    176,
                    177,
                    178,
                    179,
                    180,
                    181,
                    182,
                    183,
                    184,
                    185,
                    186,
                    187,
                    188,
                    189,
                    190,
                    191,
                    192,
                    193,
                    194,
                    195,
                    196,
                    197,
                    198,
                    199,
                    200,
                    201,
                    202,
                    203,
                    204,
                    205,
                    206,
                    207,
                    208,
                    209,
                    210,
                    211,
                    212,
                    213,
                    214,
                    215,
                    216,
                    217,
                    218,
                    219,
                    220,
                    221,
                    222,
                    223,
                    224,
                    225,
                    226,
                    227,
                    228,
                    229,
                    230,
                    231,
                    232,
                    233,
                    234,
                    235,
                    236,
                    237,
                    238,
                    239,
                    240,
                    241,
                    242,
                    243,
                    244,
                    245,
                    246,
                    247,
                    248,
                    249,
                    250,
                    251,
                    252,
                    253,
                    254,
                    255,
                    256,
                    257,
                    258,
                    259,
                    260,
                    261,
                    262,
                    263,
                    264,
                    265,
                    266,
                    267,
                    268,
                    269,
                    270,
                    271,
                    272,
                    273,
                    274,
                    275,
                    276,
                    277,
                    278,
                    279,
                    280,
                    281,
                    282,
                    283,
                    284,
                    285,
                    286,
                    287,
                    288,
                    289,
                    290,
                    291,
                    292,
                    293,
                    294,
                    295,
                    296,
                    297,
                    298,
                    299,
                    300,
                    301,
                    302,
                    303,
                    304,
                    305,
                    306,
                    307,
                    308,
                    309,
                    310,
                    311,
                    312,
                    313,
                    314,
                    315,
                    316,
                    317,
                    318,
                    319,
                    320,
                    321,
                    322,
                    323,
                    324,
                    325,
                    326,
                    327,
                    328,
                    329,
                    330,
                    331,
                    332,
                    333,
                    334,
                    335,
                    336,
                    337,
                    338,
                    339,
                    340,
                    341,
                    342,
                    343,
                    344,
                    345,
                    346,
                    347,
                    348,
                    349,
                    350,
                    351,
                    352,
                    353,
                    354,
                    355,
                    356,
                    357,
                    358,
                    359,
                    360,
                    361,
                    362,
                    363,
                    364,
                    365,
                    366,
                    367,
                    368,
                    369,
                    370,
                    371,
                    372,
                    373,
                    374,
                    375,
                    376,
                    377,
                    378,
                    379,
                    380,
                    381,
                    382,
                    383,
                    384,
                    385,
                    386,
                    387,
                    388,
                    389,
                    390,
                    391,
                    392,
                    393,
                    394,
                    395,
                    396,
                    397,
                    398,
                    399,
                    400,
                    401,
                    402,
                    403,
                    404,
                    405,
                    406,
                    407,
                    408,
                    409,
                    410,
                    411,
                    412,
                    413,
                    414,
                    415,
                    416,
                    417,
                    418,
                    419,
                    420,
                    421,
                    422,
                    423,
                    424,
                    425,
                    426,
                    427,
                    428,
                    429,
                    430,
                    431,
                    432,
                    433,
                    434,
                    435,
                    436,
                    437,
                    438,
                    439,
                    440,
                    441,
                    442,
                    443,
                    444,
                    445,
                    446,
                    447,
                    448,
                    449,
                    450,
                    451,
                    452,
                    453,
                    454,
                    455,
                    456,
                    457,
                    458,
                    459,
                    460,
                    461,
                    462,
                    463,
                    464,
                    465,
                    466,
                    467,
                    468,
                    469,
                    470,
                    471,
                    472,
                    473,
                    474,
                    475,
                    476,
                    477,
                    478,
                    479,
                    480,
                    481,
                    482,
                    483,
                    484,
                    485,
                    486,
                    487,
                    488,
                    489,
                    490,
                    491,
                    492,
                    493,
                    494,
                    495,
                    496,
                    497,
                    498,
                    499,
                    500,
                    501,
                    502,
                    503,
                    504,
                    505,
                    506,
                    507,
                    508,
                    509,
                    510,
                    511,
                    512,
                    513,
                    514,
                    515,
                    516,
                    517,
                    518,
                    519,
                    520,
                    521,
                    522,
                    523,
                    524,
                    525,
                    526,
                    527,
                    528,
                    529,
                    530,
                    531,
                    532,
                    533,
                    534,
                    535,
                    536,
                    537,
                    538,
                    539,
                    540,
                    541,
                    542,
                    543,
                    544,
                    545,
                    546,
                    547,
                    548,
                    549,
                    550,
                    551,
                    552,
                    553,
                    554,
                    555,
                    556,
                    557,
                    558,
                    559,
                    560,
                    561,
                    562,
                    563,
                    564,
                    565,
                    566,
                    567,
                    568,
                    569,
                    570,
                    571,
                    572,
                    573,
                    574,
                    575,
                    576,
                    577,
                    578,
                    579,
                    580,
                    581,
                    582,
                    583,
                    584,
                    585,
                    586,
                    587,
                    588,
                    589,
                    590,
                    591,
                    592,
                    593,
                    594,
                    595,
                    596,
                    597,
                    598,
                    599,
                    600,
                    601,
                    602,
                    603,
                    604,
                    605,
                    606,
                    607,
                    608,
                    609,
                    610,
                    611,
                    612,
                    613,
                    614,
                    615,
                    616,
                    617,
                    618,
                    619,
                    620,
                    621,
                    622,
                    623,
                    624,
                    625,
                    626,
                    627,
                    628,
                    629,
                    630,
                    631,
                    632,
                    633,
                    634,
                    635,
                    636,
                    637,
                    638,
                    639,
                    640,
                    641,
                    642,
                    643,
                    644,
                    645,
                    646,
                    647,
                    648,
                    649,
                    650,
                    651,
                    652,
                    653,
                    654,
                    655,
                    656,
                    657,
                    658,
                    659,
                    660,
                    661,
                    662,
                    663,
                    664,
                    665,
                    666,
                    667,
                    668,
                    669,
                    670,
                    671,
                    672,
                    673,
                    674,
                    675,
                    676,
                    677,
                    678,
                    679,
                    680,
                    681,
                    682,
                    683,
                    684,
                    685,
                    686,
                    687,
                    688,
                    689,
                    690,
                    691,
                    692,
                    693,
                    694,
                    695,
                    696,
                    697,
                    698,
                    699,
                    700,
                    701,
                    702,
                    703,
                    704,
                    705,
                    706,
                    707,
                    708,
                    709,
                    710,
                    711,
                    712,
                    713,
                    714,
                    715,
                    716,
                    717,
                    718,
                    719,
                    720,
                    721,
                    722,
                    723,
                    724,
                    725,
                    726,
                    727,
                    728,
                    729,
                    730,
                    731,
                    732,
                    733,
                    734,
                    735,
                    736,
                    737,
                    738,
                    739,
                    740,
                    741,
                    742,
                    743,
                    744,
                    745,
                    746,
                    747,
                    748,
                    749,
                    750,
                    751,
                    752,
                    753,
                    754,
                    755,
                    756,
                    757,
                    758,
                    759,
                    760,
                    761,
                    762,
                    763,
                    764,
                    765,
                    766,
                    767,
                    768,
                    769,
                    770,
                    771,
                    772,
                    773,
                    774,
                    775,
                    776,
                    777,
                    778,
                    779,
                    780,
                    781,
                    782,
                    783,
                    784,
                    785,
                    786,
                    787,
                    788,
                    789,
                    790,
                    791,
                    792,
                    793,
                    794,
                    795,
                    796,
                    797,
                    798,
                    799,
                    800,
                    801,
                    802,
                    803,
                    804,
                    805,
                    806,
                    807,
                    808,
                    809,
                    810,
                    811,
                    812,
                    813,
                    814,
                    815,
                    816,
                    817,
                    818,
                    819,
                    820,
                    821,
                    822,
                    823,
                    824,
                    825,
                    826,
                    827,
                    828,
                    829,
                    830,
                    831,
                    832,
                    833,
                    834,
                    835,
                    836,
                    837,
                    838,
                    839,
                    840,
                    841,
                    842,
                    843,
                    844,
                    845,
                    846,
                    847,
                    848,
                    849,
                    850,
                    851,
                    852,
                    853,
                    854,
                    855,
                    856,
                    857,
                    858,
                    859,
                    860,
                    861,
                    862,
                    863,
                    864,
                    865,
                    866,
                    867,
                    868,
                    869,
                    870,
                    871,
                    872,
                    873,
                    874,
                    875,
                    876,
                    877,
                    878,
                    879,
                    880,
                    881,
                    882,
                    883,
                    884,
                    885,
                    886,
                    887,
                    888,
                    889,
                    890,
                    891,
                    892
                  ],
                  "yaxis": "y"
                }
              ],
              "layout": {
                "legend": {
                  "tracegroupgap": 0
                },
                "shapes": [
                  {
                    "line": {
                      "color": "red",
                      "dash": "dot"
                    },
                    "type": "line",
                    "x0": 69.3790264145972,
                    "x1": 69.3790264145972,
                    "y0": 0,
                    "y1": 1000
                  }
                ],
                "template": {
                  "data": {
                    "bar": [
                      {
                        "error_x": {
                          "color": "#2a3f5f"
                        },
                        "error_y": {
                          "color": "#2a3f5f"
                        },
                        "marker": {
                          "line": {
                            "color": "#E5ECF6",
                            "width": 0.5
                          },
                          "pattern": {
                            "fillmode": "overlay",
                            "size": 10,
                            "solidity": 0.2
                          }
                        },
                        "type": "bar"
                      }
                    ],
                    "barpolar": [
                      {
                        "marker": {
                          "line": {
                            "color": "#E5ECF6",
                            "width": 0.5
                          },
                          "pattern": {
                            "fillmode": "overlay",
                            "size": 10,
                            "solidity": 0.2
                          }
                        },
                        "type": "barpolar"
                      }
                    ],
                    "carpet": [
                      {
                        "aaxis": {
                          "endlinecolor": "#2a3f5f",
                          "gridcolor": "white",
                          "linecolor": "white",
                          "minorgridcolor": "white",
                          "startlinecolor": "#2a3f5f"
                        },
                        "baxis": {
                          "endlinecolor": "#2a3f5f",
                          "gridcolor": "white",
                          "linecolor": "white",
                          "minorgridcolor": "white",
                          "startlinecolor": "#2a3f5f"
                        },
                        "type": "carpet"
                      }
                    ],
                    "choropleth": [
                      {
                        "colorbar": {
                          "outlinewidth": 0,
                          "ticks": ""
                        },
                        "type": "choropleth"
                      }
                    ],
                    "contour": [
                      {
                        "colorbar": {
                          "outlinewidth": 0,
                          "ticks": ""
                        },
                        "colorscale": [
                          [
                            0,
                            "#0d0887"
                          ],
                          [
                            0.1111111111111111,
                            "#46039f"
                          ],
                          [
                            0.2222222222222222,
                            "#7201a8"
                          ],
                          [
                            0.3333333333333333,
                            "#9c179e"
                          ],
                          [
                            0.4444444444444444,
                            "#bd3786"
                          ],
                          [
                            0.5555555555555556,
                            "#d8576b"
                          ],
                          [
                            0.6666666666666666,
                            "#ed7953"
                          ],
                          [
                            0.7777777777777778,
                            "#fb9f3a"
                          ],
                          [
                            0.8888888888888888,
                            "#fdca26"
                          ],
                          [
                            1,
                            "#f0f921"
                          ]
                        ],
                        "type": "contour"
                      }
                    ],
                    "contourcarpet": [
                      {
                        "colorbar": {
                          "outlinewidth": 0,
                          "ticks": ""
                        },
                        "type": "contourcarpet"
                      }
                    ],
                    "heatmap": [
                      {
                        "colorbar": {
                          "outlinewidth": 0,
                          "ticks": ""
                        },
                        "colorscale": [
                          [
                            0,
                            "#0d0887"
                          ],
                          [
                            0.1111111111111111,
                            "#46039f"
                          ],
                          [
                            0.2222222222222222,
                            "#7201a8"
                          ],
                          [
                            0.3333333333333333,
                            "#9c179e"
                          ],
                          [
                            0.4444444444444444,
                            "#bd3786"
                          ],
                          [
                            0.5555555555555556,
                            "#d8576b"
                          ],
                          [
                            0.6666666666666666,
                            "#ed7953"
                          ],
                          [
                            0.7777777777777778,
                            "#fb9f3a"
                          ],
                          [
                            0.8888888888888888,
                            "#fdca26"
                          ],
                          [
                            1,
                            "#f0f921"
                          ]
                        ],
                        "type": "heatmap"
                      }
                    ],
                    "heatmapgl": [
                      {
                        "colorbar": {
                          "outlinewidth": 0,
                          "ticks": ""
                        },
                        "colorscale": [
                          [
                            0,
                            "#0d0887"
                          ],
                          [
                            0.1111111111111111,
                            "#46039f"
                          ],
                          [
                            0.2222222222222222,
                            "#7201a8"
                          ],
                          [
                            0.3333333333333333,
                            "#9c179e"
                          ],
                          [
                            0.4444444444444444,
                            "#bd3786"
                          ],
                          [
                            0.5555555555555556,
                            "#d8576b"
                          ],
                          [
                            0.6666666666666666,
                            "#ed7953"
                          ],
                          [
                            0.7777777777777778,
                            "#fb9f3a"
                          ],
                          [
                            0.8888888888888888,
                            "#fdca26"
                          ],
                          [
                            1,
                            "#f0f921"
                          ]
                        ],
                        "type": "heatmapgl"
                      }
                    ],
                    "histogram": [
                      {
                        "marker": {
                          "pattern": {
                            "fillmode": "overlay",
                            "size": 10,
                            "solidity": 0.2
                          }
                        },
                        "type": "histogram"
                      }
                    ],
                    "histogram2d": [
                      {
                        "colorbar": {
                          "outlinewidth": 0,
                          "ticks": ""
                        },
                        "colorscale": [
                          [
                            0,
                            "#0d0887"
                          ],
                          [
                            0.1111111111111111,
                            "#46039f"
                          ],
                          [
                            0.2222222222222222,
                            "#7201a8"
                          ],
                          [
                            0.3333333333333333,
                            "#9c179e"
                          ],
                          [
                            0.4444444444444444,
                            "#bd3786"
                          ],
                          [
                            0.5555555555555556,
                            "#d8576b"
                          ],
                          [
                            0.6666666666666666,
                            "#ed7953"
                          ],
                          [
                            0.7777777777777778,
                            "#fb9f3a"
                          ],
                          [
                            0.8888888888888888,
                            "#fdca26"
                          ],
                          [
                            1,
                            "#f0f921"
                          ]
                        ],
                        "type": "histogram2d"
                      }
                    ],
                    "histogram2dcontour": [
                      {
                        "colorbar": {
                          "outlinewidth": 0,
                          "ticks": ""
                        },
                        "colorscale": [
                          [
                            0,
                            "#0d0887"
                          ],
                          [
                            0.1111111111111111,
                            "#46039f"
                          ],
                          [
                            0.2222222222222222,
                            "#7201a8"
                          ],
                          [
                            0.3333333333333333,
                            "#9c179e"
                          ],
                          [
                            0.4444444444444444,
                            "#bd3786"
                          ],
                          [
                            0.5555555555555556,
                            "#d8576b"
                          ],
                          [
                            0.6666666666666666,
                            "#ed7953"
                          ],
                          [
                            0.7777777777777778,
                            "#fb9f3a"
                          ],
                          [
                            0.8888888888888888,
                            "#fdca26"
                          ],
                          [
                            1,
                            "#f0f921"
                          ]
                        ],
                        "type": "histogram2dcontour"
                      }
                    ],
                    "mesh3d": [
                      {
                        "colorbar": {
                          "outlinewidth": 0,
                          "ticks": ""
                        },
                        "type": "mesh3d"
                      }
                    ],
                    "parcoords": [
                      {
                        "line": {
                          "colorbar": {
                            "outlinewidth": 0,
                            "ticks": ""
                          }
                        },
                        "type": "parcoords"
                      }
                    ],
                    "pie": [
                      {
                        "automargin": true,
                        "type": "pie"
                      }
                    ],
                    "scatter": [
                      {
                        "fillpattern": {
                          "fillmode": "overlay",
                          "size": 10,
                          "solidity": 0.2
                        },
                        "type": "scatter"
                      }
                    ],
                    "scatter3d": [
                      {
                        "line": {
                          "colorbar": {
                            "outlinewidth": 0,
                            "ticks": ""
                          }
                        },
                        "marker": {
                          "colorbar": {
                            "outlinewidth": 0,
                            "ticks": ""
                          }
                        },
                        "type": "scatter3d"
                      }
                    ],
                    "scattercarpet": [
                      {
                        "marker": {
                          "colorbar": {
                            "outlinewidth": 0,
                            "ticks": ""
                          }
                        },
                        "type": "scattercarpet"
                      }
                    ],
                    "scattergeo": [
                      {
                        "marker": {
                          "colorbar": {
                            "outlinewidth": 0,
                            "ticks": ""
                          }
                        },
                        "type": "scattergeo"
                      }
                    ],
                    "scattergl": [
                      {
                        "marker": {
                          "colorbar": {
                            "outlinewidth": 0,
                            "ticks": ""
                          }
                        },
                        "type": "scattergl"
                      }
                    ],
                    "scattermapbox": [
                      {
                        "marker": {
                          "colorbar": {
                            "outlinewidth": 0,
                            "ticks": ""
                          }
                        },
                        "type": "scattermapbox"
                      }
                    ],
                    "scatterpolar": [
                      {
                        "marker": {
                          "colorbar": {
                            "outlinewidth": 0,
                            "ticks": ""
                          }
                        },
                        "type": "scatterpolar"
                      }
                    ],
                    "scatterpolargl": [
                      {
                        "marker": {
                          "colorbar": {
                            "outlinewidth": 0,
                            "ticks": ""
                          }
                        },
                        "type": "scatterpolargl"
                      }
                    ],
                    "scatterternary": [
                      {
                        "marker": {
                          "colorbar": {
                            "outlinewidth": 0,
                            "ticks": ""
                          }
                        },
                        "type": "scatterternary"
                      }
                    ],
                    "surface": [
                      {
                        "colorbar": {
                          "outlinewidth": 0,
                          "ticks": ""
                        },
                        "colorscale": [
                          [
                            0,
                            "#0d0887"
                          ],
                          [
                            0.1111111111111111,
                            "#46039f"
                          ],
                          [
                            0.2222222222222222,
                            "#7201a8"
                          ],
                          [
                            0.3333333333333333,
                            "#9c179e"
                          ],
                          [
                            0.4444444444444444,
                            "#bd3786"
                          ],
                          [
                            0.5555555555555556,
                            "#d8576b"
                          ],
                          [
                            0.6666666666666666,
                            "#ed7953"
                          ],
                          [
                            0.7777777777777778,
                            "#fb9f3a"
                          ],
                          [
                            0.8888888888888888,
                            "#fdca26"
                          ],
                          [
                            1,
                            "#f0f921"
                          ]
                        ],
                        "type": "surface"
                      }
                    ],
                    "table": [
                      {
                        "cells": {
                          "fill": {
                            "color": "#EBF0F8"
                          },
                          "line": {
                            "color": "white"
                          }
                        },
                        "header": {
                          "fill": {
                            "color": "#C8D4E3"
                          },
                          "line": {
                            "color": "white"
                          }
                        },
                        "type": "table"
                      }
                    ]
                  },
                  "layout": {
                    "annotationdefaults": {
                      "arrowcolor": "#2a3f5f",
                      "arrowhead": 0,
                      "arrowwidth": 1
                    },
                    "autotypenumbers": "strict",
                    "coloraxis": {
                      "colorbar": {
                        "outlinewidth": 0,
                        "ticks": ""
                      }
                    },
                    "colorscale": {
                      "diverging": [
                        [
                          0,
                          "#8e0152"
                        ],
                        [
                          0.1,
                          "#c51b7d"
                        ],
                        [
                          0.2,
                          "#de77ae"
                        ],
                        [
                          0.3,
                          "#f1b6da"
                        ],
                        [
                          0.4,
                          "#fde0ef"
                        ],
                        [
                          0.5,
                          "#f7f7f7"
                        ],
                        [
                          0.6,
                          "#e6f5d0"
                        ],
                        [
                          0.7,
                          "#b8e186"
                        ],
                        [
                          0.8,
                          "#7fbc41"
                        ],
                        [
                          0.9,
                          "#4d9221"
                        ],
                        [
                          1,
                          "#276419"
                        ]
                      ],
                      "sequential": [
                        [
                          0,
                          "#0d0887"
                        ],
                        [
                          0.1111111111111111,
                          "#46039f"
                        ],
                        [
                          0.2222222222222222,
                          "#7201a8"
                        ],
                        [
                          0.3333333333333333,
                          "#9c179e"
                        ],
                        [
                          0.4444444444444444,
                          "#bd3786"
                        ],
                        [
                          0.5555555555555556,
                          "#d8576b"
                        ],
                        [
                          0.6666666666666666,
                          "#ed7953"
                        ],
                        [
                          0.7777777777777778,
                          "#fb9f3a"
                        ],
                        [
                          0.8888888888888888,
                          "#fdca26"
                        ],
                        [
                          1,
                          "#f0f921"
                        ]
                      ],
                      "sequentialminus": [
                        [
                          0,
                          "#0d0887"
                        ],
                        [
                          0.1111111111111111,
                          "#46039f"
                        ],
                        [
                          0.2222222222222222,
                          "#7201a8"
                        ],
                        [
                          0.3333333333333333,
                          "#9c179e"
                        ],
                        [
                          0.4444444444444444,
                          "#bd3786"
                        ],
                        [
                          0.5555555555555556,
                          "#d8576b"
                        ],
                        [
                          0.6666666666666666,
                          "#ed7953"
                        ],
                        [
                          0.7777777777777778,
                          "#fb9f3a"
                        ],
                        [
                          0.8888888888888888,
                          "#fdca26"
                        ],
                        [
                          1,
                          "#f0f921"
                        ]
                      ]
                    },
                    "colorway": [
                      "#636efa",
                      "#EF553B",
                      "#00cc96",
                      "#ab63fa",
                      "#FFA15A",
                      "#19d3f3",
                      "#FF6692",
                      "#B6E880",
                      "#FF97FF",
                      "#FECB52"
                    ],
                    "font": {
                      "color": "#2a3f5f"
                    },
                    "geo": {
                      "bgcolor": "white",
                      "lakecolor": "white",
                      "landcolor": "#E5ECF6",
                      "showlakes": true,
                      "showland": true,
                      "subunitcolor": "white"
                    },
                    "hoverlabel": {
                      "align": "left"
                    },
                    "hovermode": "closest",
                    "mapbox": {
                      "style": "light"
                    },
                    "paper_bgcolor": "white",
                    "plot_bgcolor": "#E5ECF6",
                    "polar": {
                      "angularaxis": {
                        "gridcolor": "white",
                        "linecolor": "white",
                        "ticks": ""
                      },
                      "bgcolor": "#E5ECF6",
                      "radialaxis": {
                        "gridcolor": "white",
                        "linecolor": "white",
                        "ticks": ""
                      }
                    },
                    "scene": {
                      "xaxis": {
                        "backgroundcolor": "#E5ECF6",
                        "gridcolor": "white",
                        "gridwidth": 2,
                        "linecolor": "white",
                        "showbackground": true,
                        "ticks": "",
                        "zerolinecolor": "white"
                      },
                      "yaxis": {
                        "backgroundcolor": "#E5ECF6",
                        "gridcolor": "white",
                        "gridwidth": 2,
                        "linecolor": "white",
                        "showbackground": true,
                        "ticks": "",
                        "zerolinecolor": "white"
                      },
                      "zaxis": {
                        "backgroundcolor": "#E5ECF6",
                        "gridcolor": "white",
                        "gridwidth": 2,
                        "linecolor": "white",
                        "showbackground": true,
                        "ticks": "",
                        "zerolinecolor": "white"
                      }
                    },
                    "shapedefaults": {
                      "line": {
                        "color": "#2a3f5f"
                      }
                    },
                    "ternary": {
                      "aaxis": {
                        "gridcolor": "white",
                        "linecolor": "white",
                        "ticks": ""
                      },
                      "baxis": {
                        "gridcolor": "white",
                        "linecolor": "white",
                        "ticks": ""
                      },
                      "bgcolor": "#E5ECF6",
                      "caxis": {
                        "gridcolor": "white",
                        "linecolor": "white",
                        "ticks": ""
                      }
                    },
                    "title": {
                      "x": 0.05
                    },
                    "xaxis": {
                      "automargin": true,
                      "gridcolor": "white",
                      "linecolor": "white",
                      "ticks": "",
                      "title": {
                        "standoff": 15
                      },
                      "zerolinecolor": "white",
                      "zerolinewidth": 2
                    },
                    "yaxis": {
                      "automargin": true,
                      "gridcolor": "white",
                      "linecolor": "white",
                      "ticks": "",
                      "title": {
                        "standoff": 15
                      },
                      "zerolinecolor": "white",
                      "zerolinewidth": 2
                    }
                  }
                },
                "title": {
                  "text": "Specs Rating Distribution"
                },
                "xaxis": {
                  "anchor": "y",
                  "domain": [
                    0,
                    1
                  ],
                  "title": {
                    "text": "spec_rating"
                  }
                },
                "yaxis": {
                  "anchor": "x",
                  "domain": [
                    0,
                    1
                  ],
                  "title": {
                    "text": "index"
                  }
                }
              }
            }
          },
          "metadata": {},
          "output_type": "display_data"
        }
      ],
      "source": [
        "# Distribution of specs rating in the dataset\n",
        "\n",
        "plt = px.scatter(df, x=\"spec_rating\", title=\"Specs Rating Distribution\",\n",
        "                 color_discrete_sequence=px.colors.qualitative.Pastel)\n",
        "# Drawing the mean line\n",
        "plt.add_shape(type='line', x0=df['spec_rating'].mean(), y0=0,\n",
        "              x1=df['spec_rating'].mean(), y1=1000, line=dict(color='red', dash='dot'))\n",
        "plt.show()"
      ]
    },
    {
      "cell_type": "code",
      "execution_count": 13,
      "metadata": {
        "colab": {
          "base_uri": "https://localhost:8080/",
          "height": 542
        },
        "id": "VTStO0oiP08V",
        "outputId": "df3f33ec-c01a-4dda-e078-ac943ea0a2a7"
      },
      "outputs": [
        {
          "data": {
            "application/vnd.plotly.v1+json": {
              "config": {
                "plotlyServerURL": "https://plot.ly"
              },
              "data": [
                {
                  "alignmentgroup": "True",
                  "bingroup": "x",
                  "hovertemplate": "processor=%{x}<br>count=%{y}<extra></extra>",
                  "legendgroup": "",
                  "marker": {
                    "color": "rgb(102, 197, 204)",
                    "pattern": {
                      "shape": ""
                    }
                  },
                  "name": "",
                  "offsetgroup": "",
                  "orientation": "v",
                  "showlegend": false,
                  "type": "histogram",
                  "x": [
                    "5th Gen AMD Ryzen 5 5600H",
                    "12th Gen Intel Core i3 1215U",
                    "11th Gen Intel Core i3 1115G4",
                    "12th Gen Intel Core i5 1240P",
                    "Apple M1",
                    "12th Gen Intel Core i5 1240P",
                    "12th Gen Intel Core i3 1215U",
                    "13th Gen Intel Core i5 13420H",
                    "12th Gen Intel Core i5 12500H",
                    "12th Gen Intel Core i5 1240P",
                    "12th Gen Intel Core i7 1255U",
                    "Intel Celeron  N4020",
                    "12th Gen Intel Core i5 12500H",
                    "MediaTek MTK8788",
                    "7th Gen AMD Ryzen 3 7320U",
                    "11th Gen Intel Core i5 11400H ",
                    "11th Gen Intel Core i3 1115G4",
                    "13th Gen Intel Core i9 13900H",
                    "12th Gen Intel Core i5 12450H",
                    "11th Gen Intel Core i5 11300H",
                    "5th Gen AMD Ryzen 5 5600H",
                    "Apple M2",
                    "12th Gen Intel Core i5 12450H",
                    "11th Gen Intel Core i5 1135G7 ",
                    "5th Gen AMD Ryzen 7  5800H",
                    "5th Gen AMD Ryzen 5 5500U",
                    "3rd Gen AMD Athlon 3050U",
                    "Intel Core i3 N305",
                    "12th Gen Intel Core i5 1240P",
                    "13th Gen Intel Core i7 1355U",
                    "6th Gen AMD Ryzen 5 6600H",
                    "13th Gen Intel Core i9 13900HX",
                    "5th Gen AMD Ryzen 5 5600H",
                    "5th Gen AMD Ryzen 5 5500U",
                    "12th Gen Intel Core i7 12650H",
                    "13th Gen Intel Core i5 1340P",
                    "11th Gen Intel Core i5 11400H ",
                    "12th Gen Intel Core i5 12450H",
                    "12th Gen Intel Core i3 1215U",
                    "12th Gen Intel Core i5 12450H",
                    "11th Gen Intel Core i3 1115G4",
                    "12th Gen Intel Core i5 12500H",
                    "12th Gen Intel Core i5 1235U ",
                    "12th Gen Intel Core i3 1215U",
                    "13th Gen Intel Core i5 13450HX",
                    "13th Gen Intel Core i9 13980HX",
                    "11th Gen Intel Core i5 1135G7",
                    "5th Gen AMD Ryzen 3 5300U",
                    "12th Gen Intel Core i5 12450H",
                    "12th Gen Intel Core i7 12700H",
                    "Intel Celeron  N4020",
                    "5th Gen AMD Ryzen 5 5625U",
                    "12th Gen Intel Core i5 12450H",
                    "5th Gen AMD Ryzen 3 5300U",
                    "12th Gen Intel Core i5 12450H",
                    "11th Gen Intel Core i5 1155G7",
                    "7th Gen AMD Ryzen 7 7730U",
                    "12th Gen Intel Core i5 1235U",
                    "11th Gen Intel Core i7 11800H",
                    "12th Gen Intel Core i7 12700H ",
                    "13th Gen Intel Core i7 13620H",
                    "13th Gen Intel Core i9 13900H",
                    "12th Gen Intel Core i5 12500H",
                    "13th Gen Intel Core i7 1360P",
                    "12th Gen Intel Core i7 12650H",
                    "11th Gen Intel Core i5 1155G7",
                    "11th Gen Intel Core i3 1115G4",
                    "12th Gen Intel Core i5 12450H",
                    "12th Gen Intel Core i5 12500H",
                    "12th Gen Intel Core i5 12450H",
                    "11th Gen Intel Core i7 11800H",
                    "11th Gen Intel Celeron N5100",
                    "11th Gen Intel Core i5 11400H ",
                    "5th Gen AMD Ryzen 3 5425U",
                    "5th Gen AMD Ryzen 5 5600H",
                    "10th Gen Intel Core i7 10750H",
                    "7th Gen AMD Ryzen 7 7840HS",
                    "12th Gen Intel Core i5 1235U",
                    "12th Gen Intel Core i3 1215U",
                    "13th Gen Intel Core i5 13500H",
                    "7th Gen AMD Ryzen 7 7840HS",
                    "7th Gen AMD Ryzen 5 7535HS",
                    "11th Gen Intel Core i5 1135G7",
                    "11th Gen Intel Core i5 11260H",
                    "12th Gen Intel Core i5 1235U",
                    "7th Gen AMD Ryzen 7 7840HS",
                    "11th Gen Intel Core i5 11260H",
                    "13th Gen Intel Core i5 13420H",
                    "11th Gen Intel Core i5  1135G7",
                    "11th Gen Intel Core i3 1115G4",
                    "13th Gen Intel Core i5 13450HX",
                    "12th Gen Intel Core i3 1215U",
                    "11th Gen Intel Core i5 11400H ",
                    "12th Gen Intel Core i5 12450H",
                    "6th Gen AMD Ryzen 7  6800H",
                    "Apple M2",
                    "12th Gen Intel Core i5 1235U",
                    "12th Gen Intel Core i5 1240P",
                    "12th Gen Intel Core i5 1235U",
                    "11th Gen Intel Core i5 11300H",
                    "6th Gen AMD Ryzen 7  6800H",
                    "AMD Athlon Pro 3045B",
                    "11th Gen Intel Core i5 1135G7",
                    "5th Gen AMD Ryzen 5  5500U",
                    "11th Gen Intel Core i5 11300H ",
                    "Intel Atom Quad Core Z3735F",
                    "12th Gen Intel Core i3 1220P",
                    "6th Gen AMD Ryzen 7 6800H",
                    "12th Gen Intel Core i3 1215U",
                    "12th Gen Intel Core i5 1235U",
                    "Intel Celeron  N4020",
                    "13th Gen Intel Core i5 13500H",
                    "12th Gen Intel Core i5 1235U",
                    "7th Gen AMD Ryzen 7 7730U",
                    "13th Gen Intel Core i9 13900H",
                    "12th Gen Intel Core i7 1255U",
                    "12th Gen Intel Core i5 12450H",
                    "7th Gen Amd Ryzen 5 7535HS",
                    "12th Gen Intel Core i5 12450H",
                    "7th Gen Amd Ryzen 5 7535HS",
                    "12th Gen Intel Core i5 12450H",
                    "12th Gen Intel Core i3 1215U",
                    "5th Gen AMD Ryzen 5  5600H",
                    "11th Gen Intel Core i5 1155G7",
                    "10th Gen Intel Core i3 1005G1",
                    "5th Gen AMD Ryzen 7   5700U",
                    "13th Gen Intel Core i5 1340p",
                    "11th Gen Intel Core i7 1165G7",
                    "11th Gen Intel Core i3  1115G4",
                    "12th Gen Intel Core i7 1255U",
                    "13th Gen Intel Core i3 1315U",
                    "13th Gen Intel Core i5 1335U",
                    "12th Gen Intel Core i5 1235U",
                    "13th Gen Intel Core i5 13500H",
                    "5th Gen AMD Ryzen 5  5600H ",
                    "5th Gen AMD Ryzen 5 5625U",
                    "Intel Celeron  N4500",
                    "7th Gen AMD Ryzen 3 7320U",
                    "13th Gen Intel Core i5 1335U",
                    "13th Gen Intel Core i7 1355U",
                    "10th Gen Intel Core i3 1005G1",
                    "13th Gen Intel Core i9 13900H",
                    "AMD Athlon 7120U",
                    "11th Gen Intel Core i5 1155G7",
                    "6th Gen AMD Ryzen 7 6800H",
                    "7th Gen AMD Ryzen 7 7840HS",
                    "7th Gen AMD Ryzen 7 7735U",
                    "12th Gen Intel Core i5 12500H",
                    "13th Gen Intel Core i3 1305U",
                    "13th Gen Intel Core i9 13900HX",
                    "5th Gen AMD Ryzen 5 5600H",
                    "11th Gen Intel Core i5 1155G7",
                    "13th Gen Intel Core i5 1335U",
                    "11th Gen Intel Core i5 11320H",
                    "5th Gen AMD Ryzen 5 5600HS",
                    "12th Gen Intel Core i5 12450H",
                    "11th Gen Intel Core i3 1115G4",
                    "13th Gen Intel Core i5 1340P",
                    "Apple M2",
                    "12th Gen Intel Core i5 12500H ",
                    "5th Gen AMD Ryzen 7 5800H",
                    "13th Gen Intel Core i5 1340p",
                    "13th Gen Intel Core i5 13450HX",
                    "7th Gen AMD Ryzen 7 7735HS",
                    "13th Gen Intel Core i9 13980HX",
                    "12th Gen Intel Core i5 12450H",
                    "12th Gen Intel Core i3 1215U",
                    "13th Gen Intel Core i5 1335U",
                    "13th Gen Intel Core i7 13700HX",
                    "5th Gen AMD Ryzen 5 5625U",
                    "13th Gen Intel Core i7 13700HX",
                    "11th Gen Intel Core i5 11320H",
                    "13th Gen Intel Core i7 13700HX",
                    "12th Gen Intel Core i3 1215U",
                    "12th Gen Intel Core i3 1215U",
                    "7th Gen AMD Ryzen 5 7535HS",
                    "7th Gen AMD Ryzen 7 7735HS",
                    "11th Gen Intel Core i7 11800H",
                    "5th Gen AMD Ryzen 7 5800H",
                    "13th Gen Intel Core i5 13500H",
                    "7th Gen AMD Ryzen 3 7320U",
                    "7th Gen AMD Ryzen 9  7945HX ",
                    "5th Gen AMD Ryzen 5 5625U",
                    "7th Gen AMD Ryzen 5 7530U",
                    "11th Gen Intel Core i5 1155G7",
                    "12th Gen Intel Core i7 12650H",
                    "Intel Core i3 N305",
                    "13th Gen Intel Core i5 1335U",
                    "13th Gen Intel Core i5 1335U",
                    "13th Gen Intel Core i7 1360P",
                    "5th Gen AMD Ryzen 5  5600H ",
                    "13th Gen Intel Core i5 1340P",
                    "5th Gen AMD Ryzen 5 5600H",
                    "5th Gen AMD Ryzen 5 5600H",
                    "12th Gen Intel Core i5 1235U",
                    "12th Gen Intel Core i5 1235U",
                    "11th Gen Intel Core i5 11300H",
                    "6th Gen AMD Ryzen 7  6800H",
                    "3rd Gen AMD Ryzen 3  3250U",
                    "12th Gen Intel Core i3 1215U",
                    "12th Gen Intel Core i5 1235U",
                    "5th Gen AMD Ryzen 5 5625U",
                    "11th Gen Intel Core i3 1115G4",
                    "5th Gen AMD Ryzen 5  5500U ",
                    "6th Gen AMD Ryzen 7 6800H ",
                    "11th Gen Intel Core i3 1115G4",
                    "Apple M2 Apple M2 Chip",
                    "12th Gen Intel Core i5 12500H",
                    "12th Gen Intel Core i5 12500H",
                    "11th Gen Intel Core i3 1115G4",
                    "11th Gen Intel Core i5 11300H ",
                    "11th Gen Intel Core i5 1135G7 ",
                    "10th Gen Intel Core i5 10210U ",
                    "Apple M1 Apple M1 Chip",
                    "3rd Gen AMD Ryzen 5  3500U",
                    "9th Gen Intel Core i9",
                    "12th Gen Intel Core i5 12450H",
                    "12th Gen Intel Core i5 1235U",
                    "7th Gen AMD Ryzen 5 7535HS",
                    "12th Gen Intel Core i3 1215U",
                    "7th Gen AMD Ryzen 7 7840HS",
                    "AMD Athlon Silver 7120U",
                    "12th Gen Intel Core i3 1215U",
                    "10th Gen Intel Core i5 1035G1",
                    "12th Gen Intel Core i5 12450H",
                    "7th Gen AMD Ryzen 5 7535HS",
                    "13th Gen Intel Core i7 13700H",
                    "7th Gen AMD Ryzen 7 7840HS",
                    "12th Gen Intel Core i7 12650H",
                    "7th Gen AMD Ryzen 7 7840HS",
                    "11th Gen Intel Core i3 1115G4",
                    "7th Gen AMD Ryzen 9  7940HS",
                    "12th Gen Intel Core i3 1215U",
                    "13th Gen Intel Core i5 1340P",
                    "13th Gen Intel Core i3 1315U",
                    "12th Gen Intel Core i5 1235U",
                    "13th Gen Intel Core i5 13500H",
                    "13th Gen Intel Core i5 1335U",
                    "5th Gen AMD Ryzen 5  5500U",
                    "Intel Celeron N4500",
                    "12th Gen Intel Core i3 1215U",
                    "11th Gen Intel Core i5 1155G7",
                    "13th Gen Intel Core i5 13420H",
                    "12th Gen Intel Core i5 1235U",
                    "11th Gen Intel Core i7 1165G7",
                    "6th Gen AMD Ryzen 7  6800H",
                    "12th Gen Intel Core i5 12450H",
                    "12th Gen Intel Core i3 1215U",
                    "6th Gen AMD Ryzen 5 6600H",
                    "AMD Athlon 7120U",
                    "13th Gen Intel Core i5 13450HX",
                    "6th Gen AMD Ryzen 7 6800H",
                    "12th Gen Intel Core i3 1215U",
                    "13th Gen Intel Core i9 13900H",
                    "11th Gen Intel Core i5 11320H",
                    "11th Gen Intel Core i3 1115G4",
                    "13th Gen Intel Core i3 1305U",
                    "11th Gen Intel Core i3 1115G4",
                    "12th Gen Intel Core i5 1235U",
                    "13th Gen Intel Core i5 1335U",
                    "Intel Celeron N4500",
                    "11th Gen Intel Core i7 1165G7",
                    "5th Gen AMD Ryzen 7 5800HS",
                    "3rd Gen AMD Ryzen 3  3250U",
                    "5th Gen AMD Ryzen 5  5500U",
                    "12th Gen Intel Core i5 12450H",
                    "5th Gen AMD Ryzen 5  5600H",
                    "11th Gen Intel Core i5 11260H",
                    "3rd Gen AMD Ryzen 3  3250U",
                    "5th Gen AMD Ryzen 5  5600H",
                    "11th Gen Intel Core i7 1165G7",
                    "11th Gen Intel Core i3 1125G4",
                    "12th Gen Intel Core i7 1255U",
                    "13th Gen Intel Core i3 1305U",
                    "13th Gen Intel Core i5 1335U",
                    "7th Gen AMD Ryzen 7 7840HS",
                    "13th Gen Intel Core i5 1335U",
                    "11th Gen Intel Core i5 11260H",
                    "13th Gen Intel Core i5 13500H",
                    "12th Gen Intel Core i3 1215U",
                    "12th Gen Intel Core i7 12700H",
                    "11th Gen intel Core i3 1115G4",
                    "12th Gen Intel Core i5 12450H",
                    "7th Gen AMD Ryzen 7 7840HS",
                    "12th Gen Intel Core i5 12450H",
                    "5th Gen AMD Ryzen 5 5500U",
                    "12th Gen Intel Core i3 1215U",
                    "11th Gen Intel Core i5 1155G7",
                    "13th Gen Intel Core i9 13980HX",
                    "12th Gen Intel Core i7 12650H ",
                    "13th Gen Intel Core i5 1335U",
                    "Intel Celeron  N4020",
                    "12th Gen Intel Core i5 12500H",
                    "13th Gen Intel Core i5 1335U",
                    "7th Gen AMD Ryzen 3 7330U",
                    "13th Gen Intel Core i7 13700H",
                    "13th Gen Intel Core i3 1315U",
                    "13th Gen Intel Core i5 1340P",
                    "7th Gen AMD Ryzen 5 7535HS",
                    "11th Gen Intel Core i5 1155G7",
                    "12th Gen Intel Core i3 1215U",
                    "7th Gen Amd Ryzen 5 7520U",
                    "7th Gen AMD Ryzen 5 7520U",
                    "13th Gen Intel Core i7 1355U",
                    "7th Gen AMD Ryzen 3 7320U",
                    "7th Gen AMD Ryzen 3 7320U",
                    "11th Gen Intel Core i5 11260H",
                    "12th Gen Intel Core i5 1235U",
                    "11th Gen Intel Core i5 11260H",
                    "12th Gen Intel Core i3 1215U",
                    "7th Gen AMD Ryzen 7 7730U",
                    "7th Gen AMD Ryzen 3 7320U",
                    "12th Gen Intel Core i5 1235U",
                    "13th Gen Intel Core i7 13650HX",
                    "13th Gen Intel Core i7 1355U",
                    "13th Gen Intel Core i7 13700H",
                    "11th Gen Intel Core i3 1115G4",
                    "5th Gen AMD Ryzen 5 5600H",
                    "5th Gen AMD Ryzen 7 5800HS",
                    "13th Gen Intel Core i7 13650HX",
                    "13th Gen Intel Core i9 13900H",
                    "13th Gen Intel Core i9 13980HX",
                    "13th Gen Intel Core i7 13650HX",
                    "13th Gen Intel Core i9 13900H",
                    "13th Gen Intel Core i5 13500H",
                    "11th Gen Intel Core i5 11400H",
                    "12th Gen Intel Core i5 1235U",
                    "11th Gen intel Core i3 1115G4",
                    "12th Gen Intel Core i3 1215U",
                    "7th Gen AMD Ryzen 5 7520U",
                    "13th Gen Intel Core i7 1360P",
                    "5th Gen AMD Ryzen 5  5600H ",
                    "13th Gen Intel Core i9 13900H",
                    "13th Gen Intel Core i5 1335U",
                    "13th Gen Intel Core i7 13700HX",
                    "13th Gen Intel Core i5 13500HX",
                    "12th Gen Intel Core i5 12450H",
                    "5th Gen AMD Ryzen 5 5500U",
                    "7th Gen AMD Ryzen 3 7320U",
                    "13th Gen Intel Core i7 13700H",
                    "11th Gen Intel Core i3 1115G4 ",
                    "13th Gen Intel Core i5 1335U",
                    "13th Gen Intel Core i5 13500H",
                    "13th Gen Intel Core i9 13900H",
                    "5th Gen AMD Ryzen 7 5800H",
                    "13th Gen Intel Core i5 1340P",
                    "13th Gen Intel Core i9 13980HX",
                    "3rd Gen AMD Athlon Silver 3050U",
                    "7th Gen AMD Ryzen 5 7520U",
                    "5th Gen AMD Ryzen 5 5500U",
                    "12th Gen Intel Core i3 1215U",
                    "Intel Celeron  N4500",
                    "7th Gen AMD Ryzen 3 7320U",
                    "7th Gen AMD Ryzen 5 7535HS",
                    "5th Gen AMD Ryzen 7 5800H",
                    "12th Gen Intel Core i5 1235U",
                    "5th Gen AMD Ryzen 5  5600H",
                    "13th Gen Intel Core i5 1335U",
                    "7th Gen AMD Ryzen 7 7730U",
                    "7th Gen AMD Ryzen 5 7520U",
                    "13th Gen Intel Core i5 1335U",
                    "10th Gen Intel Core i3 1005G1",
                    "13th Gen Intel Core i7 1355U",
                    "13th Gen Intel Core i7 1360P",
                    "13th Gen Intel Core i7 1360P",
                    "13th Gen Intel Core i7 1355U",
                    "13th Gen Intel Core i7 1360P",
                    "13th Gen Intel Core i5 1335U",
                    "13th Gen Intel Core i7 1360P",
                    "13th Gen Intel Core i7 1360P",
                    "13th Gen Intel Core i5 1340P",
                    "13th Gen Intel Core i9 13900H",
                    "5th Gen AMD Ryzen 5 5500U",
                    "11th Gen Intel Core i3 1115G4",
                    "11th Gen Intel Core i3 1115G4",
                    "Apple M2 Max M2 Max",
                    "Apple M2 Pro M2 Pro",
                    "12th Gen Intel Core i5 12500H",
                    "5th Gen AMD Ryzen 3  5425U",
                    "5th Gen AMD Ryzen 7  5800H",
                    "12th Gen Intel Core i5 12450H",
                    "11th Gen Intel Core i5 1135G7",
                    "5th Gen AMD Ryzen 5 5500U",
                    "7th Gen AMD Ryzen 5 7520U",
                    "11th Gen Intel Core i3 1115G4",
                    "7th Gen AMD Ryzen 3 7320U",
                    "13th Gen Intel Core i5 1340P",
                    "11th Gen Intel Core i3 1115G4 ",
                    "13th Gen Intel Core i5 1335U",
                    "13th Gen Intel Core i5 1340P",
                    "13th Gen Intel Core i9 13900H",
                    "12th Gen Intel Core i3 1215U",
                    "7th Gen AMD Ryzen 5 7520U",
                    "7th Gen AMD Ryzen 5 7520U",
                    "7th Gen AMD Ryzen 3 7320U",
                    "5th Gen AMD Ryzen 7 5800H",
                    "7th Gen AMD Ryzen 5 7535HS",
                    "7th Gen AMD Ryzen 5 7530U",
                    "7th Gen AMD Ryzen 7 7730U",
                    "7th Gen AMD Ryzen 5 7520U",
                    "7th Gen AMD Ryzen 7 7735U",
                    "7th Gen AMD Ryzen 7 7730U",
                    "5th Gen AMD Ryzen 5 5600H",
                    "11th Gen Intel Core i5 1155G7",
                    "7th Gen AMD Ryzen 5 7520U",
                    "5th Gen AMD Ryzen 5 5600H",
                    "AMD Ryzen 3 7320U",
                    "13th Gen Intel Core i7 1360P",
                    "12th Gen Intel Core i5 12500H",
                    "11th Gen Intel Core i5 11400H ",
                    "11th Gen intel Core i3 1115G4",
                    "12th Gen Intel Core i5 12500H",
                    "12th Gen Intel Core i5 1235U",
                    "12th Gen Intel Core i5 1230U",
                    "12th Gen Intel Core i5 1235U",
                    "12th Gen Intel Core i3 1220P",
                    "12th Gen Intel Core i5 1235U",
                    "12th Gen Intel Core i5 1235U",
                    "12th Gen Intel Core i3 1215U",
                    "12th Gen Intel Core i5 12500H",
                    "12th Gen Intel Core i7 12700H",
                    "11th Gen Intel Core i7 1185G7",
                    "5th Gen AMD Ryzen 5 5500U",
                    "5th Gen AMD Ryzen 7 5700U",
                    "5th Gen AMD Ryzen 5  5600H",
                    "5th Gen AMD Ryzen 5  5500U",
                    "12th Gen Intel Core i3 1220P",
                    "12th Gen Intel Core i5 1235U",
                    "12th Gen Intel Core i7 12700H",
                    "12th Gen Intel Core i7 12700H",
                    "12th Gen Intel Core i7 12700H",
                    "5th Gen AMD Ryzen 3 5300U",
                    "5th Gen AMD Ryzen 5  5600H",
                    "12th Gen Intel Core i5 12450H ",
                    "11th Gen Intel Core i3 1115G4",
                    "11th Gen Intel Core i3 1115G4",
                    "5th Gen AMD Ryzen 5  5600H ",
                    "12th Gen Intel Core i5 1235U",
                    "5th Gen AMD Ryzen 5  5500U",
                    "11th Gen intel Core i3 1115G4",
                    "12th Gen Intel Core i5 1235U",
                    "6th Gen AMD Ryzen 9  6900HX",
                    "11th Gen Intel Core i3 1115G4",
                    "12th Gen Intel Core i5 1235U",
                    "11th Gen Intel Core i3 1115G4",
                    "11th Gen Intel Core i3 1115G4",
                    "5th Gen AMD Ryzen 5 5625U",
                    "5th Gen AMD Ryzen 5  5500U ",
                    "3rd Gen AMD Athlon Silver 3050U",
                    "11th Gen Intel Core i3 1115G4",
                    "6th Gen AMD Ryzen 7  6800H",
                    "12th Gen Intel Core i5 1240P",
                    "12th Gen Intel Core i5 1235U",
                    "5th Gen AMD Ryzen 7  5825U",
                    "12th Gen Intel Core i7 12700H",
                    "12th Gen Intel Core i5 1235U",
                    "11th Gen Intel Core i5 11400H",
                    "10th Gen Intel Core i5 10300H",
                    "12th Gen Intel Core i7 1255U",
                    "12th Gen Intel Core i5 1235U",
                    "12th Gen Intel Core i7 1255U",
                    "5th Gen AMD Ryzen 7  5800H",
                    "12th Gen Intel Core i5 1240P",
                    "5th Gen AMD Ryzen 5 5625U ",
                    "11th Gen Intel Core i3 1115G4",
                    "11th Gen Intel Core i3 1115G4",
                    "5th Gen AMD Ryzen 3  5300U",
                    "5th Gen AMD Ryzen 5  5500U",
                    "Apple M1 Pro M1 Pro",
                    "Apple M1 Max M1 Max",
                    "11th Gen Intel Core i5 1135G7",
                    "11th Gen Intel Core i3 1115G4",
                    "10th Gen Intel Core i7 10870H",
                    "11th Gen Intel Core i5 1135G7",
                    "11th Gen Intel Core i3 1115G4 ",
                    "5th Gen AMD Ryzen 5  5600H ",
                    "5th Gen AMD Ryzen 5  5500U ",
                    "11th Gen Intel Core i5 1135G7",
                    "3rd Gen AMD Ryzen 3  3250U",
                    "3rd Gen AMD Ryzen 5  3580U",
                    "3rd Gen AMD Ryzen 5 3500U ",
                    "8th Gen Intel Core i5 8265U",
                    "8th Gen Intel Core i5 8250U",
                    "Intel",
                    "11th Gen Intel Core i5 1135G7",
                    "12th Gen Intel Core i7 1265U",
                    "11th Gen Intel Core i5 1155G7",
                    "12th Gen Intel Core i7 1260P",
                    "13th Gen Intel Core i7 1355U",
                    "12th Gen Intel Core i7 12700H",
                    "10th Gen Intel Core i5 10300H",
                    "12th Gen Intel Core i5 1240P",
                    "11th Gen Intel Core i5 1135G7",
                    "12th Gen Intel Core i5 1235U",
                    "12th Gen Intel Core i5 1240P",
                    "12th Gen Intel Core i5 1235U ",
                    "5th Gen AMD Ryzen 5  5625U",
                    "Intel Celeron  N4020 ",
                    "11th Gen Intel Core i5 11320H",
                    "12th Gen Intel Core i7 1260P ",
                    "12th Gen Intel Core i7 1260P ",
                    "12th Gen Intel Core i5 1240P",
                    "Intel Pentium Silver  N6000",
                    "5th Gen AMD Ryzen 3  5300U",
                    "Apple M1 Pro M1 Pro",
                    "Apple M1 Pro M1 Pro",
                    "10th Gen Intel Core i3 10110U ",
                    "11th Gen Intel Core i5 11300H ",
                    "11th Gen Intel Core i5 11300H",
                    "11th Gen Intel Core i5 1135G7",
                    "5th Gen AMD Ryzen 7 5800H ",
                    "10th Gen Intel Core i5 10210U ",
                    "3rd Gen AMD Ryzen 5  3580U",
                    "10th Gen Intel Core i3",
                    "10th Gen Intel Core i7",
                    "8th Gen Intel Core i7 8550U",
                    "9th Gen intel Core i7 9750H",
                    "8th Gen Intel Core i9 8950HK",
                    "12th Gen Intel Core i5 12500H",
                    "5th Gen AMD Ryzen 7  5700U",
                    "13th Gen Intel Core i5 1335U",
                    "13th Gen Intel Core i7 13650HX",
                    "5th Gen AMD Ryzen 5  5500U",
                    "7th Gen AMD Ryzen 5 7520U",
                    "7th Gen AMD Ryzen 5 7520U",
                    "7th Gen AMD Ryzen 5 7530U",
                    "13th Gen Intel Core i7 13700H",
                    "11th Gen Intel Core i7 1185G7",
                    "11th Gen Intel Core i3 1115G4",
                    "7th Gen AMD Ryzen 5 7520U ",
                    "7th Gen AMD Ryzen 7  7730U",
                    "12th Gen Intel Core i3 1215U",
                    "7th Gen AMD Ryzen 3 7320U",
                    "13th Gen Intel Core i5 13500H",
                    "12th Gen Intel Core i5 12450H ",
                    "11th Gen Intel Core i5 11320H",
                    "7th Gen AMD Ryzen 5 7520U",
                    "Intel   N4500",
                    "5th Gen AMD Ryzen 7 5800HS",
                    "Intel Celeron N4500",
                    "Intel Celeron  N4020",
                    "11th Gen Intel Core i3 1115G4",
                    "5th Gen AMD Ryzen 5 5500H",
                    "13th Gen Intel Core i9 13900HX",
                    "13th Gen Intel Core i5 13420H",
                    "13th Gen Intel Core i5 13420H",
                    "Intel Celeron N4500",
                    "13th Gen Intel Core i7 13700HX",
                    "13th Gen Intel Core i7 13700HX",
                    "13th Gen Intel Core i9 13900HX",
                    "7th Gen Amd Ryzen 7 7840H",
                    "13th Gen Intel Core i7 13700HX",
                    "13th Gen Intel Core i7 13700H",
                    "11th Gen Intel Core i5 11320H",
                    "11th Gen Intel Core i5 11400H",
                    "12th Gen Intel Core i5 1240P",
                    "13th Gen Intel Core i5 1335U",
                    "13th Gen Intel Core i5 13420H",
                    "13th Gen Intel Core i9 13900HX",
                    "13th Gen Intel Core i7 13620H",
                    "5th Gen AMD Ryzen 7 5800H",
                    "6th Gen AMD Ryzen 7 6800HS ",
                    "13th Gen Intel Core i9 13950HX",
                    "13th Gen Intel Core i7 1355U",
                    "12th Gen Intel Core i5 1235U",
                    "7th Gen AMD Ryzen 7 7735HS",
                    "12th Gen Intel Core i3 1215U",
                    "Intel Celeron N4500",
                    "Intel Celeron Dual Core N4500",
                    "11th Gen Intel Core i7 1165G7",
                    "7th Gen AMD Ryzen 5 7535HS",
                    "6th Gen AMD Ryzen 7  6800H",
                    "13th Gen Intel Core i9 13900H",
                    "Intel Celeron Dual Core N4500",
                    "11th Gen Intel Core i5 1135G7",
                    "5th Gen AMD Ryzen 7 5800H",
                    "5th Gen AMD Ryzen 5  5600H",
                    "4th Gen AMD Ryzen 7 PRO 4750U",
                    "12th Gen Intel Core i3 1215U",
                    "7th Gen AMD Ryzen 5 7520U",
                    "5th Gen AMD Ryzen 5  5500H",
                    "11th Gen Intel Core i5 1135G7",
                    "12th Gen Intel Core i5 1235U",
                    "13th Gen Intel Core i5 1335U",
                    "7th Gen AMD Ryzen 3 7320U",
                    "13th Gen Intel Core i7 13700H",
                    "12th Gen Intel Core i5 1235U",
                    "5th Gen AMD Ryzen 5 5500U",
                    "13th Gen Intel Core i7 13700H",
                    "13th Gen Intel Core i3 1305U",
                    "7th Gen AMD Ryzen 5 7530U",
                    "12th Gen Intel Core i7 1255U",
                    "13th Gen Intel Core i5 1335U",
                    "11th Gen Intel Core i5 11320H",
                    "7th Gen AMD Ryzen 7 7730U",
                    "5th Gen AMD Ryzen 7 5700U",
                    "10th Gen Intel Core i3 1005G1",
                    "5th Gen AMD Ryzen 5  5600H ",
                    "7th Gen AMD Ryzen 7 7840HS",
                    "7th Gen AMD Ryzen 7 7840HS",
                    "13th Gen Intel Core i7 1355U ",
                    "13th Gen Intel Core i5 13500H",
                    "7th Gen AMD Ryzen 3 7320U",
                    "7th Gen AMD Ryzen 7 7840HS",
                    "7th Gen AMD Ryzen 7 7730U",
                    "7th Gen AMD Ryzen 5  7530U",
                    "Intel Celeron N4020",
                    "12th Gen Intel Core i7 1250U",
                    "13th Gen Intel Core i5 1334U",
                    "13th Gen Intel Core i7 1355U",
                    "11th Gen Intel Core i7 1165G7",
                    "11th Gen Intel Core i3 1115G4",
                    "7th Gen AMD Ryzen 7  7730U",
                    "7th Gen AMD Ryzen 5 7535HS",
                    "11th Gen Intel Core i5 1135G7",
                    "11th Gen Intel Core i3 1115G4",
                    "13th Gen Intel Core i7 1360P",
                    "12th Gen Intel Core i5 1235U",
                    "12th Gen Intel Core i5 1235U",
                    "7th Gen AMD Ryzen 5 7530U",
                    "5th Gen AMD Ryzen 5 5600HS",
                    "5th Gen AMD Ryzen 7 5800HS",
                    "3rd Gen AMD Ryzen 3  3250U",
                    "13th Gen Intel Core i5 1335U",
                    "12th Gen Intel Core i7 12650H",
                    "11th Gen Intel Core i3 1115G4",
                    "13th Gen Intel Core i5 1335U",
                    "12th Gen Intel Core i7 12700H ",
                    "12th Gen Intel Core i7 12650H",
                    "12th Gen Intel Core i5 1235U",
                    "Intel Celeron N4500",
                    "Intel Celeron N4500",
                    "Intel Celeron N4500",
                    "Intel Celeron N4500",
                    "12th Gen Intel Core i3 1215U",
                    "13th Gen Intel Core i7 13620H",
                    "12th Gen Intel Core i5 12500H",
                    "5th Gen AMD Ryzen 7  5700U",
                    "12th Gen Intel Core i7 12650H",
                    "13th Gen Intel Core i5 1335U",
                    "7th Gen AMD Ryzen 7 7730U",
                    "7th Gen AMD Ryzen 5 7520U",
                    "12th Gen Intel Core i5 1235U",
                    "7th Gen Amd Ryzen 5 7535HS",
                    "12th Gen Intel Core i5 12450H",
                    "12th Gen Intel Core i5 12450H",
                    "11th Gen Intel Core i5 11400H",
                    "12th Gen Intel Core i7 12650H",
                    "12th Gen Intel Core i3 1215U",
                    "7th Gen AMD Ryzen 7 7735U",
                    "5th Gen AMD Ryzen 5 5600H",
                    "5th Gen AMD Ryzen 5 5500U",
                    "5th Gen AMD Ryzen 5 5500U",
                    "7th Gen AMD Ryzen 3 7320U",
                    "11th Gen Intel Core i5 1135G7 ",
                    "7th Gen AMD Ryzen 9 7940HS",
                    "13th Gen Intel Core i7 13700H",
                    "13th Gen Intel Core i7 1355U",
                    "13th Gen Intel Core i7 1360p",
                    "11th Gen Intel Core i5 11260H",
                    "7th Gen Amd Ryzen 5 7535HS",
                    "12th Gen Intel Core i9 12900H",
                    "7th Gen AMD Ryzen 3 7320U",
                    "10th Gen Intel Core i5 1035G4",
                    "Intel Core i3 N305",
                    "11th Gen Intel Core i3 1115G4",
                    "13th Gen Intel Core i7 13620H",
                    "13th Gen Intel Core i3 1305U",
                    "13th Gen Intel Core i7 1360P",
                    "7th Gen Amd Ryzen 5 7520U",
                    "13th Gen Intel Core i7 1360P",
                    "13th Gen Intel Core i5 1335U",
                    "13th Gen Intel Core i5 1340P",
                    "13th Gen Intel Core i5 1335U",
                    "13th Gen Intel Core i5 1335U",
                    "5th Gen AMD Ryzen 5 5600H",
                    "11th Gen Intel Core i5 11260H",
                    "12th Gen Intel Core i7 12650H",
                    "12th Gen Intel Core i7 12650H",
                    "13th Gen Intel Core i9 13900H",
                    "13th Gen Intel Core i7 13700H",
                    "13th Gen Intel Core i5 13500H",
                    "13th Gen Intel Core i7 13700H",
                    "13th Gen Intel Core i5 13500HX",
                    "13th Gen Intel Core i9 13900HX",
                    "12th Gen Intel Core i5 12500H",
                    "7th Gen AMD Ryzen 5 7530U",
                    "12th Gen Intel Core i7 1250U",
                    "10th Gen Intel Core i5 10210U",
                    "13th Gen Intel Core i5 13420H",
                    "13th Gen Intel Core i7 1365U",
                    "12th Gen Intel Core i7 12650H",
                    "11th Gen Intel Core i3 1115G4",
                    "12th Gen Intel Core i5 12450H",
                    "13th Gen Intel Core i5 1335U",
                    "12th Gen Intel Core i5 12500H",
                    "7th Gen AMD Ryzen 7 7840HS",
                    "13th Gen Intel Core i9 13980HX",
                    "13th Gen Intel Core i9 13980HX",
                    "13th Gen Intel Core i7 13700HX",
                    "11th Gen Intel Core i5 1135G7",
                    "7th Gen AMD Ryzen 5 7530U",
                    "7th Gen AMD Ryzen 7 7840HS",
                    "intel Celeron  N4020",
                    "13th Gen Intel Core i7 13700HX",
                    "11th Gen Intel Core i7 1195G7",
                    "11th Gen Intel Core i5 1155G7",
                    "3rd Gen AMD Athlon  3050U",
                    "7th Gen AMD Ryzen 5 7530U",
                    "13th Gen Intel Core i7 13700H",
                    "13th Gen Intel Core i5 1340P",
                    "11th Gen Intel Core i5 11320H",
                    "12th Gen Intel Core i7 12700H",
                    "12th Gen Intel Core i5 1240P",
                    "13th Gen Intel Core i9 13900HX",
                    "5th Gen AMD Ryzen 7 5825U",
                    "12th Gen Intel Core i5 1240P",
                    "7th Gen Amd Ryzen 7 7745HX",
                    "12th Gen Intel Core i7 12700H",
                    "7th Gen AMD Ryzen 5 7530U",
                    "5th Gen AMD Ryzen 5  5600H",
                    "12th Gen Intel Core i7 12700H",
                    "5th Gen AMD Ryzen 7 5700U",
                    "12th Gen Intel Core i7 12650H",
                    "7th Gen AMD Ryzen 5 7530U",
                    "7th Gen AMD Ryzen 7 7840HS",
                    "7th Gen AMD Ryzen 7 7840HS",
                    "13th Gen Intel Core i7 1355U",
                    "13th Gen Intel Core i5 1335U",
                    "13th Gen Intel Core i5 1340P",
                    "10th Gen Intel Core i5 10310U",
                    "5th Gen AMD Ryzen 7 5800H",
                    "13th Gen Intel Core i5 1335U",
                    "13th Gen Intel Core i7 1360P",
                    "Intel Pentium Silver   N6000 ",
                    "12th Gen Intel Core i5 1235U",
                    "12th Gen Intel Core i9 12900H",
                    "12th Gen Intel Core i7 12700H ",
                    "12th Gen Intel Core i7 12700H ",
                    "12th Gen Intel Core i9 12900H",
                    "12th Gen Intel Core i7 12700H ",
                    "12th Gen Intel Core i7 12700H ",
                    "13th Gen Intel Core i7 1360P",
                    "Intel Celeron  N4020 ",
                    "6th Gen AMD Ryzen 7  7735HS",
                    "7th Gen AMD Ryzen 5 7530U",
                    "13th Gen Intel Core i7 1360P",
                    "13th Gen Intel Core i5 1335U",
                    "3rd Gen AMD Ryzen 3  3250U",
                    "13th Gen Intel Core i5 13420H",
                    "13th Gen Intel Core i7 13700H",
                    "12th Gen Intel Core i5 1235U",
                    "4th Gen Intel Celeron N4020",
                    "11th Gen Intel Core i7 1165G7 ",
                    "11th Gen Intel Core i7 11800H",
                    "7th Gen AMD Ryzen 3 7330U",
                    "11th Gen Intel Core i5 11260H",
                    "7th Gen AMD Ryzen 3 7330U",
                    "12th Gen Intel Core i5 12450H ",
                    "13th Gen Intel Core i5 1335U",
                    "12th Gen Intel Core i5 12450H",
                    "13th Gen ‎Intel Core i5 1335U",
                    "7th Gen AMD Ryzen 5 7530U",
                    "13th Gen Intel Core i5 1335U",
                    "7th Gen AMD Ryzen 7 7730U",
                    "7th Gen AMD Ryzen 5 7530U",
                    "7th Gen AMD Ryzen 5 7530U",
                    "13th Gen Intel Core i3 1305U",
                    "7th Gen AMD Ryzen 5 7520U",
                    "11th Gen Intel Core i3 1115G4",
                    "7th Gen AMD Ryzen 3 7320U",
                    "7th Gen AMD Ryzen 5 7530U",
                    "12th Gen Intel Core i5 1235U",
                    "12th Gen Intel Core i5 1235U",
                    "5th Gen AMD Ryzen 5  5600H",
                    "13th Gen Intel Core i7 13620H",
                    "13th Gen Intel Core i3 1315U",
                    "13th Gen Intel Core i7 1355U",
                    "7th Gen AMD Ryzen 5 7520U",
                    "13th Gen Intel Core i7 1355U",
                    "3rd Gen AMD Ryzen 5 3500U",
                    "7th Gen AMD Ryzen 9 7940HS",
                    "11th Gen Intel Core i5 11400H ",
                    "13th Gen Intel Core i7 1355U",
                    "5th Gen AMD Ryzen 5 5500U",
                    "7th Gen AMD Ryzen 7 7735HS",
                    "11th Gen Intel Core i3 1115G4",
                    "6th Gen AMD Ryzen 7 6800H",
                    "12th Gen Intel Core i7 1255U",
                    "12th Gen Intel Core i5 12450H",
                    "7th Gen AMD Ryzen 5 7520U",
                    "12th Gen Intel Core i7 12650H",
                    "10th Gen Intel Core i7 10750H ",
                    "12th Gen Intel Core i5 12450H",
                    "12th Gen Intel Core i7 12650H",
                    "12th Gen Intel Core i5 1235U",
                    "12th Gen Intel Core i5 1235U",
                    "12th Gen Intel Core i3 1215U",
                    "12th Gen Intel Core i3 1215U",
                    "5th Gen AMD Ryzen 5 5500U",
                    "12th Gen Intel Core i3 1215U",
                    "Intel Core i3 N305",
                    "7th Gen Amd Ryzen 5 7530U",
                    "11th Gen Intel Core i5 1155G7",
                    "7th Gen Amd Ryzen 9 7940HS",
                    "7th Gen AMD Ryzen 7 7735HS",
                    "7th Gen AMD Ryzen 5 7535HS",
                    "13th Gen Intel Core i5 1335U",
                    "7th Gen AMD Ryzen 7 7735HS",
                    "7th Gen AMD Ryzen 7  7735HS",
                    "11th Gen Intel Core i5  1135G7",
                    "11th Gen Intel Core i7 11800H",
                    "11th Gen Intel Core i5 11260H",
                    "12th Gen Intel Core i5 1235U",
                    "7th Gen AMD Ryzen 5 7535HS",
                    "7th Gen AMD Ryzen 7  7735HS",
                    "7th Gen AMD Ryzen 7 7735HS",
                    "12th Gen Intel Core i3 1215U",
                    "12th Gen Intel Core i7 1260P",
                    "12th Gen Intel Core i5 1240P",
                    "12th Gen Intel Core i5 1240P",
                    "13th Gen Intel Core i7 13700H",
                    "13th Gen Intel Core i7 1360P",
                    "13th Gen Intel Core i7 13700H",
                    "13th Gen Intel Core i9 13900HX",
                    "13th Gen Intel Core i5 13500H ",
                    "7th Gen AMD Ryzen 7 7745HX",
                    "12th Gen Intel Core i7 1255U",
                    "12th Gen Intel Core i5 1235U",
                    "13th Gen Intel Core i5 1340P",
                    "13th Gen Intel Core i7 1360P",
                    "13th Gen Intel Core i7 1360P",
                    "13th Gen Intel Core i5 1340P",
                    "7th Gen AMD Ryzen 7 7730U",
                    "12th Gen Intel Core i5 1235U",
                    "5th Gen AMD Ryzen 5  5500u",
                    "Intel Celeron  N4020",
                    "Intel Celeron  N4020",
                    "12th Gen Intel Core i3 1215U",
                    "12th Gen Intel Core i5 12450H",
                    "12th Gen Intel Core i5 1235U",
                    "5th Gen AMD Ryzen 5 5500U",
                    "5th Gen AMD Ryzen 5 5500U",
                    "5th Gen AMD Ryzen 7 5800H",
                    "11th Gen Intel Core i5 11400H ",
                    "12th Gen Intel Core i5 12450H",
                    "13th Gen Intel Core i7 13620H",
                    "13th Gen Intel Core i5 13500H",
                    "11th Gen Intel Core i5 1135G7",
                    "12th Gen Intel Core i5 1235U",
                    "7th Gen AMD Ryzen 3 7320U",
                    "11th Gen Intel Core i3 1115G4",
                    "Intel Core i7",
                    "11th Gen Intel Core i5 11400H ",
                    "13th Gen Intel Core i7 13650HX",
                    "13th Gen Intel Core i7 13650HX",
                    "13th Gen Intel Core i7 1355U",
                    "13th Gen Intel 7 13700HX ",
                    "Intel Pentium Silver N6000",
                    "11th Gen Intel Core i3 1115G4",
                    "13th Gen Intel Core i3 1305U",
                    "12th Gen Intel Core i3 1215U",
                    "11th Gen Intel Core i7 1195G7",
                    "13th Gen Intel Core i5 1335U",
                    "13th Gen Intel Core i5 1335U",
                    "5th Gen AMD Ryzen 7 5800H",
                    "Intel Celeron N4020",
                    "5th Gen AMD Ryzen 7 5800U",
                    "13th Gen Intel Core i5 1335U",
                    "13th Gen Intel Core i5 1335U",
                    "13th Gen Intel Core i9 13900H",
                    "13th Gen Intel Core i5 1335U",
                    "5th Gen AMD Ryzen 5 5600H",
                    "7th Gen AMD Ryzen 5 7530U",
                    "12th Gen Intel Core i3 1215U",
                    "12th Gen Intel Core i5 12450H",
                    "Intel Celeron  N4500",
                    "12th Gen Intel Core i7 12650H",
                    "12th Gen Intel Core i5 12450H",
                    "3rd Gen AMD Ryzen 5 3500U",
                    "5th Gen AMD Ryzen 5 5600H",
                    "7th Gen AMD Ryzen 7040 Series 040",
                    "13th Gen Intel Core i7 13650HX",
                    "13th Gen Intel Core i7 13650HX",
                    "13th Gen Intel Core i9 13900HX ",
                    "13th Gen Intel Core i7 13650HX",
                    "13th Gen Intel Core i3 1315U",
                    "13th Gen Intel Core i5 1335U",
                    "13th Gen ‎Intel Core i3 1315U",
                    "6th Gen AMD Ryzen 7 6800H",
                    "7th Gen AMD Ryzen 9 7940HS",
                    "13th Gen Intel Core i7 13700H",
                    "7th Gen AMD Ryzen 9 7940HS"
                  ],
                  "xaxis": "x",
                  "yaxis": "y"
                }
              ],
              "layout": {
                "barmode": "relative",
                "legend": {
                  "tracegroupgap": 0
                },
                "template": {
                  "data": {
                    "bar": [
                      {
                        "error_x": {
                          "color": "#2a3f5f"
                        },
                        "error_y": {
                          "color": "#2a3f5f"
                        },
                        "marker": {
                          "line": {
                            "color": "#E5ECF6",
                            "width": 0.5
                          },
                          "pattern": {
                            "fillmode": "overlay",
                            "size": 10,
                            "solidity": 0.2
                          }
                        },
                        "type": "bar"
                      }
                    ],
                    "barpolar": [
                      {
                        "marker": {
                          "line": {
                            "color": "#E5ECF6",
                            "width": 0.5
                          },
                          "pattern": {
                            "fillmode": "overlay",
                            "size": 10,
                            "solidity": 0.2
                          }
                        },
                        "type": "barpolar"
                      }
                    ],
                    "carpet": [
                      {
                        "aaxis": {
                          "endlinecolor": "#2a3f5f",
                          "gridcolor": "white",
                          "linecolor": "white",
                          "minorgridcolor": "white",
                          "startlinecolor": "#2a3f5f"
                        },
                        "baxis": {
                          "endlinecolor": "#2a3f5f",
                          "gridcolor": "white",
                          "linecolor": "white",
                          "minorgridcolor": "white",
                          "startlinecolor": "#2a3f5f"
                        },
                        "type": "carpet"
                      }
                    ],
                    "choropleth": [
                      {
                        "colorbar": {
                          "outlinewidth": 0,
                          "ticks": ""
                        },
                        "type": "choropleth"
                      }
                    ],
                    "contour": [
                      {
                        "colorbar": {
                          "outlinewidth": 0,
                          "ticks": ""
                        },
                        "colorscale": [
                          [
                            0,
                            "#0d0887"
                          ],
                          [
                            0.1111111111111111,
                            "#46039f"
                          ],
                          [
                            0.2222222222222222,
                            "#7201a8"
                          ],
                          [
                            0.3333333333333333,
                            "#9c179e"
                          ],
                          [
                            0.4444444444444444,
                            "#bd3786"
                          ],
                          [
                            0.5555555555555556,
                            "#d8576b"
                          ],
                          [
                            0.6666666666666666,
                            "#ed7953"
                          ],
                          [
                            0.7777777777777778,
                            "#fb9f3a"
                          ],
                          [
                            0.8888888888888888,
                            "#fdca26"
                          ],
                          [
                            1,
                            "#f0f921"
                          ]
                        ],
                        "type": "contour"
                      }
                    ],
                    "contourcarpet": [
                      {
                        "colorbar": {
                          "outlinewidth": 0,
                          "ticks": ""
                        },
                        "type": "contourcarpet"
                      }
                    ],
                    "heatmap": [
                      {
                        "colorbar": {
                          "outlinewidth": 0,
                          "ticks": ""
                        },
                        "colorscale": [
                          [
                            0,
                            "#0d0887"
                          ],
                          [
                            0.1111111111111111,
                            "#46039f"
                          ],
                          [
                            0.2222222222222222,
                            "#7201a8"
                          ],
                          [
                            0.3333333333333333,
                            "#9c179e"
                          ],
                          [
                            0.4444444444444444,
                            "#bd3786"
                          ],
                          [
                            0.5555555555555556,
                            "#d8576b"
                          ],
                          [
                            0.6666666666666666,
                            "#ed7953"
                          ],
                          [
                            0.7777777777777778,
                            "#fb9f3a"
                          ],
                          [
                            0.8888888888888888,
                            "#fdca26"
                          ],
                          [
                            1,
                            "#f0f921"
                          ]
                        ],
                        "type": "heatmap"
                      }
                    ],
                    "heatmapgl": [
                      {
                        "colorbar": {
                          "outlinewidth": 0,
                          "ticks": ""
                        },
                        "colorscale": [
                          [
                            0,
                            "#0d0887"
                          ],
                          [
                            0.1111111111111111,
                            "#46039f"
                          ],
                          [
                            0.2222222222222222,
                            "#7201a8"
                          ],
                          [
                            0.3333333333333333,
                            "#9c179e"
                          ],
                          [
                            0.4444444444444444,
                            "#bd3786"
                          ],
                          [
                            0.5555555555555556,
                            "#d8576b"
                          ],
                          [
                            0.6666666666666666,
                            "#ed7953"
                          ],
                          [
                            0.7777777777777778,
                            "#fb9f3a"
                          ],
                          [
                            0.8888888888888888,
                            "#fdca26"
                          ],
                          [
                            1,
                            "#f0f921"
                          ]
                        ],
                        "type": "heatmapgl"
                      }
                    ],
                    "histogram": [
                      {
                        "marker": {
                          "pattern": {
                            "fillmode": "overlay",
                            "size": 10,
                            "solidity": 0.2
                          }
                        },
                        "type": "histogram"
                      }
                    ],
                    "histogram2d": [
                      {
                        "colorbar": {
                          "outlinewidth": 0,
                          "ticks": ""
                        },
                        "colorscale": [
                          [
                            0,
                            "#0d0887"
                          ],
                          [
                            0.1111111111111111,
                            "#46039f"
                          ],
                          [
                            0.2222222222222222,
                            "#7201a8"
                          ],
                          [
                            0.3333333333333333,
                            "#9c179e"
                          ],
                          [
                            0.4444444444444444,
                            "#bd3786"
                          ],
                          [
                            0.5555555555555556,
                            "#d8576b"
                          ],
                          [
                            0.6666666666666666,
                            "#ed7953"
                          ],
                          [
                            0.7777777777777778,
                            "#fb9f3a"
                          ],
                          [
                            0.8888888888888888,
                            "#fdca26"
                          ],
                          [
                            1,
                            "#f0f921"
                          ]
                        ],
                        "type": "histogram2d"
                      }
                    ],
                    "histogram2dcontour": [
                      {
                        "colorbar": {
                          "outlinewidth": 0,
                          "ticks": ""
                        },
                        "colorscale": [
                          [
                            0,
                            "#0d0887"
                          ],
                          [
                            0.1111111111111111,
                            "#46039f"
                          ],
                          [
                            0.2222222222222222,
                            "#7201a8"
                          ],
                          [
                            0.3333333333333333,
                            "#9c179e"
                          ],
                          [
                            0.4444444444444444,
                            "#bd3786"
                          ],
                          [
                            0.5555555555555556,
                            "#d8576b"
                          ],
                          [
                            0.6666666666666666,
                            "#ed7953"
                          ],
                          [
                            0.7777777777777778,
                            "#fb9f3a"
                          ],
                          [
                            0.8888888888888888,
                            "#fdca26"
                          ],
                          [
                            1,
                            "#f0f921"
                          ]
                        ],
                        "type": "histogram2dcontour"
                      }
                    ],
                    "mesh3d": [
                      {
                        "colorbar": {
                          "outlinewidth": 0,
                          "ticks": ""
                        },
                        "type": "mesh3d"
                      }
                    ],
                    "parcoords": [
                      {
                        "line": {
                          "colorbar": {
                            "outlinewidth": 0,
                            "ticks": ""
                          }
                        },
                        "type": "parcoords"
                      }
                    ],
                    "pie": [
                      {
                        "automargin": true,
                        "type": "pie"
                      }
                    ],
                    "scatter": [
                      {
                        "fillpattern": {
                          "fillmode": "overlay",
                          "size": 10,
                          "solidity": 0.2
                        },
                        "type": "scatter"
                      }
                    ],
                    "scatter3d": [
                      {
                        "line": {
                          "colorbar": {
                            "outlinewidth": 0,
                            "ticks": ""
                          }
                        },
                        "marker": {
                          "colorbar": {
                            "outlinewidth": 0,
                            "ticks": ""
                          }
                        },
                        "type": "scatter3d"
                      }
                    ],
                    "scattercarpet": [
                      {
                        "marker": {
                          "colorbar": {
                            "outlinewidth": 0,
                            "ticks": ""
                          }
                        },
                        "type": "scattercarpet"
                      }
                    ],
                    "scattergeo": [
                      {
                        "marker": {
                          "colorbar": {
                            "outlinewidth": 0,
                            "ticks": ""
                          }
                        },
                        "type": "scattergeo"
                      }
                    ],
                    "scattergl": [
                      {
                        "marker": {
                          "colorbar": {
                            "outlinewidth": 0,
                            "ticks": ""
                          }
                        },
                        "type": "scattergl"
                      }
                    ],
                    "scattermapbox": [
                      {
                        "marker": {
                          "colorbar": {
                            "outlinewidth": 0,
                            "ticks": ""
                          }
                        },
                        "type": "scattermapbox"
                      }
                    ],
                    "scatterpolar": [
                      {
                        "marker": {
                          "colorbar": {
                            "outlinewidth": 0,
                            "ticks": ""
                          }
                        },
                        "type": "scatterpolar"
                      }
                    ],
                    "scatterpolargl": [
                      {
                        "marker": {
                          "colorbar": {
                            "outlinewidth": 0,
                            "ticks": ""
                          }
                        },
                        "type": "scatterpolargl"
                      }
                    ],
                    "scatterternary": [
                      {
                        "marker": {
                          "colorbar": {
                            "outlinewidth": 0,
                            "ticks": ""
                          }
                        },
                        "type": "scatterternary"
                      }
                    ],
                    "surface": [
                      {
                        "colorbar": {
                          "outlinewidth": 0,
                          "ticks": ""
                        },
                        "colorscale": [
                          [
                            0,
                            "#0d0887"
                          ],
                          [
                            0.1111111111111111,
                            "#46039f"
                          ],
                          [
                            0.2222222222222222,
                            "#7201a8"
                          ],
                          [
                            0.3333333333333333,
                            "#9c179e"
                          ],
                          [
                            0.4444444444444444,
                            "#bd3786"
                          ],
                          [
                            0.5555555555555556,
                            "#d8576b"
                          ],
                          [
                            0.6666666666666666,
                            "#ed7953"
                          ],
                          [
                            0.7777777777777778,
                            "#fb9f3a"
                          ],
                          [
                            0.8888888888888888,
                            "#fdca26"
                          ],
                          [
                            1,
                            "#f0f921"
                          ]
                        ],
                        "type": "surface"
                      }
                    ],
                    "table": [
                      {
                        "cells": {
                          "fill": {
                            "color": "#EBF0F8"
                          },
                          "line": {
                            "color": "white"
                          }
                        },
                        "header": {
                          "fill": {
                            "color": "#C8D4E3"
                          },
                          "line": {
                            "color": "white"
                          }
                        },
                        "type": "table"
                      }
                    ]
                  },
                  "layout": {
                    "annotationdefaults": {
                      "arrowcolor": "#2a3f5f",
                      "arrowhead": 0,
                      "arrowwidth": 1
                    },
                    "autotypenumbers": "strict",
                    "coloraxis": {
                      "colorbar": {
                        "outlinewidth": 0,
                        "ticks": ""
                      }
                    },
                    "colorscale": {
                      "diverging": [
                        [
                          0,
                          "#8e0152"
                        ],
                        [
                          0.1,
                          "#c51b7d"
                        ],
                        [
                          0.2,
                          "#de77ae"
                        ],
                        [
                          0.3,
                          "#f1b6da"
                        ],
                        [
                          0.4,
                          "#fde0ef"
                        ],
                        [
                          0.5,
                          "#f7f7f7"
                        ],
                        [
                          0.6,
                          "#e6f5d0"
                        ],
                        [
                          0.7,
                          "#b8e186"
                        ],
                        [
                          0.8,
                          "#7fbc41"
                        ],
                        [
                          0.9,
                          "#4d9221"
                        ],
                        [
                          1,
                          "#276419"
                        ]
                      ],
                      "sequential": [
                        [
                          0,
                          "#0d0887"
                        ],
                        [
                          0.1111111111111111,
                          "#46039f"
                        ],
                        [
                          0.2222222222222222,
                          "#7201a8"
                        ],
                        [
                          0.3333333333333333,
                          "#9c179e"
                        ],
                        [
                          0.4444444444444444,
                          "#bd3786"
                        ],
                        [
                          0.5555555555555556,
                          "#d8576b"
                        ],
                        [
                          0.6666666666666666,
                          "#ed7953"
                        ],
                        [
                          0.7777777777777778,
                          "#fb9f3a"
                        ],
                        [
                          0.8888888888888888,
                          "#fdca26"
                        ],
                        [
                          1,
                          "#f0f921"
                        ]
                      ],
                      "sequentialminus": [
                        [
                          0,
                          "#0d0887"
                        ],
                        [
                          0.1111111111111111,
                          "#46039f"
                        ],
                        [
                          0.2222222222222222,
                          "#7201a8"
                        ],
                        [
                          0.3333333333333333,
                          "#9c179e"
                        ],
                        [
                          0.4444444444444444,
                          "#bd3786"
                        ],
                        [
                          0.5555555555555556,
                          "#d8576b"
                        ],
                        [
                          0.6666666666666666,
                          "#ed7953"
                        ],
                        [
                          0.7777777777777778,
                          "#fb9f3a"
                        ],
                        [
                          0.8888888888888888,
                          "#fdca26"
                        ],
                        [
                          1,
                          "#f0f921"
                        ]
                      ]
                    },
                    "colorway": [
                      "#636efa",
                      "#EF553B",
                      "#00cc96",
                      "#ab63fa",
                      "#FFA15A",
                      "#19d3f3",
                      "#FF6692",
                      "#B6E880",
                      "#FF97FF",
                      "#FECB52"
                    ],
                    "font": {
                      "color": "#2a3f5f"
                    },
                    "geo": {
                      "bgcolor": "white",
                      "lakecolor": "white",
                      "landcolor": "#E5ECF6",
                      "showlakes": true,
                      "showland": true,
                      "subunitcolor": "white"
                    },
                    "hoverlabel": {
                      "align": "left"
                    },
                    "hovermode": "closest",
                    "mapbox": {
                      "style": "light"
                    },
                    "paper_bgcolor": "white",
                    "plot_bgcolor": "#E5ECF6",
                    "polar": {
                      "angularaxis": {
                        "gridcolor": "white",
                        "linecolor": "white",
                        "ticks": ""
                      },
                      "bgcolor": "#E5ECF6",
                      "radialaxis": {
                        "gridcolor": "white",
                        "linecolor": "white",
                        "ticks": ""
                      }
                    },
                    "scene": {
                      "xaxis": {
                        "backgroundcolor": "#E5ECF6",
                        "gridcolor": "white",
                        "gridwidth": 2,
                        "linecolor": "white",
                        "showbackground": true,
                        "ticks": "",
                        "zerolinecolor": "white"
                      },
                      "yaxis": {
                        "backgroundcolor": "#E5ECF6",
                        "gridcolor": "white",
                        "gridwidth": 2,
                        "linecolor": "white",
                        "showbackground": true,
                        "ticks": "",
                        "zerolinecolor": "white"
                      },
                      "zaxis": {
                        "backgroundcolor": "#E5ECF6",
                        "gridcolor": "white",
                        "gridwidth": 2,
                        "linecolor": "white",
                        "showbackground": true,
                        "ticks": "",
                        "zerolinecolor": "white"
                      }
                    },
                    "shapedefaults": {
                      "line": {
                        "color": "#2a3f5f"
                      }
                    },
                    "ternary": {
                      "aaxis": {
                        "gridcolor": "white",
                        "linecolor": "white",
                        "ticks": ""
                      },
                      "baxis": {
                        "gridcolor": "white",
                        "linecolor": "white",
                        "ticks": ""
                      },
                      "bgcolor": "#E5ECF6",
                      "caxis": {
                        "gridcolor": "white",
                        "linecolor": "white",
                        "ticks": ""
                      }
                    },
                    "title": {
                      "x": 0.05
                    },
                    "xaxis": {
                      "automargin": true,
                      "gridcolor": "white",
                      "linecolor": "white",
                      "ticks": "",
                      "title": {
                        "standoff": 15
                      },
                      "zerolinecolor": "white",
                      "zerolinewidth": 2
                    },
                    "yaxis": {
                      "automargin": true,
                      "gridcolor": "white",
                      "linecolor": "white",
                      "ticks": "",
                      "title": {
                        "standoff": 15
                      },
                      "zerolinecolor": "white",
                      "zerolinewidth": 2
                    }
                  }
                },
                "title": {
                  "text": "Processor Distribution"
                },
                "xaxis": {
                  "anchor": "y",
                  "domain": [
                    0,
                    1
                  ],
                  "title": {
                    "text": "processor"
                  }
                },
                "yaxis": {
                  "anchor": "x",
                  "domain": [
                    0,
                    1
                  ],
                  "title": {
                    "text": "count"
                  }
                }
              }
            }
          },
          "metadata": {},
          "output_type": "display_data"
        }
      ],
      "source": [
        "#Processor\n",
        "plt = px.histogram(df, x='processor', title=\"Processor Distribution\", color_discrete_sequence=px.colors.qualitative.Pastel)\n",
        "plt.show()"
      ]
    },
    {
      "cell_type": "code",
      "execution_count": 14,
      "metadata": {
        "colab": {
          "base_uri": "https://localhost:8080/",
          "height": 542
        },
        "id": "E0x8T9CaQKFF",
        "outputId": "4f35a75d-a026-46a1-f2a2-ceac42f0bc68"
      },
      "outputs": [
        {
          "data": {
            "application/vnd.plotly.v1+json": {
              "config": {
                "plotlyServerURL": "https://plot.ly"
              },
              "data": [
                {
                  "alignmentgroup": "True",
                  "bingroup": "x",
                  "hovertemplate": "CPU=%{x}<br>count=%{y}<extra></extra>",
                  "legendgroup": "",
                  "marker": {
                    "color": "rgb(102, 197, 204)",
                    "pattern": {
                      "shape": ""
                    }
                  },
                  "name": "",
                  "offsetgroup": "",
                  "orientation": "v",
                  "showlegend": false,
                  "type": "histogram",
                  "x": [
                    "Hexa Core, 12 Threads",
                    "Hexa Core (2P + 4E), 8 Threads",
                    "Dual Core, 4 Threads",
                    "12 Cores (4P + 8E), 16 Threads",
                    "Octa Core (4P + 4E)",
                    "12 Cores (4P + 8E), 16 Threads",
                    "Hexa Core (2P + 4E), 8 Threads",
                    "Octa Core (4P + 4E), 12 Threads",
                    "12 Cores (4P + 8E), 16 Threads",
                    "12 Cores (4P + 8E), 16 Threads",
                    "10 Cores (2P + 8E), 12 Threads",
                    "Dual Core, 2 Threads",
                    "12 Cores (4P + 8E), 16 Threads",
                    "Octa Core",
                    "Quad Core, 8 Threads",
                    "Hexa Core, 12 Threads",
                    "Dual Core, 4 Threads",
                    "14 Cores (6P + 8E), 20 Threads",
                    "Octa Core (4P + 4E), 12 Threads",
                    "Quad Core, 8 Threads",
                    "Hexa Core, 12 Threads",
                    "Octa Core (4P + 4E)",
                    "Octa Core (4P + 4E), 12 Threads",
                    "Quad Core, 8 Threads",
                    "Octa Core, 16 Threads",
                    "Hexa Core, 12 Threads",
                    "Dual Core, 2 Threads",
                    "Octa Core, 8 Threads",
                    "12 Cores (4P + 8E), 16 Threads",
                    "10 Cores (2P + 8E), 12 Threads",
                    "Hexa Core, 12 Threads",
                    "24 Cores (8P + 16E), 32 Threads",
                    "Hexa Core, 12 Threads",
                    "Hexa Core, 12 Threads",
                    "10 Cores (6P + 4E), 16 Threads",
                    "12 Cores (4P + 8E), 16 Threads",
                    "Hexa Core, 12 Threads",
                    "Octa Core (4P + 4E), 12 Threads",
                    "Hexa Core (2P + 4E), 8 Threads",
                    "Octa Core (4P + 4E), 12 Threads",
                    "Dual Core, 4 Threads",
                    "12 Cores (4P + 8E), 16 Threads",
                    "10 Cores (2P + 8E), 12 Threads",
                    "Hexa Core (2P + 4E), 8 Threads",
                    "10 Cores (6P + 4E), 16 Threads",
                    "24 Cores (8P + 16E), 32 Threads",
                    "Quad Core, 8 Threads",
                    "Quad Core, 8 Threads",
                    "Octa Core (4P + 4E), 12 Threads",
                    "14 Cores (6P + 8E), 20 Threads",
                    "Dual Core, 2 Threads",
                    "Hexa Core, 12 Threads",
                    "Octa Core (4P + 4E), 12 Threads",
                    "Quad Core, 8 Threads",
                    "Octa Core (4P + 4E), 12 Threads",
                    "Quad Core, 8 Threads",
                    "Octa Core, 16 Threads",
                    "10 Cores (2P + 8E), 12 Threads",
                    "Octa Core, 16 Threads",
                    "14 Cores, 20 Threads",
                    "10 Cores (6P + 4E), 16 Threads",
                    "14 Cores (6P + 8E), 20 Threads",
                    "12 Cores (4P + 8E), 16 Threads",
                    "12 Cores (4P + 8E), 16 Threads",
                    "10 Cores (6P + 4E), 16 Threads",
                    "Quad Core, 8 Threads",
                    "Dual Core, 4 Threads",
                    "Octa Core (4P + 4E), 12 Threads",
                    "12 Cores (4P + 8E), 16 Threads",
                    "Octa Core (4P + 4E), 12 Threads",
                    "Octa Core, 16 Threads",
                    "Quad Core, 4 Threads",
                    "Hexa Core, 12 Threads",
                    "Quad Core, 8 Threads",
                    "Hexa Core, 12 Threads",
                    "Hexa Core, 12 Threads",
                    "Octa Core, 16 Threads",
                    "10 Cores (2P + 8E), 12 Threads",
                    "Hexa Core (2P + 4E), 8 Threads",
                    "12 Cores (4P + 8E), 16 Threads",
                    "Octa Core, 16 Threads",
                    "Hexa Core, 12 Threads",
                    "Quad Core, 8 Threads",
                    "Hexa Core, 12 Threads",
                    "10 Cores (2P + 8E), 12 Threads",
                    "Octa Core, 16 Threads",
                    "Hexa Core, 12 Threads",
                    "Octa Core (4P + 4E), 12 Threads",
                    "Quad Core, 8 Threads",
                    "Dual Core, 4 Threads",
                    "10 Cores (6P + 4E), 16 Threads",
                    "Hexa Core (2P + 4E), 8 Threads",
                    "Hexa Core, 12 Threads",
                    "Octa Core (4P + 4E), 12 Threads",
                    "Octa Core, 16 Threads",
                    "Octa Core (4P + 4E)",
                    "10 Cores (2P + 8E), 12 Threads",
                    "12 Cores (4P + 8E), 16 Threads",
                    "10 Cores (2P + 8E), 12 Threads",
                    "Quad Core, 8 Threads",
                    "Octa Core, 16 Threads",
                    "Dual Core, 2 Threads",
                    "Quad Core, 8 Threads",
                    "Hexa Core, 12 Threads",
                    "Quad Core, 8 Threads",
                    "Quad Core",
                    "10 Cores (2P + 8E), 12 Threads",
                    "Octa Core, 16 Threads",
                    "Hexa Core (2P + 4E), 8 Threads",
                    "10 Cores (2P + 8E), 12 Threads",
                    "Dual Core, 2 Threads",
                    "12 Cores (4P + 8E), 16 Threads",
                    "10 Cores (2P + 8E), 12 Threads",
                    "Octa Core, 16 Threads",
                    "14 Cores (6P + 8E), 20 Threads",
                    "10 Cores (2P + 8E), 12 Threads",
                    "Octa Core (4P + 4E), 12 Threads",
                    "Hexa Core, 12 Threads",
                    "Octa Core (4P + 4E), 12 Threads",
                    "Hexa Core, 12 Threads",
                    "Octa Core (4P + 4E), 12 Threads",
                    "Hexa Core (2P + 4E), 8 Threads",
                    "Hexa Core, 12 Threads",
                    "Quad Core, 8 Threads",
                    "Dual Core, 4 Threads",
                    "Octa Core, 16 Threads",
                    "12 Cores (4P + 8E), 16 Threads",
                    "Quad Core, 8 Threads",
                    "Dual Core, 4 Threads",
                    "10 Cores (2P + 8E), 12 Threads",
                    "Hexa Core (2P + 4E), 8 Threads",
                    "10 Cores (2P + 8E), 12 Threads",
                    "10 Cores (2P + 8E), 12 Threads",
                    "12 Cores (4P + 8E), 16 Threads",
                    "Hexa Core, 12 Threads",
                    "Hexa Core, 12 Threads",
                    "Dual Core, 2 Threads",
                    "Quad Core, 8 Threads",
                    "10 Cores (2P + 8E), 12 Threads",
                    "10 Cores (2P + 8E), 12 Threads",
                    "Dual Core, 4 Threads",
                    "14 Cores (6P + 8E), 20 Threads",
                    "Dual Core, 2 Threads",
                    "Quad Core, 8 Threads",
                    "Octa Core, 16 Threads",
                    "Octa Core, 16 Threads",
                    "Octa Core, 16 Threads",
                    "12 Cores (4P + 8E), 16 Threads",
                    "5 Cores (1P + 4E), 6 Threads",
                    "24 Cores (8P + 16E), 32 Threads",
                    "Hexa Core, 12 Threads",
                    "Quad Core, 8 Threads",
                    "10 Cores (2P + 8E), 12 Threads",
                    "Quad Core, 8 Threads",
                    "Hexa Core, 12 Threads",
                    "Octa Core (4P + 4E), 12 Threads",
                    "Dual Core, 4 Threads",
                    "12 Cores (4P + 8E), 16 Threads",
                    "Octa Core (4P + 4E)",
                    "12 Cores (4P + 8E), 16 Threads",
                    "Octa Core, 16 Threads",
                    "12 Cores (4P + 8E), 16 Threads",
                    "10 Cores (6P + 4E), 16 Threads",
                    "Octa Core, 16 Threads",
                    "24 Cores (8P + 16E), 32 Threads",
                    "Octa Core (4P + 4E), 12 Threads",
                    "Hexa Core (2P + 4E), 8 Threads",
                    "10 Cores (2P + 8E), 12 Threads",
                    "16 Cores (8P + 8E), 24 Threads",
                    "Hexa Core, 12 Threads",
                    "16 Cores (8P + 8E), 24 Threads",
                    "Quad Core, 8 Threads",
                    "16 Cores (8P + 8E), 24 Threads",
                    "Hexa Core (2P + 4E), 8 Threads",
                    "Hexa Core (2P + 4E), 8 Threads",
                    "Hexa Core, 12 Threads",
                    "Octa Core, 16 Threads",
                    "Octa Core, 16 Threads",
                    "Octa Core, 16 Threads",
                    "12 Cores (4P + 8E), 16 Threads",
                    "Quad Core, 8 Threads",
                    "16 Cores, 32 Threads",
                    "Hexa Core, 12 Threads",
                    "Hexa Core, 12 Threads",
                    "Quad Core, 8 Threads",
                    "10 Cores (6P + 4E), 16 Threads",
                    "Octa Core, 8 Threads",
                    "10 Cores (2P + 8E), 12 Threads",
                    "10 Cores (2P + 8E), 12 Threads",
                    "12 Cores (4P + 8E), 16 Threads",
                    "Hexa Core, 12 Threads",
                    "12 Cores (4P + 8E), 16 Threads",
                    "Hexa Core, 12 Threads",
                    "Hexa Core, 12 Threads",
                    "10 Cores (2P + 8E), 12 Threads",
                    "10 Cores (2P + 8E), 12 Threads",
                    "Quad Core, 8 Threads",
                    "Octa Core, 16 Threads",
                    "Dual Core, 4 Threads",
                    "Hexa Core (2P + 4E), 8 Threads",
                    "10 Cores (2P + 8E), 12 Threads",
                    "Hexa Core, 12 Threads",
                    "Dual Core, 4 Threads",
                    "Hexa Core, 12 Threads",
                    "Octa Core, 16 Threads",
                    "Dual Core, 4 Threads",
                    "Octa Core",
                    "12 Cores (4P + 8E), 16 Threads",
                    "12 Cores (4P + 8E), 16 Threads",
                    "Dual Core, 4 Threads",
                    "Quad Core, 8 Threads",
                    "Quad Core, 8 Threads",
                    "Quad Core, 8 Threads",
                    "Octa Core (4P + 4E)",
                    "Quad Core, 8 Threads",
                    "Octa Core",
                    "Octa Core (4P + 4E), 12 Threads",
                    "10 Cores (2P + 8E), 12 Threads",
                    "Hexa Core, 12 Threads",
                    "Hexa Core (2P + 4E), 8 Threads",
                    "Octa Core, 16 Threads",
                    "Dual Core, 2 Threads",
                    "Hexa Core (2P + 4E), 8 Threads",
                    "Quad Core, 8 Threads",
                    "Octa Core (4P + 4E), 12 Threads",
                    "Hexa Core, 12 Threads",
                    "14 Cores (6P + 8E), 20 Threads",
                    "Octa Core, 16 Threads",
                    "10 Cores (6P + 4E), 16 Threads",
                    "Octa Core, 16 Threads",
                    "Dual Core, 4 Threads",
                    "Octa Core, 16 Threads",
                    "Hexa Core (2P + 4E), 8 Threads",
                    "12 Cores (4P + 8E), 16 Threads",
                    "Hexa Core (2P + 4E), 8 Threads",
                    "10 Cores (2P + 8E), 12 Threads",
                    "12 Cores (4P + 8E), 16 Threads",
                    "10 Cores (2P + 8E), 12 Threads",
                    "Hexa Core, 12 Threads",
                    "Dual Core, 2 Threads",
                    "Hexa Core (2P + 4E), 8 Threads",
                    "Quad Core, 8 Threads",
                    "Octa Core (4P + 4E), 12 Threads",
                    "10 Cores (2P + 8E), 12 Threads",
                    "Quad Core, 8 Threads",
                    "Octa Core, 16 Threads",
                    "Octa Core (4P + 4E), 12 Threads",
                    "Hexa Core (2P + 4E), 8 Threads",
                    "Hexa Core, 12 Threads",
                    "Dual Core, 2 Threads",
                    "10 Cores (6P + 4E), 16 Threads",
                    "Octa Core, 16 Threads",
                    "Hexa Core (2P + 4E), 8 Threads",
                    "14 Cores (6P + 8E), 20 Threads",
                    "Quad Core, 8 Threads",
                    "Dual Core, 4 Threads",
                    "5 Cores (1P + 4E), 6 Threads",
                    "Dual Core, 4 Threads",
                    "10 Cores (2P + 8E), 12 Threads",
                    "10 Cores (2P + 8E), 12 Threads",
                    "Dual Core, 2 Threads",
                    "Quad Core, 8 Threads",
                    "Octa Core, 16 Threads",
                    "Dual Core, 4 Threads",
                    "Hexa Core, 12 Threads",
                    "Octa Core (4P + 4E), 12 Threads",
                    "Hexa Core, 12 Threads",
                    "Hexa Core, 12 Threads",
                    "Dual Core, 4 Threads",
                    "Hexa Core, 12 Threads",
                    "Quad Core, 8 Threads",
                    "Quad Core, 8 Threads",
                    "10 Cores (2P + 8E), 12 Threads",
                    "5 Cores (1P + 4E), 6 Threads",
                    "10 Cores (2P + 8E), 12 Threads",
                    "Octa Core, 16 Threads",
                    "10 Cores (2P + 8E), 12 Threads",
                    "Hexa Core, 12 Threads",
                    "12 Cores (4P + 8E), 16 Threads",
                    "Hexa Core (2P + 4E), 8 Threads",
                    "14 Cores (6P + 8E), 20 Threads",
                    "Dual Core, 4 Threads",
                    "Octa Core (4P + 4E), 12 Threads",
                    "Octa Core, 16 Threads",
                    "Octa Core (4P + 4E), 12 Threads",
                    "Hexa Core, 12 Threads",
                    "Hexa Core (2P + 4E), 8 Threads",
                    "Quad Core, 8 Threads",
                    "24 Cores (8P + 16E), 32 Threads",
                    "10 Cores (6P + 4E), 16 Threads",
                    "10 Cores (2P + 8E), 12 Threads",
                    "Dual Core, 2 Threads",
                    "12 Cores (4P + 8E), 16 Threads",
                    "10 Cores (2P + 8E), 12 Threads",
                    "Quad Core, 8 Threads",
                    "14 Cores (6P + 8E), 20 Threads",
                    "Hexa Core (2P + 4E), 8 Threads",
                    "12 Cores (4P + 8E), 16 Threads",
                    "Hexa Core, 12 Threads",
                    "Quad Core, 8 Threads",
                    "Hexa Core (2P + 4E), 8 Threads",
                    "Quad Core, 8 Threads",
                    "Quad Core, 8 Threads",
                    "10 Cores (2P + 8E), 12 Threads",
                    "Quad Core, 8 Threads",
                    "Quad Core, 8 Threads",
                    "Hexa Core, 12 Threads",
                    "10 Cores (2P + 8E), 12 Threads",
                    "Hexa Core, 12 Threads",
                    "Hexa Core (2P + 4E), 8 Threads",
                    "Octa Core, 16 Threads",
                    "Quad Core, 8 Threads",
                    "10 Cores (2P + 8E), 12 Threads",
                    "14 Cores (6P + 8E)",
                    "10 Cores (2P + 8E), 12 Threads",
                    "14 Cores (6P + 8E), 20 Threads",
                    "Dual Core, 4 Threads",
                    "Hexa Core, 12 Threads",
                    "Octa Core, 16 Threads",
                    "14 Cores (6P + 8E)",
                    "14 Cores (6P + 8E), 20 Threads",
                    "24 Cores (8P + 16E), 32 Threads",
                    "14 Cores (6P + 8E)",
                    "14 Cores (6P + 8E), 20 Threads",
                    "12 Cores (4P + 8E), 16 Threads",
                    "Hexa Core, 12 Threads",
                    "10 Cores (2P + 8E), 12 Threads",
                    "Dual Core, 4 Threads",
                    "Hexa Core (2P + 4E), 8 Threads",
                    "Quad Core, 8 Threads",
                    "12 Cores (4P + 8E), 16 Threads",
                    "Hexa Core, 12 Threads",
                    "14 Cores (6P + 8E), 20 Threads",
                    "10 Cores (2P + 8E), 12 Threads",
                    "16 Cores (8P + 8E), 24 Threads",
                    "14 Cores (6P + 8E), 20 Threads",
                    "Octa Core (4P + 4E), 12 Threads",
                    "Hexa Core, 12 Threads",
                    "Quad Core, 8 Threads",
                    "14 Cores (6P + 8E), 20 Threads",
                    "Dual Core, 4 Threads",
                    "10 Cores (2P + 8E), 12 Threads",
                    "12 Cores (4P + 8E), 16 Threads",
                    "14 Cores (6P + 8E), 20 Threads",
                    "Octa Core, 16 Threads",
                    "12 Cores (4P + 8E), 16 Threads",
                    "24 Cores (8P + 16E), 32 Threads",
                    "Dual Core, 2 Threads",
                    "Quad Core, 8 Threads",
                    "Hexa Core, 12 Threads",
                    "Hexa Core (2P + 4E), 8 Threads",
                    "Dual Core, 2 Threads",
                    "Quad Core, 8 Threads",
                    "Hexa Core, 12 Threads",
                    "Octa Core, 16 Threads",
                    "10 Cores (2P + 8E), 12 Threads",
                    "Hexa Core, 12 Threads",
                    "10 Cores (2P + 8E), 12 Threads",
                    "Octa Core, 16 Threads",
                    "Quad Core, 8 Threads",
                    "10 Cores (2P + 8E), 12 Threads",
                    "Dual Core, 4 Threads",
                    "10 Cores (2P + 8E), 12 Threads",
                    "12 Cores (4P + 8E), 16 Threads",
                    "12 Cores (4P + 8E), 16 Threads",
                    "10 Cores (2P + 8E), 12 Threads",
                    "12 Cores (4P + 8E), 16 Threads",
                    "10 Cores (2P + 8E), 12 Threads",
                    "12 Cores (4P + 8E), 16 Threads",
                    "12 Cores (4P + 8E), 16 Threads",
                    "12 Cores (4P + 8E), 16 Threads",
                    "14 Cores (6P + 8E), 20 Threads",
                    "Hexa Core, 12 Threads",
                    "Dual Core, 4 Threads",
                    "Dual Core, 4 Threads",
                    "12 Cores",
                    "12 Cores",
                    "12 Cores (4P + 8E), 16 Threads",
                    "Quad Core, 8 Threads",
                    "Octa Core, 16 Threads",
                    "Octa Core (4P + 4E), 12 Threads",
                    "Quad Core, 8 Threads",
                    "Hexa Core, 12 Threads",
                    "Quad Core, 8 Threads",
                    "Dual Core, 4 Threads",
                    "Quad Core, 8 Threads",
                    "12 Cores (4P + 8E), 16 Threads",
                    "Dual Core, 4 Threads",
                    "10 Cores (2P + 8E), 12 Threads",
                    "12 Cores (4P + 8E), 16 Threads",
                    "14 Cores (6P + 8E), 20 Threads",
                    "Hexa Core (2P + 4E), 8 Threads",
                    "Quad Core, 8 Threads",
                    "Quad Core, 8 Threads",
                    "Quad Core, 8 Threads",
                    "Octa Core, 16 Threads",
                    "Hexa Core, 12 Threads",
                    "Hexa Core, 12 Threads",
                    "Octa Core, 16 Threads",
                    "Quad Core, 8 Threads",
                    "Octa Core, 16 Threads",
                    "Octa Core, 16 Threads",
                    "Hexa Core, 12 Threads",
                    "Quad Core, 8 Threads",
                    "Quad Core, 8 Threads",
                    "Hexa Core, 12 Threads",
                    "Quad Core, 8 Threads",
                    "12 Cores (4P + 8E), 16 Threads",
                    "12 Cores (4P + 8E), 16 Threads",
                    "Hexa Core, 12 Threads",
                    "Dual Core, 4 Threads",
                    "12 Cores (4P + 8E), 16 Threads",
                    "10 Cores (2P + 8E), 12 Threads",
                    "10 Cores, 12 Threads",
                    "10 Cores (2P + 8E), 12 Threads",
                    "10 Cores (2P + 8E), 12 Threads",
                    "10 Cores (2P + 8E), 12 Threads",
                    "10 Cores (2P + 8E), 12 Threads",
                    "Hexa Core (2P + 4E), 8 Threads",
                    "12 Cores (4P + 8E), 16 Threads",
                    "14 Cores (6P + 8E), 20 Threads",
                    "Quad Core, 8 Threads",
                    "Hexa Core, 12 Threads",
                    "Octa Core, 16 Threads",
                    "Hexa Core, 12 Threads",
                    "Hexa Core, 12 Threads",
                    "10 Cores (2P + 8E), 12 Threads",
                    "10 Cores (2P + 8E), 12 Threads",
                    "14 Cores (6P + 8E), 20 Threads",
                    "14 Cores (6P + 8E), 20 Threads",
                    "14 Cores (6P + 8E), 20 Threads",
                    "Quad Core, 8 Threads",
                    "Hexa Core, 12 Threads",
                    "Octa Core, 12 Threads",
                    "Dual Core, 4 Threads",
                    "Dual Core, 4 Threads",
                    "Hexa Core, 12 Threads",
                    "10 Cores (2P + 8E), 12 Threads",
                    "Hexa Core, 12 Threads",
                    "Dual Core, 4 Threads",
                    "10 Cores (2P + 8E), 12 Threads",
                    "Octa Core, 16 Threads",
                    "Dual Core, 4 Threads",
                    "10 Cores (2P + 8E), 12 Threads",
                    "Dual Core, 4 Threads",
                    "Dual Core, 4 Threads",
                    "Hexa Core, 12 Threads",
                    "Hexa Core, 12 Threads",
                    "Dual Core, 2 Threads",
                    "Dual Core, 4 Threads",
                    "Octa Core, 16 Threads",
                    "12 Cores (4P + 8E), 16 Threads",
                    "10 Cores (2P + 8E), 12 Threads",
                    "Octa Core, 16 Threads",
                    "14 Cores (6P + 8E), 20 Threads",
                    "10 Cores (2P + 8E), 12 Threads",
                    "Hexa Core, 12 Threads",
                    "Quad Core, 8 Threads",
                    "10 Cores (2P + 8E), 12 Threads",
                    "10 Cores (2P + 8E), 12 Threads",
                    "10 Cores (2P + 8E), 12 Threads",
                    "Octa Core, 16 Threads",
                    "12 Cores (4P + 8E), 16 Threads",
                    "Hexa Core, 12 Threads",
                    "Dual Core, 4 Threads",
                    "Dual Core, 4 Threads",
                    "Quad Core, 8 Threads",
                    "Hexa Core, 12 Threads",
                    "10 Cores (8P + 2E)",
                    "10 Cores",
                    "Quad Core, 8 Threads",
                    "Dual Core, 4 Threads",
                    "Octa Core, 16 Threads",
                    "Quad Core, 8 Threads",
                    "Dual Core, 4 Threads",
                    "Hexa Core, 12 Threads",
                    "Hexa Core, 12 Threads",
                    "Quad Core, 8 Threads",
                    "Dual Core, 4 Threads",
                    "Quad Core, 8 Threads",
                    "Quad Core, 8 Threads",
                    "Quad Core, 8 Threads",
                    "Quad Core, 8 Threads",
                    "Quad Core",
                    "Quad Core, 8 Threads",
                    "10 Cores (2P + 8E), 12 Threads",
                    "Quad Core, 8 Threads",
                    "12 Cores (4P + 8E), 16 Threads",
                    "10 Cores (2P + 8E), 12 Threads",
                    "14 Cores (6P + 8E), 20 Threads",
                    "Quad Core, 8 Threads",
                    "12 Cores (4P + 8E), 16 Threads",
                    "Quad Core, 8 Threads",
                    "10 Cores (2P + 8E), 12 Threads",
                    "12 Cores (4P + 8E), 16 Threads",
                    "10 Cores, 12 Threads",
                    "Hexa Core, 12 Threads",
                    "Dual Core, 2 Threads",
                    "Quad Core, 8 Threads",
                    "Octa Core, 16 Threads",
                    "Octa Core, 16 Threads",
                    "12 Cores (4P + 8E), 16 Threads",
                    "Quad Core, 4 Threads",
                    "Quad Core, 8 Threads",
                    "10 Cores",
                    "10 Cores (8P + 2E)",
                    "Dual Core, 4 Threads",
                    "Quad Core, 8 Threads",
                    "Quad Core, 8 Threads",
                    "Quad Core, 8 Threads",
                    "Octa Core, 16 Threads",
                    "Quad Core, 8 Threads",
                    "Quad Core, 8 Threads",
                    "Quad Core, 8 Threads",
                    "Quad Core, 8 Threads",
                    "Quad Core, 8 Threads",
                    "Hexa Core, 12 Threads",
                    "Hexa Core, 12 Threads",
                    "12 Cores (4P + 8E), 16 Threads",
                    "Octa Core, 16 Threads",
                    "10 Cores (2P + 8E), 12 Threads",
                    "14 Cores (6P + 8E)",
                    "Hexa Core, 12 Threads",
                    "Quad Core, 8 Threads",
                    "Quad Core, 8 Threads",
                    "Hexa Core, 12 Threads",
                    "14 Cores (6P + 8E), 20 Threads",
                    "Quad Core, 8 Threads",
                    "Dual Core, 4 Threads",
                    "Quad Core, 8 Threads",
                    "Octa Core, 16 Threads",
                    "Hexa Core (2P + 4E), 8 Threads",
                    "Quad Core, 8 Threads",
                    "12 Cores (4P + 8E), 16 Threads",
                    "Octa Core (4P + 4E), 12 Threads",
                    "Quad Core, 8 Threads",
                    "Quad Core, 8 Threads",
                    "Dual Core, 2 Threads",
                    "Octa Core, 16 Threads",
                    "Dual Core, 2 Threads",
                    "Dual Core, 2 Threads",
                    "Dual Core, 4 Threads",
                    "Quad Core, 8 Threads",
                    "24 Cores (8P + 16E), 32 Threads",
                    "Octa Core (4P + 4E), 12 Threads",
                    "Octa Core (4P + 4E), 12 Threads",
                    "Dual Core, 2 Threads",
                    "16 Cores (8P + 8E), 24 Threads",
                    "16 Cores (8P + 8E), 24 Threads",
                    "24 Cores (8P + 16E), 32 Threads",
                    "Octa Core, 16 Threads",
                    "16 Cores (8P + 8E), 24 Threads",
                    "14 Cores (6P + 8E), 20 Threads",
                    "Quad Core, 8 Threads",
                    "Hexa Core, 12 Threads",
                    "12 Cores (4P + 8E), 16 Threads",
                    "10 Cores (2P + 8E), 12 Threads",
                    "Octa Core (4P + 4E), 12 Threads",
                    "24 Cores (8P + 16E), 32 Threads",
                    "10 Cores (6P + 4E), 16 Threads",
                    "Octa Core, 16 Threads",
                    "Octa Core, 16 Threads",
                    "24 Cores (8P + 16E)",
                    "10 Cores (2P + 8E), 12 Threads",
                    "10 Cores (2P + 8E), 12 Threads",
                    "Octa Core, 16 Threads",
                    "Hexa Core (2P + 4E), 8 Threads",
                    "Dual Core, 2 Threads",
                    "Dual Core, 2 Threads",
                    "Quad Core, 8 Threads",
                    "Hexa Core, 12 Threads",
                    "Octa Core, 16 Threads",
                    "14 Cores (6P + 8E), 20 Threads",
                    "Dual Core, 2 Threads",
                    "Quad Core, 8 Threads",
                    "Octa Core, 16 Threads",
                    "Hexa Core, 12 Threads",
                    "Octa Core, 16 Threads",
                    "Hexa Core (2P + 4E), 8 Threads",
                    "Quad Core, 8 Threads",
                    "Quad Core, 8 Threads",
                    "Quad Core, 8 Threads",
                    "10 Cores (2P + 8E), 12 Threads",
                    "10 Cores (2P + 8E), 12 Threads",
                    "Quad Core, 8 Threads",
                    "14 Cores (6P + 8E), 20 Threads",
                    "10 Cores (2P + 8E), 12 Threads",
                    "Hexa Core, 12 Threads",
                    "14 Cores (6P + 8E), 20 Threads",
                    "5 Cores (1P + 4E), 6 Threads",
                    "Hexa Core, 12 Threads",
                    "10 Cores (2P + 8E), 12 Threads",
                    "10 Cores (2P + 8E), 12 Threads",
                    "Quad Core, 8 Threads",
                    "Octa Core, 16 Threads",
                    "Octa Core, 16 Threads",
                    "Dual Core, 4 Threads",
                    "Hexa Core, 12 Threads",
                    "Octa Core, 16 Threads",
                    "Octa Core, 16 Threads",
                    "10 Cores (2P + 8E), 12 Threads",
                    "12 Cores (4P + 8E), 16 Threads",
                    "Quad Core, 8 Threads",
                    "Octa Core, 16 Threads",
                    "Octa Core, 16 Threads",
                    "Hexa Core, 12 Threads",
                    "Dual Core, 2 Threads",
                    "10 Cores (2P + 8E), 12 Threads",
                    "10 Cores (2P + 8E), 12 Threads",
                    "10 Cores (2P + 8E), 12 Threads",
                    "Quad Core, 8 Threads",
                    "Dual Core, 4 Threads",
                    "Octa Core, 16 Threads",
                    "Hexa Core, 12 Threads",
                    "Quad Core, 8 Threads",
                    "Dual Core, 4 Threads",
                    "12 Cores (4P + 8E), 16 Threads",
                    "10 Cores (2P + 8E), 12 Threads",
                    "10 Cores (2P + 8E), 12 Threads",
                    "Hexa Core, 12 Threads",
                    "Hexa Core, 12 Threads",
                    "Octa Core, 16 Threads",
                    "Dual Core, 4 Threads",
                    "10 Cores (2P + 8E), 12 Threads",
                    "10 Cores (6P + 4E), 16 Threads",
                    "Dual Core, 4 Threads",
                    "10 Cores (2P + 8E), 12 Threads",
                    "20 Threads",
                    "10 Cores (6P + 4E), 16 Threads",
                    "10 Cores (2P + 8E), 12 Threads",
                    "Dual Core, 2 Threads",
                    "Dual Core, 2 Threads",
                    "Dual Core, 2 Threads",
                    "Dual Core, 2 Threads",
                    "Hexa Core (2P + 4E), 8 Threads",
                    "10 Cores (6P + 4E), 16 Threads",
                    "12 Cores (4P + 8E), 16 Threads",
                    "Octa Core, 16 Threads",
                    "10 Cores (6P + 4E), 16 Threads",
                    "10 Cores (2P + 8E), 12 Threads",
                    "Octa Core, 16 Threads",
                    "Quad Core, 8 Threads",
                    "10 Cores (2P + 8E), 12 Threads",
                    "Hexa Core, 12 Threads",
                    "Octa Core (4P + 4E), 12 Threads",
                    "Octa Core (4P + 4E), 12 Threads",
                    "Hexa Core, 12 Threads",
                    "10 Cores (6P + 4E), 16 Threads",
                    "Hexa Core (2P + 4E), 8 Threads",
                    "Octa Core, 16 Threads",
                    "Hexa Core, 12 Threads",
                    "Hexa Core, 12 Threads",
                    "Hexa Core, 12 Threads",
                    "Quad Core, 8 Threads",
                    "Quad Core, 8 Threads",
                    "Octa Core, 16 Threads",
                    "14 Cores (6P + 8E), 20 Threads",
                    "10 Cores (2P + 8E), 12 Threads",
                    "12 Cores (4P + 8E), 16 Threads",
                    "Hexa Core, 12 Threads",
                    "Hexa Core, 12 Threads",
                    "14 Cores (6P + 8E), 20 Threads",
                    "Quad Core, 8 Threads",
                    "Quad Core, 8 Threads",
                    "Octa Core, 8 Threads",
                    "Dual Core, 4 Threads",
                    "10 Cores (6P + 4E), 16 Threads",
                    "5 Cores (1P + 4E), 6 Threads",
                    "12 Cores (4P + 8E), 16 Threads",
                    "Quad Core, 8 Threads",
                    "12 Cores (4P + 8E), 16 Threads",
                    "10 Cores (2P + 8E), 12 Threads",
                    "12 Cores (4P + 8E), 16 Threads",
                    "10 Cores (2P + 8E), 12 Threads",
                    "10 Cores (2P + 8E), 12 Threads",
                    "Hexa Core, 12 Threads",
                    "Hexa Core, 12 Threads",
                    "10 Cores (6P + 4E), 16 Threads",
                    "10 Cores (6P + 4E), 16 Threads",
                    "14 Cores (6P + 8E), 20 Threads",
                    "14 Cores (6P + 8E), 20 Threads",
                    "12 Cores (4P + 8E), 16 Threads",
                    "14 Cores (6P + 8E), 20 Threads",
                    "14 Cores (6P + 8E), 20 Threads",
                    "24 Cores (8P + 16E), 32 Threads",
                    "12 Cores (4P + 8E), 16 Threads",
                    "Hexa Core, 12 Threads",
                    "10 Cores (2P + 8E), 12 Threads",
                    "Quad Core, 8 Threads",
                    "Octa Core (4P + 4E), 12 Threads",
                    "10 Cores (2P + 8E), 12 Threads",
                    "10 Cores (6P + 4E), 16 Threads",
                    "Dual Core, 4 Threads",
                    "Octa Core (4P + 4E), 12 Threads",
                    "10 Cores (2P + 8E), 12 Threads",
                    "12 Cores (4P + 8E), 16 Threads",
                    "Octa Core, 16 Threads",
                    "24 Cores (8P + 16E), 32 Threads",
                    "24 Cores (8P + 16E), 32 Threads",
                    "16 Cores (8P + 8E), 24 Threads",
                    "Quad Core, 8 Threads",
                    "Hexa Core, 12 Threads",
                    "Octa Core, 16 Threads",
                    "Dual Core, 2 Threads",
                    "16 Cores (8P + 8E), 24 Threads",
                    "Quad Core, 8 Threads",
                    "Quad Core, 8 Threads",
                    "Dual Core, 2 Threads",
                    "Hexa Core, 12 Threads",
                    "14 Cores (6P + 8E), 20 Threads",
                    "12 Cores (4P + 8E), 16 Threads",
                    "Quad Core, 8 Threads",
                    "14 Cores (6P + 8E), 20 Threads",
                    "12 Cores (4P + 8E), 16 Threads",
                    "24 Cores (8P + 16E), 32 Threads",
                    "Octa Core, 16 Threads",
                    "12 Cores (4P + 8E), 16 Threads",
                    "Octa Core, 16 Threads",
                    "14 Cores (6P + 8E), 20 Threads",
                    "Hexa Core, 12 Threads",
                    "Hexa Core, 12 Threads",
                    "14 Cores (6P + 8E), 20 Threads",
                    "Octa Core, 16 Threads",
                    "10 Cores (6P + 4E), 16 Threads",
                    "Hexa Core, 12 Threads",
                    "Octa Core, 16 Threads",
                    "Octa Core, 16 Threads",
                    "10 Cores (2P + 8E), 12 Threads",
                    "10 Cores (2P + 8E), 12 Threads",
                    "12 Cores (4P + 8E), 16 Threads",
                    "Quad Core, 8 Threads",
                    "Octa Core, 16 Threads",
                    "10 Cores (2P + 8E), 12 Threads",
                    "12 Cores (4P + 8E), 16 Threads",
                    "Quad Core, 4 Threads",
                    "10 Cores (2P + 8E), 12 Threads",
                    "14 Cores (6P + 8E), 20 Threads",
                    "14 Cores (6P + 8E), 20 Threads",
                    "14 Cores (6P + 8E), 20 Threads",
                    "14 Cores (6P + 8E), 20 Threads",
                    "14 Cores (6P + 8E), 20 Threads",
                    "14 Cores (6P + 8E), 20 Threads",
                    "12 Cores (4P + 8E), 16 Threads",
                    "Dual Core, 2 Threads",
                    "Octa Core, 16 Threads",
                    "Hexa Core, 12 Threads",
                    "12 Cores (4P + 8E), 16 Threads",
                    "10 Cores (2P + 8E), 12 Threads",
                    "Dual Core, 4 Threads",
                    "Octa Core (4P + 4E), 12 Threads",
                    "14 Cores (6P + 8E), 20 Threads",
                    "10 Cores (2P + 8E), 12 Threads",
                    "Dual Core, 2 Threads",
                    "Quad Core, 8 Threads",
                    "Octa Core, 16 Threads",
                    "Quad Core, 8 Threads",
                    "Hexa Core, 12 Threads",
                    "Quad Core, 8 Threads",
                    "Octa Core (4P + 4E), 12 Threads",
                    "10 Cores (2P + 8E), 12 Threads",
                    "Octa Core (4P + 4E), 12 Threads",
                    "10 Cores (2P + 8E), 12 Threads",
                    "Hexa Core, 12 Threads",
                    "10 Cores (2P + 8E), 12 Threads",
                    "Octa Core, 16 Threads",
                    "Hexa Core, 12 Threads",
                    "Hexa Core, 12 Threads",
                    "5 Cores (1P + 4E), 6 Threads",
                    "Quad Core, 8 Threads",
                    "Dual Core, 4 Threads",
                    "Quad Core, 8 Threads",
                    "Hexa Core, 12 Threads",
                    "10 Cores (2P + 8E), 12 Threads",
                    "10 Cores (2P + 8E), 12 Threads",
                    "Hexa Core, 12 Threads",
                    "10 Cores (6P + 4E), 16 Threads",
                    "Hexa Core (2P + 4E), 8 Threads",
                    "10 Cores (2P + 8E), 12 Threads",
                    "Quad Core, 8 Threads",
                    "10 Cores (2P + 8E), 12 Threads",
                    "Quad Core, 8 Threads",
                    "Octa Core, 16 Threads",
                    "Hexa Core, 12 Threads",
                    "10 Cores (2P + 8E), 12 Threads",
                    "Hexa Core, 12 Threads",
                    "Octa Core, 16 Threads",
                    "Dual Core, 4 Threads",
                    "Octa Core, 16 Threads",
                    "10 Cores (2P + 8E), 12 Threads",
                    "Octa Core (4P + 4E), 12 Threads",
                    "Quad Core, 8 Threads",
                    "10 Cores (6P + 4E), 16 Threads",
                    "Hexa Core, 12 Threads",
                    "Octa Core (4P + 4E), 12 Threads",
                    "10 Cores (6P + 4E), 16 Threads",
                    "10 Cores (2P + 8E), 12 Threads",
                    "10 Cores (2P + 8E), 12 Threads",
                    "Hexa Core (2P + 4E), 8 Threads",
                    "Hexa Core (2P + 4E), 8 Threads",
                    "Hexa Core, 12 Threads",
                    "Hexa Core (2P + 4E), 8 Threads",
                    "Octa Core, 8 Threads",
                    "Hexa Core, 12 Threads",
                    "Quad Core, 8 Threads",
                    "Octa Core, 16 Threads",
                    "Octa Core, 16 Threads",
                    "Hexa Core, 12 Threads",
                    "10 Cores (2P + 8E), 12 Threads",
                    "Octa Core, 16 Threads",
                    "Octa Core, 16 Threads",
                    "Quad Core, 8 Threads",
                    "Octa Core, 16 Threads",
                    "Hexa Core, 12 Threads",
                    "10 Cores (2P + 8E), 12 Threads",
                    "Hexa Core, 12 Threads",
                    "Octa Core, 16 Threads",
                    "Octa Core, 16 Threads",
                    "Hexa Core (2P + 4E), 8 Threads",
                    "12 Cores (4P + 8E), 16 Threads",
                    "12 Cores (4P + 8E), 16 Threads",
                    "12 Cores (4P + 8E), 16 Threads",
                    "14 Cores (6P + 8E), 20 Threads",
                    "12 Cores (4P + 8E), 16 Threads",
                    "14 Cores (6P + 8E), 20 Threads",
                    "24 Cores (8P + 16E), 32 Threads",
                    "12 Cores (4P + 8E), 16 Threads",
                    "Octa Core, 16 Threads",
                    "10 Cores (2P + 8E), 12 Threads",
                    "10 Cores (2P + 8E), 12 Threads",
                    "12 Cores (4P + 8E), 16 Threads",
                    "12 Cores (4P + 8E), 16 Threads",
                    "12 Cores (4P + 8E), 16 Threads",
                    "12 Cores (4P + 8E), 16 Threads",
                    "Octa Core, 16 Threads",
                    "10 Cores (2P + 8E), 12 Threads",
                    "Hexa Core, 12 Threads",
                    "Dual Core, 2 Threads",
                    "Dual Core, 2 Threads",
                    "Hexa Core (2P + 4E), 8 Threads",
                    "Octa Core (4P + 4E), 12 Threads",
                    "10 Cores (2P + 8E), 12 Threads",
                    "Hexa Core, 12 Threads",
                    "Hexa Core, 12 Threads",
                    "Octa Core, 16 Threads",
                    "Hexa Core, 12 Threads",
                    "Octa Core (4P + 4E), 12 Threads",
                    "10 Cores (6P + 4E), 16 Threads",
                    "12 Cores (4P + 8E), 16 Threads",
                    "Quad Core, 8 Threads",
                    "10 Cores (2P + 8E), 12 Threads",
                    "Quad Core, 8 Threads",
                    "Dual Core, 4 Threads",
                    "Quad Core, 8 Threads",
                    "Hexa Core, 12 Threads",
                    "14 Cores (6P + 8E)",
                    "14 Cores (6P + 8E)",
                    "10 Cores (2P + 8E), 12 Threads",
                    "16 Cores (8P + 8E), 24 Threads",
                    "Quad Core, 4 Threads",
                    "Dual Core, 4 Threads",
                    "5 Cores (1P + 4E), 6 Threads",
                    "Hexa Core (2P + 4E), 8 Threads",
                    "Quad Core, 8 Threads",
                    "10 Cores (2P + 8E), 12 Threads",
                    "10 Cores (2P + 8E), 12 Threads",
                    "Octa Core, 16 Threads",
                    "Dual Core, 2 Threads",
                    "Octa Core, 16 Threads",
                    "10 Cores (2P + 8E), 12 Threads",
                    "10 Cores (2P + 8E), 12 Threads",
                    "14 Cores (6P + 8E), 20 Threads",
                    "10 Cores (2P + 8E), 12 Threads",
                    "Hexa Core, 12 Threads",
                    "Hexa Core, 12 Threads",
                    "Hexa Core (2P + 4E), 8 Threads",
                    "Octa Core (4P + 4E), 12 Threads",
                    "Dual Core, 2 Threads",
                    "10 Cores (6P + 4E), 16 Threads",
                    "Octa Core (4P + 4E), 12 Threads",
                    "Quad Core, 8 Threads",
                    "Hexa Core, 12 Threads",
                    "Octa Core, 16 Threads",
                    "14 Cores (6P + 8E)",
                    "14 Cores (6P + 8E)",
                    "24 Cores (8P + 16E), 32 Threads",
                    "14 Cores (6P + 8E)",
                    "Hexa Core (2P + 4E), 8 Threads",
                    "10 Cores (2P + 8E), 12 Threads",
                    "Hexa Core (2P + 4E), 8 Threads",
                    "Octa Core, 16 Threads",
                    "Octa Core, 16 Threads",
                    "14 Cores (6P + 8E), 20 Threads",
                    "Octa Core, 16 Threads"
                  ],
                  "xaxis": "x",
                  "yaxis": "y"
                }
              ],
              "layout": {
                "barmode": "relative",
                "legend": {
                  "tracegroupgap": 0
                },
                "template": {
                  "data": {
                    "bar": [
                      {
                        "error_x": {
                          "color": "#2a3f5f"
                        },
                        "error_y": {
                          "color": "#2a3f5f"
                        },
                        "marker": {
                          "line": {
                            "color": "#E5ECF6",
                            "width": 0.5
                          },
                          "pattern": {
                            "fillmode": "overlay",
                            "size": 10,
                            "solidity": 0.2
                          }
                        },
                        "type": "bar"
                      }
                    ],
                    "barpolar": [
                      {
                        "marker": {
                          "line": {
                            "color": "#E5ECF6",
                            "width": 0.5
                          },
                          "pattern": {
                            "fillmode": "overlay",
                            "size": 10,
                            "solidity": 0.2
                          }
                        },
                        "type": "barpolar"
                      }
                    ],
                    "carpet": [
                      {
                        "aaxis": {
                          "endlinecolor": "#2a3f5f",
                          "gridcolor": "white",
                          "linecolor": "white",
                          "minorgridcolor": "white",
                          "startlinecolor": "#2a3f5f"
                        },
                        "baxis": {
                          "endlinecolor": "#2a3f5f",
                          "gridcolor": "white",
                          "linecolor": "white",
                          "minorgridcolor": "white",
                          "startlinecolor": "#2a3f5f"
                        },
                        "type": "carpet"
                      }
                    ],
                    "choropleth": [
                      {
                        "colorbar": {
                          "outlinewidth": 0,
                          "ticks": ""
                        },
                        "type": "choropleth"
                      }
                    ],
                    "contour": [
                      {
                        "colorbar": {
                          "outlinewidth": 0,
                          "ticks": ""
                        },
                        "colorscale": [
                          [
                            0,
                            "#0d0887"
                          ],
                          [
                            0.1111111111111111,
                            "#46039f"
                          ],
                          [
                            0.2222222222222222,
                            "#7201a8"
                          ],
                          [
                            0.3333333333333333,
                            "#9c179e"
                          ],
                          [
                            0.4444444444444444,
                            "#bd3786"
                          ],
                          [
                            0.5555555555555556,
                            "#d8576b"
                          ],
                          [
                            0.6666666666666666,
                            "#ed7953"
                          ],
                          [
                            0.7777777777777778,
                            "#fb9f3a"
                          ],
                          [
                            0.8888888888888888,
                            "#fdca26"
                          ],
                          [
                            1,
                            "#f0f921"
                          ]
                        ],
                        "type": "contour"
                      }
                    ],
                    "contourcarpet": [
                      {
                        "colorbar": {
                          "outlinewidth": 0,
                          "ticks": ""
                        },
                        "type": "contourcarpet"
                      }
                    ],
                    "heatmap": [
                      {
                        "colorbar": {
                          "outlinewidth": 0,
                          "ticks": ""
                        },
                        "colorscale": [
                          [
                            0,
                            "#0d0887"
                          ],
                          [
                            0.1111111111111111,
                            "#46039f"
                          ],
                          [
                            0.2222222222222222,
                            "#7201a8"
                          ],
                          [
                            0.3333333333333333,
                            "#9c179e"
                          ],
                          [
                            0.4444444444444444,
                            "#bd3786"
                          ],
                          [
                            0.5555555555555556,
                            "#d8576b"
                          ],
                          [
                            0.6666666666666666,
                            "#ed7953"
                          ],
                          [
                            0.7777777777777778,
                            "#fb9f3a"
                          ],
                          [
                            0.8888888888888888,
                            "#fdca26"
                          ],
                          [
                            1,
                            "#f0f921"
                          ]
                        ],
                        "type": "heatmap"
                      }
                    ],
                    "heatmapgl": [
                      {
                        "colorbar": {
                          "outlinewidth": 0,
                          "ticks": ""
                        },
                        "colorscale": [
                          [
                            0,
                            "#0d0887"
                          ],
                          [
                            0.1111111111111111,
                            "#46039f"
                          ],
                          [
                            0.2222222222222222,
                            "#7201a8"
                          ],
                          [
                            0.3333333333333333,
                            "#9c179e"
                          ],
                          [
                            0.4444444444444444,
                            "#bd3786"
                          ],
                          [
                            0.5555555555555556,
                            "#d8576b"
                          ],
                          [
                            0.6666666666666666,
                            "#ed7953"
                          ],
                          [
                            0.7777777777777778,
                            "#fb9f3a"
                          ],
                          [
                            0.8888888888888888,
                            "#fdca26"
                          ],
                          [
                            1,
                            "#f0f921"
                          ]
                        ],
                        "type": "heatmapgl"
                      }
                    ],
                    "histogram": [
                      {
                        "marker": {
                          "pattern": {
                            "fillmode": "overlay",
                            "size": 10,
                            "solidity": 0.2
                          }
                        },
                        "type": "histogram"
                      }
                    ],
                    "histogram2d": [
                      {
                        "colorbar": {
                          "outlinewidth": 0,
                          "ticks": ""
                        },
                        "colorscale": [
                          [
                            0,
                            "#0d0887"
                          ],
                          [
                            0.1111111111111111,
                            "#46039f"
                          ],
                          [
                            0.2222222222222222,
                            "#7201a8"
                          ],
                          [
                            0.3333333333333333,
                            "#9c179e"
                          ],
                          [
                            0.4444444444444444,
                            "#bd3786"
                          ],
                          [
                            0.5555555555555556,
                            "#d8576b"
                          ],
                          [
                            0.6666666666666666,
                            "#ed7953"
                          ],
                          [
                            0.7777777777777778,
                            "#fb9f3a"
                          ],
                          [
                            0.8888888888888888,
                            "#fdca26"
                          ],
                          [
                            1,
                            "#f0f921"
                          ]
                        ],
                        "type": "histogram2d"
                      }
                    ],
                    "histogram2dcontour": [
                      {
                        "colorbar": {
                          "outlinewidth": 0,
                          "ticks": ""
                        },
                        "colorscale": [
                          [
                            0,
                            "#0d0887"
                          ],
                          [
                            0.1111111111111111,
                            "#46039f"
                          ],
                          [
                            0.2222222222222222,
                            "#7201a8"
                          ],
                          [
                            0.3333333333333333,
                            "#9c179e"
                          ],
                          [
                            0.4444444444444444,
                            "#bd3786"
                          ],
                          [
                            0.5555555555555556,
                            "#d8576b"
                          ],
                          [
                            0.6666666666666666,
                            "#ed7953"
                          ],
                          [
                            0.7777777777777778,
                            "#fb9f3a"
                          ],
                          [
                            0.8888888888888888,
                            "#fdca26"
                          ],
                          [
                            1,
                            "#f0f921"
                          ]
                        ],
                        "type": "histogram2dcontour"
                      }
                    ],
                    "mesh3d": [
                      {
                        "colorbar": {
                          "outlinewidth": 0,
                          "ticks": ""
                        },
                        "type": "mesh3d"
                      }
                    ],
                    "parcoords": [
                      {
                        "line": {
                          "colorbar": {
                            "outlinewidth": 0,
                            "ticks": ""
                          }
                        },
                        "type": "parcoords"
                      }
                    ],
                    "pie": [
                      {
                        "automargin": true,
                        "type": "pie"
                      }
                    ],
                    "scatter": [
                      {
                        "fillpattern": {
                          "fillmode": "overlay",
                          "size": 10,
                          "solidity": 0.2
                        },
                        "type": "scatter"
                      }
                    ],
                    "scatter3d": [
                      {
                        "line": {
                          "colorbar": {
                            "outlinewidth": 0,
                            "ticks": ""
                          }
                        },
                        "marker": {
                          "colorbar": {
                            "outlinewidth": 0,
                            "ticks": ""
                          }
                        },
                        "type": "scatter3d"
                      }
                    ],
                    "scattercarpet": [
                      {
                        "marker": {
                          "colorbar": {
                            "outlinewidth": 0,
                            "ticks": ""
                          }
                        },
                        "type": "scattercarpet"
                      }
                    ],
                    "scattergeo": [
                      {
                        "marker": {
                          "colorbar": {
                            "outlinewidth": 0,
                            "ticks": ""
                          }
                        },
                        "type": "scattergeo"
                      }
                    ],
                    "scattergl": [
                      {
                        "marker": {
                          "colorbar": {
                            "outlinewidth": 0,
                            "ticks": ""
                          }
                        },
                        "type": "scattergl"
                      }
                    ],
                    "scattermapbox": [
                      {
                        "marker": {
                          "colorbar": {
                            "outlinewidth": 0,
                            "ticks": ""
                          }
                        },
                        "type": "scattermapbox"
                      }
                    ],
                    "scatterpolar": [
                      {
                        "marker": {
                          "colorbar": {
                            "outlinewidth": 0,
                            "ticks": ""
                          }
                        },
                        "type": "scatterpolar"
                      }
                    ],
                    "scatterpolargl": [
                      {
                        "marker": {
                          "colorbar": {
                            "outlinewidth": 0,
                            "ticks": ""
                          }
                        },
                        "type": "scatterpolargl"
                      }
                    ],
                    "scatterternary": [
                      {
                        "marker": {
                          "colorbar": {
                            "outlinewidth": 0,
                            "ticks": ""
                          }
                        },
                        "type": "scatterternary"
                      }
                    ],
                    "surface": [
                      {
                        "colorbar": {
                          "outlinewidth": 0,
                          "ticks": ""
                        },
                        "colorscale": [
                          [
                            0,
                            "#0d0887"
                          ],
                          [
                            0.1111111111111111,
                            "#46039f"
                          ],
                          [
                            0.2222222222222222,
                            "#7201a8"
                          ],
                          [
                            0.3333333333333333,
                            "#9c179e"
                          ],
                          [
                            0.4444444444444444,
                            "#bd3786"
                          ],
                          [
                            0.5555555555555556,
                            "#d8576b"
                          ],
                          [
                            0.6666666666666666,
                            "#ed7953"
                          ],
                          [
                            0.7777777777777778,
                            "#fb9f3a"
                          ],
                          [
                            0.8888888888888888,
                            "#fdca26"
                          ],
                          [
                            1,
                            "#f0f921"
                          ]
                        ],
                        "type": "surface"
                      }
                    ],
                    "table": [
                      {
                        "cells": {
                          "fill": {
                            "color": "#EBF0F8"
                          },
                          "line": {
                            "color": "white"
                          }
                        },
                        "header": {
                          "fill": {
                            "color": "#C8D4E3"
                          },
                          "line": {
                            "color": "white"
                          }
                        },
                        "type": "table"
                      }
                    ]
                  },
                  "layout": {
                    "annotationdefaults": {
                      "arrowcolor": "#2a3f5f",
                      "arrowhead": 0,
                      "arrowwidth": 1
                    },
                    "autotypenumbers": "strict",
                    "coloraxis": {
                      "colorbar": {
                        "outlinewidth": 0,
                        "ticks": ""
                      }
                    },
                    "colorscale": {
                      "diverging": [
                        [
                          0,
                          "#8e0152"
                        ],
                        [
                          0.1,
                          "#c51b7d"
                        ],
                        [
                          0.2,
                          "#de77ae"
                        ],
                        [
                          0.3,
                          "#f1b6da"
                        ],
                        [
                          0.4,
                          "#fde0ef"
                        ],
                        [
                          0.5,
                          "#f7f7f7"
                        ],
                        [
                          0.6,
                          "#e6f5d0"
                        ],
                        [
                          0.7,
                          "#b8e186"
                        ],
                        [
                          0.8,
                          "#7fbc41"
                        ],
                        [
                          0.9,
                          "#4d9221"
                        ],
                        [
                          1,
                          "#276419"
                        ]
                      ],
                      "sequential": [
                        [
                          0,
                          "#0d0887"
                        ],
                        [
                          0.1111111111111111,
                          "#46039f"
                        ],
                        [
                          0.2222222222222222,
                          "#7201a8"
                        ],
                        [
                          0.3333333333333333,
                          "#9c179e"
                        ],
                        [
                          0.4444444444444444,
                          "#bd3786"
                        ],
                        [
                          0.5555555555555556,
                          "#d8576b"
                        ],
                        [
                          0.6666666666666666,
                          "#ed7953"
                        ],
                        [
                          0.7777777777777778,
                          "#fb9f3a"
                        ],
                        [
                          0.8888888888888888,
                          "#fdca26"
                        ],
                        [
                          1,
                          "#f0f921"
                        ]
                      ],
                      "sequentialminus": [
                        [
                          0,
                          "#0d0887"
                        ],
                        [
                          0.1111111111111111,
                          "#46039f"
                        ],
                        [
                          0.2222222222222222,
                          "#7201a8"
                        ],
                        [
                          0.3333333333333333,
                          "#9c179e"
                        ],
                        [
                          0.4444444444444444,
                          "#bd3786"
                        ],
                        [
                          0.5555555555555556,
                          "#d8576b"
                        ],
                        [
                          0.6666666666666666,
                          "#ed7953"
                        ],
                        [
                          0.7777777777777778,
                          "#fb9f3a"
                        ],
                        [
                          0.8888888888888888,
                          "#fdca26"
                        ],
                        [
                          1,
                          "#f0f921"
                        ]
                      ]
                    },
                    "colorway": [
                      "#636efa",
                      "#EF553B",
                      "#00cc96",
                      "#ab63fa",
                      "#FFA15A",
                      "#19d3f3",
                      "#FF6692",
                      "#B6E880",
                      "#FF97FF",
                      "#FECB52"
                    ],
                    "font": {
                      "color": "#2a3f5f"
                    },
                    "geo": {
                      "bgcolor": "white",
                      "lakecolor": "white",
                      "landcolor": "#E5ECF6",
                      "showlakes": true,
                      "showland": true,
                      "subunitcolor": "white"
                    },
                    "hoverlabel": {
                      "align": "left"
                    },
                    "hovermode": "closest",
                    "mapbox": {
                      "style": "light"
                    },
                    "paper_bgcolor": "white",
                    "plot_bgcolor": "#E5ECF6",
                    "polar": {
                      "angularaxis": {
                        "gridcolor": "white",
                        "linecolor": "white",
                        "ticks": ""
                      },
                      "bgcolor": "#E5ECF6",
                      "radialaxis": {
                        "gridcolor": "white",
                        "linecolor": "white",
                        "ticks": ""
                      }
                    },
                    "scene": {
                      "xaxis": {
                        "backgroundcolor": "#E5ECF6",
                        "gridcolor": "white",
                        "gridwidth": 2,
                        "linecolor": "white",
                        "showbackground": true,
                        "ticks": "",
                        "zerolinecolor": "white"
                      },
                      "yaxis": {
                        "backgroundcolor": "#E5ECF6",
                        "gridcolor": "white",
                        "gridwidth": 2,
                        "linecolor": "white",
                        "showbackground": true,
                        "ticks": "",
                        "zerolinecolor": "white"
                      },
                      "zaxis": {
                        "backgroundcolor": "#E5ECF6",
                        "gridcolor": "white",
                        "gridwidth": 2,
                        "linecolor": "white",
                        "showbackground": true,
                        "ticks": "",
                        "zerolinecolor": "white"
                      }
                    },
                    "shapedefaults": {
                      "line": {
                        "color": "#2a3f5f"
                      }
                    },
                    "ternary": {
                      "aaxis": {
                        "gridcolor": "white",
                        "linecolor": "white",
                        "ticks": ""
                      },
                      "baxis": {
                        "gridcolor": "white",
                        "linecolor": "white",
                        "ticks": ""
                      },
                      "bgcolor": "#E5ECF6",
                      "caxis": {
                        "gridcolor": "white",
                        "linecolor": "white",
                        "ticks": ""
                      }
                    },
                    "title": {
                      "x": 0.05
                    },
                    "xaxis": {
                      "automargin": true,
                      "gridcolor": "white",
                      "linecolor": "white",
                      "ticks": "",
                      "title": {
                        "standoff": 15
                      },
                      "zerolinecolor": "white",
                      "zerolinewidth": 2
                    },
                    "yaxis": {
                      "automargin": true,
                      "gridcolor": "white",
                      "linecolor": "white",
                      "ticks": "",
                      "title": {
                        "standoff": 15
                      },
                      "zerolinecolor": "white",
                      "zerolinewidth": 2
                    }
                  }
                },
                "title": {
                  "text": "CPU Distribution"
                },
                "xaxis": {
                  "anchor": "y",
                  "domain": [
                    0,
                    1
                  ],
                  "title": {
                    "text": "CPU"
                  }
                },
                "yaxis": {
                  "anchor": "x",
                  "domain": [
                    0,
                    1
                  ],
                  "title": {
                    "text": "count"
                  }
                }
              }
            }
          },
          "metadata": {},
          "output_type": "display_data"
        }
      ],
      "source": [
        "# CPU Distribution\n",
        "plt = px.histogram(df, x='CPU', title=\"CPU Distribution\", color_discrete_sequence=px.colors.qualitative.Pastel)\n",
        "plt.show()"
      ]
    },
    {
      "cell_type": "code",
      "execution_count": 15,
      "metadata": {
        "colab": {
          "base_uri": "https://localhost:8080/",
          "height": 542
        },
        "id": "DXhY67aZQQwZ",
        "outputId": "57c6f9ab-947a-40a9-dd68-a9e678d01c1d"
      },
      "outputs": [
        {
          "data": {
            "application/vnd.plotly.v1+json": {
              "config": {
                "plotlyServerURL": "https://plot.ly"
              },
              "data": [
                {
                  "alignmentgroup": "True",
                  "bingroup": "x",
                  "hovertemplate": "Ram=8GB<br>Ram_type=%{x}<br>count=%{y}<extra></extra>",
                  "legendgroup": "8GB",
                  "marker": {
                    "color": "rgb(102, 197, 204)",
                    "pattern": {
                      "shape": ""
                    }
                  },
                  "name": "8GB",
                  "offsetgroup": "8GB",
                  "orientation": "v",
                  "showlegend": true,
                  "type": "histogram",
                  "x": [
                    "DDR4",
                    "DDR4",
                    "DDR4",
                    "DDR4",
                    "DDR4",
                    "DDR4",
                    "DDR4",
                    "LPDDR5",
                    "DDR4",
                    "DDR4",
                    "DDR4",
                    "DDR4",
                    "DDR4",
                    "LPDDR5",
                    "DDR4",
                    "LPDDR4X",
                    "DDR4",
                    "DDR4",
                    "DDR4",
                    "DDR4",
                    "DDR4",
                    "DDR4",
                    "DDR4",
                    "DDR4",
                    "DDR4",
                    "LPDDR4X",
                    "DDR4",
                    "DDR4",
                    "DDR5",
                    "DDR4",
                    "DDR5",
                    "DDR4",
                    "DDR4",
                    "DDR4",
                    "LPDDR4",
                    "DDR4",
                    "DDR4",
                    "DDR4",
                    "DDR4",
                    "DDR4",
                    "DDR4",
                    "DDR4",
                    "DDR4",
                    "DDR4",
                    "DDR4",
                    "DDR4",
                    "DDR4",
                    "DDR5",
                    "DDR4",
                    "LPDDR4X",
                    "LPDDR5",
                    "DDR4",
                    "DDR4",
                    "LPDDR5",
                    "LPDDR4X",
                    "LPDDR5",
                    "DDR4",
                    "DDR4",
                    "DDR4",
                    "DDR4",
                    "DDR4",
                    "DDR5",
                    "DDR4",
                    "DDR4",
                    "LPDDR4X",
                    "DDR4",
                    "DDR4",
                    "DDR4",
                    "DDR4",
                    "LPDDR5",
                    "LPDDR4x",
                    "DDR4",
                    "LPDDR5",
                    "DDR4",
                    "DDR4",
                    "DDR4",
                    "DDR4",
                    "DDR4",
                    "DDR4",
                    "DDR4",
                    "DDR4",
                    "DDR4",
                    "Unified",
                    "DDR4",
                    "DDR4",
                    "DDR4",
                    "DDR4",
                    "DDR4",
                    "DDR4",
                    "DDR4",
                    "DDR5",
                    "DDR4",
                    "LPDDR5",
                    "DDR4",
                    "LPDDR4X",
                    "DDR4",
                    "DDR5",
                    "DDR4",
                    "DDR4",
                    "LPDDR5",
                    "DDR4",
                    "DDR4",
                    "DDR4",
                    "DDR4",
                    "DDR4",
                    "DDR4",
                    "DDR4",
                    "LPDDR5",
                    "DDR4",
                    "DDR4",
                    "DDR5",
                    "DDR4",
                    "DDR4",
                    "DDR4",
                    "DDR4",
                    "DDR4",
                    "DDR4",
                    "DDR4",
                    "LPDDR4",
                    "DDR4",
                    "DDR4",
                    "DDR4",
                    "DDR4",
                    "DDR4",
                    "DDR4",
                    "DDR4",
                    "LPDDR5",
                    "LPDDR5",
                    "DDR4",
                    "LPDDR5",
                    "LPDDR4",
                    "LPDDR5",
                    "DDR5",
                    "LPDDR5",
                    "DDR4",
                    "DDR4",
                    "DDR4",
                    "LPDDR5",
                    "DDR4",
                    "DDR4",
                    "DDR4",
                    "DDR4",
                    "DDR4",
                    "DDR4",
                    "DDR4",
                    "DDR4",
                    "LPDDR5",
                    "DDR4",
                    "DDR4",
                    "LPDDR5",
                    "DDR4",
                    "DDR4",
                    "LPDDR5",
                    "DDR5",
                    "DDR4",
                    "LPDDR5",
                    "LPDDR4X",
                    "DDR4",
                    "DDR4",
                    "DDR4",
                    "DDR4",
                    "DDR4",
                    "DDR4",
                    "DDR4",
                    "LPDDR5",
                    "DDR4",
                    "DDR4",
                    "LPDDR5",
                    "DDR5",
                    "LPDDR5",
                    "DDR4",
                    "LPDDR5",
                    "LPDDR5",
                    "DDR4",
                    "DDR4",
                    "DDR4",
                    "DDR4",
                    "DDR4",
                    "DDR4",
                    "DDR4",
                    "DDR4",
                    "DDR4",
                    "DDR4",
                    "DDR4",
                    "DDR4",
                    "DDR4",
                    "DDR4",
                    "DDR4",
                    "DDR4",
                    "DDR4",
                    "DDR4",
                    "DDR4",
                    "DDR4",
                    "DDR4",
                    "DDR4",
                    "DDR4",
                    "DDR4",
                    "DDR4",
                    "DDR4",
                    "DDR4",
                    "DDR4",
                    "DDR4",
                    "DDR4",
                    "DDR4",
                    "DDR4",
                    "DDR4",
                    "DDR4",
                    "DDR4",
                    "DDR4",
                    "DDR4",
                    "LPDDR4x",
                    "DDR4",
                    "DDR4",
                    "DDR4",
                    "DDR4",
                    "DDR4",
                    "DDR3",
                    "DDR3",
                    "DDR4",
                    "DDR4",
                    "LPDDR4X",
                    "DDR4",
                    "LPDDR4x",
                    "LPDDR4",
                    "DDR4",
                    "DDR4",
                    "DDR4",
                    "DDR4",
                    "LPDDR4X",
                    "LPDDR4X",
                    "DDR4",
                    "DDR4",
                    "LPDDR5",
                    "LPDDR5",
                    "DDR4",
                    "DDR5",
                    "DDR4",
                    "LPDDR5",
                    "DDR4",
                    "DDR4",
                    "LPDDR4X",
                    "DDR4",
                    "DDR4",
                    "DDR4",
                    "DDR4",
                    "DDR4",
                    "LPDDR5",
                    "DDR4",
                    "DDR4",
                    "DDR4",
                    "DDR5",
                    "LPDDR4X",
                    "DDR4",
                    "LPDDR5",
                    "DDR4",
                    "DDR4",
                    "DDR4",
                    "LPDDR5",
                    "DDR4",
                    "DDR4",
                    "LPDDR5",
                    "DDR4",
                    "DDR4",
                    "DDR4",
                    "LPDDR5",
                    "DDR4",
                    "LPDDR4",
                    "DDR5",
                    "DDR4",
                    "DDR4",
                    "DDR4",
                    "DDR4",
                    "DDR4",
                    "DDR4",
                    "DDR4",
                    "DDR4",
                    "DDR5",
                    "LPDDR5",
                    "DDR4",
                    "DDR5",
                    "DDR4",
                    "DDR4",
                    "LPDDR5",
                    "DDR4",
                    "DDR5",
                    "LPDDR5",
                    "DDR4",
                    "DDR4",
                    "DDR4",
                    "DDR4",
                    "LPDDR5",
                    "LPDDR5",
                    "DDR4",
                    "DDR4",
                    "DDR5",
                    "DDR5",
                    "DDR4",
                    "DDR5",
                    "DDR4",
                    "LPDDR5",
                    "DDR5",
                    "LPDDR5",
                    "DDR4",
                    "DDR4",
                    "DDR4",
                    "DDR4",
                    "DDR4",
                    "DDR4",
                    "DDR4",
                    "DDR4",
                    "DDR4",
                    "LPDDR5",
                    "DDR4",
                    "LPDDR5",
                    "DDR4",
                    "DDR4",
                    "DDR4",
                    "DDR4",
                    "DDR4",
                    "DDR4",
                    "DDR4",
                    "DDR4",
                    "LPDDR5",
                    "DDR4",
                    "DDR4",
                    "DDR4",
                    "DDR4",
                    "DDR4",
                    "DDR4",
                    "DDR4",
                    "LPDDR5",
                    "DDR4",
                    "LPDDR5",
                    "DDR4",
                    "DDR4",
                    "DDR4",
                    "DDR4",
                    "LPDDR5",
                    "DDR4",
                    "LPDDR5",
                    "LPDDR5",
                    "DDR4",
                    "DDR4",
                    "DDR4",
                    "DDR4",
                    "DDR4",
                    "DDR4",
                    "DDR4",
                    "DDR4",
                    "DDR4",
                    "DDR4",
                    "DDR4",
                    "DDR4",
                    "DDR4",
                    "LPDDR5",
                    "DDR4",
                    "DDR4",
                    "LPDDR5",
                    "DDR4",
                    "LPDDR5",
                    "DDR4",
                    "DDR4",
                    "DDR4",
                    "DDR4",
                    "DDR4",
                    "DDR5",
                    "DDR4",
                    "DDR4",
                    "DDR4"
                  ],
                  "xaxis": "x",
                  "yaxis": "y"
                },
                {
                  "alignmentgroup": "True",
                  "bingroup": "x",
                  "hovertemplate": "Ram=16GB<br>Ram_type=%{x}<br>count=%{y}<extra></extra>",
                  "legendgroup": "16GB",
                  "marker": {
                    "color": "rgb(246, 207, 113)",
                    "pattern": {
                      "shape": ""
                    }
                  },
                  "name": "16GB",
                  "offsetgroup": "16GB",
                  "orientation": "v",
                  "showlegend": true,
                  "type": "histogram",
                  "x": [
                    "LPDDR5",
                    "DDR5",
                    "LPDDR5",
                    "DDR4",
                    "DDR4",
                    "DDR4",
                    "DDR4",
                    "DDR4",
                    "DDR4",
                    "DDR4",
                    "DDR4",
                    "DDR4",
                    "DDR5",
                    "DDR4",
                    "DDR4",
                    "DDR4",
                    "DDR4",
                    "DDR4",
                    "LPDDR5",
                    "DDR5",
                    "DDR5",
                    "LPDDR4",
                    "DDR5",
                    "DDR4",
                    "DDR4",
                    "DDR4",
                    "LPDDR4X",
                    "DDR4",
                    "DDR4",
                    "DDR5",
                    "DDR5",
                    "DDR5",
                    "LPDDR5",
                    "DDR4",
                    "LPDDR4X",
                    "DDR4",
                    "DDR4",
                    "DDR5",
                    "DDR4",
                    "DDR4",
                    "DDR4",
                    "DDR4",
                    "DDR4",
                    "DDR5",
                    "DDR4",
                    "LPDDR5",
                    "DDR5",
                    "DDR4",
                    "LPDDR4X",
                    "DDR5",
                    "DDR4",
                    "DDR4",
                    "DDR5",
                    "DDR4",
                    "DDR4",
                    "DDR5",
                    "DDR5",
                    "DDR5",
                    "DDR4",
                    "DDR4",
                    "DDR4",
                    "DDR5",
                    "LPDDR5",
                    "DDR5",
                    "DDR4",
                    "DDR4",
                    "DDR4",
                    "DDR4",
                    "DDR4",
                    "DDR4",
                    "DDR4",
                    "DDR4",
                    "LPDDR5",
                    "DDR4",
                    "DDR4",
                    "LPDDR4x",
                    "LPDDR4X",
                    "LPDDR5",
                    "DDR5",
                    "DDR5",
                    "LPDDR5",
                    "DDR5",
                    "DDR4",
                    "LPDDR5",
                    "DDR4",
                    "DDR4",
                    "LPDDR5",
                    "DDR4",
                    "DDR4",
                    "DDR4",
                    "DDR5",
                    "DDR5",
                    "DDR4",
                    "DDR4",
                    "DDR5",
                    "DDR5",
                    "DDR5",
                    "DDR5",
                    "DDR5",
                    "DDR4",
                    "DDR4",
                    "LPDDR5",
                    "DDR4",
                    "DDR4",
                    "DDR5",
                    "DDR4",
                    "LPDDR4x",
                    "DDR4",
                    "DDR4",
                    "DDR5",
                    "DDR4",
                    "DDR5",
                    "DDR4",
                    "DDR4",
                    "DDR4",
                    "DDR5",
                    "DDR4",
                    "DDR5",
                    "DDR5",
                    "DDR5",
                    "LPDDR5",
                    "LPDDR5",
                    "LPDDR5",
                    "LPDDR4X",
                    "LPDDR5",
                    "DDR4",
                    "DDR4",
                    "DDR5",
                    "DDR4",
                    "DDR5",
                    "DDR5",
                    "DDR5",
                    "DDR4",
                    "DDR4-",
                    "DDR4",
                    "DDR4",
                    "LPDDR5",
                    "DDR4",
                    "LPDDR4",
                    "LPDDR4X",
                    "LPDDR5",
                    "DDR5",
                    "DDR4",
                    "DDR4",
                    "LPDDR5",
                    "DDR5",
                    "DDR5",
                    "DDR4",
                    "DDR4",
                    "LPDDR5",
                    "DDR4",
                    "DDR4",
                    "DDR5",
                    "DDR4",
                    "LPDDR5",
                    "LPDDR5",
                    "DDR4",
                    "DDR4",
                    "DDR5",
                    "LPDDR5",
                    "DDR4",
                    "LPDDR4X",
                    "DDR5",
                    "LPDDR5",
                    "DDR5",
                    "DDR5",
                    "DDR5",
                    "DDR4",
                    "DDR4",
                    "LPDDR5",
                    "DDR4",
                    "DDR5",
                    "LPDDR5",
                    "DDR5",
                    "DDR5",
                    "DDR4",
                    "LPDDR5",
                    "DDR4",
                    "LPDDR5",
                    "DDR4",
                    "LPDDR4X",
                    "DDR4",
                    "DDR4",
                    "LPDDR4X",
                    "LPDDR4x",
                    "LPDDR4x",
                    "LPDDR5",
                    "DDR5",
                    "LPDDR4x",
                    "LPDDR5",
                    "LPDDR4x",
                    "LPDDR5",
                    "DDR5",
                    "LPDDR5",
                    "Unified",
                    "DDR4",
                    "DDR4",
                    "DDR4",
                    "LPDDR5",
                    "LPDDR5",
                    "LPDDR4x",
                    "LPDDR5",
                    "LPDDR5",
                    "LPDDR5",
                    "LPDDR5",
                    "DDR4",
                    "DDR4",
                    "LPDDR4X",
                    "LPDDR5",
                    "DDR4",
                    "LPDDR4",
                    "DDR4",
                    "DDR5",
                    "LPDDR5",
                    "DDR4",
                    "DDR4",
                    "LPDDR4X",
                    "DDR4",
                    "DDR4",
                    "DDR4",
                    "DDR4",
                    "DDR4",
                    "DDR4",
                    "DDR4",
                    "DDR4",
                    "DDR4",
                    "LPDDR5",
                    "DDR4",
                    "DDR4",
                    "DDR4",
                    "DDR5",
                    "DDR4",
                    "DDR4",
                    "LPDDR4",
                    "DDR4",
                    "Unified",
                    "DDR4",
                    "DDR4",
                    "DDR4",
                    "DDR4",
                    "DDR4",
                    "LPDDR5",
                    "LPDDR4X",
                    "DDR4",
                    "LPDDR4X",
                    "LPDDR5",
                    "LPDDR5",
                    "LPDDR5",
                    "Unified",
                    "Unified",
                    "LPDDR4x",
                    "DDR4",
                    "DDR4",
                    "DDR4",
                    "DDR4",
                    "DDR4",
                    "DDR4",
                    "DDR5",
                    "DDR4",
                    "DDR4",
                    "DDR5",
                    "DDR4",
                    "DDR4",
                    "DDR4",
                    "DDR4",
                    "LPDDR5",
                    "DDR4",
                    "DDR4",
                    "DDR5",
                    "DDR5",
                    "DDR5",
                    "LPDDR5x",
                    "DDR5",
                    "LPDDR5",
                    "DDR4",
                    "LPDDR5",
                    "DDR5",
                    "DDR4",
                    "LPDDR5",
                    "LPDDR4X",
                    "DDR5",
                    "DDR4",
                    "DDR5",
                    "DDR4",
                    "DDR4",
                    "DDR4",
                    "DDR4",
                    "DDR4",
                    "DDR4",
                    "LPDDR4X",
                    "DDR5",
                    "DDR4",
                    "LPDDR4X",
                    "DDR4",
                    "DDR5",
                    "DDR5",
                    "DDR4",
                    "DDR4",
                    "DDR5",
                    "DDR4",
                    "LPDDR4X",
                    "LPDDR5",
                    "DDR5",
                    "DDR5",
                    "LPDDR4",
                    "DDR4",
                    "DDR4",
                    "LPDDR5",
                    "DDR4",
                    "DDR4",
                    "DDR4",
                    "DDR4",
                    "DDR4",
                    "DDR5",
                    "DDR4",
                    "DDR5",
                    "DDR4",
                    "DDR4",
                    "LPDDR5",
                    "DDR4",
                    "DDR4",
                    "DDR4",
                    "DDR4",
                    "DDR5",
                    "DDR5",
                    "DDR4",
                    "DDR4",
                    "LPDDR5",
                    "LPDDR5",
                    "LPDDR5",
                    "DDR4",
                    "LPDDR5",
                    "LPDDR5",
                    "LPDDR5",
                    "LPDDR5",
                    "LPDDR5",
                    "DDR4",
                    "DDR4",
                    "DDR5",
                    "DDR4",
                    "DDR4",
                    "DDR5",
                    "DDR5",
                    "DDR4",
                    "LPDDR4X",
                    "LPDDR4",
                    "DDR5",
                    "LPDDR5",
                    "DDR4",
                    "DDR5",
                    "DDR4",
                    "DDR5",
                    "DDR5",
                    "DDR4",
                    "DDR5",
                    "DDR5",
                    "LPDDR4X",
                    "DDR4",
                    "LPDDR4X",
                    "DDR5",
                    "LPDDR5",
                    "DDR4",
                    "DDR4",
                    "LPDDR5",
                    "DDR4",
                    "DDR5",
                    "DDR5",
                    "DDR4",
                    "DDR4",
                    "DDR4",
                    "DDR4",
                    "DDR4",
                    "LPDDR4X",
                    "DDR5",
                    "LPDDR5",
                    "LPDDR5",
                    "DDR4",
                    "LPDDR5",
                    "LPDDR5",
                    "DDR5",
                    "DDR5",
                    "DDR5",
                    "DDR5",
                    "DDR5",
                    "LPDDR5",
                    "DDR5",
                    "DDR4",
                    "LPDDR5",
                    "DDR4",
                    "DDR5",
                    "DDR4",
                    "DDR4",
                    "DDR5",
                    "DDR4",
                    "DDR4",
                    "DDR4",
                    "LPDDR5",
                    "LPDDR5",
                    "LPDDR5",
                    "LPDDR5",
                    "LPDDR5",
                    "DDR4",
                    "DDR5",
                    "LPDDR5",
                    "LPDDR5",
                    "LPDDR5",
                    "DDR5",
                    "LPDDR5",
                    "DDR4",
                    "DDR4",
                    "DDR4",
                    "DDR5",
                    "DDR5",
                    "DDR4",
                    "DDR5",
                    "DDR5",
                    "DDR5",
                    "DDR5",
                    "DDR4",
                    "DDR5",
                    "DDR5",
                    "DDR5",
                    "DDR4",
                    "DDR4",
                    "DDR5",
                    "DDR5",
                    "DDR4",
                    "LPDDR5",
                    "LPDDR5",
                    "DDR4",
                    "DDR4",
                    "DDR4",
                    "DDR4",
                    "DDR4",
                    "DDR4",
                    "LPDDR5",
                    "LPDDR5",
                    "DDR4",
                    "DDR4",
                    "DDR5",
                    "LPDDR5",
                    "DDR5",
                    "LPDDR4X",
                    "LPDDR5",
                    "DDR4",
                    "DDR5",
                    "LPDDR5",
                    "DDR5",
                    "DDR5",
                    "DDR5",
                    "DDR5",
                    "LPDDR4X",
                    "LPDDR5",
                    "DDR",
                    "DDR4",
                    "DDR4"
                  ],
                  "xaxis": "x",
                  "yaxis": "y"
                },
                {
                  "alignmentgroup": "True",
                  "bingroup": "x",
                  "hovertemplate": "Ram=4GB<br>Ram_type=%{x}<br>count=%{y}<extra></extra>",
                  "legendgroup": "4GB",
                  "marker": {
                    "color": "rgb(248, 156, 116)",
                    "pattern": {
                      "shape": ""
                    }
                  },
                  "name": "4GB",
                  "offsetgroup": "4GB",
                  "orientation": "v",
                  "showlegend": true,
                  "type": "histogram",
                  "x": [
                    "DDR4",
                    "LPDDR4",
                    "DDR4",
                    "LPDDR4",
                    "LPDDR4x",
                    "DDR4",
                    "LPDDR4x",
                    "DDR4",
                    "DDR4",
                    "LPDDR4X",
                    "DDR4",
                    "DDR4",
                    "LPDDR4X",
                    "LPDDR4X",
                    "LPDDR4X",
                    "LPDDR4X",
                    "LPDDR4X",
                    "DDR4",
                    "DDR4",
                    "DDR4",
                    "DDR4",
                    "DDR4"
                  ],
                  "xaxis": "x",
                  "yaxis": "y"
                },
                {
                  "alignmentgroup": "True",
                  "bingroup": "x",
                  "hovertemplate": "Ram=32GB<br>Ram_type=%{x}<br>count=%{y}<extra></extra>",
                  "legendgroup": "32GB",
                  "marker": {
                    "color": "rgb(220, 176, 242)",
                    "pattern": {
                      "shape": ""
                    }
                  },
                  "name": "32GB",
                  "offsetgroup": "32GB",
                  "orientation": "v",
                  "showlegend": true,
                  "type": "histogram",
                  "x": [
                    "LPDDR5X",
                    "DDR5",
                    "DDR5",
                    "DDR5",
                    "LPDDR5",
                    "DDR5",
                    "DDR4",
                    "DDR5",
                    "LPDDR5",
                    "Unified",
                    "DDR5",
                    "DDR5",
                    "LPDDR5",
                    "Unified",
                    "LPDDR5",
                    "LPDDR5",
                    "DDR5",
                    "DDR5",
                    "DDR5",
                    "DDR5",
                    "DDR5",
                    "DDR5",
                    "LPDDR5",
                    "DDR5",
                    "DDR5",
                    "DDR5",
                    "DDR5",
                    "DDR5",
                    "DDR5",
                    "LPDDR5X",
                    "DDR5",
                    "DDR5",
                    "DDR5",
                    "DDR5",
                    "LPDDR5",
                    "DDR5",
                    "DDR5",
                    "DDR5",
                    "DDR5",
                    "DDR5"
                  ],
                  "xaxis": "x",
                  "yaxis": "y"
                },
                {
                  "alignmentgroup": "True",
                  "bingroup": "x",
                  "hovertemplate": "Ram=2GB<br>Ram_type=%{x}<br>count=%{y}<extra></extra>",
                  "legendgroup": "2GB",
                  "marker": {
                    "color": "rgb(135, 197, 95)",
                    "pattern": {
                      "shape": ""
                    }
                  },
                  "name": "2GB",
                  "offsetgroup": "2GB",
                  "orientation": "v",
                  "showlegend": true,
                  "type": "histogram",
                  "x": [
                    "DDR3"
                  ],
                  "xaxis": "x",
                  "yaxis": "y"
                },
                {
                  "alignmentgroup": "True",
                  "bingroup": "x",
                  "hovertemplate": "Ram=12GB<br>Ram_type=%{x}<br>count=%{y}<extra></extra>",
                  "legendgroup": "12GB",
                  "marker": {
                    "color": "rgb(158, 185, 243)",
                    "pattern": {
                      "shape": ""
                    }
                  },
                  "name": "12GB",
                  "offsetgroup": "12GB",
                  "orientation": "v",
                  "showlegend": true,
                  "type": "histogram",
                  "x": [
                    "LPDDR4",
                    "DDR4"
                  ],
                  "xaxis": "x",
                  "yaxis": "y"
                },
                {
                  "alignmentgroup": "True",
                  "bingroup": "x",
                  "hovertemplate": "Ram=64GB<br>Ram_type=%{x}<br>count=%{y}<extra></extra>",
                  "legendgroup": "64GB",
                  "marker": {
                    "color": "rgb(254, 136, 177)",
                    "pattern": {
                      "shape": ""
                    }
                  },
                  "name": "64GB",
                  "offsetgroup": "64GB",
                  "orientation": "v",
                  "showlegend": true,
                  "type": "histogram",
                  "x": [
                    "LPDDR5",
                    "DDR5",
                    "DDR5"
                  ],
                  "xaxis": "x",
                  "yaxis": "y"
                }
              ],
              "layout": {
                "barmode": "relative",
                "legend": {
                  "title": {
                    "text": "Ram"
                  },
                  "tracegroupgap": 0
                },
                "template": {
                  "data": {
                    "bar": [
                      {
                        "error_x": {
                          "color": "#2a3f5f"
                        },
                        "error_y": {
                          "color": "#2a3f5f"
                        },
                        "marker": {
                          "line": {
                            "color": "#E5ECF6",
                            "width": 0.5
                          },
                          "pattern": {
                            "fillmode": "overlay",
                            "size": 10,
                            "solidity": 0.2
                          }
                        },
                        "type": "bar"
                      }
                    ],
                    "barpolar": [
                      {
                        "marker": {
                          "line": {
                            "color": "#E5ECF6",
                            "width": 0.5
                          },
                          "pattern": {
                            "fillmode": "overlay",
                            "size": 10,
                            "solidity": 0.2
                          }
                        },
                        "type": "barpolar"
                      }
                    ],
                    "carpet": [
                      {
                        "aaxis": {
                          "endlinecolor": "#2a3f5f",
                          "gridcolor": "white",
                          "linecolor": "white",
                          "minorgridcolor": "white",
                          "startlinecolor": "#2a3f5f"
                        },
                        "baxis": {
                          "endlinecolor": "#2a3f5f",
                          "gridcolor": "white",
                          "linecolor": "white",
                          "minorgridcolor": "white",
                          "startlinecolor": "#2a3f5f"
                        },
                        "type": "carpet"
                      }
                    ],
                    "choropleth": [
                      {
                        "colorbar": {
                          "outlinewidth": 0,
                          "ticks": ""
                        },
                        "type": "choropleth"
                      }
                    ],
                    "contour": [
                      {
                        "colorbar": {
                          "outlinewidth": 0,
                          "ticks": ""
                        },
                        "colorscale": [
                          [
                            0,
                            "#0d0887"
                          ],
                          [
                            0.1111111111111111,
                            "#46039f"
                          ],
                          [
                            0.2222222222222222,
                            "#7201a8"
                          ],
                          [
                            0.3333333333333333,
                            "#9c179e"
                          ],
                          [
                            0.4444444444444444,
                            "#bd3786"
                          ],
                          [
                            0.5555555555555556,
                            "#d8576b"
                          ],
                          [
                            0.6666666666666666,
                            "#ed7953"
                          ],
                          [
                            0.7777777777777778,
                            "#fb9f3a"
                          ],
                          [
                            0.8888888888888888,
                            "#fdca26"
                          ],
                          [
                            1,
                            "#f0f921"
                          ]
                        ],
                        "type": "contour"
                      }
                    ],
                    "contourcarpet": [
                      {
                        "colorbar": {
                          "outlinewidth": 0,
                          "ticks": ""
                        },
                        "type": "contourcarpet"
                      }
                    ],
                    "heatmap": [
                      {
                        "colorbar": {
                          "outlinewidth": 0,
                          "ticks": ""
                        },
                        "colorscale": [
                          [
                            0,
                            "#0d0887"
                          ],
                          [
                            0.1111111111111111,
                            "#46039f"
                          ],
                          [
                            0.2222222222222222,
                            "#7201a8"
                          ],
                          [
                            0.3333333333333333,
                            "#9c179e"
                          ],
                          [
                            0.4444444444444444,
                            "#bd3786"
                          ],
                          [
                            0.5555555555555556,
                            "#d8576b"
                          ],
                          [
                            0.6666666666666666,
                            "#ed7953"
                          ],
                          [
                            0.7777777777777778,
                            "#fb9f3a"
                          ],
                          [
                            0.8888888888888888,
                            "#fdca26"
                          ],
                          [
                            1,
                            "#f0f921"
                          ]
                        ],
                        "type": "heatmap"
                      }
                    ],
                    "heatmapgl": [
                      {
                        "colorbar": {
                          "outlinewidth": 0,
                          "ticks": ""
                        },
                        "colorscale": [
                          [
                            0,
                            "#0d0887"
                          ],
                          [
                            0.1111111111111111,
                            "#46039f"
                          ],
                          [
                            0.2222222222222222,
                            "#7201a8"
                          ],
                          [
                            0.3333333333333333,
                            "#9c179e"
                          ],
                          [
                            0.4444444444444444,
                            "#bd3786"
                          ],
                          [
                            0.5555555555555556,
                            "#d8576b"
                          ],
                          [
                            0.6666666666666666,
                            "#ed7953"
                          ],
                          [
                            0.7777777777777778,
                            "#fb9f3a"
                          ],
                          [
                            0.8888888888888888,
                            "#fdca26"
                          ],
                          [
                            1,
                            "#f0f921"
                          ]
                        ],
                        "type": "heatmapgl"
                      }
                    ],
                    "histogram": [
                      {
                        "marker": {
                          "pattern": {
                            "fillmode": "overlay",
                            "size": 10,
                            "solidity": 0.2
                          }
                        },
                        "type": "histogram"
                      }
                    ],
                    "histogram2d": [
                      {
                        "colorbar": {
                          "outlinewidth": 0,
                          "ticks": ""
                        },
                        "colorscale": [
                          [
                            0,
                            "#0d0887"
                          ],
                          [
                            0.1111111111111111,
                            "#46039f"
                          ],
                          [
                            0.2222222222222222,
                            "#7201a8"
                          ],
                          [
                            0.3333333333333333,
                            "#9c179e"
                          ],
                          [
                            0.4444444444444444,
                            "#bd3786"
                          ],
                          [
                            0.5555555555555556,
                            "#d8576b"
                          ],
                          [
                            0.6666666666666666,
                            "#ed7953"
                          ],
                          [
                            0.7777777777777778,
                            "#fb9f3a"
                          ],
                          [
                            0.8888888888888888,
                            "#fdca26"
                          ],
                          [
                            1,
                            "#f0f921"
                          ]
                        ],
                        "type": "histogram2d"
                      }
                    ],
                    "histogram2dcontour": [
                      {
                        "colorbar": {
                          "outlinewidth": 0,
                          "ticks": ""
                        },
                        "colorscale": [
                          [
                            0,
                            "#0d0887"
                          ],
                          [
                            0.1111111111111111,
                            "#46039f"
                          ],
                          [
                            0.2222222222222222,
                            "#7201a8"
                          ],
                          [
                            0.3333333333333333,
                            "#9c179e"
                          ],
                          [
                            0.4444444444444444,
                            "#bd3786"
                          ],
                          [
                            0.5555555555555556,
                            "#d8576b"
                          ],
                          [
                            0.6666666666666666,
                            "#ed7953"
                          ],
                          [
                            0.7777777777777778,
                            "#fb9f3a"
                          ],
                          [
                            0.8888888888888888,
                            "#fdca26"
                          ],
                          [
                            1,
                            "#f0f921"
                          ]
                        ],
                        "type": "histogram2dcontour"
                      }
                    ],
                    "mesh3d": [
                      {
                        "colorbar": {
                          "outlinewidth": 0,
                          "ticks": ""
                        },
                        "type": "mesh3d"
                      }
                    ],
                    "parcoords": [
                      {
                        "line": {
                          "colorbar": {
                            "outlinewidth": 0,
                            "ticks": ""
                          }
                        },
                        "type": "parcoords"
                      }
                    ],
                    "pie": [
                      {
                        "automargin": true,
                        "type": "pie"
                      }
                    ],
                    "scatter": [
                      {
                        "fillpattern": {
                          "fillmode": "overlay",
                          "size": 10,
                          "solidity": 0.2
                        },
                        "type": "scatter"
                      }
                    ],
                    "scatter3d": [
                      {
                        "line": {
                          "colorbar": {
                            "outlinewidth": 0,
                            "ticks": ""
                          }
                        },
                        "marker": {
                          "colorbar": {
                            "outlinewidth": 0,
                            "ticks": ""
                          }
                        },
                        "type": "scatter3d"
                      }
                    ],
                    "scattercarpet": [
                      {
                        "marker": {
                          "colorbar": {
                            "outlinewidth": 0,
                            "ticks": ""
                          }
                        },
                        "type": "scattercarpet"
                      }
                    ],
                    "scattergeo": [
                      {
                        "marker": {
                          "colorbar": {
                            "outlinewidth": 0,
                            "ticks": ""
                          }
                        },
                        "type": "scattergeo"
                      }
                    ],
                    "scattergl": [
                      {
                        "marker": {
                          "colorbar": {
                            "outlinewidth": 0,
                            "ticks": ""
                          }
                        },
                        "type": "scattergl"
                      }
                    ],
                    "scattermapbox": [
                      {
                        "marker": {
                          "colorbar": {
                            "outlinewidth": 0,
                            "ticks": ""
                          }
                        },
                        "type": "scattermapbox"
                      }
                    ],
                    "scatterpolar": [
                      {
                        "marker": {
                          "colorbar": {
                            "outlinewidth": 0,
                            "ticks": ""
                          }
                        },
                        "type": "scatterpolar"
                      }
                    ],
                    "scatterpolargl": [
                      {
                        "marker": {
                          "colorbar": {
                            "outlinewidth": 0,
                            "ticks": ""
                          }
                        },
                        "type": "scatterpolargl"
                      }
                    ],
                    "scatterternary": [
                      {
                        "marker": {
                          "colorbar": {
                            "outlinewidth": 0,
                            "ticks": ""
                          }
                        },
                        "type": "scatterternary"
                      }
                    ],
                    "surface": [
                      {
                        "colorbar": {
                          "outlinewidth": 0,
                          "ticks": ""
                        },
                        "colorscale": [
                          [
                            0,
                            "#0d0887"
                          ],
                          [
                            0.1111111111111111,
                            "#46039f"
                          ],
                          [
                            0.2222222222222222,
                            "#7201a8"
                          ],
                          [
                            0.3333333333333333,
                            "#9c179e"
                          ],
                          [
                            0.4444444444444444,
                            "#bd3786"
                          ],
                          [
                            0.5555555555555556,
                            "#d8576b"
                          ],
                          [
                            0.6666666666666666,
                            "#ed7953"
                          ],
                          [
                            0.7777777777777778,
                            "#fb9f3a"
                          ],
                          [
                            0.8888888888888888,
                            "#fdca26"
                          ],
                          [
                            1,
                            "#f0f921"
                          ]
                        ],
                        "type": "surface"
                      }
                    ],
                    "table": [
                      {
                        "cells": {
                          "fill": {
                            "color": "#EBF0F8"
                          },
                          "line": {
                            "color": "white"
                          }
                        },
                        "header": {
                          "fill": {
                            "color": "#C8D4E3"
                          },
                          "line": {
                            "color": "white"
                          }
                        },
                        "type": "table"
                      }
                    ]
                  },
                  "layout": {
                    "annotationdefaults": {
                      "arrowcolor": "#2a3f5f",
                      "arrowhead": 0,
                      "arrowwidth": 1
                    },
                    "autotypenumbers": "strict",
                    "coloraxis": {
                      "colorbar": {
                        "outlinewidth": 0,
                        "ticks": ""
                      }
                    },
                    "colorscale": {
                      "diverging": [
                        [
                          0,
                          "#8e0152"
                        ],
                        [
                          0.1,
                          "#c51b7d"
                        ],
                        [
                          0.2,
                          "#de77ae"
                        ],
                        [
                          0.3,
                          "#f1b6da"
                        ],
                        [
                          0.4,
                          "#fde0ef"
                        ],
                        [
                          0.5,
                          "#f7f7f7"
                        ],
                        [
                          0.6,
                          "#e6f5d0"
                        ],
                        [
                          0.7,
                          "#b8e186"
                        ],
                        [
                          0.8,
                          "#7fbc41"
                        ],
                        [
                          0.9,
                          "#4d9221"
                        ],
                        [
                          1,
                          "#276419"
                        ]
                      ],
                      "sequential": [
                        [
                          0,
                          "#0d0887"
                        ],
                        [
                          0.1111111111111111,
                          "#46039f"
                        ],
                        [
                          0.2222222222222222,
                          "#7201a8"
                        ],
                        [
                          0.3333333333333333,
                          "#9c179e"
                        ],
                        [
                          0.4444444444444444,
                          "#bd3786"
                        ],
                        [
                          0.5555555555555556,
                          "#d8576b"
                        ],
                        [
                          0.6666666666666666,
                          "#ed7953"
                        ],
                        [
                          0.7777777777777778,
                          "#fb9f3a"
                        ],
                        [
                          0.8888888888888888,
                          "#fdca26"
                        ],
                        [
                          1,
                          "#f0f921"
                        ]
                      ],
                      "sequentialminus": [
                        [
                          0,
                          "#0d0887"
                        ],
                        [
                          0.1111111111111111,
                          "#46039f"
                        ],
                        [
                          0.2222222222222222,
                          "#7201a8"
                        ],
                        [
                          0.3333333333333333,
                          "#9c179e"
                        ],
                        [
                          0.4444444444444444,
                          "#bd3786"
                        ],
                        [
                          0.5555555555555556,
                          "#d8576b"
                        ],
                        [
                          0.6666666666666666,
                          "#ed7953"
                        ],
                        [
                          0.7777777777777778,
                          "#fb9f3a"
                        ],
                        [
                          0.8888888888888888,
                          "#fdca26"
                        ],
                        [
                          1,
                          "#f0f921"
                        ]
                      ]
                    },
                    "colorway": [
                      "#636efa",
                      "#EF553B",
                      "#00cc96",
                      "#ab63fa",
                      "#FFA15A",
                      "#19d3f3",
                      "#FF6692",
                      "#B6E880",
                      "#FF97FF",
                      "#FECB52"
                    ],
                    "font": {
                      "color": "#2a3f5f"
                    },
                    "geo": {
                      "bgcolor": "white",
                      "lakecolor": "white",
                      "landcolor": "#E5ECF6",
                      "showlakes": true,
                      "showland": true,
                      "subunitcolor": "white"
                    },
                    "hoverlabel": {
                      "align": "left"
                    },
                    "hovermode": "closest",
                    "mapbox": {
                      "style": "light"
                    },
                    "paper_bgcolor": "white",
                    "plot_bgcolor": "#E5ECF6",
                    "polar": {
                      "angularaxis": {
                        "gridcolor": "white",
                        "linecolor": "white",
                        "ticks": ""
                      },
                      "bgcolor": "#E5ECF6",
                      "radialaxis": {
                        "gridcolor": "white",
                        "linecolor": "white",
                        "ticks": ""
                      }
                    },
                    "scene": {
                      "xaxis": {
                        "backgroundcolor": "#E5ECF6",
                        "gridcolor": "white",
                        "gridwidth": 2,
                        "linecolor": "white",
                        "showbackground": true,
                        "ticks": "",
                        "zerolinecolor": "white"
                      },
                      "yaxis": {
                        "backgroundcolor": "#E5ECF6",
                        "gridcolor": "white",
                        "gridwidth": 2,
                        "linecolor": "white",
                        "showbackground": true,
                        "ticks": "",
                        "zerolinecolor": "white"
                      },
                      "zaxis": {
                        "backgroundcolor": "#E5ECF6",
                        "gridcolor": "white",
                        "gridwidth": 2,
                        "linecolor": "white",
                        "showbackground": true,
                        "ticks": "",
                        "zerolinecolor": "white"
                      }
                    },
                    "shapedefaults": {
                      "line": {
                        "color": "#2a3f5f"
                      }
                    },
                    "ternary": {
                      "aaxis": {
                        "gridcolor": "white",
                        "linecolor": "white",
                        "ticks": ""
                      },
                      "baxis": {
                        "gridcolor": "white",
                        "linecolor": "white",
                        "ticks": ""
                      },
                      "bgcolor": "#E5ECF6",
                      "caxis": {
                        "gridcolor": "white",
                        "linecolor": "white",
                        "ticks": ""
                      }
                    },
                    "title": {
                      "x": 0.05
                    },
                    "xaxis": {
                      "automargin": true,
                      "gridcolor": "white",
                      "linecolor": "white",
                      "ticks": "",
                      "title": {
                        "standoff": 15
                      },
                      "zerolinecolor": "white",
                      "zerolinewidth": 2
                    },
                    "yaxis": {
                      "automargin": true,
                      "gridcolor": "white",
                      "linecolor": "white",
                      "ticks": "",
                      "title": {
                        "standoff": 15
                      },
                      "zerolinecolor": "white",
                      "zerolinewidth": 2
                    }
                  }
                },
                "title": {
                  "text": "Ram Distribution"
                },
                "xaxis": {
                  "anchor": "y",
                  "domain": [
                    0,
                    1
                  ],
                  "title": {
                    "text": "Ram_type"
                  }
                },
                "yaxis": {
                  "anchor": "x",
                  "domain": [
                    0,
                    1
                  ],
                  "title": {
                    "text": "count"
                  }
                }
              }
            }
          },
          "metadata": {},
          "output_type": "display_data"
        }
      ],
      "source": [
        "# RAM SIze and Type\n",
        "plt = px.histogram(df, x='Ram_type', color='Ram', title=\"Ram Distribution\", color_discrete_sequence=px.colors.qualitative.Pastel)\n",
        "plt.show()"
      ]
    },
    {
      "cell_type": "code",
      "execution_count": 16,
      "metadata": {
        "colab": {
          "base_uri": "https://localhost:8080/",
          "height": 542
        },
        "id": "cunbvUIcQcPy",
        "outputId": "4e4d0a12-7f37-4b40-d5b6-a4ad7e79506b"
      },
      "outputs": [
        {
          "data": {
            "application/vnd.plotly.v1+json": {
              "config": {
                "plotlyServerURL": "https://plot.ly"
              },
              "data": [
                {
                  "alignmentgroup": "True",
                  "bingroup": "x",
                  "hovertemplate": "ROM=512GB<br>ROM_type=%{x}<br>count=%{y}<extra></extra>",
                  "legendgroup": "512GB",
                  "marker": {
                    "color": "rgb(102, 197, 204)",
                    "pattern": {
                      "shape": ""
                    }
                  },
                  "name": "512GB",
                  "offsetgroup": "512GB",
                  "orientation": "v",
                  "showlegend": true,
                  "type": "histogram",
                  "x": [
                    "SSD",
                    "SSD",
                    "SSD",
                    "SSD",
                    "SSD",
                    "SSD",
                    "SSD",
                    "SSD",
                    "SSD",
                    "SSD",
                    "SSD",
                    "SSD",
                    "SSD",
                    "SSD",
                    "SSD",
                    "SSD",
                    "SSD",
                    "SSD",
                    "SSD",
                    "SSD",
                    "SSD",
                    "SSD",
                    "SSD",
                    "SSD",
                    "SSD",
                    "SSD",
                    "SSD",
                    "SSD",
                    "SSD",
                    "SSD",
                    "SSD",
                    "SSD",
                    "SSD",
                    "SSD",
                    "SSD",
                    "SSD",
                    "SSD",
                    "SSD",
                    "SSD",
                    "SSD",
                    "SSD",
                    "SSD",
                    "SSD",
                    "SSD",
                    "SSD",
                    "SSD",
                    "SSD",
                    "SSD",
                    "SSD",
                    "SSD",
                    "SSD",
                    "SSD",
                    "SSD",
                    "SSD",
                    "SSD",
                    "SSD",
                    "SSD",
                    "SSD",
                    "SSD",
                    "SSD",
                    "SSD",
                    "SSD",
                    "SSD",
                    "SSD",
                    "SSD",
                    "SSD",
                    "SSD",
                    "SSD",
                    "SSD",
                    "SSD",
                    "SSD",
                    "SSD",
                    "SSD",
                    "SSD",
                    "SSD",
                    "SSD",
                    "SSD",
                    "SSD",
                    "SSD",
                    "SSD",
                    "SSD",
                    "SSD",
                    "SSD",
                    "SSD",
                    "SSD",
                    "SSD",
                    "SSD",
                    "SSD",
                    "SSD",
                    "SSD",
                    "SSD",
                    "SSD",
                    "SSD",
                    "SSD",
                    "SSD",
                    "SSD",
                    "SSD",
                    "SSD",
                    "SSD",
                    "SSD",
                    "SSD",
                    "SSD",
                    "SSD",
                    "SSD",
                    "SSD",
                    "SSD",
                    "SSD",
                    "SSD",
                    "SSD",
                    "SSD",
                    "SSD",
                    "SSD",
                    "SSD",
                    "SSD",
                    "SSD",
                    "SSD",
                    "SSD",
                    "SSD",
                    "SSD",
                    "SSD",
                    "SSD",
                    "SSD",
                    "SSD",
                    "SSD",
                    "SSD",
                    "SSD",
                    "SSD",
                    "SSD",
                    "SSD",
                    "SSD",
                    "SSD",
                    "SSD",
                    "SSD",
                    "SSD",
                    "SSD",
                    "SSD",
                    "SSD",
                    "SSD",
                    "SSD",
                    "SSD",
                    "SSD",
                    "SSD",
                    "SSD",
                    "SSD",
                    "SSD",
                    "SSD",
                    "SSD",
                    "SSD",
                    "SSD",
                    "SSD",
                    "SSD",
                    "SSD",
                    "SSD",
                    "SSD",
                    "SSD",
                    "SSD",
                    "SSD",
                    "SSD",
                    "SSD",
                    "SSD",
                    "SSD",
                    "SSD",
                    "SSD",
                    "SSD",
                    "SSD",
                    "SSD",
                    "SSD",
                    "SSD",
                    "SSD",
                    "SSD",
                    "SSD",
                    "SSD",
                    "SSD",
                    "SSD",
                    "SSD",
                    "SSD",
                    "SSD",
                    "SSD",
                    "SSD",
                    "SSD",
                    "SSD",
                    "SSD",
                    "SSD",
                    "SSD",
                    "SSD",
                    "SSD",
                    "SSD",
                    "SSD",
                    "SSD",
                    "SSD",
                    "SSD",
                    "SSD",
                    "SSD",
                    "SSD",
                    "SSD",
                    "SSD",
                    "SSD",
                    "SSD",
                    "SSD",
                    "SSD",
                    "SSD",
                    "SSD",
                    "SSD",
                    "SSD",
                    "SSD",
                    "SSD",
                    "SSD",
                    "SSD",
                    "SSD",
                    "SSD",
                    "SSD",
                    "SSD",
                    "SSD",
                    "SSD",
                    "SSD",
                    "SSD",
                    "SSD",
                    "SSD",
                    "SSD",
                    "SSD",
                    "SSD",
                    "SSD",
                    "SSD",
                    "SSD",
                    "SSD",
                    "SSD",
                    "SSD",
                    "SSD",
                    "SSD",
                    "SSD",
                    "SSD",
                    "SSD",
                    "SSD",
                    "SSD",
                    "SSD",
                    "SSD",
                    "SSD",
                    "SSD",
                    "SSD",
                    "SSD",
                    "SSD",
                    "SSD",
                    "SSD",
                    "SSD",
                    "SSD",
                    "SSD",
                    "SSD",
                    "SSD",
                    "SSD",
                    "SSD",
                    "SSD",
                    "SSD",
                    "SSD",
                    "SSD",
                    "SSD",
                    "SSD",
                    "SSD",
                    "SSD",
                    "SSD",
                    "SSD",
                    "SSD",
                    "SSD",
                    "SSD",
                    "SSD",
                    "SSD",
                    "SSD",
                    "SSD",
                    "SSD",
                    "SSD",
                    "SSD",
                    "SSD",
                    "SSD",
                    "SSD",
                    "SSD",
                    "SSD",
                    "SSD",
                    "SSD",
                    "SSD",
                    "SSD",
                    "SSD",
                    "SSD",
                    "SSD",
                    "SSD",
                    "SSD",
                    "SSD",
                    "SSD",
                    "SSD",
                    "SSD",
                    "SSD",
                    "SSD",
                    "SSD",
                    "SSD",
                    "SSD",
                    "SSD",
                    "SSD",
                    "SSD",
                    "SSD",
                    "SSD",
                    "SSD",
                    "SSD",
                    "SSD",
                    "SSD",
                    "SSD",
                    "SSD",
                    "SSD",
                    "SSD",
                    "SSD",
                    "SSD",
                    "SSD",
                    "SSD",
                    "SSD",
                    "SSD",
                    "SSD",
                    "SSD",
                    "SSD",
                    "SSD",
                    "SSD",
                    "SSD",
                    "SSD",
                    "SSD",
                    "SSD",
                    "SSD",
                    "SSD",
                    "SSD",
                    "SSD",
                    "SSD",
                    "SSD",
                    "SSD",
                    "SSD",
                    "SSD",
                    "SSD",
                    "SSD",
                    "SSD",
                    "SSD",
                    "SSD",
                    "SSD",
                    "SSD",
                    "SSD",
                    "SSD",
                    "SSD",
                    "SSD",
                    "SSD",
                    "SSD",
                    "SSD",
                    "SSD",
                    "SSD",
                    "SSD",
                    "SSD",
                    "SSD",
                    "SSD",
                    "SSD",
                    "SSD",
                    "SSD",
                    "SSD",
                    "SSD",
                    "SSD",
                    "SSD",
                    "SSD",
                    "SSD",
                    "SSD",
                    "SSD",
                    "SSD",
                    "SSD",
                    "SSD",
                    "SSD",
                    "SSD",
                    "SSD",
                    "SSD",
                    "SSD",
                    "SSD",
                    "SSD",
                    "SSD",
                    "SSD",
                    "SSD",
                    "SSD",
                    "SSD",
                    "SSD",
                    "SSD",
                    "SSD",
                    "SSD",
                    "SSD",
                    "SSD",
                    "SSD",
                    "SSD",
                    "SSD",
                    "SSD",
                    "SSD",
                    "SSD",
                    "SSD",
                    "SSD",
                    "SSD",
                    "SSD",
                    "SSD",
                    "SSD",
                    "SSD",
                    "SSD",
                    "SSD",
                    "SSD",
                    "SSD",
                    "SSD",
                    "SSD",
                    "SSD",
                    "SSD",
                    "SSD",
                    "SSD",
                    "SSD",
                    "SSD",
                    "SSD",
                    "SSD",
                    "SSD",
                    "SSD",
                    "SSD",
                    "SSD",
                    "SSD",
                    "SSD",
                    "SSD",
                    "SSD",
                    "SSD",
                    "SSD",
                    "SSD",
                    "SSD",
                    "SSD",
                    "SSD",
                    "SSD",
                    "SSD",
                    "SSD",
                    "SSD",
                    "SSD",
                    "SSD",
                    "SSD",
                    "SSD",
                    "SSD",
                    "SSD",
                    "SSD",
                    "SSD",
                    "SSD",
                    "SSD",
                    "SSD",
                    "SSD",
                    "SSD",
                    "SSD",
                    "SSD",
                    "SSD",
                    "SSD",
                    "SSD",
                    "SSD",
                    "SSD",
                    "SSD",
                    "SSD",
                    "SSD",
                    "SSD",
                    "SSD",
                    "SSD",
                    "SSD",
                    "SSD",
                    "SSD",
                    "SSD",
                    "SSD",
                    "SSD",
                    "SSD",
                    "SSD",
                    "SSD",
                    "SSD",
                    "SSD",
                    "SSD",
                    "SSD",
                    "SSD",
                    "SSD",
                    "SSD",
                    "SSD",
                    "SSD",
                    "SSD",
                    "SSD",
                    "SSD",
                    "SSD",
                    "SSD",
                    "SSD",
                    "SSD",
                    "SSD",
                    "SSD",
                    "SSD",
                    "SSD",
                    "SSD",
                    "SSD",
                    "SSD",
                    "SSD",
                    "SSD",
                    "SSD",
                    "SSD",
                    "SSD",
                    "SSD",
                    "SSD",
                    "SSD",
                    "SSD",
                    "SSD",
                    "SSD",
                    "SSD",
                    "SSD",
                    "SSD",
                    "SSD",
                    "SSD",
                    "SSD",
                    "SSD",
                    "SSD",
                    "SSD",
                    "SSD",
                    "SSD",
                    "SSD",
                    "SSD",
                    "SSD",
                    "SSD",
                    "SSD",
                    "SSD",
                    "SSD",
                    "SSD",
                    "SSD",
                    "SSD",
                    "SSD",
                    "SSD",
                    "SSD",
                    "SSD",
                    "SSD",
                    "SSD",
                    "SSD",
                    "SSD",
                    "SSD",
                    "SSD",
                    "SSD",
                    "SSD",
                    "SSD",
                    "SSD",
                    "SSD",
                    "SSD",
                    "SSD",
                    "SSD",
                    "SSD",
                    "SSD",
                    "SSD",
                    "SSD",
                    "SSD",
                    "SSD",
                    "SSD",
                    "SSD",
                    "SSD",
                    "SSD",
                    "SSD",
                    "SSD",
                    "SSD",
                    "SSD",
                    "SSD",
                    "SSD",
                    "SSD",
                    "SSD",
                    "SSD",
                    "SSD",
                    "SSD",
                    "SSD",
                    "SSD",
                    "SSD",
                    "SSD",
                    "SSD",
                    "SSD",
                    "SSD",
                    "SSD",
                    "SSD",
                    "SSD",
                    "SSD",
                    "SSD",
                    "SSD",
                    "SSD",
                    "SSD",
                    "SSD",
                    "SSD",
                    "SSD",
                    "SSD",
                    "SSD",
                    "SSD",
                    "SSD",
                    "SSD",
                    "SSD",
                    "SSD",
                    "SSD",
                    "SSD",
                    "SSD",
                    "SSD",
                    "SSD",
                    "SSD",
                    "SSD",
                    "SSD",
                    "SSD",
                    "SSD",
                    "SSD",
                    "SSD",
                    "SSD",
                    "SSD",
                    "SSD",
                    "SSD",
                    "SSD",
                    "SSD",
                    "SSD",
                    "SSD",
                    "SSD",
                    "SSD",
                    "SSD",
                    "SSD",
                    "SSD",
                    "SSD",
                    "SSD",
                    "SSD",
                    "SSD",
                    "SSD",
                    "SSD",
                    "SSD",
                    "SSD",
                    "SSD",
                    "SSD",
                    "SSD",
                    "SSD",
                    "SSD",
                    "SSD",
                    "SSD",
                    "SSD",
                    "SSD",
                    "SSD",
                    "SSD",
                    "SSD",
                    "SSD",
                    "SSD",
                    "SSD",
                    "SSD",
                    "SSD",
                    "SSD",
                    "SSD",
                    "SSD"
                  ],
                  "xaxis": "x",
                  "yaxis": "y"
                },
                {
                  "alignmentgroup": "True",
                  "bingroup": "x",
                  "hovertemplate": "ROM=256GB<br>ROM_type=%{x}<br>count=%{y}<extra></extra>",
                  "legendgroup": "256GB",
                  "marker": {
                    "color": "rgb(246, 207, 113)",
                    "pattern": {
                      "shape": ""
                    }
                  },
                  "name": "256GB",
                  "offsetgroup": "256GB",
                  "orientation": "v",
                  "showlegend": true,
                  "type": "histogram",
                  "x": [
                    "SSD",
                    "SSD",
                    "SSD",
                    "SSD",
                    "SSD",
                    "SSD",
                    "SSD",
                    "SSD",
                    "SSD",
                    "SSD",
                    "SSD",
                    "SSD",
                    "SSD",
                    "SSD",
                    "SSD",
                    "SSD",
                    "SSD",
                    "SSD",
                    "SSD",
                    "SSD",
                    "SSD",
                    "SSD",
                    "SSD",
                    "SSD",
                    "SSD",
                    "SSD",
                    "SSD",
                    "SSD",
                    "SSD",
                    "SSD",
                    "SSD",
                    "SSD",
                    "SSD",
                    "SSD",
                    "SSD",
                    "SSD",
                    "SSD",
                    "SSD",
                    "SSD",
                    "SSD",
                    "SSD",
                    "SSD"
                  ],
                  "xaxis": "x",
                  "yaxis": "y"
                },
                {
                  "alignmentgroup": "True",
                  "bingroup": "x",
                  "hovertemplate": "ROM=128GB<br>ROM_type=%{x}<br>count=%{y}<extra></extra>",
                  "legendgroup": "128GB",
                  "marker": {
                    "color": "rgb(248, 156, 116)",
                    "pattern": {
                      "shape": ""
                    }
                  },
                  "name": "128GB",
                  "offsetgroup": "128GB",
                  "orientation": "v",
                  "showlegend": true,
                  "type": "histogram",
                  "x": [
                    "SSD",
                    "Hard-Disk",
                    "SSD",
                    "SSD",
                    "Hard-Disk",
                    "SSD",
                    "Hard-Disk",
                    "SSD",
                    "SSD",
                    "SSD",
                    "SSD",
                    "SSD"
                  ],
                  "xaxis": "x",
                  "yaxis": "y"
                },
                {
                  "alignmentgroup": "True",
                  "bingroup": "x",
                  "hovertemplate": "ROM=64GB<br>ROM_type=%{x}<br>count=%{y}<extra></extra>",
                  "legendgroup": "64GB",
                  "marker": {
                    "color": "rgb(220, 176, 242)",
                    "pattern": {
                      "shape": ""
                    }
                  },
                  "name": "64GB",
                  "offsetgroup": "64GB",
                  "orientation": "v",
                  "showlegend": true,
                  "type": "histogram",
                  "x": [
                    "Hard-Disk",
                    "SSD",
                    "Hard-Disk",
                    "SSD",
                    "SSD"
                  ],
                  "xaxis": "x",
                  "yaxis": "y"
                },
                {
                  "alignmentgroup": "True",
                  "bingroup": "x",
                  "hovertemplate": "ROM=1TB<br>ROM_type=%{x}<br>count=%{y}<extra></extra>",
                  "legendgroup": "1TB",
                  "marker": {
                    "color": "rgb(135, 197, 95)",
                    "pattern": {
                      "shape": ""
                    }
                  },
                  "name": "1TB",
                  "offsetgroup": "1TB",
                  "orientation": "v",
                  "showlegend": true,
                  "type": "histogram",
                  "x": [
                    "SSD",
                    "SSD",
                    "SSD",
                    "SSD",
                    "SSD",
                    "SSD",
                    "SSD",
                    "SSD",
                    "SSD",
                    "Hard-Disk",
                    "SSD",
                    "Hard-Disk",
                    "SSD",
                    "Hard-Disk",
                    "SSD",
                    "SSD",
                    "SSD",
                    "SSD",
                    "SSD",
                    "SSD",
                    "SSD",
                    "SSD",
                    "SSD",
                    "SSD",
                    "SSD",
                    "SSD",
                    "SSD",
                    "SSD",
                    "SSD",
                    "Hard-Disk",
                    "Hard-Disk",
                    "Hard-Disk",
                    "SSD",
                    "SSD",
                    "SSD",
                    "SSD",
                    "SSD",
                    "SSD",
                    "SSD",
                    "SSD",
                    "SSD",
                    "SSD",
                    "SSD",
                    "SSD",
                    "SSD",
                    "SSD",
                    "SSD",
                    "SSD",
                    "SSD",
                    "SSD",
                    "SSD",
                    "SSD",
                    "SSD",
                    "SSD",
                    "SSD",
                    "SSD",
                    "SSD",
                    "SSD",
                    "SSD",
                    "SSD",
                    "SSD",
                    "SSD",
                    "SSD",
                    "SSD",
                    "SSD",
                    "SSD",
                    "SSD",
                    "SSD",
                    "SSD",
                    "Hard-Disk",
                    "SSD",
                    "SSD",
                    "SSD",
                    "SSD",
                    "SSD",
                    "Hard-Disk",
                    "Hard-Disk",
                    "SSD",
                    "SSD",
                    "SSD",
                    "Hard-Disk",
                    "Hard-Disk",
                    "Hard-Disk",
                    "SSD",
                    "SSD",
                    "SSD",
                    "SSD",
                    "SSD",
                    "Hard-Disk",
                    "SSD",
                    "SSD",
                    "SSD",
                    "SSD",
                    "SSD",
                    "SSD",
                    "SSD",
                    "SSD",
                    "SSD",
                    "SSD",
                    "SSD",
                    "SSD",
                    "SSD",
                    "SSD",
                    "SSD",
                    "SSD",
                    "SSD",
                    "SSD",
                    "SSD",
                    "SSD",
                    "SSD",
                    "SSD",
                    "SSD",
                    "SSD",
                    "SSD",
                    "SSD",
                    "SSD",
                    "SSD",
                    "SSD",
                    "SSD",
                    "SSD",
                    "SSD",
                    "SSD",
                    "SSD",
                    "SSD",
                    "SSD",
                    "SSD",
                    "SSD",
                    "SSD",
                    "SSD",
                    "SSD",
                    "SSD",
                    "SSD",
                    "SSD",
                    "SSD",
                    "SSD",
                    "SSD",
                    "SSD",
                    "SSD",
                    "SSD",
                    "SSD",
                    "SSD",
                    "SSD",
                    "SSD",
                    "SSD",
                    "SSD",
                    "SSD",
                    "SSD",
                    "SSD",
                    "SSD",
                    "SSD",
                    "SSD",
                    "SSD",
                    "SSD",
                    "SSD",
                    "SSD",
                    "SSD",
                    "Hard-Disk",
                    "SSD",
                    "SSD",
                    "SSD",
                    "SSD",
                    "SSD",
                    "SSD",
                    "SSD",
                    "SSD",
                    "SSD",
                    "SSD",
                    "SSD",
                    "SSD",
                    "SSD",
                    "SSD",
                    "SSD",
                    "SSD",
                    "SSD",
                    "SSD",
                    "SSD",
                    "SSD",
                    "SSD",
                    "SSD",
                    "SSD",
                    "SSD",
                    "SSD",
                    "SSD",
                    "SSD",
                    "SSD",
                    "SSD",
                    "SSD",
                    "SSD"
                  ],
                  "xaxis": "x",
                  "yaxis": "y"
                },
                {
                  "alignmentgroup": "True",
                  "bingroup": "x",
                  "hovertemplate": "ROM=32GB<br>ROM_type=%{x}<br>count=%{y}<extra></extra>",
                  "legendgroup": "32GB",
                  "marker": {
                    "color": "rgb(158, 185, 243)",
                    "pattern": {
                      "shape": ""
                    }
                  },
                  "name": "32GB",
                  "offsetgroup": "32GB",
                  "orientation": "v",
                  "showlegend": true,
                  "type": "histogram",
                  "x": [
                    "Hard-Disk",
                    "Hard-Disk"
                  ],
                  "xaxis": "x",
                  "yaxis": "y"
                },
                {
                  "alignmentgroup": "True",
                  "bingroup": "x",
                  "hovertemplate": "ROM=2TB<br>ROM_type=%{x}<br>count=%{y}<extra></extra>",
                  "legendgroup": "2TB",
                  "marker": {
                    "color": "rgb(254, 136, 177)",
                    "pattern": {
                      "shape": ""
                    }
                  },
                  "name": "2TB",
                  "offsetgroup": "2TB",
                  "orientation": "v",
                  "showlegend": true,
                  "type": "histogram",
                  "x": [
                    "SSD",
                    "SSD",
                    "SSD",
                    "SSD",
                    "SSD",
                    "SSD",
                    "SSD",
                    "SSD",
                    "SSD",
                    "SSD"
                  ],
                  "xaxis": "x",
                  "yaxis": "y"
                }
              ],
              "layout": {
                "barmode": "relative",
                "legend": {
                  "title": {
                    "text": "ROM"
                  },
                  "tracegroupgap": 0
                },
                "template": {
                  "data": {
                    "bar": [
                      {
                        "error_x": {
                          "color": "#2a3f5f"
                        },
                        "error_y": {
                          "color": "#2a3f5f"
                        },
                        "marker": {
                          "line": {
                            "color": "#E5ECF6",
                            "width": 0.5
                          },
                          "pattern": {
                            "fillmode": "overlay",
                            "size": 10,
                            "solidity": 0.2
                          }
                        },
                        "type": "bar"
                      }
                    ],
                    "barpolar": [
                      {
                        "marker": {
                          "line": {
                            "color": "#E5ECF6",
                            "width": 0.5
                          },
                          "pattern": {
                            "fillmode": "overlay",
                            "size": 10,
                            "solidity": 0.2
                          }
                        },
                        "type": "barpolar"
                      }
                    ],
                    "carpet": [
                      {
                        "aaxis": {
                          "endlinecolor": "#2a3f5f",
                          "gridcolor": "white",
                          "linecolor": "white",
                          "minorgridcolor": "white",
                          "startlinecolor": "#2a3f5f"
                        },
                        "baxis": {
                          "endlinecolor": "#2a3f5f",
                          "gridcolor": "white",
                          "linecolor": "white",
                          "minorgridcolor": "white",
                          "startlinecolor": "#2a3f5f"
                        },
                        "type": "carpet"
                      }
                    ],
                    "choropleth": [
                      {
                        "colorbar": {
                          "outlinewidth": 0,
                          "ticks": ""
                        },
                        "type": "choropleth"
                      }
                    ],
                    "contour": [
                      {
                        "colorbar": {
                          "outlinewidth": 0,
                          "ticks": ""
                        },
                        "colorscale": [
                          [
                            0,
                            "#0d0887"
                          ],
                          [
                            0.1111111111111111,
                            "#46039f"
                          ],
                          [
                            0.2222222222222222,
                            "#7201a8"
                          ],
                          [
                            0.3333333333333333,
                            "#9c179e"
                          ],
                          [
                            0.4444444444444444,
                            "#bd3786"
                          ],
                          [
                            0.5555555555555556,
                            "#d8576b"
                          ],
                          [
                            0.6666666666666666,
                            "#ed7953"
                          ],
                          [
                            0.7777777777777778,
                            "#fb9f3a"
                          ],
                          [
                            0.8888888888888888,
                            "#fdca26"
                          ],
                          [
                            1,
                            "#f0f921"
                          ]
                        ],
                        "type": "contour"
                      }
                    ],
                    "contourcarpet": [
                      {
                        "colorbar": {
                          "outlinewidth": 0,
                          "ticks": ""
                        },
                        "type": "contourcarpet"
                      }
                    ],
                    "heatmap": [
                      {
                        "colorbar": {
                          "outlinewidth": 0,
                          "ticks": ""
                        },
                        "colorscale": [
                          [
                            0,
                            "#0d0887"
                          ],
                          [
                            0.1111111111111111,
                            "#46039f"
                          ],
                          [
                            0.2222222222222222,
                            "#7201a8"
                          ],
                          [
                            0.3333333333333333,
                            "#9c179e"
                          ],
                          [
                            0.4444444444444444,
                            "#bd3786"
                          ],
                          [
                            0.5555555555555556,
                            "#d8576b"
                          ],
                          [
                            0.6666666666666666,
                            "#ed7953"
                          ],
                          [
                            0.7777777777777778,
                            "#fb9f3a"
                          ],
                          [
                            0.8888888888888888,
                            "#fdca26"
                          ],
                          [
                            1,
                            "#f0f921"
                          ]
                        ],
                        "type": "heatmap"
                      }
                    ],
                    "heatmapgl": [
                      {
                        "colorbar": {
                          "outlinewidth": 0,
                          "ticks": ""
                        },
                        "colorscale": [
                          [
                            0,
                            "#0d0887"
                          ],
                          [
                            0.1111111111111111,
                            "#46039f"
                          ],
                          [
                            0.2222222222222222,
                            "#7201a8"
                          ],
                          [
                            0.3333333333333333,
                            "#9c179e"
                          ],
                          [
                            0.4444444444444444,
                            "#bd3786"
                          ],
                          [
                            0.5555555555555556,
                            "#d8576b"
                          ],
                          [
                            0.6666666666666666,
                            "#ed7953"
                          ],
                          [
                            0.7777777777777778,
                            "#fb9f3a"
                          ],
                          [
                            0.8888888888888888,
                            "#fdca26"
                          ],
                          [
                            1,
                            "#f0f921"
                          ]
                        ],
                        "type": "heatmapgl"
                      }
                    ],
                    "histogram": [
                      {
                        "marker": {
                          "pattern": {
                            "fillmode": "overlay",
                            "size": 10,
                            "solidity": 0.2
                          }
                        },
                        "type": "histogram"
                      }
                    ],
                    "histogram2d": [
                      {
                        "colorbar": {
                          "outlinewidth": 0,
                          "ticks": ""
                        },
                        "colorscale": [
                          [
                            0,
                            "#0d0887"
                          ],
                          [
                            0.1111111111111111,
                            "#46039f"
                          ],
                          [
                            0.2222222222222222,
                            "#7201a8"
                          ],
                          [
                            0.3333333333333333,
                            "#9c179e"
                          ],
                          [
                            0.4444444444444444,
                            "#bd3786"
                          ],
                          [
                            0.5555555555555556,
                            "#d8576b"
                          ],
                          [
                            0.6666666666666666,
                            "#ed7953"
                          ],
                          [
                            0.7777777777777778,
                            "#fb9f3a"
                          ],
                          [
                            0.8888888888888888,
                            "#fdca26"
                          ],
                          [
                            1,
                            "#f0f921"
                          ]
                        ],
                        "type": "histogram2d"
                      }
                    ],
                    "histogram2dcontour": [
                      {
                        "colorbar": {
                          "outlinewidth": 0,
                          "ticks": ""
                        },
                        "colorscale": [
                          [
                            0,
                            "#0d0887"
                          ],
                          [
                            0.1111111111111111,
                            "#46039f"
                          ],
                          [
                            0.2222222222222222,
                            "#7201a8"
                          ],
                          [
                            0.3333333333333333,
                            "#9c179e"
                          ],
                          [
                            0.4444444444444444,
                            "#bd3786"
                          ],
                          [
                            0.5555555555555556,
                            "#d8576b"
                          ],
                          [
                            0.6666666666666666,
                            "#ed7953"
                          ],
                          [
                            0.7777777777777778,
                            "#fb9f3a"
                          ],
                          [
                            0.8888888888888888,
                            "#fdca26"
                          ],
                          [
                            1,
                            "#f0f921"
                          ]
                        ],
                        "type": "histogram2dcontour"
                      }
                    ],
                    "mesh3d": [
                      {
                        "colorbar": {
                          "outlinewidth": 0,
                          "ticks": ""
                        },
                        "type": "mesh3d"
                      }
                    ],
                    "parcoords": [
                      {
                        "line": {
                          "colorbar": {
                            "outlinewidth": 0,
                            "ticks": ""
                          }
                        },
                        "type": "parcoords"
                      }
                    ],
                    "pie": [
                      {
                        "automargin": true,
                        "type": "pie"
                      }
                    ],
                    "scatter": [
                      {
                        "fillpattern": {
                          "fillmode": "overlay",
                          "size": 10,
                          "solidity": 0.2
                        },
                        "type": "scatter"
                      }
                    ],
                    "scatter3d": [
                      {
                        "line": {
                          "colorbar": {
                            "outlinewidth": 0,
                            "ticks": ""
                          }
                        },
                        "marker": {
                          "colorbar": {
                            "outlinewidth": 0,
                            "ticks": ""
                          }
                        },
                        "type": "scatter3d"
                      }
                    ],
                    "scattercarpet": [
                      {
                        "marker": {
                          "colorbar": {
                            "outlinewidth": 0,
                            "ticks": ""
                          }
                        },
                        "type": "scattercarpet"
                      }
                    ],
                    "scattergeo": [
                      {
                        "marker": {
                          "colorbar": {
                            "outlinewidth": 0,
                            "ticks": ""
                          }
                        },
                        "type": "scattergeo"
                      }
                    ],
                    "scattergl": [
                      {
                        "marker": {
                          "colorbar": {
                            "outlinewidth": 0,
                            "ticks": ""
                          }
                        },
                        "type": "scattergl"
                      }
                    ],
                    "scattermapbox": [
                      {
                        "marker": {
                          "colorbar": {
                            "outlinewidth": 0,
                            "ticks": ""
                          }
                        },
                        "type": "scattermapbox"
                      }
                    ],
                    "scatterpolar": [
                      {
                        "marker": {
                          "colorbar": {
                            "outlinewidth": 0,
                            "ticks": ""
                          }
                        },
                        "type": "scatterpolar"
                      }
                    ],
                    "scatterpolargl": [
                      {
                        "marker": {
                          "colorbar": {
                            "outlinewidth": 0,
                            "ticks": ""
                          }
                        },
                        "type": "scatterpolargl"
                      }
                    ],
                    "scatterternary": [
                      {
                        "marker": {
                          "colorbar": {
                            "outlinewidth": 0,
                            "ticks": ""
                          }
                        },
                        "type": "scatterternary"
                      }
                    ],
                    "surface": [
                      {
                        "colorbar": {
                          "outlinewidth": 0,
                          "ticks": ""
                        },
                        "colorscale": [
                          [
                            0,
                            "#0d0887"
                          ],
                          [
                            0.1111111111111111,
                            "#46039f"
                          ],
                          [
                            0.2222222222222222,
                            "#7201a8"
                          ],
                          [
                            0.3333333333333333,
                            "#9c179e"
                          ],
                          [
                            0.4444444444444444,
                            "#bd3786"
                          ],
                          [
                            0.5555555555555556,
                            "#d8576b"
                          ],
                          [
                            0.6666666666666666,
                            "#ed7953"
                          ],
                          [
                            0.7777777777777778,
                            "#fb9f3a"
                          ],
                          [
                            0.8888888888888888,
                            "#fdca26"
                          ],
                          [
                            1,
                            "#f0f921"
                          ]
                        ],
                        "type": "surface"
                      }
                    ],
                    "table": [
                      {
                        "cells": {
                          "fill": {
                            "color": "#EBF0F8"
                          },
                          "line": {
                            "color": "white"
                          }
                        },
                        "header": {
                          "fill": {
                            "color": "#C8D4E3"
                          },
                          "line": {
                            "color": "white"
                          }
                        },
                        "type": "table"
                      }
                    ]
                  },
                  "layout": {
                    "annotationdefaults": {
                      "arrowcolor": "#2a3f5f",
                      "arrowhead": 0,
                      "arrowwidth": 1
                    },
                    "autotypenumbers": "strict",
                    "coloraxis": {
                      "colorbar": {
                        "outlinewidth": 0,
                        "ticks": ""
                      }
                    },
                    "colorscale": {
                      "diverging": [
                        [
                          0,
                          "#8e0152"
                        ],
                        [
                          0.1,
                          "#c51b7d"
                        ],
                        [
                          0.2,
                          "#de77ae"
                        ],
                        [
                          0.3,
                          "#f1b6da"
                        ],
                        [
                          0.4,
                          "#fde0ef"
                        ],
                        [
                          0.5,
                          "#f7f7f7"
                        ],
                        [
                          0.6,
                          "#e6f5d0"
                        ],
                        [
                          0.7,
                          "#b8e186"
                        ],
                        [
                          0.8,
                          "#7fbc41"
                        ],
                        [
                          0.9,
                          "#4d9221"
                        ],
                        [
                          1,
                          "#276419"
                        ]
                      ],
                      "sequential": [
                        [
                          0,
                          "#0d0887"
                        ],
                        [
                          0.1111111111111111,
                          "#46039f"
                        ],
                        [
                          0.2222222222222222,
                          "#7201a8"
                        ],
                        [
                          0.3333333333333333,
                          "#9c179e"
                        ],
                        [
                          0.4444444444444444,
                          "#bd3786"
                        ],
                        [
                          0.5555555555555556,
                          "#d8576b"
                        ],
                        [
                          0.6666666666666666,
                          "#ed7953"
                        ],
                        [
                          0.7777777777777778,
                          "#fb9f3a"
                        ],
                        [
                          0.8888888888888888,
                          "#fdca26"
                        ],
                        [
                          1,
                          "#f0f921"
                        ]
                      ],
                      "sequentialminus": [
                        [
                          0,
                          "#0d0887"
                        ],
                        [
                          0.1111111111111111,
                          "#46039f"
                        ],
                        [
                          0.2222222222222222,
                          "#7201a8"
                        ],
                        [
                          0.3333333333333333,
                          "#9c179e"
                        ],
                        [
                          0.4444444444444444,
                          "#bd3786"
                        ],
                        [
                          0.5555555555555556,
                          "#d8576b"
                        ],
                        [
                          0.6666666666666666,
                          "#ed7953"
                        ],
                        [
                          0.7777777777777778,
                          "#fb9f3a"
                        ],
                        [
                          0.8888888888888888,
                          "#fdca26"
                        ],
                        [
                          1,
                          "#f0f921"
                        ]
                      ]
                    },
                    "colorway": [
                      "#636efa",
                      "#EF553B",
                      "#00cc96",
                      "#ab63fa",
                      "#FFA15A",
                      "#19d3f3",
                      "#FF6692",
                      "#B6E880",
                      "#FF97FF",
                      "#FECB52"
                    ],
                    "font": {
                      "color": "#2a3f5f"
                    },
                    "geo": {
                      "bgcolor": "white",
                      "lakecolor": "white",
                      "landcolor": "#E5ECF6",
                      "showlakes": true,
                      "showland": true,
                      "subunitcolor": "white"
                    },
                    "hoverlabel": {
                      "align": "left"
                    },
                    "hovermode": "closest",
                    "mapbox": {
                      "style": "light"
                    },
                    "paper_bgcolor": "white",
                    "plot_bgcolor": "#E5ECF6",
                    "polar": {
                      "angularaxis": {
                        "gridcolor": "white",
                        "linecolor": "white",
                        "ticks": ""
                      },
                      "bgcolor": "#E5ECF6",
                      "radialaxis": {
                        "gridcolor": "white",
                        "linecolor": "white",
                        "ticks": ""
                      }
                    },
                    "scene": {
                      "xaxis": {
                        "backgroundcolor": "#E5ECF6",
                        "gridcolor": "white",
                        "gridwidth": 2,
                        "linecolor": "white",
                        "showbackground": true,
                        "ticks": "",
                        "zerolinecolor": "white"
                      },
                      "yaxis": {
                        "backgroundcolor": "#E5ECF6",
                        "gridcolor": "white",
                        "gridwidth": 2,
                        "linecolor": "white",
                        "showbackground": true,
                        "ticks": "",
                        "zerolinecolor": "white"
                      },
                      "zaxis": {
                        "backgroundcolor": "#E5ECF6",
                        "gridcolor": "white",
                        "gridwidth": 2,
                        "linecolor": "white",
                        "showbackground": true,
                        "ticks": "",
                        "zerolinecolor": "white"
                      }
                    },
                    "shapedefaults": {
                      "line": {
                        "color": "#2a3f5f"
                      }
                    },
                    "ternary": {
                      "aaxis": {
                        "gridcolor": "white",
                        "linecolor": "white",
                        "ticks": ""
                      },
                      "baxis": {
                        "gridcolor": "white",
                        "linecolor": "white",
                        "ticks": ""
                      },
                      "bgcolor": "#E5ECF6",
                      "caxis": {
                        "gridcolor": "white",
                        "linecolor": "white",
                        "ticks": ""
                      }
                    },
                    "title": {
                      "x": 0.05
                    },
                    "xaxis": {
                      "automargin": true,
                      "gridcolor": "white",
                      "linecolor": "white",
                      "ticks": "",
                      "title": {
                        "standoff": 15
                      },
                      "zerolinecolor": "white",
                      "zerolinewidth": 2
                    },
                    "yaxis": {
                      "automargin": true,
                      "gridcolor": "white",
                      "linecolor": "white",
                      "ticks": "",
                      "title": {
                        "standoff": 15
                      },
                      "zerolinecolor": "white",
                      "zerolinewidth": 2
                    }
                  }
                },
                "title": {
                  "text": "ROM Distribution"
                },
                "xaxis": {
                  "anchor": "y",
                  "domain": [
                    0,
                    1
                  ],
                  "title": {
                    "text": "ROM_type"
                  }
                },
                "yaxis": {
                  "anchor": "x",
                  "domain": [
                    0,
                    1
                  ],
                  "title": {
                    "text": "count"
                  }
                }
              }
            }
          },
          "metadata": {},
          "output_type": "display_data"
        }
      ],
      "source": [
        "# ROM Size and Type\n",
        "plt = px.histogram(df, x='ROM_type', color='ROM', title=\"ROM Distribution\", color_discrete_sequence=px.colors.qualitative.Pastel )\n",
        "plt.show()"
      ]
    },
    {
      "cell_type": "code",
      "execution_count": 17,
      "metadata": {
        "colab": {
          "base_uri": "https://localhost:8080/",
          "height": 542
        },
        "id": "gWDmNXx6QiNG",
        "outputId": "da880ad7-56f0-4c32-a441-025a7229c18d"
      },
      "outputs": [
        {
          "data": {
            "application/vnd.plotly.v1+json": {
              "config": {
                "plotlyServerURL": "https://plot.ly"
              },
              "data": [
                {
                  "alignmentgroup": "True",
                  "bingroup": "x",
                  "hovertemplate": "GPU=%{x}<br>count=%{y}<extra></extra>",
                  "legendgroup": "4GB AMD Radeon RX 6500M",
                  "marker": {
                    "color": "#636efa",
                    "pattern": {
                      "shape": ""
                    }
                  },
                  "name": "4GB AMD Radeon RX 6500M",
                  "offsetgroup": "4GB AMD Radeon RX 6500M",
                  "orientation": "v",
                  "showlegend": true,
                  "type": "histogram",
                  "x": [
                    "4GB AMD Radeon RX 6500M",
                    "4GB AMD Radeon RX 6500M"
                  ],
                  "xaxis": "x",
                  "yaxis": "y"
                },
                {
                  "alignmentgroup": "True",
                  "bingroup": "x",
                  "hovertemplate": "GPU=%{x}<br>count=%{y}<extra></extra>",
                  "legendgroup": "Intel UHD Graphics",
                  "marker": {
                    "color": "#EF553B",
                    "pattern": {
                      "shape": ""
                    }
                  },
                  "name": "Intel UHD Graphics",
                  "offsetgroup": "Intel UHD Graphics",
                  "orientation": "v",
                  "showlegend": true,
                  "type": "histogram",
                  "x": [
                    "Intel UHD Graphics",
                    "Intel UHD Graphics",
                    "Intel UHD Graphics",
                    "Intel UHD Graphics",
                    "Intel UHD Graphics",
                    "Intel UHD Graphics",
                    "Intel UHD Graphics",
                    "Intel UHD Graphics",
                    "Intel UHD Graphics",
                    "Intel UHD Graphics",
                    "Intel UHD Graphics",
                    "Intel UHD Graphics",
                    "Intel UHD Graphics",
                    "Intel UHD Graphics",
                    "Intel UHD Graphics",
                    "Intel UHD Graphics",
                    "Intel UHD Graphics",
                    "Intel UHD Graphics",
                    "Intel UHD Graphics",
                    "Intel UHD Graphics",
                    "Intel UHD Graphics",
                    "Intel UHD Graphics",
                    "Intel UHD Graphics",
                    "Intel UHD Graphics",
                    "Intel UHD Graphics",
                    "Intel UHD Graphics",
                    "Intel UHD Graphics",
                    "Intel UHD Graphics",
                    "Intel UHD Graphics",
                    "Intel UHD Graphics",
                    "Intel UHD Graphics",
                    "Intel UHD Graphics",
                    "Intel UHD Graphics",
                    "Intel UHD Graphics",
                    "Intel UHD Graphics",
                    "Intel UHD Graphics",
                    "Intel UHD Graphics",
                    "Intel UHD Graphics",
                    "Intel UHD Graphics",
                    "Intel UHD Graphics",
                    "Intel UHD Graphics",
                    "Intel UHD Graphics",
                    "Intel UHD Graphics",
                    "Intel UHD Graphics",
                    "Intel UHD Graphics",
                    "Intel UHD Graphics",
                    "Intel UHD Graphics",
                    "Intel UHD Graphics",
                    "Intel UHD Graphics",
                    "Intel UHD Graphics",
                    "Intel UHD Graphics",
                    "Intel UHD Graphics",
                    "Intel UHD Graphics",
                    "Intel UHD Graphics",
                    "Intel UHD Graphics",
                    "Intel UHD Graphics",
                    "Intel UHD Graphics",
                    "Intel UHD Graphics",
                    "Intel UHD Graphics",
                    "Intel UHD Graphics",
                    "Intel UHD Graphics",
                    "Intel UHD Graphics",
                    "Intel UHD Graphics"
                  ],
                  "xaxis": "x",
                  "yaxis": "y"
                },
                {
                  "alignmentgroup": "True",
                  "bingroup": "x",
                  "hovertemplate": "GPU=%{x}<br>count=%{y}<extra></extra>",
                  "legendgroup": "Intel Iris Xe Graphics",
                  "marker": {
                    "color": "#00cc96",
                    "pattern": {
                      "shape": ""
                    }
                  },
                  "name": "Intel Iris Xe Graphics",
                  "offsetgroup": "Intel Iris Xe Graphics",
                  "orientation": "v",
                  "showlegend": true,
                  "type": "histogram",
                  "x": [
                    "Intel Iris Xe Graphics",
                    "Intel Iris Xe Graphics",
                    "Intel Iris Xe Graphics",
                    "Intel Iris Xe Graphics",
                    "Intel Iris Xe Graphics",
                    "Intel Iris Xe Graphics",
                    "Intel Iris Xe Graphics",
                    "Intel Iris Xe Graphics",
                    "Intel Iris Xe Graphics",
                    "Intel Iris Xe Graphics",
                    "Intel Iris Xe Graphics",
                    "Intel Iris Xe Graphics",
                    "Intel Iris Xe Graphics",
                    "Intel Iris Xe Graphics",
                    "Intel Iris Xe Graphics",
                    "Intel Iris Xe Graphics",
                    "Intel Iris Xe Graphics",
                    "Intel Iris Xe Graphics",
                    "Intel Iris Xe Graphics",
                    "Intel Iris Xe Graphics",
                    "Intel Iris Xe Graphics",
                    "Intel Iris Xe Graphics",
                    "Intel Iris Xe Graphics",
                    "Intel Iris Xe Graphics",
                    "Intel Iris Xe Graphics",
                    "Intel Iris Xe Graphics",
                    "Intel Iris Xe Graphics",
                    "Intel Iris Xe Graphics",
                    "Intel Iris Xe Graphics",
                    "Intel Iris Xe Graphics",
                    "Intel Iris Xe Graphics",
                    "Intel Iris Xe Graphics",
                    "Intel Iris Xe Graphics",
                    "Intel Iris Xe Graphics",
                    "Intel Iris Xe Graphics",
                    "Intel Iris Xe Graphics",
                    "Intel Iris Xe Graphics",
                    "Intel Iris Xe Graphics",
                    "Intel Iris Xe Graphics",
                    "Intel Iris Xe Graphics",
                    "Intel Iris Xe Graphics",
                    "Intel Iris Xe Graphics",
                    "Intel Iris Xe Graphics",
                    "Intel Iris Xe Graphics",
                    "Intel Iris Xe Graphics",
                    "Intel Iris Xe Graphics",
                    "Intel Iris Xe Graphics",
                    "Intel Iris Xe Graphics",
                    "Intel Iris Xe Graphics",
                    "Intel Iris Xe Graphics",
                    "Intel Iris Xe Graphics",
                    "Intel Iris Xe Graphics",
                    "Intel Iris Xe Graphics",
                    "Intel Iris Xe Graphics",
                    "Intel Iris Xe Graphics",
                    "Intel Iris Xe Graphics",
                    "Intel Iris Xe Graphics",
                    "Intel Iris Xe Graphics",
                    "Intel Iris Xe Graphics",
                    "Intel Iris Xe Graphics",
                    "Intel Iris Xe Graphics",
                    "Intel Iris Xe Graphics",
                    "Intel Iris Xe Graphics",
                    "Intel Iris Xe Graphics",
                    "Intel Iris Xe Graphics",
                    "Intel Iris Xe Graphics",
                    "Intel Iris Xe Graphics",
                    "Intel Iris Xe Graphics",
                    "Intel Iris Xe Graphics",
                    "Intel Iris Xe Graphics",
                    "Intel Iris Xe Graphics",
                    "Intel Iris Xe Graphics",
                    "Intel Iris Xe Graphics",
                    "Intel Iris Xe Graphics",
                    "Intel Iris Xe Graphics",
                    "Intel Iris Xe Graphics",
                    "Intel Iris Xe Graphics",
                    "Intel Iris Xe Graphics",
                    "Intel Iris Xe Graphics",
                    "Intel Iris Xe Graphics",
                    "Intel Iris Xe Graphics",
                    "Intel Iris Xe Graphics",
                    "Intel Iris Xe Graphics",
                    "Intel Iris Xe Graphics",
                    "Intel Iris Xe Graphics",
                    "Intel Iris Xe Graphics",
                    "Intel Iris Xe Graphics",
                    "Intel Iris Xe Graphics",
                    "Intel Iris Xe Graphics",
                    "Intel Iris Xe Graphics",
                    "Intel Iris Xe Graphics",
                    "Intel Iris Xe Graphics",
                    "Intel Iris Xe Graphics",
                    "Intel Iris Xe Graphics",
                    "Intel Iris Xe Graphics",
                    "Intel Iris Xe Graphics",
                    "Intel Iris Xe Graphics",
                    "Intel Iris Xe Graphics",
                    "Intel Iris Xe Graphics",
                    "Intel Iris Xe Graphics",
                    "Intel Iris Xe Graphics",
                    "Intel Iris Xe Graphics",
                    "Intel Iris Xe Graphics",
                    "Intel Iris Xe Graphics",
                    "Intel Iris Xe Graphics",
                    "Intel Iris Xe Graphics",
                    "Intel Iris Xe Graphics"
                  ],
                  "xaxis": "x",
                  "yaxis": "y"
                },
                {
                  "alignmentgroup": "True",
                  "bingroup": "x",
                  "hovertemplate": "GPU=%{x}<br>count=%{y}<extra></extra>",
                  "legendgroup": "Intel Integrated Iris Xe",
                  "marker": {
                    "color": "#ab63fa",
                    "pattern": {
                      "shape": ""
                    }
                  },
                  "name": "Intel Integrated Iris Xe",
                  "offsetgroup": "Intel Integrated Iris Xe",
                  "orientation": "v",
                  "showlegend": true,
                  "type": "histogram",
                  "x": [
                    "Intel Integrated Iris Xe",
                    "Intel Integrated Iris Xe",
                    "Intel Integrated Iris Xe",
                    "Intel Integrated Iris Xe",
                    "Intel Integrated Iris Xe",
                    "Intel Integrated Iris Xe",
                    "Intel Integrated Iris Xe",
                    "Intel Integrated Iris Xe",
                    "Intel Integrated Iris Xe",
                    "Intel Integrated Iris Xe",
                    "Intel Integrated Iris Xe",
                    "Intel Integrated Iris Xe",
                    "Intel Integrated Iris Xe",
                    "Intel Integrated Iris Xe",
                    "Intel Integrated Iris Xe",
                    "Intel Integrated Iris Xe",
                    "Intel Integrated Iris Xe",
                    "Intel Integrated Iris Xe",
                    "Intel Integrated Iris Xe",
                    "Intel Integrated Iris Xe",
                    "Intel Integrated Iris Xe",
                    "Intel Integrated Iris Xe",
                    "Intel Integrated Iris Xe",
                    "Intel Integrated Iris Xe",
                    "Intel Integrated Iris Xe",
                    "Intel Integrated Iris Xe",
                    "Intel Integrated Iris Xe",
                    "Intel Integrated Iris Xe",
                    "Intel Integrated Iris Xe",
                    "Intel Integrated Iris Xe",
                    "Intel Integrated Iris Xe",
                    "Intel Integrated Iris Xe",
                    "Intel Integrated Iris Xe",
                    "Intel Integrated Iris Xe",
                    "Intel Integrated Iris Xe",
                    "Intel Integrated Iris Xe",
                    "Intel Integrated Iris Xe",
                    "Intel Integrated Iris Xe",
                    "Intel Integrated Iris Xe",
                    "Intel Integrated Iris Xe",
                    "Intel Integrated Iris Xe",
                    "Intel Integrated Iris Xe",
                    "Intel Integrated Iris Xe",
                    "Intel Integrated Iris Xe",
                    "Intel Integrated Iris Xe",
                    "Intel Integrated Iris Xe",
                    "Intel Integrated Iris Xe",
                    "Intel Integrated Iris Xe",
                    "Intel Integrated Iris Xe",
                    "Intel Integrated Iris Xe",
                    "Intel Integrated Iris Xe"
                  ],
                  "xaxis": "x",
                  "yaxis": "y"
                },
                {
                  "alignmentgroup": "True",
                  "bingroup": "x",
                  "hovertemplate": "GPU=%{x}<br>count=%{y}<extra></extra>",
                  "legendgroup": "Apple M1 Integrated Graphics",
                  "marker": {
                    "color": "#FFA15A",
                    "pattern": {
                      "shape": ""
                    }
                  },
                  "name": "Apple M1 Integrated Graphics",
                  "offsetgroup": "Apple M1 Integrated Graphics",
                  "orientation": "v",
                  "showlegend": true,
                  "type": "histogram",
                  "x": [
                    "Apple M1 Integrated Graphics",
                    "Apple M1 Integrated Graphics"
                  ],
                  "xaxis": "x",
                  "yaxis": "y"
                },
                {
                  "alignmentgroup": "True",
                  "bingroup": "x",
                  "hovertemplate": "GPU=%{x}<br>count=%{y}<extra></extra>",
                  "legendgroup": "6GB NVIDIA GeForce RTX 4050",
                  "marker": {
                    "color": "#19d3f3",
                    "pattern": {
                      "shape": ""
                    }
                  },
                  "name": "6GB NVIDIA GeForce RTX 4050",
                  "offsetgroup": "6GB NVIDIA GeForce RTX 4050",
                  "orientation": "v",
                  "showlegend": true,
                  "type": "histogram",
                  "x": [
                    "6GB NVIDIA GeForce RTX 4050",
                    "6GB NVIDIA GeForce RTX 4050",
                    "6GB NVIDIA GeForce RTX 4050",
                    "6GB NVIDIA GeForce RTX 4050",
                    "6GB NVIDIA GeForce RTX 4050",
                    "6GB NVIDIA GeForce RTX 4050",
                    "6GB NVIDIA GeForce RTX 4050",
                    "6GB NVIDIA GeForce RTX 4050",
                    "6GB NVIDIA GeForce RTX 4050",
                    "6GB NVIDIA GeForce RTX 4050",
                    "6GB NVIDIA GeForce RTX 4050",
                    "6GB NVIDIA GeForce RTX 4050",
                    "6GB NVIDIA GeForce RTX 4050",
                    "6GB NVIDIA GeForce RTX 4050",
                    "6GB NVIDIA GeForce RTX 4050",
                    "6GB NVIDIA GeForce RTX 4050",
                    "6GB NVIDIA GeForce RTX 4050",
                    "6GB NVIDIA GeForce RTX 4050",
                    "6GB NVIDIA GeForce RTX 4050",
                    "6GB NVIDIA GeForce RTX 4050",
                    "6GB NVIDIA GeForce RTX 4050",
                    "6GB NVIDIA GeForce RTX 4050",
                    "6GB NVIDIA GeForce RTX 4050",
                    "6GB NVIDIA GeForce RTX 4050",
                    "6GB NVIDIA GeForce RTX 4050",
                    "6GB NVIDIA GeForce RTX 4050",
                    "6GB NVIDIA GeForce RTX 4050",
                    "6GB NVIDIA GeForce RTX 4050",
                    "6GB NVIDIA GeForce RTX 4050",
                    "6GB NVIDIA GeForce RTX 4050",
                    "6GB NVIDIA GeForce RTX 4050",
                    "6GB NVIDIA GeForce RTX 4050",
                    "6GB NVIDIA GeForce RTX 4050",
                    "6GB NVIDIA GeForce RTX 4050",
                    "6GB NVIDIA GeForce RTX 4050",
                    "6GB NVIDIA GeForce RTX 4050"
                  ],
                  "xaxis": "x",
                  "yaxis": "y"
                },
                {
                  "alignmentgroup": "True",
                  "bingroup": "x",
                  "hovertemplate": "GPU=%{x}<br>count=%{y}<extra></extra>",
                  "legendgroup": "Intel Iris Xe",
                  "marker": {
                    "color": "#FF6692",
                    "pattern": {
                      "shape": ""
                    }
                  },
                  "name": "Intel Iris Xe",
                  "offsetgroup": "Intel Iris Xe",
                  "orientation": "v",
                  "showlegend": true,
                  "type": "histogram",
                  "x": [
                    "Intel Iris Xe",
                    "Intel Iris Xe",
                    "Intel Iris Xe",
                    "Intel Iris Xe",
                    "Intel Iris Xe",
                    "Intel Iris Xe",
                    "Intel Iris Xe",
                    "Intel Iris Xe",
                    "Intel Iris Xe",
                    "Intel Iris Xe",
                    "Intel Iris Xe",
                    "Intel Iris Xe"
                  ],
                  "xaxis": "x",
                  "yaxis": "y"
                },
                {
                  "alignmentgroup": "True",
                  "bingroup": "x",
                  "hovertemplate": "GPU=%{x}<br>count=%{y}<extra></extra>",
                  "legendgroup": "Intel Integrated UHD",
                  "marker": {
                    "color": "#B6E880",
                    "pattern": {
                      "shape": ""
                    }
                  },
                  "name": "Intel Integrated UHD",
                  "offsetgroup": "Intel Integrated UHD",
                  "orientation": "v",
                  "showlegend": true,
                  "type": "histogram",
                  "x": [
                    "Intel Integrated UHD",
                    "Intel Integrated UHD",
                    "Intel Integrated UHD",
                    "Intel Integrated UHD",
                    "Intel Integrated UHD",
                    "Intel Integrated UHD",
                    "Intel Integrated UHD",
                    "Intel Integrated UHD",
                    "Intel Integrated UHD",
                    "Intel Integrated UHD",
                    "Intel Integrated UHD",
                    "Intel Integrated UHD",
                    "Intel Integrated UHD",
                    "Intel Integrated UHD",
                    "Intel Integrated UHD",
                    "Intel Integrated UHD",
                    "Intel Integrated UHD",
                    "Intel Integrated UHD",
                    "Intel Integrated UHD",
                    "Intel Integrated UHD",
                    "Intel Integrated UHD",
                    "Intel Integrated UHD",
                    "Intel Integrated UHD",
                    "Intel Integrated UHD",
                    "Intel Integrated UHD",
                    "Intel Integrated UHD",
                    "Intel Integrated UHD",
                    "Intel Integrated UHD",
                    "Intel Integrated UHD",
                    "Intel Integrated UHD",
                    "Intel Integrated UHD",
                    "Intel Integrated UHD",
                    "Intel Integrated UHD",
                    "Intel Integrated UHD",
                    "Intel Integrated UHD",
                    "Intel Integrated UHD",
                    "Intel Integrated UHD",
                    "Intel Integrated UHD",
                    "Intel Integrated UHD",
                    "Intel Integrated UHD",
                    "Intel Integrated UHD",
                    "Intel Integrated UHD",
                    "Intel Integrated UHD",
                    "Intel Integrated UHD",
                    "Intel Integrated UHD",
                    "Intel Integrated UHD",
                    "Intel Integrated UHD",
                    "Intel Integrated UHD",
                    "Intel Integrated UHD",
                    "Intel Integrated UHD",
                    "Intel Integrated UHD",
                    "Intel Integrated UHD",
                    "Intel Integrated UHD",
                    "Intel Integrated UHD",
                    "Intel Integrated UHD",
                    "Intel Integrated UHD",
                    "Intel Integrated UHD",
                    "Intel Integrated UHD",
                    "Intel Integrated UHD",
                    "Intel Integrated UHD",
                    "Intel Integrated UHD"
                  ],
                  "xaxis": "x",
                  "yaxis": "y"
                },
                {
                  "alignmentgroup": "True",
                  "bingroup": "x",
                  "hovertemplate": "GPU=%{x}<br>count=%{y}<extra></extra>",
                  "legendgroup": "Intel Integrated UHD Graphics",
                  "marker": {
                    "color": "#FF97FF",
                    "pattern": {
                      "shape": ""
                    }
                  },
                  "name": "Intel Integrated UHD Graphics",
                  "offsetgroup": "Intel Integrated UHD Graphics",
                  "orientation": "v",
                  "showlegend": true,
                  "type": "histogram",
                  "x": [
                    "Intel Integrated UHD Graphics",
                    "Intel Integrated UHD Graphics",
                    "Intel Integrated UHD Graphics",
                    "Intel Integrated UHD Graphics",
                    "Intel Integrated UHD Graphics",
                    "Intel Integrated UHD Graphics",
                    "Intel Integrated UHD Graphics",
                    "Intel Integrated UHD Graphics",
                    "Intel Integrated UHD Graphics",
                    "Intel Integrated UHD Graphics",
                    "Intel Integrated UHD Graphics",
                    "Intel Integrated UHD Graphics",
                    "Intel Integrated UHD Graphics",
                    "Intel Integrated UHD Graphics",
                    "Intel Integrated UHD Graphics"
                  ],
                  "xaxis": "x",
                  "yaxis": "y"
                },
                {
                  "alignmentgroup": "True",
                  "bingroup": "x",
                  "hovertemplate": "GPU=%{x}<br>count=%{y}<extra></extra>",
                  "legendgroup": "4GB NVIDIA GeForce RTX 3050",
                  "marker": {
                    "color": "#FECB52",
                    "pattern": {
                      "shape": ""
                    }
                  },
                  "name": "4GB NVIDIA GeForce RTX 3050",
                  "offsetgroup": "4GB NVIDIA GeForce RTX 3050",
                  "orientation": "v",
                  "showlegend": true,
                  "type": "histogram",
                  "x": [
                    "4GB NVIDIA GeForce RTX 3050",
                    "4GB NVIDIA GeForce RTX 3050",
                    "4GB NVIDIA GeForce RTX 3050",
                    "4GB NVIDIA GeForce RTX 3050",
                    "4GB NVIDIA GeForce RTX 3050",
                    "4GB NVIDIA GeForce RTX 3050",
                    "4GB NVIDIA GeForce RTX 3050",
                    "4GB NVIDIA GeForce RTX 3050",
                    "4GB NVIDIA GeForce RTX 3050",
                    "4GB NVIDIA GeForce RTX 3050",
                    "4GB NVIDIA GeForce RTX 3050",
                    "4GB NVIDIA GeForce RTX 3050",
                    "4GB NVIDIA GeForce RTX 3050",
                    "4GB NVIDIA GeForce RTX 3050",
                    "4GB NVIDIA GeForce RTX 3050",
                    "4GB NVIDIA GeForce RTX 3050",
                    "4GB NVIDIA GeForce RTX 3050",
                    "4GB NVIDIA GeForce RTX 3050",
                    "4GB NVIDIA GeForce RTX 3050",
                    "4GB NVIDIA GeForce RTX 3050",
                    "4GB NVIDIA GeForce RTX 3050",
                    "4GB NVIDIA GeForce RTX 3050",
                    "4GB NVIDIA GeForce RTX 3050",
                    "4GB NVIDIA GeForce RTX 3050",
                    "4GB NVIDIA GeForce RTX 3050",
                    "4GB NVIDIA GeForce RTX 3050",
                    "4GB NVIDIA GeForce RTX 3050",
                    "4GB NVIDIA GeForce RTX 3050",
                    "4GB NVIDIA GeForce RTX 3050",
                    "4GB NVIDIA GeForce RTX 3050",
                    "4GB NVIDIA GeForce RTX 3050",
                    "4GB NVIDIA GeForce RTX 3050",
                    "4GB NVIDIA GeForce RTX 3050",
                    "4GB NVIDIA GeForce RTX 3050",
                    "4GB NVIDIA GeForce RTX 3050",
                    "4GB NVIDIA GeForce RTX 3050",
                    "4GB NVIDIA GeForce RTX 3050",
                    "4GB NVIDIA GeForce RTX 3050",
                    "4GB NVIDIA GeForce RTX 3050",
                    "4GB NVIDIA GeForce RTX 3050",
                    "4GB NVIDIA GeForce RTX 3050",
                    "4GB NVIDIA GeForce RTX 3050",
                    "4GB NVIDIA GeForce RTX 3050",
                    "4GB NVIDIA GeForce RTX 3050",
                    "4GB NVIDIA GeForce RTX 3050",
                    "4GB NVIDIA GeForce RTX 3050",
                    "4GB NVIDIA GeForce RTX 3050",
                    "4GB NVIDIA GeForce RTX 3050",
                    "4GB NVIDIA GeForce RTX 3050",
                    "4GB NVIDIA GeForce RTX 3050"
                  ],
                  "xaxis": "x",
                  "yaxis": "y"
                },
                {
                  "alignmentgroup": "True",
                  "bingroup": "x",
                  "hovertemplate": "GPU=%{x}<br>count=%{y}<extra></extra>",
                  "legendgroup": "ARM Mali G72",
                  "marker": {
                    "color": "#636efa",
                    "pattern": {
                      "shape": ""
                    }
                  },
                  "name": "ARM Mali G72",
                  "offsetgroup": "ARM Mali G72",
                  "orientation": "v",
                  "showlegend": true,
                  "type": "histogram",
                  "x": [
                    "ARM Mali G72"
                  ],
                  "xaxis": "x",
                  "yaxis": "y"
                },
                {
                  "alignmentgroup": "True",
                  "bingroup": "x",
                  "hovertemplate": "GPU=%{x}<br>count=%{y}<extra></extra>",
                  "legendgroup": "AMD Radeon Graphics",
                  "marker": {
                    "color": "#EF553B",
                    "pattern": {
                      "shape": ""
                    }
                  },
                  "name": "AMD Radeon Graphics",
                  "offsetgroup": "AMD Radeon Graphics",
                  "orientation": "v",
                  "showlegend": true,
                  "type": "histogram",
                  "x": [
                    "AMD Radeon Graphics",
                    "AMD Radeon Graphics",
                    "AMD Radeon Graphics",
                    "AMD Radeon Graphics",
                    "AMD Radeon Graphics",
                    "AMD Radeon Graphics",
                    "AMD Radeon Graphics",
                    "AMD Radeon Graphics",
                    "AMD Radeon Graphics",
                    "AMD Radeon Graphics",
                    "AMD Radeon Graphics",
                    "AMD Radeon Graphics",
                    "AMD Radeon Graphics",
                    "AMD Radeon Graphics",
                    "AMD Radeon Graphics",
                    "AMD Radeon Graphics",
                    "AMD Radeon Graphics",
                    "AMD Radeon Graphics",
                    "AMD Radeon Graphics",
                    "AMD Radeon Graphics",
                    "AMD Radeon Graphics",
                    "AMD Radeon Graphics",
                    "AMD Radeon Graphics",
                    "AMD Radeon Graphics",
                    "AMD Radeon Graphics",
                    "AMD Radeon Graphics",
                    "AMD Radeon Graphics",
                    "AMD Radeon Graphics",
                    "AMD Radeon Graphics",
                    "AMD Radeon Graphics",
                    "AMD Radeon Graphics",
                    "AMD Radeon Graphics",
                    "AMD Radeon Graphics",
                    "AMD Radeon Graphics",
                    "AMD Radeon Graphics",
                    "AMD Radeon Graphics",
                    "AMD Radeon Graphics",
                    "AMD Radeon Graphics",
                    "AMD Radeon Graphics",
                    "AMD Radeon Graphics",
                    "AMD Radeon Graphics",
                    "AMD Radeon Graphics",
                    "AMD Radeon Graphics",
                    "AMD Radeon Graphics",
                    "AMD Radeon Graphics",
                    "AMD Radeon Graphics",
                    "AMD Radeon Graphics",
                    "AMD Radeon Graphics",
                    "AMD Radeon Graphics",
                    "AMD Radeon Graphics",
                    "AMD Radeon Graphics",
                    "AMD Radeon Graphics",
                    "AMD Radeon Graphics",
                    "AMD Radeon Graphics"
                  ],
                  "xaxis": "x",
                  "yaxis": "y"
                },
                {
                  "alignmentgroup": "True",
                  "bingroup": "x",
                  "hovertemplate": "GPU=%{x}<br>count=%{y}<extra></extra>",
                  "legendgroup": "4GB NVIDIA GeForce RTX 2050",
                  "marker": {
                    "color": "#00cc96",
                    "pattern": {
                      "shape": ""
                    }
                  },
                  "name": "4GB NVIDIA GeForce RTX 2050",
                  "offsetgroup": "4GB NVIDIA GeForce RTX 2050",
                  "orientation": "v",
                  "showlegend": true,
                  "type": "histogram",
                  "x": [
                    "4GB NVIDIA GeForce RTX 2050",
                    "4GB NVIDIA GeForce RTX 2050",
                    "4GB NVIDIA GeForce RTX 2050",
                    "4GB NVIDIA GeForce RTX 2050",
                    "4GB NVIDIA GeForce RTX 2050",
                    "4GB NVIDIA GeForce RTX 2050",
                    "4GB NVIDIA GeForce RTX 2050",
                    "4GB NVIDIA GeForce RTX 2050",
                    "4GB NVIDIA GeForce RTX 2050",
                    "4GB NVIDIA GeForce RTX 2050",
                    "4GB NVIDIA GeForce RTX 2050",
                    "4GB NVIDIA GeForce RTX 2050",
                    "4GB NVIDIA GeForce RTX 2050",
                    "4GB NVIDIA GeForce RTX 2050",
                    "4GB NVIDIA GeForce RTX 2050",
                    "4GB NVIDIA GeForce RTX 2050",
                    "4GB NVIDIA GeForce RTX 2050",
                    "4GB NVIDIA GeForce RTX 2050",
                    "4GB NVIDIA GeForce RTX 2050",
                    "4GB NVIDIA GeForce RTX 2050",
                    "4GB NVIDIA GeForce RTX 2050",
                    "4GB NVIDIA GeForce RTX 2050",
                    "4GB NVIDIA GeForce RTX 2050",
                    "4GB NVIDIA GeForce RTX 2050",
                    "4GB NVIDIA GeForce RTX 2050",
                    "4GB NVIDIA GeForce RTX 2050",
                    "4GB NVIDIA GeForce RTX 2050",
                    "4GB NVIDIA GeForce RTX 2050",
                    "4GB NVIDIA GeForce RTX 2050",
                    "4GB NVIDIA GeForce RTX 2050",
                    "4GB NVIDIA GeForce RTX 2050",
                    "4GB NVIDIA GeForce RTX 2050",
                    "4GB NVIDIA GeForce RTX 2050",
                    "4GB NVIDIA GeForce RTX 2050",
                    "4GB NVIDIA GeForce RTX 2050",
                    "4GB NVIDIA GeForce RTX 2050",
                    "4GB NVIDIA GeForce RTX 2050",
                    "4GB NVIDIA GeForce RTX 2050",
                    "4GB NVIDIA GeForce RTX 2050"
                  ],
                  "xaxis": "x",
                  "yaxis": "y"
                },
                {
                  "alignmentgroup": "True",
                  "bingroup": "x",
                  "hovertemplate": "GPU=%{x}<br>count=%{y}<extra></extra>",
                  "legendgroup": "4GB NVIDIA GeForce GTX 1650",
                  "marker": {
                    "color": "#ab63fa",
                    "pattern": {
                      "shape": ""
                    }
                  },
                  "name": "4GB NVIDIA GeForce GTX 1650",
                  "offsetgroup": "4GB NVIDIA GeForce GTX 1650",
                  "orientation": "v",
                  "showlegend": true,
                  "type": "histogram",
                  "x": [
                    "4GB NVIDIA GeForce GTX 1650",
                    "4GB NVIDIA GeForce GTX 1650",
                    "4GB NVIDIA GeForce GTX 1650",
                    "4GB NVIDIA GeForce GTX 1650",
                    "4GB NVIDIA GeForce GTX 1650",
                    "4GB NVIDIA GeForce GTX 1650",
                    "4GB NVIDIA GeForce GTX 1650",
                    "4GB NVIDIA GeForce GTX 1650",
                    "4GB NVIDIA GeForce GTX 1650",
                    "4GB NVIDIA GeForce GTX 1650",
                    "4GB NVIDIA GeForce GTX 1650",
                    "4GB NVIDIA GeForce GTX 1650",
                    "4GB NVIDIA GeForce GTX 1650",
                    "4GB NVIDIA GeForce GTX 1650",
                    "4GB NVIDIA GeForce GTX 1650",
                    "4GB NVIDIA GeForce GTX 1650",
                    "4GB NVIDIA GeForce GTX 1650",
                    "4GB NVIDIA GeForce GTX 1650",
                    "4GB NVIDIA GeForce GTX 1650",
                    "4GB NVIDIA GeForce GTX 1650",
                    "4GB NVIDIA GeForce GTX 1650"
                  ],
                  "xaxis": "x",
                  "yaxis": "y"
                },
                {
                  "alignmentgroup": "True",
                  "bingroup": "x",
                  "hovertemplate": "GPU=%{x}<br>count=%{y}<extra></extra>",
                  "legendgroup": "AMD Radeon Vega 7",
                  "marker": {
                    "color": "#FFA15A",
                    "pattern": {
                      "shape": ""
                    }
                  },
                  "name": "AMD Radeon Vega 7",
                  "offsetgroup": "AMD Radeon Vega 7",
                  "orientation": "v",
                  "showlegend": true,
                  "type": "histogram",
                  "x": [
                    "AMD Radeon Vega 7",
                    "AMD Radeon Vega 7",
                    "AMD Radeon Vega 7"
                  ],
                  "xaxis": "x",
                  "yaxis": "y"
                },
                {
                  "alignmentgroup": "True",
                  "bingroup": "x",
                  "hovertemplate": "GPU=%{x}<br>count=%{y}<extra></extra>",
                  "legendgroup": "8-Core GPU",
                  "marker": {
                    "color": "#19d3f3",
                    "pattern": {
                      "shape": ""
                    }
                  },
                  "name": "8-Core GPU",
                  "offsetgroup": "8-Core GPU",
                  "orientation": "v",
                  "showlegend": true,
                  "type": "histogram",
                  "x": [
                    "8-Core GPU"
                  ],
                  "xaxis": "x",
                  "yaxis": "y"
                },
                {
                  "alignmentgroup": "True",
                  "bingroup": "x",
                  "hovertemplate": "GPU=%{x}<br>count=%{y}<extra></extra>",
                  "legendgroup": "AMD Radeon AMD",
                  "marker": {
                    "color": "#FF6692",
                    "pattern": {
                      "shape": ""
                    }
                  },
                  "name": "AMD Radeon AMD",
                  "offsetgroup": "AMD Radeon AMD",
                  "orientation": "v",
                  "showlegend": true,
                  "type": "histogram",
                  "x": [
                    "AMD Radeon AMD",
                    "AMD Radeon AMD",
                    "AMD Radeon AMD",
                    "AMD Radeon AMD",
                    "AMD Radeon AMD",
                    "AMD Radeon AMD",
                    "AMD Radeon AMD",
                    "AMD Radeon AMD",
                    "AMD Radeon AMD",
                    "AMD Radeon AMD",
                    "AMD Radeon AMD",
                    "AMD Radeon AMD",
                    "AMD Radeon AMD",
                    "AMD Radeon AMD",
                    "AMD Radeon AMD",
                    "AMD Radeon AMD",
                    "AMD Radeon AMD",
                    "AMD Radeon AMD",
                    "AMD Radeon AMD",
                    "AMD Radeon AMD",
                    "AMD Radeon AMD",
                    "AMD Radeon AMD",
                    "AMD Radeon AMD",
                    "AMD Radeon AMD",
                    "AMD Radeon AMD",
                    "AMD Radeon AMD",
                    "AMD Radeon AMD",
                    "AMD Radeon AMD",
                    "AMD Radeon AMD",
                    "AMD Radeon AMD",
                    "AMD Radeon AMD",
                    "AMD Radeon AMD",
                    "AMD Radeon AMD",
                    "AMD Radeon AMD",
                    "AMD Radeon AMD",
                    "AMD Radeon AMD",
                    "AMD Radeon AMD",
                    "AMD Radeon AMD",
                    "AMD Radeon AMD",
                    "AMD Radeon AMD",
                    "AMD Radeon AMD",
                    "AMD Radeon AMD",
                    "AMD Radeon AMD",
                    "AMD Radeon AMD",
                    "AMD Radeon AMD",
                    "AMD Radeon AMD",
                    "AMD Radeon AMD",
                    "AMD Radeon AMD",
                    "AMD Radeon AMD",
                    "AMD Radeon AMD",
                    "AMD Radeon AMD",
                    "AMD Radeon AMD",
                    "AMD Radeon AMD",
                    "AMD Radeon AMD",
                    "AMD Radeon AMD"
                  ],
                  "xaxis": "x",
                  "yaxis": "y"
                },
                {
                  "alignmentgroup": "True",
                  "bingroup": "x",
                  "hovertemplate": "GPU=%{x}<br>count=%{y}<extra></extra>",
                  "legendgroup": "AMD Integrated",
                  "marker": {
                    "color": "#B6E880",
                    "pattern": {
                      "shape": ""
                    }
                  },
                  "name": "AMD Integrated",
                  "offsetgroup": "AMD Integrated",
                  "orientation": "v",
                  "showlegend": true,
                  "type": "histogram",
                  "x": [
                    "AMD Integrated",
                    "AMD Integrated"
                  ],
                  "xaxis": "x",
                  "yaxis": "y"
                },
                {
                  "alignmentgroup": "True",
                  "bingroup": "x",
                  "hovertemplate": "GPU=%{x}<br>count=%{y}<extra></extra>",
                  "legendgroup": "8GB NVIDIA GeForce RTX 4070",
                  "marker": {
                    "color": "#FF97FF",
                    "pattern": {
                      "shape": ""
                    }
                  },
                  "name": "8GB NVIDIA GeForce RTX 4070",
                  "offsetgroup": "8GB NVIDIA GeForce RTX 4070",
                  "orientation": "v",
                  "showlegend": true,
                  "type": "histogram",
                  "x": [
                    "8GB NVIDIA GeForce RTX 4070",
                    "8GB NVIDIA GeForce RTX 4070",
                    "8GB NVIDIA GeForce RTX 4070",
                    "8GB NVIDIA GeForce RTX 4070",
                    "8GB NVIDIA GeForce RTX 4070",
                    "8GB NVIDIA GeForce RTX 4070",
                    "8GB NVIDIA GeForce RTX 4070",
                    "8GB NVIDIA GeForce RTX 4070",
                    "8GB NVIDIA GeForce RTX 4070",
                    "8GB NVIDIA GeForce RTX 4070"
                  ],
                  "xaxis": "x",
                  "yaxis": "y"
                },
                {
                  "alignmentgroup": "True",
                  "bingroup": "x",
                  "hovertemplate": "GPU=%{x}<br>count=%{y}<extra></extra>",
                  "legendgroup": "4GB AMD Radeon RX 6500M Graphics",
                  "marker": {
                    "color": "#FECB52",
                    "pattern": {
                      "shape": ""
                    }
                  },
                  "name": "4GB AMD Radeon RX 6500M Graphics",
                  "offsetgroup": "4GB AMD Radeon RX 6500M Graphics",
                  "orientation": "v",
                  "showlegend": true,
                  "type": "histogram",
                  "x": [
                    "4GB AMD Radeon RX 6500M Graphics",
                    "4GB AMD Radeon RX 6500M Graphics",
                    "4GB AMD Radeon RX 6500M Graphics",
                    "4GB AMD Radeon RX 6500M Graphics"
                  ],
                  "xaxis": "x",
                  "yaxis": "y"
                },
                {
                  "alignmentgroup": "True",
                  "bingroup": "x",
                  "hovertemplate": "GPU=%{x}<br>count=%{y}<extra></extra>",
                  "legendgroup": "AMD Graphics",
                  "marker": {
                    "color": "#636efa",
                    "pattern": {
                      "shape": ""
                    }
                  },
                  "name": "AMD Graphics",
                  "offsetgroup": "AMD Graphics",
                  "orientation": "v",
                  "showlegend": true,
                  "type": "histogram",
                  "x": [
                    "AMD Graphics",
                    "AMD Graphics"
                  ],
                  "xaxis": "x",
                  "yaxis": "y"
                },
                {
                  "alignmentgroup": "True",
                  "bingroup": "x",
                  "hovertemplate": "GPU=%{x}<br>count=%{y}<extra></extra>",
                  "legendgroup": "8GB NVIDIA GeForce RTX 3070 Ti",
                  "marker": {
                    "color": "#EF553B",
                    "pattern": {
                      "shape": ""
                    }
                  },
                  "name": "8GB NVIDIA GeForce RTX 3070 Ti",
                  "offsetgroup": "8GB NVIDIA GeForce RTX 3070 Ti",
                  "orientation": "v",
                  "showlegend": true,
                  "type": "histogram",
                  "x": [
                    "8GB NVIDIA GeForce RTX 3070 Ti",
                    "8GB NVIDIA GeForce RTX 3070 Ti",
                    "8GB NVIDIA GeForce RTX 3070 Ti",
                    "8GB NVIDIA GeForce RTX 3070 Ti"
                  ],
                  "xaxis": "x",
                  "yaxis": "y"
                },
                {
                  "alignmentgroup": "True",
                  "bingroup": "x",
                  "hovertemplate": "GPU=%{x}<br>count=%{y}<extra></extra>",
                  "legendgroup": "Intel Integrated Integrated",
                  "marker": {
                    "color": "#00cc96",
                    "pattern": {
                      "shape": ""
                    }
                  },
                  "name": "Intel Integrated Integrated",
                  "offsetgroup": "Intel Integrated Integrated",
                  "orientation": "v",
                  "showlegend": true,
                  "type": "histogram",
                  "x": [
                    "Intel Integrated Integrated",
                    "Intel Integrated Integrated",
                    "Intel Integrated Integrated",
                    "Intel Integrated Integrated",
                    "Intel Integrated Integrated"
                  ],
                  "xaxis": "x",
                  "yaxis": "y"
                },
                {
                  "alignmentgroup": "True",
                  "bingroup": "x",
                  "hovertemplate": "GPU=%{x}<br>count=%{y}<extra></extra>",
                  "legendgroup": "Intel Graphics",
                  "marker": {
                    "color": "#ab63fa",
                    "pattern": {
                      "shape": ""
                    }
                  },
                  "name": "Intel Graphics",
                  "offsetgroup": "Intel Graphics",
                  "orientation": "v",
                  "showlegend": true,
                  "type": "histogram",
                  "x": [
                    "Intel Graphics",
                    "Intel Graphics",
                    "Intel Graphics",
                    "Intel Graphics",
                    "Intel Graphics"
                  ],
                  "xaxis": "x",
                  "yaxis": "y"
                },
                {
                  "alignmentgroup": "True",
                  "bingroup": "x",
                  "hovertemplate": "GPU=%{x}<br>count=%{y}<extra></extra>",
                  "legendgroup": "6GB NVIDIA GeForce RTX 3050",
                  "marker": {
                    "color": "#FFA15A",
                    "pattern": {
                      "shape": ""
                    }
                  },
                  "name": "6GB NVIDIA GeForce RTX 3050",
                  "offsetgroup": "6GB NVIDIA GeForce RTX 3050",
                  "orientation": "v",
                  "showlegend": true,
                  "type": "histogram",
                  "x": [
                    "6GB NVIDIA GeForce RTX 3050",
                    "6GB NVIDIA GeForce RTX 3050",
                    "6GB NVIDIA GeForce RTX 3050",
                    "6GB NVIDIA GeForce RTX 3050",
                    "6GB NVIDIA GeForce RTX 3050",
                    "6GB NVIDIA GeForce RTX 3050",
                    "6GB NVIDIA GeForce RTX 3050",
                    "6GB NVIDIA GeForce RTX 3050",
                    "6GB NVIDIA GeForce RTX 3050",
                    "6GB NVIDIA GeForce RTX 3050",
                    "6GB NVIDIA GeForce RTX 3050",
                    "6GB NVIDIA GeForce RTX 3050",
                    "6GB NVIDIA GeForce RTX 3050",
                    "6GB NVIDIA GeForce RTX 3050",
                    "6GB NVIDIA GeForce RTX 3050"
                  ],
                  "xaxis": "x",
                  "yaxis": "y"
                },
                {
                  "alignmentgroup": "True",
                  "bingroup": "x",
                  "hovertemplate": "GPU=%{x}<br>count=%{y}<extra></extra>",
                  "legendgroup": "Intel UHD Graphics ",
                  "marker": {
                    "color": "#19d3f3",
                    "pattern": {
                      "shape": ""
                    }
                  },
                  "name": "Intel UHD Graphics ",
                  "offsetgroup": "Intel UHD Graphics ",
                  "orientation": "v",
                  "showlegend": true,
                  "type": "histogram",
                  "x": [
                    "Intel UHD Graphics ",
                    "Intel UHD Graphics ",
                    "Intel UHD Graphics ",
                    "Intel UHD Graphics "
                  ],
                  "xaxis": "x",
                  "yaxis": "y"
                },
                {
                  "alignmentgroup": "True",
                  "bingroup": "x",
                  "hovertemplate": "GPU=%{x}<br>count=%{y}<extra></extra>",
                  "legendgroup": "16GB NVIDIA GeForce RTX 4090",
                  "marker": {
                    "color": "#FF6692",
                    "pattern": {
                      "shape": ""
                    }
                  },
                  "name": "16GB NVIDIA GeForce RTX 4090",
                  "offsetgroup": "16GB NVIDIA GeForce RTX 4090",
                  "orientation": "v",
                  "showlegend": true,
                  "type": "histogram",
                  "x": [
                    "16GB NVIDIA GeForce RTX 4090",
                    "16GB NVIDIA GeForce RTX 4090",
                    "16GB NVIDIA GeForce RTX 4090",
                    "16GB NVIDIA GeForce RTX 4090",
                    "16GB NVIDIA GeForce RTX 4090"
                  ],
                  "xaxis": "x",
                  "yaxis": "y"
                },
                {
                  "alignmentgroup": "True",
                  "bingroup": "x",
                  "hovertemplate": "GPU=%{x}<br>count=%{y}<extra></extra>",
                  "legendgroup": "AMD Radeon Radeon Graphics",
                  "marker": {
                    "color": "#B6E880",
                    "pattern": {
                      "shape": ""
                    }
                  },
                  "name": "AMD Radeon Radeon Graphics",
                  "offsetgroup": "AMD Radeon Radeon Graphics",
                  "orientation": "v",
                  "showlegend": true,
                  "type": "histogram",
                  "x": [
                    "AMD Radeon Radeon Graphics",
                    "AMD Radeon Radeon Graphics",
                    "AMD Radeon Radeon Graphics",
                    "AMD Radeon Radeon Graphics",
                    "AMD Radeon Radeon Graphics"
                  ],
                  "xaxis": "x",
                  "yaxis": "y"
                },
                {
                  "alignmentgroup": "True",
                  "bingroup": "x",
                  "hovertemplate": "GPU=%{x}<br>count=%{y}<extra></extra>",
                  "legendgroup": "8GB NVIDIA GeForce RTX 4060",
                  "marker": {
                    "color": "#FF97FF",
                    "pattern": {
                      "shape": ""
                    }
                  },
                  "name": "8GB NVIDIA GeForce RTX 4060",
                  "offsetgroup": "8GB NVIDIA GeForce RTX 4060",
                  "orientation": "v",
                  "showlegend": true,
                  "type": "histogram",
                  "x": [
                    "8GB NVIDIA GeForce RTX 4060",
                    "8GB NVIDIA GeForce RTX 4060",
                    "8GB NVIDIA GeForce RTX 4060",
                    "8GB NVIDIA GeForce RTX 4060",
                    "8GB NVIDIA GeForce RTX 4060",
                    "8GB NVIDIA GeForce RTX 4060",
                    "8GB NVIDIA GeForce RTX 4060",
                    "8GB NVIDIA GeForce RTX 4060",
                    "8GB NVIDIA GeForce RTX 4060",
                    "8GB NVIDIA GeForce RTX 4060",
                    "8GB NVIDIA GeForce RTX 4060",
                    "8GB NVIDIA GeForce RTX 4060",
                    "8GB NVIDIA GeForce RTX 4060",
                    "8GB NVIDIA GeForce RTX 4060",
                    "8GB NVIDIA GeForce RTX 4060",
                    "8GB NVIDIA GeForce RTX 4060",
                    "8GB NVIDIA GeForce RTX 4060",
                    "8GB NVIDIA GeForce RTX 4060",
                    "8GB NVIDIA GeForce RTX 4060",
                    "8GB NVIDIA GeForce RTX 4060",
                    "8GB NVIDIA GeForce RTX 4060",
                    "8GB NVIDIA GeForce RTX 4060",
                    "8GB NVIDIA GeForce RTX 4060",
                    "8GB NVIDIA GeForce RTX 4060",
                    "8GB NVIDIA GeForce RTX 4060",
                    "8GB NVIDIA GeForce RTX 4060",
                    "8GB NVIDIA GeForce RTX 4060",
                    "8GB NVIDIA GeForce RTX 4060",
                    "8GB NVIDIA GeForce RTX 4060",
                    "8GB NVIDIA GeForce RTX 4060",
                    "8GB NVIDIA GeForce RTX 4060",
                    "8GB NVIDIA GeForce RTX 4060",
                    "8GB NVIDIA GeForce RTX 4060",
                    "8GB NVIDIA GeForce RTX 4060",
                    "8GB NVIDIA GeForce RTX 4060",
                    "8GB NVIDIA GeForce RTX 4060",
                    "8GB NVIDIA GeForce RTX 4060",
                    "8GB NVIDIA GeForce RTX 4060",
                    "8GB NVIDIA GeForce RTX 4060",
                    "8GB NVIDIA GeForce RTX 4060",
                    "8GB NVIDIA GeForce RTX 4060",
                    "8GB NVIDIA GeForce RTX 4060"
                  ],
                  "xaxis": "x",
                  "yaxis": "y"
                },
                {
                  "alignmentgroup": "True",
                  "bingroup": "x",
                  "hovertemplate": "GPU=%{x}<br>count=%{y}<extra></extra>",
                  "legendgroup": "Intel Integrated Intel UHD Graphics",
                  "marker": {
                    "color": "#FECB52",
                    "pattern": {
                      "shape": ""
                    }
                  },
                  "name": "Intel Integrated Intel UHD Graphics",
                  "offsetgroup": "Intel Integrated Intel UHD Graphics",
                  "orientation": "v",
                  "showlegend": true,
                  "type": "histogram",
                  "x": [
                    "Intel Integrated Intel UHD Graphics",
                    "Intel Integrated Intel UHD Graphics"
                  ],
                  "xaxis": "x",
                  "yaxis": "y"
                },
                {
                  "alignmentgroup": "True",
                  "bingroup": "x",
                  "hovertemplate": "GPU=%{x}<br>count=%{y}<extra></extra>",
                  "legendgroup": "4GB NVIDIA GeForce RTX 3050 Ti",
                  "marker": {
                    "color": "#636efa",
                    "pattern": {
                      "shape": ""
                    }
                  },
                  "name": "4GB NVIDIA GeForce RTX 3050 Ti",
                  "offsetgroup": "4GB NVIDIA GeForce RTX 3050 Ti",
                  "orientation": "v",
                  "showlegend": true,
                  "type": "histogram",
                  "x": [
                    "4GB NVIDIA GeForce RTX 3050 Ti",
                    "4GB NVIDIA GeForce RTX 3050 Ti",
                    "4GB NVIDIA GeForce RTX 3050 Ti"
                  ],
                  "xaxis": "x",
                  "yaxis": "y"
                },
                {
                  "alignmentgroup": "True",
                  "bingroup": "x",
                  "hovertemplate": "GPU=%{x}<br>count=%{y}<extra></extra>",
                  "legendgroup": "Intel Integrated Intel UHD",
                  "marker": {
                    "color": "#EF553B",
                    "pattern": {
                      "shape": ""
                    }
                  },
                  "name": "Intel Integrated Intel UHD",
                  "offsetgroup": "Intel Integrated Intel UHD",
                  "orientation": "v",
                  "showlegend": true,
                  "type": "histogram",
                  "x": [
                    "Intel Integrated Intel UHD",
                    "Intel Integrated Intel UHD",
                    "Intel Integrated Intel UHD",
                    "Intel Integrated Intel UHD",
                    "Intel Integrated Intel UHD"
                  ],
                  "xaxis": "x",
                  "yaxis": "y"
                },
                {
                  "alignmentgroup": "True",
                  "bingroup": "x",
                  "hovertemplate": "GPU=%{x}<br>count=%{y}<extra></extra>",
                  "legendgroup": "4GB NVIDIA GeForce GTX 3050",
                  "marker": {
                    "color": "#00cc96",
                    "pattern": {
                      "shape": ""
                    }
                  },
                  "name": "4GB NVIDIA GeForce GTX 3050",
                  "offsetgroup": "4GB NVIDIA GeForce GTX 3050",
                  "orientation": "v",
                  "showlegend": true,
                  "type": "histogram",
                  "x": [
                    "4GB NVIDIA GeForce GTX 3050"
                  ],
                  "xaxis": "x",
                  "yaxis": "y"
                },
                {
                  "alignmentgroup": "True",
                  "bingroup": "x",
                  "hovertemplate": "GPU=%{x}<br>count=%{y}<extra></extra>",
                  "legendgroup": "AMD Radeon Vega 7 Graphics",
                  "marker": {
                    "color": "#ab63fa",
                    "pattern": {
                      "shape": ""
                    }
                  },
                  "name": "AMD Radeon Vega 7 Graphics",
                  "offsetgroup": "AMD Radeon Vega 7 Graphics",
                  "orientation": "v",
                  "showlegend": true,
                  "type": "histogram",
                  "x": [
                    "AMD Radeon Vega 7 Graphics"
                  ],
                  "xaxis": "x",
                  "yaxis": "y"
                },
                {
                  "alignmentgroup": "True",
                  "bingroup": "x",
                  "hovertemplate": "GPU=%{x}<br>count=%{y}<extra></extra>",
                  "legendgroup": "4GB NVIDIA ",
                  "marker": {
                    "color": "#FFA15A",
                    "pattern": {
                      "shape": ""
                    }
                  },
                  "name": "4GB NVIDIA ",
                  "offsetgroup": "4GB NVIDIA ",
                  "orientation": "v",
                  "showlegend": true,
                  "type": "histogram",
                  "x": [
                    "4GB NVIDIA "
                  ],
                  "xaxis": "x",
                  "yaxis": "y"
                },
                {
                  "alignmentgroup": "True",
                  "bingroup": "x",
                  "hovertemplate": "GPU=%{x}<br>count=%{y}<extra></extra>",
                  "legendgroup": "Intel Integrated",
                  "marker": {
                    "color": "#19d3f3",
                    "pattern": {
                      "shape": ""
                    }
                  },
                  "name": "Intel Integrated",
                  "offsetgroup": "Intel Integrated",
                  "orientation": "v",
                  "showlegend": true,
                  "type": "histogram",
                  "x": [
                    "Intel Integrated",
                    "Intel Integrated",
                    "Intel Integrated",
                    "Intel Integrated",
                    "Intel Integrated",
                    "Intel Integrated",
                    "Intel Integrated",
                    "Intel Integrated"
                  ],
                  "xaxis": "x",
                  "yaxis": "y"
                },
                {
                  "alignmentgroup": "True",
                  "bingroup": "x",
                  "hovertemplate": "GPU=%{x}<br>count=%{y}<extra></extra>",
                  "legendgroup": "Intel Iris XE Graphics ",
                  "marker": {
                    "color": "#FF6692",
                    "pattern": {
                      "shape": ""
                    }
                  },
                  "name": "Intel Iris XE Graphics ",
                  "offsetgroup": "Intel Iris XE Graphics ",
                  "orientation": "v",
                  "showlegend": true,
                  "type": "histogram",
                  "x": [
                    "Intel Iris XE Graphics "
                  ],
                  "xaxis": "x",
                  "yaxis": "y"
                },
                {
                  "alignmentgroup": "True",
                  "bingroup": "x",
                  "hovertemplate": "GPU=%{x}<br>count=%{y}<extra></extra>",
                  "legendgroup": "GB NVIDIA GeForce RTX 2050",
                  "marker": {
                    "color": "#B6E880",
                    "pattern": {
                      "shape": ""
                    }
                  },
                  "name": "GB NVIDIA GeForce RTX 2050",
                  "offsetgroup": "GB NVIDIA GeForce RTX 2050",
                  "orientation": "v",
                  "showlegend": true,
                  "type": "histogram",
                  "x": [
                    "GB NVIDIA GeForce RTX 2050"
                  ],
                  "xaxis": "x",
                  "yaxis": "y"
                },
                {
                  "alignmentgroup": "True",
                  "bingroup": "x",
                  "hovertemplate": "GPU=%{x}<br>count=%{y}<extra></extra>",
                  "legendgroup": "8GB NVIDIA GeForce RTX 3070 Ti ",
                  "marker": {
                    "color": "#FF97FF",
                    "pattern": {
                      "shape": ""
                    }
                  },
                  "name": "8GB NVIDIA GeForce RTX 3070 Ti ",
                  "offsetgroup": "8GB NVIDIA GeForce RTX 3070 Ti ",
                  "orientation": "v",
                  "showlegend": true,
                  "type": "histogram",
                  "x": [
                    "8GB NVIDIA GeForce RTX 3070 Ti ",
                    "8GB NVIDIA GeForce RTX 3070 Ti ",
                    "8GB NVIDIA GeForce RTX 3070 Ti "
                  ],
                  "xaxis": "x",
                  "yaxis": "y"
                },
                {
                  "alignmentgroup": "True",
                  "bingroup": "x",
                  "hovertemplate": "GPU=%{x}<br>count=%{y}<extra></extra>",
                  "legendgroup": "10-Core GPU",
                  "marker": {
                    "color": "#FECB52",
                    "pattern": {
                      "shape": ""
                    }
                  },
                  "name": "10-Core GPU",
                  "offsetgroup": "10-Core GPU",
                  "orientation": "v",
                  "showlegend": true,
                  "type": "histogram",
                  "x": [
                    "10-Core GPU",
                    "10-Core GPU",
                    "10-Core GPU"
                  ],
                  "xaxis": "x",
                  "yaxis": "y"
                },
                {
                  "alignmentgroup": "True",
                  "bingroup": "x",
                  "hovertemplate": "GPU=%{x}<br>count=%{y}<extra></extra>",
                  "legendgroup": "4GB NVIDIA GeForce RTX 3050 Graphics",
                  "marker": {
                    "color": "#636efa",
                    "pattern": {
                      "shape": ""
                    }
                  },
                  "name": "4GB NVIDIA GeForce RTX 3050 Graphics",
                  "offsetgroup": "4GB NVIDIA GeForce RTX 3050 Graphics",
                  "orientation": "v",
                  "showlegend": true,
                  "type": "histogram",
                  "x": [
                    "4GB NVIDIA GeForce RTX 3050 Graphics",
                    "4GB NVIDIA GeForce RTX 3050 Graphics"
                  ],
                  "xaxis": "x",
                  "yaxis": "y"
                },
                {
                  "alignmentgroup": "True",
                  "bingroup": "x",
                  "hovertemplate": "GPU=%{x}<br>count=%{y}<extra></extra>",
                  "legendgroup": "8GB AMD Radeon RX 6650M",
                  "marker": {
                    "color": "#EF553B",
                    "pattern": {
                      "shape": ""
                    }
                  },
                  "name": "8GB AMD Radeon RX 6650M",
                  "offsetgroup": "8GB AMD Radeon RX 6650M",
                  "orientation": "v",
                  "showlegend": true,
                  "type": "histogram",
                  "x": [
                    "8GB AMD Radeon RX 6650M",
                    "8GB AMD Radeon RX 6650M"
                  ],
                  "xaxis": "x",
                  "yaxis": "y"
                },
                {
                  "alignmentgroup": "True",
                  "bingroup": "x",
                  "hovertemplate": "GPU=%{x}<br>count=%{y}<extra></extra>",
                  "legendgroup": "Intel HD Graphics",
                  "marker": {
                    "color": "#00cc96",
                    "pattern": {
                      "shape": ""
                    }
                  },
                  "name": "Intel HD Graphics",
                  "offsetgroup": "Intel HD Graphics",
                  "orientation": "v",
                  "showlegend": true,
                  "type": "histogram",
                  "x": [
                    "Intel HD Graphics"
                  ],
                  "xaxis": "x",
                  "yaxis": "y"
                },
                {
                  "alignmentgroup": "True",
                  "bingroup": "x",
                  "hovertemplate": "GPU=%{x}<br>count=%{y}<extra></extra>",
                  "legendgroup": "Intel UHD Graphics 600",
                  "marker": {
                    "color": "#ab63fa",
                    "pattern": {
                      "shape": ""
                    }
                  },
                  "name": "Intel UHD Graphics 600",
                  "offsetgroup": "Intel UHD Graphics 600",
                  "orientation": "v",
                  "showlegend": true,
                  "type": "histogram",
                  "x": [
                    "Intel UHD Graphics 600",
                    "Intel UHD Graphics 600"
                  ],
                  "xaxis": "x",
                  "yaxis": "y"
                },
                {
                  "alignmentgroup": "True",
                  "bingroup": "x",
                  "hovertemplate": "GPU=%{x}<br>count=%{y}<extra></extra>",
                  "legendgroup": "Integrated Intel Iris Xe Graphics",
                  "marker": {
                    "color": "#FFA15A",
                    "pattern": {
                      "shape": ""
                    }
                  },
                  "name": "Integrated Intel Iris Xe Graphics",
                  "offsetgroup": "Integrated Intel Iris Xe Graphics",
                  "orientation": "v",
                  "showlegend": true,
                  "type": "histogram",
                  "x": [
                    "Integrated Intel Iris Xe Graphics",
                    "Integrated Intel Iris Xe Graphics",
                    "Integrated Intel Iris Xe Graphics",
                    "Integrated Intel Iris Xe Graphics",
                    "Integrated Intel Iris Xe Graphics",
                    "Integrated Intel Iris Xe Graphics",
                    "Integrated Intel Iris Xe Graphics",
                    "Integrated Intel Iris Xe Graphics",
                    "Integrated Intel Iris Xe Graphics",
                    "Integrated Intel Iris Xe Graphics",
                    "Integrated Intel Iris Xe Graphics",
                    "Integrated Intel Iris Xe Graphics",
                    "Integrated Intel Iris Xe Graphics"
                  ],
                  "xaxis": "x",
                  "yaxis": "y"
                },
                {
                  "alignmentgroup": "True",
                  "bingroup": "x",
                  "hovertemplate": "GPU=%{x}<br>count=%{y}<extra></extra>",
                  "legendgroup": "AMD Radeon Radeon",
                  "marker": {
                    "color": "#19d3f3",
                    "pattern": {
                      "shape": ""
                    }
                  },
                  "name": "AMD Radeon Radeon",
                  "offsetgroup": "AMD Radeon Radeon",
                  "orientation": "v",
                  "showlegend": true,
                  "type": "histogram",
                  "x": [
                    "AMD Radeon Radeon",
                    "AMD Radeon Radeon"
                  ],
                  "xaxis": "x",
                  "yaxis": "y"
                },
                {
                  "alignmentgroup": "True",
                  "bingroup": "x",
                  "hovertemplate": "GPU=%{x}<br>count=%{y}<extra></extra>",
                  "legendgroup": "Intel Integrated Intel Iris Xe Graphics",
                  "marker": {
                    "color": "#FF6692",
                    "pattern": {
                      "shape": ""
                    }
                  },
                  "name": "Intel Integrated Intel Iris Xe Graphics",
                  "offsetgroup": "Intel Integrated Intel Iris Xe Graphics",
                  "orientation": "v",
                  "showlegend": true,
                  "type": "histogram",
                  "x": [
                    "Intel Integrated Intel Iris Xe Graphics",
                    "Intel Integrated Intel Iris Xe Graphics",
                    "Intel Integrated Intel Iris Xe Graphics",
                    "Intel Integrated Intel Iris Xe Graphics",
                    "Intel Integrated Intel Iris Xe Graphics"
                  ],
                  "xaxis": "x",
                  "yaxis": "y"
                },
                {
                  "alignmentgroup": "True",
                  "bingroup": "x",
                  "hovertemplate": "GPU=%{x}<br>count=%{y}<extra></extra>",
                  "legendgroup": "AMD Radeon Graphiics",
                  "marker": {
                    "color": "#B6E880",
                    "pattern": {
                      "shape": ""
                    }
                  },
                  "name": "AMD Radeon Graphiics",
                  "offsetgroup": "AMD Radeon Graphiics",
                  "orientation": "v",
                  "showlegend": true,
                  "type": "histogram",
                  "x": [
                    "AMD Radeon Graphiics",
                    "AMD Radeon Graphiics"
                  ],
                  "xaxis": "x",
                  "yaxis": "y"
                },
                {
                  "alignmentgroup": "True",
                  "bingroup": "x",
                  "hovertemplate": "GPU=%{x}<br>count=%{y}<extra></extra>",
                  "legendgroup": "NVIDIA GeForce RTX 4070",
                  "marker": {
                    "color": "#FF97FF",
                    "pattern": {
                      "shape": ""
                    }
                  },
                  "name": "NVIDIA GeForce RTX 4070",
                  "offsetgroup": "NVIDIA GeForce RTX 4070",
                  "orientation": "v",
                  "showlegend": true,
                  "type": "histogram",
                  "x": [
                    "NVIDIA GeForce RTX 4070",
                    "NVIDIA GeForce RTX 4070"
                  ],
                  "xaxis": "x",
                  "yaxis": "y"
                },
                {
                  "alignmentgroup": "True",
                  "bingroup": "x",
                  "hovertemplate": "GPU=%{x}<br>count=%{y}<extra></extra>",
                  "legendgroup": "AMD Radeon 610M Graphics",
                  "marker": {
                    "color": "#FECB52",
                    "pattern": {
                      "shape": ""
                    }
                  },
                  "name": "AMD Radeon 610M Graphics",
                  "offsetgroup": "AMD Radeon 610M Graphics",
                  "orientation": "v",
                  "showlegend": true,
                  "type": "histogram",
                  "x": [
                    "AMD Radeon 610M Graphics",
                    "AMD Radeon 610M Graphics",
                    "AMD Radeon 610M Graphics",
                    "AMD Radeon 610M Graphics"
                  ],
                  "xaxis": "x",
                  "yaxis": "y"
                },
                {
                  "alignmentgroup": "True",
                  "bingroup": "x",
                  "hovertemplate": "GPU=%{x}<br>count=%{y}<extra></extra>",
                  "legendgroup": "4GB NVIDIA GTX 1650",
                  "marker": {
                    "color": "#636efa",
                    "pattern": {
                      "shape": ""
                    }
                  },
                  "name": "4GB NVIDIA GTX 1650",
                  "offsetgroup": "4GB NVIDIA GTX 1650",
                  "orientation": "v",
                  "showlegend": true,
                  "type": "histogram",
                  "x": [
                    "4GB NVIDIA GTX 1650"
                  ],
                  "xaxis": "x",
                  "yaxis": "y"
                },
                {
                  "alignmentgroup": "True",
                  "bingroup": "x",
                  "hovertemplate": "GPU=%{x}<br>count=%{y}<extra></extra>",
                  "legendgroup": "AMD Radeon",
                  "marker": {
                    "color": "#EF553B",
                    "pattern": {
                      "shape": ""
                    }
                  },
                  "name": "AMD Radeon",
                  "offsetgroup": "AMD Radeon",
                  "orientation": "v",
                  "showlegend": true,
                  "type": "histogram",
                  "x": [
                    "AMD Radeon",
                    "AMD Radeon",
                    "AMD Radeon",
                    "AMD Radeon",
                    "AMD Radeon",
                    "AMD Radeon",
                    "AMD Radeon",
                    "AMD Radeon",
                    "AMD Radeon",
                    "AMD Radeon",
                    "AMD Radeon",
                    "AMD Radeon",
                    "AMD Radeon"
                  ],
                  "xaxis": "x",
                  "yaxis": "y"
                },
                {
                  "alignmentgroup": "True",
                  "bingroup": "x",
                  "hovertemplate": "GPU=%{x}<br>count=%{y}<extra></extra>",
                  "legendgroup": "4GB NVIDIA Geforce RTX 3050",
                  "marker": {
                    "color": "#00cc96",
                    "pattern": {
                      "shape": ""
                    }
                  },
                  "name": "4GB NVIDIA Geforce RTX 3050",
                  "offsetgroup": "4GB NVIDIA Geforce RTX 3050",
                  "orientation": "v",
                  "showlegend": true,
                  "type": "histogram",
                  "x": [
                    "4GB NVIDIA Geforce RTX 3050",
                    "4GB NVIDIA Geforce RTX 3050"
                  ],
                  "xaxis": "x",
                  "yaxis": "y"
                },
                {
                  "alignmentgroup": "True",
                  "bingroup": "x",
                  "hovertemplate": "GPU=%{x}<br>count=%{y}<extra></extra>",
                  "legendgroup": "Intel Graphics ",
                  "marker": {
                    "color": "#ab63fa",
                    "pattern": {
                      "shape": ""
                    }
                  },
                  "name": "Intel Graphics ",
                  "offsetgroup": "Intel Graphics ",
                  "orientation": "v",
                  "showlegend": true,
                  "type": "histogram",
                  "x": [
                    "Intel Graphics "
                  ],
                  "xaxis": "x",
                  "yaxis": "y"
                },
                {
                  "alignmentgroup": "True",
                  "bingroup": "x",
                  "hovertemplate": "GPU=%{x}<br>count=%{y}<extra></extra>",
                  "legendgroup": "Intel Iris XE Graphics",
                  "marker": {
                    "color": "#FFA15A",
                    "pattern": {
                      "shape": ""
                    }
                  },
                  "name": "Intel Iris XE Graphics",
                  "offsetgroup": "Intel Iris XE Graphics",
                  "orientation": "v",
                  "showlegend": true,
                  "type": "histogram",
                  "x": [
                    "Intel Iris XE Graphics"
                  ],
                  "xaxis": "x",
                  "yaxis": "y"
                },
                {
                  "alignmentgroup": "True",
                  "bingroup": "x",
                  "hovertemplate": "GPU=%{x}<br>count=%{y}<extra></extra>",
                  "legendgroup": "Intel HD",
                  "marker": {
                    "color": "#19d3f3",
                    "pattern": {
                      "shape": ""
                    }
                  },
                  "name": "Intel HD",
                  "offsetgroup": "Intel HD",
                  "orientation": "v",
                  "showlegend": true,
                  "type": "histogram",
                  "x": [
                    "Intel HD",
                    "Intel HD"
                  ],
                  "xaxis": "x",
                  "yaxis": "y"
                },
                {
                  "alignmentgroup": "True",
                  "bingroup": "x",
                  "hovertemplate": "GPU=%{x}<br>count=%{y}<extra></extra>",
                  "legendgroup": "AMD Radeon Vega 8",
                  "marker": {
                    "color": "#FF6692",
                    "pattern": {
                      "shape": ""
                    }
                  },
                  "name": "AMD Radeon Vega 8",
                  "offsetgroup": "AMD Radeon Vega 8",
                  "orientation": "v",
                  "showlegend": true,
                  "type": "histogram",
                  "x": [
                    "AMD Radeon Vega 8"
                  ],
                  "xaxis": "x",
                  "yaxis": "y"
                },
                {
                  "alignmentgroup": "True",
                  "bingroup": "x",
                  "hovertemplate": "GPU=%{x}<br>count=%{y}<extra></extra>",
                  "legendgroup": "4GB Radeon Pro 5500M",
                  "marker": {
                    "color": "#B6E880",
                    "pattern": {
                      "shape": ""
                    }
                  },
                  "name": "4GB Radeon Pro 5500M",
                  "offsetgroup": "4GB Radeon Pro 5500M",
                  "orientation": "v",
                  "showlegend": true,
                  "type": "histogram",
                  "x": [
                    "4GB Radeon Pro 5500M"
                  ],
                  "xaxis": "x",
                  "yaxis": "y"
                },
                {
                  "alignmentgroup": "True",
                  "bingroup": "x",
                  "hovertemplate": "GPU=%{x}<br>count=%{y}<extra></extra>",
                  "legendgroup": "AMD Radeon 610M",
                  "marker": {
                    "color": "#FF97FF",
                    "pattern": {
                      "shape": ""
                    }
                  },
                  "name": "AMD Radeon 610M",
                  "offsetgroup": "AMD Radeon 610M",
                  "orientation": "v",
                  "showlegend": true,
                  "type": "histogram",
                  "x": [
                    "AMD Radeon 610M",
                    "AMD Radeon 610M",
                    "AMD Radeon 610M"
                  ],
                  "xaxis": "x",
                  "yaxis": "y"
                },
                {
                  "alignmentgroup": "True",
                  "bingroup": "x",
                  "hovertemplate": "GPU=%{x}<br>count=%{y}<extra></extra>",
                  "legendgroup": "4GB NVIDIA GeForce RTX RTX 3050",
                  "marker": {
                    "color": "#FECB52",
                    "pattern": {
                      "shape": ""
                    }
                  },
                  "name": "4GB NVIDIA GeForce RTX RTX 3050",
                  "offsetgroup": "4GB NVIDIA GeForce RTX RTX 3050",
                  "orientation": "v",
                  "showlegend": true,
                  "type": "histogram",
                  "x": [
                    "4GB NVIDIA GeForce RTX RTX 3050",
                    "4GB NVIDIA GeForce RTX RTX 3050"
                  ],
                  "xaxis": "x",
                  "yaxis": "y"
                },
                {
                  "alignmentgroup": "True",
                  "bingroup": "x",
                  "hovertemplate": "GPU=%{x}<br>count=%{y}<extra></extra>",
                  "legendgroup": "AMD Radeon ",
                  "marker": {
                    "color": "#636efa",
                    "pattern": {
                      "shape": ""
                    }
                  },
                  "name": "AMD Radeon ",
                  "offsetgroup": "AMD Radeon ",
                  "orientation": "v",
                  "showlegend": true,
                  "type": "histogram",
                  "x": [
                    "AMD Radeon "
                  ],
                  "xaxis": "x",
                  "yaxis": "y"
                },
                {
                  "alignmentgroup": "True",
                  "bingroup": "x",
                  "hovertemplate": "GPU=%{x}<br>count=%{y}<extra></extra>",
                  "legendgroup": "4GB AMD Radeon AMD Radeon RX 6500M",
                  "marker": {
                    "color": "#EF553B",
                    "pattern": {
                      "shape": ""
                    }
                  },
                  "name": "4GB AMD Radeon AMD Radeon RX 6500M",
                  "offsetgroup": "4GB AMD Radeon AMD Radeon RX 6500M",
                  "orientation": "v",
                  "showlegend": true,
                  "type": "histogram",
                  "x": [
                    "4GB AMD Radeon AMD Radeon RX 6500M"
                  ],
                  "xaxis": "x",
                  "yaxis": "y"
                },
                {
                  "alignmentgroup": "True",
                  "bingroup": "x",
                  "hovertemplate": "GPU=%{x}<br>count=%{y}<extra></extra>",
                  "legendgroup": "4GB NVIDIA GeForce GTX 2050",
                  "marker": {
                    "color": "#00cc96",
                    "pattern": {
                      "shape": ""
                    }
                  },
                  "name": "4GB NVIDIA GeForce GTX 2050",
                  "offsetgroup": "4GB NVIDIA GeForce GTX 2050",
                  "orientation": "v",
                  "showlegend": true,
                  "type": "histogram",
                  "x": [
                    "4GB NVIDIA GeForce GTX 2050",
                    "4GB NVIDIA GeForce GTX 2050"
                  ],
                  "xaxis": "x",
                  "yaxis": "y"
                },
                {
                  "alignmentgroup": "True",
                  "bingroup": "x",
                  "hovertemplate": "GPU=%{x}<br>count=%{y}<extra></extra>",
                  "legendgroup": "Integrated Intel UHD Graphics",
                  "marker": {
                    "color": "#ab63fa",
                    "pattern": {
                      "shape": ""
                    }
                  },
                  "name": "Integrated Intel UHD Graphics",
                  "offsetgroup": "Integrated Intel UHD Graphics",
                  "orientation": "v",
                  "showlegend": true,
                  "type": "histogram",
                  "x": [
                    "Integrated Intel UHD Graphics",
                    "Integrated Intel UHD Graphics",
                    "Integrated Intel UHD Graphics",
                    "Integrated Intel UHD Graphics",
                    "Integrated Intel UHD Graphics",
                    "Integrated Intel UHD Graphics",
                    "Integrated Intel UHD Graphics"
                  ],
                  "xaxis": "x",
                  "yaxis": "y"
                },
                {
                  "alignmentgroup": "True",
                  "bingroup": "x",
                  "hovertemplate": "GPU=%{x}<br>count=%{y}<extra></extra>",
                  "legendgroup": "4GB NVIDIA GeForce RTX2050",
                  "marker": {
                    "color": "#FFA15A",
                    "pattern": {
                      "shape": ""
                    }
                  },
                  "name": "4GB NVIDIA GeForce RTX2050",
                  "offsetgroup": "4GB NVIDIA GeForce RTX2050",
                  "orientation": "v",
                  "showlegend": true,
                  "type": "histogram",
                  "x": [
                    "4GB NVIDIA GeForce RTX2050",
                    "4GB NVIDIA GeForce RTX2050",
                    "4GB NVIDIA GeForce RTX2050"
                  ],
                  "xaxis": "x",
                  "yaxis": "y"
                },
                {
                  "alignmentgroup": "True",
                  "bingroup": "x",
                  "hovertemplate": "GPU=%{x}<br>count=%{y}<extra></extra>",
                  "legendgroup": "Intel Iris X Graphics",
                  "marker": {
                    "color": "#19d3f3",
                    "pattern": {
                      "shape": ""
                    }
                  },
                  "name": "Intel Iris X Graphics",
                  "offsetgroup": "Intel Iris X Graphics",
                  "orientation": "v",
                  "showlegend": true,
                  "type": "histogram",
                  "x": [
                    "Intel Iris X Graphics",
                    "Intel Iris X Graphics",
                    "Intel Iris X Graphics"
                  ],
                  "xaxis": "x",
                  "yaxis": "y"
                },
                {
                  "alignmentgroup": "True",
                  "bingroup": "x",
                  "hovertemplate": "GPU=%{x}<br>count=%{y}<extra></extra>",
                  "legendgroup": "4GB NVIDIA GeForce RTX 2050 ",
                  "marker": {
                    "color": "#FF6692",
                    "pattern": {
                      "shape": ""
                    }
                  },
                  "name": "4GB NVIDIA GeForce RTX 2050 ",
                  "offsetgroup": "4GB NVIDIA GeForce RTX 2050 ",
                  "orientation": "v",
                  "showlegend": true,
                  "type": "histogram",
                  "x": [
                    "4GB NVIDIA GeForce RTX 2050 ",
                    "4GB NVIDIA GeForce RTX 2050 "
                  ],
                  "xaxis": "x",
                  "yaxis": "y"
                },
                {
                  "alignmentgroup": "True",
                  "bingroup": "x",
                  "hovertemplate": "GPU=%{x}<br>count=%{y}<extra></extra>",
                  "legendgroup": "4GB NVIDIA GeForce RTX 3050 ",
                  "marker": {
                    "color": "#B6E880",
                    "pattern": {
                      "shape": ""
                    }
                  },
                  "name": "4GB NVIDIA GeForce RTX 3050 ",
                  "offsetgroup": "4GB NVIDIA GeForce RTX 3050 ",
                  "orientation": "v",
                  "showlegend": true,
                  "type": "histogram",
                  "x": [
                    "4GB NVIDIA GeForce RTX 3050 "
                  ],
                  "xaxis": "x",
                  "yaxis": "y"
                },
                {
                  "alignmentgroup": "True",
                  "bingroup": "x",
                  "hovertemplate": "GPU=%{x}<br>count=%{y}<extra></extra>",
                  "legendgroup": "AMD Radeon Vega 8 Graphics",
                  "marker": {
                    "color": "#FF97FF",
                    "pattern": {
                      "shape": ""
                    }
                  },
                  "name": "AMD Radeon Vega 8 Graphics",
                  "offsetgroup": "AMD Radeon Vega 8 Graphics",
                  "orientation": "v",
                  "showlegend": true,
                  "type": "histogram",
                  "x": [
                    "AMD Radeon Vega 8 Graphics"
                  ],
                  "xaxis": "x",
                  "yaxis": "y"
                },
                {
                  "alignmentgroup": "True",
                  "bingroup": "x",
                  "hovertemplate": "GPU=%{x}<br>count=%{y}<extra></extra>",
                  "legendgroup": "4GB Nvidia GeForce RTX 2050",
                  "marker": {
                    "color": "#FECB52",
                    "pattern": {
                      "shape": ""
                    }
                  },
                  "name": "4GB Nvidia GeForce RTX 2050",
                  "offsetgroup": "4GB Nvidia GeForce RTX 2050",
                  "orientation": "v",
                  "showlegend": true,
                  "type": "histogram",
                  "x": [
                    "4GB Nvidia GeForce RTX 2050"
                  ],
                  "xaxis": "x",
                  "yaxis": "y"
                },
                {
                  "alignmentgroup": "True",
                  "bingroup": "x",
                  "hovertemplate": "GPU=%{x}<br>count=%{y}<extra></extra>",
                  "legendgroup": "Integrated Intel iris Xe Graphics",
                  "marker": {
                    "color": "#636efa",
                    "pattern": {
                      "shape": ""
                    }
                  },
                  "name": "Integrated Intel iris Xe Graphics",
                  "offsetgroup": "Integrated Intel iris Xe Graphics",
                  "orientation": "v",
                  "showlegend": true,
                  "type": "histogram",
                  "x": [
                    "Integrated Intel iris Xe Graphics"
                  ],
                  "xaxis": "x",
                  "yaxis": "y"
                },
                {
                  "alignmentgroup": "True",
                  "bingroup": "x",
                  "hovertemplate": "GPU=%{x}<br>count=%{y}<extra></extra>",
                  "legendgroup": "4GB AMD Radeon RX6500M",
                  "marker": {
                    "color": "#EF553B",
                    "pattern": {
                      "shape": ""
                    }
                  },
                  "name": "4GB AMD Radeon RX6500M",
                  "offsetgroup": "4GB AMD Radeon RX6500M",
                  "orientation": "v",
                  "showlegend": true,
                  "type": "histogram",
                  "x": [
                    "4GB AMD Radeon RX6500M"
                  ],
                  "xaxis": "x",
                  "yaxis": "y"
                },
                {
                  "alignmentgroup": "True",
                  "bingroup": "x",
                  "hovertemplate": "GPU=%{x}<br>count=%{y}<extra></extra>",
                  "legendgroup": "12GB NVIDIA GeForce RTX 4080",
                  "marker": {
                    "color": "#00cc96",
                    "pattern": {
                      "shape": ""
                    }
                  },
                  "name": "12GB NVIDIA GeForce RTX 4080",
                  "offsetgroup": "12GB NVIDIA GeForce RTX 4080",
                  "orientation": "v",
                  "showlegend": true,
                  "type": "histogram",
                  "x": [
                    "12GB NVIDIA GeForce RTX 4080",
                    "12GB NVIDIA GeForce RTX 4080",
                    "12GB NVIDIA GeForce RTX 4080",
                    "12GB NVIDIA GeForce RTX 4080"
                  ],
                  "xaxis": "x",
                  "yaxis": "y"
                },
                {
                  "alignmentgroup": "True",
                  "bingroup": "x",
                  "hovertemplate": "GPU=%{x}<br>count=%{y}<extra></extra>",
                  "legendgroup": "Intel Iris Xe Graphic",
                  "marker": {
                    "color": "#ab63fa",
                    "pattern": {
                      "shape": ""
                    }
                  },
                  "name": "Intel Iris Xe Graphic",
                  "offsetgroup": "Intel Iris Xe Graphic",
                  "orientation": "v",
                  "showlegend": true,
                  "type": "histogram",
                  "x": [
                    "Intel Iris Xe Graphic",
                    "Intel Iris Xe Graphic"
                  ],
                  "xaxis": "x",
                  "yaxis": "y"
                },
                {
                  "alignmentgroup": "True",
                  "bingroup": "x",
                  "hovertemplate": "GPU=%{x}<br>count=%{y}<extra></extra>",
                  "legendgroup": "30-core GPU",
                  "marker": {
                    "color": "#FFA15A",
                    "pattern": {
                      "shape": ""
                    }
                  },
                  "name": "30-core GPU",
                  "offsetgroup": "30-core GPU",
                  "orientation": "v",
                  "showlegend": true,
                  "type": "histogram",
                  "x": [
                    "30-core GPU"
                  ],
                  "xaxis": "x",
                  "yaxis": "y"
                },
                {
                  "alignmentgroup": "True",
                  "bingroup": "x",
                  "hovertemplate": "GPU=%{x}<br>count=%{y}<extra></extra>",
                  "legendgroup": "19-core GPU",
                  "marker": {
                    "color": "#19d3f3",
                    "pattern": {
                      "shape": ""
                    }
                  },
                  "name": "19-core GPU",
                  "offsetgroup": "19-core GPU",
                  "orientation": "v",
                  "showlegend": true,
                  "type": "histogram",
                  "x": [
                    "19-core GPU"
                  ],
                  "xaxis": "x",
                  "yaxis": "y"
                },
                {
                  "alignmentgroup": "True",
                  "bingroup": "x",
                  "hovertemplate": "GPU=%{x}<br>count=%{y}<extra></extra>",
                  "legendgroup": " Intel Iris Xe Graphics",
                  "marker": {
                    "color": "#FF6692",
                    "pattern": {
                      "shape": ""
                    }
                  },
                  "name": " Intel Iris Xe Graphics",
                  "offsetgroup": " Intel Iris Xe Graphics",
                  "orientation": "v",
                  "showlegend": true,
                  "type": "histogram",
                  "x": [
                    " Intel Iris Xe Graphics"
                  ],
                  "xaxis": "x",
                  "yaxis": "y"
                },
                {
                  "alignmentgroup": "True",
                  "bingroup": "x",
                  "hovertemplate": "GPU=%{x}<br>count=%{y}<extra></extra>",
                  "legendgroup": "6GB NVIDIA GeForce RTX 3060",
                  "marker": {
                    "color": "#B6E880",
                    "pattern": {
                      "shape": ""
                    }
                  },
                  "name": "6GB NVIDIA GeForce RTX 3060",
                  "offsetgroup": "6GB NVIDIA GeForce RTX 3060",
                  "orientation": "v",
                  "showlegend": true,
                  "type": "histogram",
                  "x": [
                    "6GB NVIDIA GeForce RTX 3060",
                    "6GB NVIDIA GeForce RTX 3060",
                    "6GB NVIDIA GeForce RTX 3060",
                    "6GB NVIDIA GeForce RTX 3060",
                    "6GB NVIDIA GeForce RTX 3060",
                    "6GB NVIDIA GeForce RTX 3060",
                    "6GB NVIDIA GeForce RTX 3060"
                  ],
                  "xaxis": "x",
                  "yaxis": "y"
                },
                {
                  "alignmentgroup": "True",
                  "bingroup": "x",
                  "hovertemplate": "GPU=%{x}<br>count=%{y}<extra></extra>",
                  "legendgroup": "8GB NVIDIA GeForce RTX 3070Ti",
                  "marker": {
                    "color": "#FF97FF",
                    "pattern": {
                      "shape": ""
                    }
                  },
                  "name": "8GB NVIDIA GeForce RTX 3070Ti",
                  "offsetgroup": "8GB NVIDIA GeForce RTX 3070Ti",
                  "orientation": "v",
                  "showlegend": true,
                  "type": "histogram",
                  "x": [
                    "8GB NVIDIA GeForce RTX 3070Ti",
                    "8GB NVIDIA GeForce RTX 3070Ti"
                  ],
                  "xaxis": "x",
                  "yaxis": "y"
                },
                {
                  "alignmentgroup": "True",
                  "bingroup": "x",
                  "hovertemplate": "GPU=%{x}<br>count=%{y}<extra></extra>",
                  "legendgroup": "4GB NVIDIA GeForce RTX A1000",
                  "marker": {
                    "color": "#FECB52",
                    "pattern": {
                      "shape": ""
                    }
                  },
                  "name": "4GB NVIDIA GeForce RTX A1000",
                  "offsetgroup": "4GB NVIDIA GeForce RTX A1000",
                  "orientation": "v",
                  "showlegend": true,
                  "type": "histogram",
                  "x": [
                    "4GB NVIDIA GeForce RTX A1000"
                  ],
                  "xaxis": "x",
                  "yaxis": "y"
                },
                {
                  "alignmentgroup": "True",
                  "bingroup": "x",
                  "hovertemplate": "GPU=%{x}<br>count=%{y}<extra></extra>",
                  "legendgroup": "16GB NVIDIA GeForce RTX 3080 Ti",
                  "marker": {
                    "color": "#636efa",
                    "pattern": {
                      "shape": ""
                    }
                  },
                  "name": "16GB NVIDIA GeForce RTX 3080 Ti",
                  "offsetgroup": "16GB NVIDIA GeForce RTX 3080 Ti",
                  "orientation": "v",
                  "showlegend": true,
                  "type": "histogram",
                  "x": [
                    "16GB NVIDIA GeForce RTX 3080 Ti"
                  ],
                  "xaxis": "x",
                  "yaxis": "y"
                },
                {
                  "alignmentgroup": "True",
                  "bingroup": "x",
                  "hovertemplate": "GPU=%{x}<br>count=%{y}<extra></extra>",
                  "legendgroup": "Intel Iris Xe Graphics ",
                  "marker": {
                    "color": "#EF553B",
                    "pattern": {
                      "shape": ""
                    }
                  },
                  "name": "Intel Iris Xe Graphics ",
                  "offsetgroup": "Intel Iris Xe Graphics ",
                  "orientation": "v",
                  "showlegend": true,
                  "type": "histogram",
                  "x": [
                    "Intel Iris Xe Graphics ",
                    "Intel Iris Xe Graphics ",
                    "Intel Iris Xe Graphics ",
                    "Intel Iris Xe Graphics "
                  ],
                  "xaxis": "x",
                  "yaxis": "y"
                },
                {
                  "alignmentgroup": "True",
                  "bingroup": "x",
                  "hovertemplate": "GPU=%{x}<br>count=%{y}<extra></extra>",
                  "legendgroup": "4GB NVIDIA Geforce GTX1650 Max Q",
                  "marker": {
                    "color": "#00cc96",
                    "pattern": {
                      "shape": ""
                    }
                  },
                  "name": "4GB NVIDIA Geforce GTX1650 Max Q",
                  "offsetgroup": "4GB NVIDIA Geforce GTX1650 Max Q",
                  "orientation": "v",
                  "showlegend": true,
                  "type": "histogram",
                  "x": [
                    "4GB NVIDIA Geforce GTX1650 Max Q"
                  ],
                  "xaxis": "x",
                  "yaxis": "y"
                },
                {
                  "alignmentgroup": "True",
                  "bingroup": "x",
                  "hovertemplate": "GPU=%{x}<br>count=%{y}<extra></extra>",
                  "legendgroup": "16-core GPU",
                  "marker": {
                    "color": "#ab63fa",
                    "pattern": {
                      "shape": ""
                    }
                  },
                  "name": "16-core GPU",
                  "offsetgroup": "16-core GPU",
                  "orientation": "v",
                  "showlegend": true,
                  "type": "histogram",
                  "x": [
                    "16-core GPU",
                    "16-core GPU",
                    "16-core GPU"
                  ],
                  "xaxis": "x",
                  "yaxis": "y"
                },
                {
                  "alignmentgroup": "True",
                  "bingroup": "x",
                  "hovertemplate": "GPU=%{x}<br>count=%{y}<extra></extra>",
                  "legendgroup": "32-core GPU",
                  "marker": {
                    "color": "#FFA15A",
                    "pattern": {
                      "shape": ""
                    }
                  },
                  "name": "32-core GPU",
                  "offsetgroup": "32-core GPU",
                  "orientation": "v",
                  "showlegend": true,
                  "type": "histogram",
                  "x": [
                    "32-core GPU"
                  ],
                  "xaxis": "x",
                  "yaxis": "y"
                },
                {
                  "alignmentgroup": "True",
                  "bingroup": "x",
                  "hovertemplate": "GPU=%{x}<br>count=%{y}<extra></extra>",
                  "legendgroup": "2GB NVIDIA GeForce MX350",
                  "marker": {
                    "color": "#19d3f3",
                    "pattern": {
                      "shape": ""
                    }
                  },
                  "name": "2GB NVIDIA GeForce MX350",
                  "offsetgroup": "2GB NVIDIA GeForce MX350",
                  "orientation": "v",
                  "showlegend": true,
                  "type": "histogram",
                  "x": [
                    "2GB NVIDIA GeForce MX350"
                  ],
                  "xaxis": "x",
                  "yaxis": "y"
                },
                {
                  "alignmentgroup": "True",
                  "bingroup": "x",
                  "hovertemplate": "GPU=%{x}<br>count=%{y}<extra></extra>",
                  "legendgroup": "AMD Radeon Vega 6",
                  "marker": {
                    "color": "#FF6692",
                    "pattern": {
                      "shape": ""
                    }
                  },
                  "name": "AMD Radeon Vega 6",
                  "offsetgroup": "AMD Radeon Vega 6",
                  "orientation": "v",
                  "showlegend": true,
                  "type": "histogram",
                  "x": [
                    "AMD Radeon Vega 6"
                  ],
                  "xaxis": "x",
                  "yaxis": "y"
                },
                {
                  "alignmentgroup": "True",
                  "bingroup": "x",
                  "hovertemplate": "GPU=%{x}<br>count=%{y}<extra></extra>",
                  "legendgroup": "AMD Radeon Vega 9",
                  "marker": {
                    "color": "#B6E880",
                    "pattern": {
                      "shape": ""
                    }
                  },
                  "name": "AMD Radeon Vega 9",
                  "offsetgroup": "AMD Radeon Vega 9",
                  "orientation": "v",
                  "showlegend": true,
                  "type": "histogram",
                  "x": [
                    "AMD Radeon Vega 9",
                    "AMD Radeon Vega 9"
                  ],
                  "xaxis": "x",
                  "yaxis": "y"
                },
                {
                  "alignmentgroup": "True",
                  "bingroup": "x",
                  "hovertemplate": "GPU=%{x}<br>count=%{y}<extra></extra>",
                  "legendgroup": "2GB NVIDIA GeForce MX250",
                  "marker": {
                    "color": "#FF97FF",
                    "pattern": {
                      "shape": ""
                    }
                  },
                  "name": "2GB NVIDIA GeForce MX250",
                  "offsetgroup": "2GB NVIDIA GeForce MX250",
                  "orientation": "v",
                  "showlegend": true,
                  "type": "histogram",
                  "x": [
                    "2GB NVIDIA GeForce MX250"
                  ],
                  "xaxis": "x",
                  "yaxis": "y"
                },
                {
                  "alignmentgroup": "True",
                  "bingroup": "x",
                  "hovertemplate": "GPU=%{x}<br>count=%{y}<extra></extra>",
                  "legendgroup": "Integrated UHD Graphics 620",
                  "marker": {
                    "color": "#FECB52",
                    "pattern": {
                      "shape": ""
                    }
                  },
                  "name": "Integrated UHD Graphics 620",
                  "offsetgroup": "Integrated UHD Graphics 620",
                  "orientation": "v",
                  "showlegend": true,
                  "type": "histogram",
                  "x": [
                    "Integrated UHD Graphics 620"
                  ],
                  "xaxis": "x",
                  "yaxis": "y"
                },
                {
                  "alignmentgroup": "True",
                  "bingroup": "x",
                  "hovertemplate": "GPU=%{x}<br>count=%{y}<extra></extra>",
                  "legendgroup": "Intel Integrated UHD 620",
                  "marker": {
                    "color": "#636efa",
                    "pattern": {
                      "shape": ""
                    }
                  },
                  "name": "Intel Integrated UHD 620",
                  "offsetgroup": "Intel Integrated UHD 620",
                  "orientation": "v",
                  "showlegend": true,
                  "type": "histogram",
                  "x": [
                    "Intel Integrated UHD 620"
                  ],
                  "xaxis": "x",
                  "yaxis": "y"
                },
                {
                  "alignmentgroup": "True",
                  "bingroup": "x",
                  "hovertemplate": "GPU=%{x}<br>count=%{y}<extra></extra>",
                  "legendgroup": "Intel Iris Plus Graphics 655",
                  "marker": {
                    "color": "#EF553B",
                    "pattern": {
                      "shape": ""
                    }
                  },
                  "name": "Intel Iris Plus Graphics 655",
                  "offsetgroup": "Intel Iris Plus Graphics 655",
                  "orientation": "v",
                  "showlegend": true,
                  "type": "histogram",
                  "x": [
                    "Intel Iris Plus Graphics 655"
                  ],
                  "xaxis": "x",
                  "yaxis": "y"
                },
                {
                  "alignmentgroup": "True",
                  "bingroup": "x",
                  "hovertemplate": "GPU=%{x}<br>count=%{y}<extra></extra>",
                  "legendgroup": "4GB Intel Arc A350M Graphics",
                  "marker": {
                    "color": "#00cc96",
                    "pattern": {
                      "shape": ""
                    }
                  },
                  "name": "4GB Intel Arc A350M Graphics",
                  "offsetgroup": "4GB Intel Arc A350M Graphics",
                  "orientation": "v",
                  "showlegend": true,
                  "type": "histogram",
                  "x": [
                    "4GB Intel Arc A350M Graphics"
                  ],
                  "xaxis": "x",
                  "yaxis": "y"
                },
                {
                  "alignmentgroup": "True",
                  "bingroup": "x",
                  "hovertemplate": "GPU=%{x}<br>count=%{y}<extra></extra>",
                  "legendgroup": "Intel Iris Plus",
                  "marker": {
                    "color": "#ab63fa",
                    "pattern": {
                      "shape": ""
                    }
                  },
                  "name": "Intel Iris Plus",
                  "offsetgroup": "Intel Iris Plus",
                  "orientation": "v",
                  "showlegend": true,
                  "type": "histogram",
                  "x": [
                    "Intel Iris Plus",
                    "Intel Iris Plus"
                  ],
                  "xaxis": "x",
                  "yaxis": "y"
                },
                {
                  "alignmentgroup": "True",
                  "bingroup": "x",
                  "hovertemplate": "GPU=%{x}<br>count=%{y}<extra></extra>",
                  "legendgroup": "4GB Geforce MX130",
                  "marker": {
                    "color": "#FFA15A",
                    "pattern": {
                      "shape": ""
                    }
                  },
                  "name": "4GB Geforce MX130",
                  "offsetgroup": "4GB Geforce MX130",
                  "orientation": "v",
                  "showlegend": true,
                  "type": "histogram",
                  "x": [
                    "4GB Geforce MX130"
                  ],
                  "xaxis": "x",
                  "yaxis": "y"
                },
                {
                  "alignmentgroup": "True",
                  "bingroup": "x",
                  "hovertemplate": "GPU=%{x}<br>count=%{y}<extra></extra>",
                  "legendgroup": "Intel UHD Graphics 630",
                  "marker": {
                    "color": "#19d3f3",
                    "pattern": {
                      "shape": ""
                    }
                  },
                  "name": "Intel UHD Graphics 630",
                  "offsetgroup": "Intel UHD Graphics 630",
                  "orientation": "v",
                  "showlegend": true,
                  "type": "histogram",
                  "x": [
                    "Intel UHD Graphics 630"
                  ],
                  "xaxis": "x",
                  "yaxis": "y"
                },
                {
                  "alignmentgroup": "True",
                  "bingroup": "x",
                  "hovertemplate": "GPU=%{x}<br>count=%{y}<extra></extra>",
                  "legendgroup": "4GB NVIDIA Geforce GTX 1050Ti",
                  "marker": {
                    "color": "#FF6692",
                    "pattern": {
                      "shape": ""
                    }
                  },
                  "name": "4GB NVIDIA Geforce GTX 1050Ti",
                  "offsetgroup": "4GB NVIDIA Geforce GTX 1050Ti",
                  "orientation": "v",
                  "showlegend": true,
                  "type": "histogram",
                  "x": [
                    "4GB NVIDIA Geforce GTX 1050Ti"
                  ],
                  "xaxis": "x",
                  "yaxis": "y"
                },
                {
                  "alignmentgroup": "True",
                  "bingroup": "x",
                  "hovertemplate": "GPU=%{x}<br>count=%{y}<extra></extra>",
                  "legendgroup": "Integrated AMD Radeon Graphics",
                  "marker": {
                    "color": "#B6E880",
                    "pattern": {
                      "shape": ""
                    }
                  },
                  "name": "Integrated AMD Radeon Graphics",
                  "offsetgroup": "Integrated AMD Radeon Graphics",
                  "orientation": "v",
                  "showlegend": true,
                  "type": "histogram",
                  "x": [
                    "Integrated AMD Radeon Graphics",
                    "Integrated AMD Radeon Graphics"
                  ],
                  "xaxis": "x",
                  "yaxis": "y"
                },
                {
                  "alignmentgroup": "True",
                  "bingroup": "x",
                  "hovertemplate": "GPU=%{x}<br>count=%{y}<extra></extra>",
                  "legendgroup": "6GB NVIDIA Geforce RTX 4050",
                  "marker": {
                    "color": "#FF97FF",
                    "pattern": {
                      "shape": ""
                    }
                  },
                  "name": "6GB NVIDIA Geforce RTX 4050",
                  "offsetgroup": "6GB NVIDIA Geforce RTX 4050",
                  "orientation": "v",
                  "showlegend": true,
                  "type": "histogram",
                  "x": [
                    "6GB NVIDIA Geforce RTX 4050",
                    "6GB NVIDIA Geforce RTX 4050",
                    "6GB NVIDIA Geforce RTX 4050",
                    "6GB NVIDIA Geforce RTX 4050",
                    "6GB NVIDIA Geforce RTX 4050",
                    "6GB NVIDIA Geforce RTX 4050"
                  ],
                  "xaxis": "x",
                  "yaxis": "y"
                },
                {
                  "alignmentgroup": "True",
                  "bingroup": "x",
                  "hovertemplate": "GPU=%{x}<br>count=%{y}<extra></extra>",
                  "legendgroup": "16GB NVIDIA GeForce RTX 4090 ",
                  "marker": {
                    "color": "#FECB52",
                    "pattern": {
                      "shape": ""
                    }
                  },
                  "name": "16GB NVIDIA GeForce RTX 4090 ",
                  "offsetgroup": "16GB NVIDIA GeForce RTX 4090 ",
                  "orientation": "v",
                  "showlegend": true,
                  "type": "histogram",
                  "x": [
                    "16GB NVIDIA GeForce RTX 4090 "
                  ],
                  "xaxis": "x",
                  "yaxis": "y"
                },
                {
                  "alignmentgroup": "True",
                  "bingroup": "x",
                  "hovertemplate": "GPU=%{x}<br>count=%{y}<extra></extra>",
                  "legendgroup": "AMD Radeon 780M Graphics",
                  "marker": {
                    "color": "#636efa",
                    "pattern": {
                      "shape": ""
                    }
                  },
                  "name": "AMD Radeon 780M Graphics",
                  "offsetgroup": "AMD Radeon 780M Graphics",
                  "orientation": "v",
                  "showlegend": true,
                  "type": "histogram",
                  "x": [
                    "AMD Radeon 780M Graphics"
                  ],
                  "xaxis": "x",
                  "yaxis": "y"
                },
                {
                  "alignmentgroup": "True",
                  "bingroup": "x",
                  "hovertemplate": "GPU=%{x}<br>count=%{y}<extra></extra>",
                  "legendgroup": "12GB NVIDIA Geforce RTX 4080",
                  "marker": {
                    "color": "#EF553B",
                    "pattern": {
                      "shape": ""
                    }
                  },
                  "name": "12GB NVIDIA Geforce RTX 4080",
                  "offsetgroup": "12GB NVIDIA Geforce RTX 4080",
                  "orientation": "v",
                  "showlegend": true,
                  "type": "histogram",
                  "x": [
                    "12GB NVIDIA Geforce RTX 4080",
                    "12GB NVIDIA Geforce RTX 4080"
                  ],
                  "xaxis": "x",
                  "yaxis": "y"
                },
                {
                  "alignmentgroup": "True",
                  "bingroup": "x",
                  "hovertemplate": "GPU=%{x}<br>count=%{y}<extra></extra>",
                  "legendgroup": "8GB NVIDIA RTX 3000 Ada",
                  "marker": {
                    "color": "#00cc96",
                    "pattern": {
                      "shape": ""
                    }
                  },
                  "name": "8GB NVIDIA RTX 3000 Ada",
                  "offsetgroup": "8GB NVIDIA RTX 3000 Ada",
                  "orientation": "v",
                  "showlegend": true,
                  "type": "histogram",
                  "x": [
                    "8GB NVIDIA RTX 3000 Ada"
                  ],
                  "xaxis": "x",
                  "yaxis": "y"
                },
                {
                  "alignmentgroup": "True",
                  "bingroup": "x",
                  "hovertemplate": "GPU=%{x}<br>count=%{y}<extra></extra>",
                  "legendgroup": "4GB AMD Radeon RX6550M",
                  "marker": {
                    "color": "#ab63fa",
                    "pattern": {
                      "shape": ""
                    }
                  },
                  "name": "4GB AMD Radeon RX6550M",
                  "offsetgroup": "4GB AMD Radeon RX6550M",
                  "orientation": "v",
                  "showlegend": true,
                  "type": "histogram",
                  "x": [
                    "4GB AMD Radeon RX6550M",
                    "4GB AMD Radeon RX6550M"
                  ],
                  "xaxis": "x",
                  "yaxis": "y"
                },
                {
                  "alignmentgroup": "True",
                  "bingroup": "x",
                  "hovertemplate": "GPU=%{x}<br>count=%{y}<extra></extra>",
                  "legendgroup": "4GB  NVIDIA GeForce RTX 2050",
                  "marker": {
                    "color": "#FFA15A",
                    "pattern": {
                      "shape": ""
                    }
                  },
                  "name": "4GB  NVIDIA GeForce RTX 2050",
                  "offsetgroup": "4GB  NVIDIA GeForce RTX 2050",
                  "orientation": "v",
                  "showlegend": true,
                  "type": "histogram",
                  "x": [
                    "4GB  NVIDIA GeForce RTX 2050"
                  ],
                  "xaxis": "x",
                  "yaxis": "y"
                },
                {
                  "alignmentgroup": "True",
                  "bingroup": "x",
                  "hovertemplate": "GPU=%{x}<br>count=%{y}<extra></extra>",
                  "legendgroup": "Intel Integrated Graphics",
                  "marker": {
                    "color": "#19d3f3",
                    "pattern": {
                      "shape": ""
                    }
                  },
                  "name": "Intel Integrated Graphics",
                  "offsetgroup": "Intel Integrated Graphics",
                  "orientation": "v",
                  "showlegend": true,
                  "type": "histogram",
                  "x": [
                    "Intel Integrated Graphics"
                  ],
                  "xaxis": "x",
                  "yaxis": "y"
                },
                {
                  "alignmentgroup": "True",
                  "bingroup": "x",
                  "hovertemplate": "GPU=%{x}<br>count=%{y}<extra></extra>",
                  "legendgroup": "Intel Integrated Graphics ",
                  "marker": {
                    "color": "#FF6692",
                    "pattern": {
                      "shape": ""
                    }
                  },
                  "name": "Intel Integrated Graphics ",
                  "offsetgroup": "Intel Integrated Graphics ",
                  "orientation": "v",
                  "showlegend": true,
                  "type": "histogram",
                  "x": [
                    "Intel Integrated Graphics "
                  ],
                  "xaxis": "x",
                  "yaxis": "y"
                },
                {
                  "alignmentgroup": "True",
                  "bingroup": "x",
                  "hovertemplate": "GPU=%{x}<br>count=%{y}<extra></extra>",
                  "legendgroup": "8GB NVIDIA GeForce RTX A2000 Ada",
                  "marker": {
                    "color": "#B6E880",
                    "pattern": {
                      "shape": ""
                    }
                  },
                  "name": "8GB NVIDIA GeForce RTX A2000 Ada",
                  "offsetgroup": "8GB NVIDIA GeForce RTX A2000 Ada",
                  "orientation": "v",
                  "showlegend": true,
                  "type": "histogram",
                  "x": [
                    "8GB NVIDIA GeForce RTX A2000 Ada"
                  ],
                  "xaxis": "x",
                  "yaxis": "y"
                },
                {
                  "alignmentgroup": "True",
                  "bingroup": "x",
                  "hovertemplate": "GPU=%{x}<br>count=%{y}<extra></extra>",
                  "legendgroup": "Intel Integrated Iris",
                  "marker": {
                    "color": "#FF97FF",
                    "pattern": {
                      "shape": ""
                    }
                  },
                  "name": "Intel Integrated Iris",
                  "offsetgroup": "Intel Integrated Iris",
                  "orientation": "v",
                  "showlegend": true,
                  "type": "histogram",
                  "x": [
                    "Intel Integrated Iris",
                    "Intel Integrated Iris"
                  ],
                  "xaxis": "x",
                  "yaxis": "y"
                },
                {
                  "alignmentgroup": "True",
                  "bingroup": "x",
                  "hovertemplate": "GPU=%{x}<br>count=%{y}<extra></extra>",
                  "legendgroup": "Intel Integrated UHD 600",
                  "marker": {
                    "color": "#FECB52",
                    "pattern": {
                      "shape": ""
                    }
                  },
                  "name": "Intel Integrated UHD 600",
                  "offsetgroup": "Intel Integrated UHD 600",
                  "orientation": "v",
                  "showlegend": true,
                  "type": "histogram",
                  "x": [
                    "Intel Integrated UHD 600"
                  ],
                  "xaxis": "x",
                  "yaxis": "y"
                },
                {
                  "alignmentgroup": "True",
                  "bingroup": "x",
                  "hovertemplate": "GPU=%{x}<br>count=%{y}<extra></extra>",
                  "legendgroup": "Intel Integrated Integrated Intel® UHD Graphics",
                  "marker": {
                    "color": "#636efa",
                    "pattern": {
                      "shape": ""
                    }
                  },
                  "name": "Intel Integrated Integrated Intel® UHD Graphics",
                  "offsetgroup": "Intel Integrated Integrated Intel® UHD Graphics",
                  "orientation": "v",
                  "showlegend": true,
                  "type": "histogram",
                  "x": [
                    "Intel Integrated Integrated Intel® UHD Graphics"
                  ],
                  "xaxis": "x",
                  "yaxis": "y"
                },
                {
                  "alignmentgroup": "True",
                  "bingroup": "x",
                  "hovertemplate": "GPU=%{x}<br>count=%{y}<extra></extra>",
                  "legendgroup": "NVIDIA Geforce RTX",
                  "marker": {
                    "color": "#EF553B",
                    "pattern": {
                      "shape": ""
                    }
                  },
                  "name": "NVIDIA Geforce RTX",
                  "offsetgroup": "NVIDIA Geforce RTX",
                  "orientation": "v",
                  "showlegend": true,
                  "type": "histogram",
                  "x": [
                    "NVIDIA Geforce RTX"
                  ],
                  "xaxis": "x",
                  "yaxis": "y"
                },
                {
                  "alignmentgroup": "True",
                  "bingroup": "x",
                  "hovertemplate": "GPU=%{x}<br>count=%{y}<extra></extra>",
                  "legendgroup": "AMD Integrated SoC",
                  "marker": {
                    "color": "#00cc96",
                    "pattern": {
                      "shape": ""
                    }
                  },
                  "name": "AMD Integrated SoC",
                  "offsetgroup": "AMD Integrated SoC",
                  "orientation": "v",
                  "showlegend": true,
                  "type": "histogram",
                  "x": [
                    "AMD Integrated SoC",
                    "AMD Integrated SoC"
                  ],
                  "xaxis": "x",
                  "yaxis": "y"
                },
                {
                  "alignmentgroup": "True",
                  "bingroup": "x",
                  "hovertemplate": "GPU=%{x}<br>count=%{y}<extra></extra>",
                  "legendgroup": "4GB NVIDIA GeForce RTX 3050 GPU",
                  "marker": {
                    "color": "#ab63fa",
                    "pattern": {
                      "shape": ""
                    }
                  },
                  "name": "4GB NVIDIA GeForce RTX 3050 GPU",
                  "offsetgroup": "4GB NVIDIA GeForce RTX 3050 GPU",
                  "orientation": "v",
                  "showlegend": true,
                  "type": "histogram",
                  "x": [
                    "4GB NVIDIA GeForce RTX 3050 GPU"
                  ],
                  "xaxis": "x",
                  "yaxis": "y"
                },
                {
                  "alignmentgroup": "True",
                  "bingroup": "x",
                  "hovertemplate": "GPU=%{x}<br>count=%{y}<extra></extra>",
                  "legendgroup": "2GB NVIDIA GeForce MX450",
                  "marker": {
                    "color": "#FFA15A",
                    "pattern": {
                      "shape": ""
                    }
                  },
                  "name": "2GB NVIDIA GeForce MX450",
                  "offsetgroup": "2GB NVIDIA GeForce MX450",
                  "orientation": "v",
                  "showlegend": true,
                  "type": "histogram",
                  "x": [
                    "2GB NVIDIA GeForce MX450",
                    "2GB NVIDIA GeForce MX450",
                    "2GB NVIDIA GeForce MX450",
                    "2GB NVIDIA GeForce MX450"
                  ],
                  "xaxis": "x",
                  "yaxis": "y"
                },
                {
                  "alignmentgroup": "True",
                  "bingroup": "x",
                  "hovertemplate": "GPU=%{x}<br>count=%{y}<extra></extra>",
                  "legendgroup": "6GB NVIDIA RTX 4050",
                  "marker": {
                    "color": "#19d3f3",
                    "pattern": {
                      "shape": ""
                    }
                  },
                  "name": "6GB NVIDIA RTX 4050",
                  "offsetgroup": "6GB NVIDIA RTX 4050",
                  "orientation": "v",
                  "showlegend": true,
                  "type": "histogram",
                  "x": [
                    "6GB NVIDIA RTX 4050",
                    "6GB NVIDIA RTX 4050"
                  ],
                  "xaxis": "x",
                  "yaxis": "y"
                },
                {
                  "alignmentgroup": "True",
                  "bingroup": "x",
                  "hovertemplate": "GPU=%{x}<br>count=%{y}<extra></extra>",
                  "legendgroup": "8GB NVIDIA GEFORCE RTX 4060",
                  "marker": {
                    "color": "#FF6692",
                    "pattern": {
                      "shape": ""
                    }
                  },
                  "name": "8GB NVIDIA GEFORCE RTX 4060",
                  "offsetgroup": "8GB NVIDIA GEFORCE RTX 4060",
                  "orientation": "v",
                  "showlegend": true,
                  "type": "histogram",
                  "x": [
                    "8GB NVIDIA GEFORCE RTX 4060"
                  ],
                  "xaxis": "x",
                  "yaxis": "y"
                },
                {
                  "alignmentgroup": "True",
                  "bingroup": "x",
                  "hovertemplate": "GPU=%{x}<br>count=%{y}<extra></extra>",
                  "legendgroup": "4GB NVIDIA RTX A500 ",
                  "marker": {
                    "color": "#B6E880",
                    "pattern": {
                      "shape": ""
                    }
                  },
                  "name": "4GB NVIDIA RTX A500 ",
                  "offsetgroup": "4GB NVIDIA RTX A500 ",
                  "orientation": "v",
                  "showlegend": true,
                  "type": "histogram",
                  "x": [
                    "4GB NVIDIA RTX A500 "
                  ],
                  "xaxis": "x",
                  "yaxis": "y"
                },
                {
                  "alignmentgroup": "True",
                  "bingroup": "x",
                  "hovertemplate": "GPU=%{x}<br>count=%{y}<extra></extra>",
                  "legendgroup": "12GB NVIDIA GeForce RTX 3080 Ti",
                  "marker": {
                    "color": "#FF97FF",
                    "pattern": {
                      "shape": ""
                    }
                  },
                  "name": "12GB NVIDIA GeForce RTX 3080 Ti",
                  "offsetgroup": "12GB NVIDIA GeForce RTX 3080 Ti",
                  "orientation": "v",
                  "showlegend": true,
                  "type": "histogram",
                  "x": [
                    "12GB NVIDIA GeForce RTX 3080 Ti"
                  ],
                  "xaxis": "x",
                  "yaxis": "y"
                },
                {
                  "alignmentgroup": "True",
                  "bingroup": "x",
                  "hovertemplate": "GPU=%{x}<br>count=%{y}<extra></extra>",
                  "legendgroup": "6GB NVIDIA GeForce RTX 3050 ",
                  "marker": {
                    "color": "#FECB52",
                    "pattern": {
                      "shape": ""
                    }
                  },
                  "name": "6GB NVIDIA GeForce RTX 3050 ",
                  "offsetgroup": "6GB NVIDIA GeForce RTX 3050 ",
                  "orientation": "v",
                  "showlegend": true,
                  "type": "histogram",
                  "x": [
                    "6GB NVIDIA GeForce RTX 3050 "
                  ],
                  "xaxis": "x",
                  "yaxis": "y"
                },
                {
                  "alignmentgroup": "True",
                  "bingroup": "x",
                  "hovertemplate": "GPU=%{x}<br>count=%{y}<extra></extra>",
                  "legendgroup": "AMD Radeon 7 Graphics",
                  "marker": {
                    "color": "#636efa",
                    "pattern": {
                      "shape": ""
                    }
                  },
                  "name": "AMD Radeon 7 Graphics",
                  "offsetgroup": "AMD Radeon 7 Graphics",
                  "orientation": "v",
                  "showlegend": true,
                  "type": "histogram",
                  "x": [
                    "AMD Radeon 7 Graphics",
                    "AMD Radeon 7 Graphics"
                  ],
                  "xaxis": "x",
                  "yaxis": "y"
                },
                {
                  "alignmentgroup": "True",
                  "bingroup": "x",
                  "hovertemplate": "GPU=%{x}<br>count=%{y}<extra></extra>",
                  "legendgroup": "Iris Xe Graphics",
                  "marker": {
                    "color": "#EF553B",
                    "pattern": {
                      "shape": ""
                    }
                  },
                  "name": "Iris Xe Graphics",
                  "offsetgroup": "Iris Xe Graphics",
                  "orientation": "v",
                  "showlegend": true,
                  "type": "histogram",
                  "x": [
                    "Iris Xe Graphics"
                  ],
                  "xaxis": "x",
                  "yaxis": "y"
                },
                {
                  "alignmentgroup": "True",
                  "bingroup": "x",
                  "hovertemplate": "GPU=%{x}<br>count=%{y}<extra></extra>",
                  "legendgroup": "AMD Radeon 680M",
                  "marker": {
                    "color": "#00cc96",
                    "pattern": {
                      "shape": ""
                    }
                  },
                  "name": "AMD Radeon 680M",
                  "offsetgroup": "AMD Radeon 680M",
                  "orientation": "v",
                  "showlegend": true,
                  "type": "histogram",
                  "x": [
                    "AMD Radeon 680M"
                  ],
                  "xaxis": "x",
                  "yaxis": "y"
                },
                {
                  "alignmentgroup": "True",
                  "bingroup": "x",
                  "hovertemplate": "GPU=%{x}<br>count=%{y}<extra></extra>",
                  "legendgroup": "4GB NVIDIA Quadro T600",
                  "marker": {
                    "color": "#ab63fa",
                    "pattern": {
                      "shape": ""
                    }
                  },
                  "name": "4GB NVIDIA Quadro T600",
                  "offsetgroup": "4GB NVIDIA Quadro T600",
                  "orientation": "v",
                  "showlegend": true,
                  "type": "histogram",
                  "x": [
                    "4GB NVIDIA Quadro T600"
                  ],
                  "xaxis": "x",
                  "yaxis": "y"
                },
                {
                  "alignmentgroup": "True",
                  "bingroup": "x",
                  "hovertemplate": "GPU=%{x}<br>count=%{y}<extra></extra>",
                  "legendgroup": "Intel UHD",
                  "marker": {
                    "color": "#FFA15A",
                    "pattern": {
                      "shape": ""
                    }
                  },
                  "name": "Intel UHD",
                  "offsetgroup": "Intel UHD",
                  "orientation": "v",
                  "showlegend": true,
                  "type": "histogram",
                  "x": [
                    "Intel UHD",
                    "Intel UHD",
                    "Intel UHD"
                  ],
                  "xaxis": "x",
                  "yaxis": "y"
                },
                {
                  "alignmentgroup": "True",
                  "bingroup": "x",
                  "hovertemplate": "GPU=%{x}<br>count=%{y}<extra></extra>",
                  "legendgroup": "8GB Nvidia GeForce RTX 4060",
                  "marker": {
                    "color": "#19d3f3",
                    "pattern": {
                      "shape": ""
                    }
                  },
                  "name": "8GB Nvidia GeForce RTX 4060",
                  "offsetgroup": "8GB Nvidia GeForce RTX 4060",
                  "orientation": "v",
                  "showlegend": true,
                  "type": "histogram",
                  "x": [
                    "8GB Nvidia GeForce RTX 4060",
                    "8GB Nvidia GeForce RTX 4060"
                  ],
                  "xaxis": "x",
                  "yaxis": "y"
                },
                {
                  "alignmentgroup": "True",
                  "bingroup": "x",
                  "hovertemplate": "GPU=%{x}<br>count=%{y}<extra></extra>",
                  "legendgroup": "6GB Nvidia GeForce RTX 4050",
                  "marker": {
                    "color": "#FF6692",
                    "pattern": {
                      "shape": ""
                    }
                  },
                  "name": "6GB Nvidia GeForce RTX 4050",
                  "offsetgroup": "6GB Nvidia GeForce RTX 4050",
                  "orientation": "v",
                  "showlegend": true,
                  "type": "histogram",
                  "x": [
                    "6GB Nvidia GeForce RTX 4050",
                    "6GB Nvidia GeForce RTX 4050",
                    "6GB Nvidia GeForce RTX 4050"
                  ],
                  "xaxis": "x",
                  "yaxis": "y"
                },
                {
                  "alignmentgroup": "True",
                  "bingroup": "x",
                  "hovertemplate": "GPU=%{x}<br>count=%{y}<extra></extra>",
                  "legendgroup": "2GB NVIDIA GeForce MX570",
                  "marker": {
                    "color": "#B6E880",
                    "pattern": {
                      "shape": ""
                    }
                  },
                  "name": "2GB NVIDIA GeForce MX570",
                  "offsetgroup": "2GB NVIDIA GeForce MX570",
                  "orientation": "v",
                  "showlegend": true,
                  "type": "histogram",
                  "x": [
                    "2GB NVIDIA GeForce MX570"
                  ],
                  "xaxis": "x",
                  "yaxis": "y"
                },
                {
                  "alignmentgroup": "True",
                  "bingroup": "x",
                  "hovertemplate": "GPU=%{x}<br>count=%{y}<extra></extra>",
                  "legendgroup": "8GB NVIDIA Geforce RTX 4060",
                  "marker": {
                    "color": "#FF97FF",
                    "pattern": {
                      "shape": ""
                    }
                  },
                  "name": "8GB NVIDIA Geforce RTX 4060",
                  "offsetgroup": "8GB NVIDIA Geforce RTX 4060",
                  "orientation": "v",
                  "showlegend": true,
                  "type": "histogram",
                  "x": [
                    "8GB NVIDIA Geforce RTX 4060",
                    "8GB NVIDIA Geforce RTX 4060"
                  ],
                  "xaxis": "x",
                  "yaxis": "y"
                },
                {
                  "alignmentgroup": "True",
                  "bingroup": "x",
                  "hovertemplate": "GPU=%{x}<br>count=%{y}<extra></extra>",
                  "legendgroup": "4GB Nvidia RTX 3050",
                  "marker": {
                    "color": "#FECB52",
                    "pattern": {
                      "shape": ""
                    }
                  },
                  "name": "4GB Nvidia RTX 3050",
                  "offsetgroup": "4GB Nvidia RTX 3050",
                  "orientation": "v",
                  "showlegend": true,
                  "type": "histogram",
                  "x": [
                    "4GB Nvidia RTX 3050",
                    "4GB Nvidia RTX 3050"
                  ],
                  "xaxis": "x",
                  "yaxis": "y"
                },
                {
                  "alignmentgroup": "True",
                  "bingroup": "x",
                  "hovertemplate": "GPU=%{x}<br>count=%{y}<extra></extra>",
                  "legendgroup": "4GB NVIDIA GeForce GTX 1650 ",
                  "marker": {
                    "color": "#636efa",
                    "pattern": {
                      "shape": ""
                    }
                  },
                  "name": "4GB NVIDIA GeForce GTX 1650 ",
                  "offsetgroup": "4GB NVIDIA GeForce GTX 1650 ",
                  "orientation": "v",
                  "showlegend": true,
                  "type": "histogram",
                  "x": [
                    "4GB NVIDIA GeForce GTX 1650 "
                  ],
                  "xaxis": "x",
                  "yaxis": "y"
                },
                {
                  "alignmentgroup": "True",
                  "bingroup": "x",
                  "hovertemplate": "GPU=%{x}<br>count=%{y}<extra></extra>",
                  "legendgroup": "6GB NVIDIA GEFORCE RTX 4050",
                  "marker": {
                    "color": "#EF553B",
                    "pattern": {
                      "shape": ""
                    }
                  },
                  "name": "6GB NVIDIA GEFORCE RTX 4050",
                  "offsetgroup": "6GB NVIDIA GEFORCE RTX 4050",
                  "orientation": "v",
                  "showlegend": true,
                  "type": "histogram",
                  "x": [
                    "6GB NVIDIA GEFORCE RTX 4050"
                  ],
                  "xaxis": "x",
                  "yaxis": "y"
                },
                {
                  "alignmentgroup": "True",
                  "bingroup": "x",
                  "hovertemplate": "GPU=%{x}<br>count=%{y}<extra></extra>",
                  "legendgroup": "Intel UHD Integrated",
                  "marker": {
                    "color": "#00cc96",
                    "pattern": {
                      "shape": ""
                    }
                  },
                  "name": "Intel UHD Integrated",
                  "offsetgroup": "Intel UHD Integrated",
                  "orientation": "v",
                  "showlegend": true,
                  "type": "histogram",
                  "x": [
                    "Intel UHD Integrated"
                  ],
                  "xaxis": "x",
                  "yaxis": "y"
                },
                {
                  "alignmentgroup": "True",
                  "bingroup": "x",
                  "hovertemplate": "GPU=%{x}<br>count=%{y}<extra></extra>",
                  "legendgroup": "4GB AMD Radeon RX 5600M ",
                  "marker": {
                    "color": "#ab63fa",
                    "pattern": {
                      "shape": ""
                    }
                  },
                  "name": "4GB AMD Radeon RX 5600M ",
                  "offsetgroup": "4GB AMD Radeon RX 5600M ",
                  "orientation": "v",
                  "showlegend": true,
                  "type": "histogram",
                  "x": [
                    "4GB AMD Radeon RX 5600M "
                  ],
                  "xaxis": "x",
                  "yaxis": "y"
                }
              ],
              "layout": {
                "barmode": "relative",
                "legend": {
                  "title": {
                    "text": "GPU"
                  },
                  "tracegroupgap": 0
                },
                "template": {
                  "data": {
                    "bar": [
                      {
                        "error_x": {
                          "color": "#2a3f5f"
                        },
                        "error_y": {
                          "color": "#2a3f5f"
                        },
                        "marker": {
                          "line": {
                            "color": "#E5ECF6",
                            "width": 0.5
                          },
                          "pattern": {
                            "fillmode": "overlay",
                            "size": 10,
                            "solidity": 0.2
                          }
                        },
                        "type": "bar"
                      }
                    ],
                    "barpolar": [
                      {
                        "marker": {
                          "line": {
                            "color": "#E5ECF6",
                            "width": 0.5
                          },
                          "pattern": {
                            "fillmode": "overlay",
                            "size": 10,
                            "solidity": 0.2
                          }
                        },
                        "type": "barpolar"
                      }
                    ],
                    "carpet": [
                      {
                        "aaxis": {
                          "endlinecolor": "#2a3f5f",
                          "gridcolor": "white",
                          "linecolor": "white",
                          "minorgridcolor": "white",
                          "startlinecolor": "#2a3f5f"
                        },
                        "baxis": {
                          "endlinecolor": "#2a3f5f",
                          "gridcolor": "white",
                          "linecolor": "white",
                          "minorgridcolor": "white",
                          "startlinecolor": "#2a3f5f"
                        },
                        "type": "carpet"
                      }
                    ],
                    "choropleth": [
                      {
                        "colorbar": {
                          "outlinewidth": 0,
                          "ticks": ""
                        },
                        "type": "choropleth"
                      }
                    ],
                    "contour": [
                      {
                        "colorbar": {
                          "outlinewidth": 0,
                          "ticks": ""
                        },
                        "colorscale": [
                          [
                            0,
                            "#0d0887"
                          ],
                          [
                            0.1111111111111111,
                            "#46039f"
                          ],
                          [
                            0.2222222222222222,
                            "#7201a8"
                          ],
                          [
                            0.3333333333333333,
                            "#9c179e"
                          ],
                          [
                            0.4444444444444444,
                            "#bd3786"
                          ],
                          [
                            0.5555555555555556,
                            "#d8576b"
                          ],
                          [
                            0.6666666666666666,
                            "#ed7953"
                          ],
                          [
                            0.7777777777777778,
                            "#fb9f3a"
                          ],
                          [
                            0.8888888888888888,
                            "#fdca26"
                          ],
                          [
                            1,
                            "#f0f921"
                          ]
                        ],
                        "type": "contour"
                      }
                    ],
                    "contourcarpet": [
                      {
                        "colorbar": {
                          "outlinewidth": 0,
                          "ticks": ""
                        },
                        "type": "contourcarpet"
                      }
                    ],
                    "heatmap": [
                      {
                        "colorbar": {
                          "outlinewidth": 0,
                          "ticks": ""
                        },
                        "colorscale": [
                          [
                            0,
                            "#0d0887"
                          ],
                          [
                            0.1111111111111111,
                            "#46039f"
                          ],
                          [
                            0.2222222222222222,
                            "#7201a8"
                          ],
                          [
                            0.3333333333333333,
                            "#9c179e"
                          ],
                          [
                            0.4444444444444444,
                            "#bd3786"
                          ],
                          [
                            0.5555555555555556,
                            "#d8576b"
                          ],
                          [
                            0.6666666666666666,
                            "#ed7953"
                          ],
                          [
                            0.7777777777777778,
                            "#fb9f3a"
                          ],
                          [
                            0.8888888888888888,
                            "#fdca26"
                          ],
                          [
                            1,
                            "#f0f921"
                          ]
                        ],
                        "type": "heatmap"
                      }
                    ],
                    "heatmapgl": [
                      {
                        "colorbar": {
                          "outlinewidth": 0,
                          "ticks": ""
                        },
                        "colorscale": [
                          [
                            0,
                            "#0d0887"
                          ],
                          [
                            0.1111111111111111,
                            "#46039f"
                          ],
                          [
                            0.2222222222222222,
                            "#7201a8"
                          ],
                          [
                            0.3333333333333333,
                            "#9c179e"
                          ],
                          [
                            0.4444444444444444,
                            "#bd3786"
                          ],
                          [
                            0.5555555555555556,
                            "#d8576b"
                          ],
                          [
                            0.6666666666666666,
                            "#ed7953"
                          ],
                          [
                            0.7777777777777778,
                            "#fb9f3a"
                          ],
                          [
                            0.8888888888888888,
                            "#fdca26"
                          ],
                          [
                            1,
                            "#f0f921"
                          ]
                        ],
                        "type": "heatmapgl"
                      }
                    ],
                    "histogram": [
                      {
                        "marker": {
                          "pattern": {
                            "fillmode": "overlay",
                            "size": 10,
                            "solidity": 0.2
                          }
                        },
                        "type": "histogram"
                      }
                    ],
                    "histogram2d": [
                      {
                        "colorbar": {
                          "outlinewidth": 0,
                          "ticks": ""
                        },
                        "colorscale": [
                          [
                            0,
                            "#0d0887"
                          ],
                          [
                            0.1111111111111111,
                            "#46039f"
                          ],
                          [
                            0.2222222222222222,
                            "#7201a8"
                          ],
                          [
                            0.3333333333333333,
                            "#9c179e"
                          ],
                          [
                            0.4444444444444444,
                            "#bd3786"
                          ],
                          [
                            0.5555555555555556,
                            "#d8576b"
                          ],
                          [
                            0.6666666666666666,
                            "#ed7953"
                          ],
                          [
                            0.7777777777777778,
                            "#fb9f3a"
                          ],
                          [
                            0.8888888888888888,
                            "#fdca26"
                          ],
                          [
                            1,
                            "#f0f921"
                          ]
                        ],
                        "type": "histogram2d"
                      }
                    ],
                    "histogram2dcontour": [
                      {
                        "colorbar": {
                          "outlinewidth": 0,
                          "ticks": ""
                        },
                        "colorscale": [
                          [
                            0,
                            "#0d0887"
                          ],
                          [
                            0.1111111111111111,
                            "#46039f"
                          ],
                          [
                            0.2222222222222222,
                            "#7201a8"
                          ],
                          [
                            0.3333333333333333,
                            "#9c179e"
                          ],
                          [
                            0.4444444444444444,
                            "#bd3786"
                          ],
                          [
                            0.5555555555555556,
                            "#d8576b"
                          ],
                          [
                            0.6666666666666666,
                            "#ed7953"
                          ],
                          [
                            0.7777777777777778,
                            "#fb9f3a"
                          ],
                          [
                            0.8888888888888888,
                            "#fdca26"
                          ],
                          [
                            1,
                            "#f0f921"
                          ]
                        ],
                        "type": "histogram2dcontour"
                      }
                    ],
                    "mesh3d": [
                      {
                        "colorbar": {
                          "outlinewidth": 0,
                          "ticks": ""
                        },
                        "type": "mesh3d"
                      }
                    ],
                    "parcoords": [
                      {
                        "line": {
                          "colorbar": {
                            "outlinewidth": 0,
                            "ticks": ""
                          }
                        },
                        "type": "parcoords"
                      }
                    ],
                    "pie": [
                      {
                        "automargin": true,
                        "type": "pie"
                      }
                    ],
                    "scatter": [
                      {
                        "fillpattern": {
                          "fillmode": "overlay",
                          "size": 10,
                          "solidity": 0.2
                        },
                        "type": "scatter"
                      }
                    ],
                    "scatter3d": [
                      {
                        "line": {
                          "colorbar": {
                            "outlinewidth": 0,
                            "ticks": ""
                          }
                        },
                        "marker": {
                          "colorbar": {
                            "outlinewidth": 0,
                            "ticks": ""
                          }
                        },
                        "type": "scatter3d"
                      }
                    ],
                    "scattercarpet": [
                      {
                        "marker": {
                          "colorbar": {
                            "outlinewidth": 0,
                            "ticks": ""
                          }
                        },
                        "type": "scattercarpet"
                      }
                    ],
                    "scattergeo": [
                      {
                        "marker": {
                          "colorbar": {
                            "outlinewidth": 0,
                            "ticks": ""
                          }
                        },
                        "type": "scattergeo"
                      }
                    ],
                    "scattergl": [
                      {
                        "marker": {
                          "colorbar": {
                            "outlinewidth": 0,
                            "ticks": ""
                          }
                        },
                        "type": "scattergl"
                      }
                    ],
                    "scattermapbox": [
                      {
                        "marker": {
                          "colorbar": {
                            "outlinewidth": 0,
                            "ticks": ""
                          }
                        },
                        "type": "scattermapbox"
                      }
                    ],
                    "scatterpolar": [
                      {
                        "marker": {
                          "colorbar": {
                            "outlinewidth": 0,
                            "ticks": ""
                          }
                        },
                        "type": "scatterpolar"
                      }
                    ],
                    "scatterpolargl": [
                      {
                        "marker": {
                          "colorbar": {
                            "outlinewidth": 0,
                            "ticks": ""
                          }
                        },
                        "type": "scatterpolargl"
                      }
                    ],
                    "scatterternary": [
                      {
                        "marker": {
                          "colorbar": {
                            "outlinewidth": 0,
                            "ticks": ""
                          }
                        },
                        "type": "scatterternary"
                      }
                    ],
                    "surface": [
                      {
                        "colorbar": {
                          "outlinewidth": 0,
                          "ticks": ""
                        },
                        "colorscale": [
                          [
                            0,
                            "#0d0887"
                          ],
                          [
                            0.1111111111111111,
                            "#46039f"
                          ],
                          [
                            0.2222222222222222,
                            "#7201a8"
                          ],
                          [
                            0.3333333333333333,
                            "#9c179e"
                          ],
                          [
                            0.4444444444444444,
                            "#bd3786"
                          ],
                          [
                            0.5555555555555556,
                            "#d8576b"
                          ],
                          [
                            0.6666666666666666,
                            "#ed7953"
                          ],
                          [
                            0.7777777777777778,
                            "#fb9f3a"
                          ],
                          [
                            0.8888888888888888,
                            "#fdca26"
                          ],
                          [
                            1,
                            "#f0f921"
                          ]
                        ],
                        "type": "surface"
                      }
                    ],
                    "table": [
                      {
                        "cells": {
                          "fill": {
                            "color": "#EBF0F8"
                          },
                          "line": {
                            "color": "white"
                          }
                        },
                        "header": {
                          "fill": {
                            "color": "#C8D4E3"
                          },
                          "line": {
                            "color": "white"
                          }
                        },
                        "type": "table"
                      }
                    ]
                  },
                  "layout": {
                    "annotationdefaults": {
                      "arrowcolor": "#2a3f5f",
                      "arrowhead": 0,
                      "arrowwidth": 1
                    },
                    "autotypenumbers": "strict",
                    "coloraxis": {
                      "colorbar": {
                        "outlinewidth": 0,
                        "ticks": ""
                      }
                    },
                    "colorscale": {
                      "diverging": [
                        [
                          0,
                          "#8e0152"
                        ],
                        [
                          0.1,
                          "#c51b7d"
                        ],
                        [
                          0.2,
                          "#de77ae"
                        ],
                        [
                          0.3,
                          "#f1b6da"
                        ],
                        [
                          0.4,
                          "#fde0ef"
                        ],
                        [
                          0.5,
                          "#f7f7f7"
                        ],
                        [
                          0.6,
                          "#e6f5d0"
                        ],
                        [
                          0.7,
                          "#b8e186"
                        ],
                        [
                          0.8,
                          "#7fbc41"
                        ],
                        [
                          0.9,
                          "#4d9221"
                        ],
                        [
                          1,
                          "#276419"
                        ]
                      ],
                      "sequential": [
                        [
                          0,
                          "#0d0887"
                        ],
                        [
                          0.1111111111111111,
                          "#46039f"
                        ],
                        [
                          0.2222222222222222,
                          "#7201a8"
                        ],
                        [
                          0.3333333333333333,
                          "#9c179e"
                        ],
                        [
                          0.4444444444444444,
                          "#bd3786"
                        ],
                        [
                          0.5555555555555556,
                          "#d8576b"
                        ],
                        [
                          0.6666666666666666,
                          "#ed7953"
                        ],
                        [
                          0.7777777777777778,
                          "#fb9f3a"
                        ],
                        [
                          0.8888888888888888,
                          "#fdca26"
                        ],
                        [
                          1,
                          "#f0f921"
                        ]
                      ],
                      "sequentialminus": [
                        [
                          0,
                          "#0d0887"
                        ],
                        [
                          0.1111111111111111,
                          "#46039f"
                        ],
                        [
                          0.2222222222222222,
                          "#7201a8"
                        ],
                        [
                          0.3333333333333333,
                          "#9c179e"
                        ],
                        [
                          0.4444444444444444,
                          "#bd3786"
                        ],
                        [
                          0.5555555555555556,
                          "#d8576b"
                        ],
                        [
                          0.6666666666666666,
                          "#ed7953"
                        ],
                        [
                          0.7777777777777778,
                          "#fb9f3a"
                        ],
                        [
                          0.8888888888888888,
                          "#fdca26"
                        ],
                        [
                          1,
                          "#f0f921"
                        ]
                      ]
                    },
                    "colorway": [
                      "#636efa",
                      "#EF553B",
                      "#00cc96",
                      "#ab63fa",
                      "#FFA15A",
                      "#19d3f3",
                      "#FF6692",
                      "#B6E880",
                      "#FF97FF",
                      "#FECB52"
                    ],
                    "font": {
                      "color": "#2a3f5f"
                    },
                    "geo": {
                      "bgcolor": "white",
                      "lakecolor": "white",
                      "landcolor": "#E5ECF6",
                      "showlakes": true,
                      "showland": true,
                      "subunitcolor": "white"
                    },
                    "hoverlabel": {
                      "align": "left"
                    },
                    "hovermode": "closest",
                    "mapbox": {
                      "style": "light"
                    },
                    "paper_bgcolor": "white",
                    "plot_bgcolor": "#E5ECF6",
                    "polar": {
                      "angularaxis": {
                        "gridcolor": "white",
                        "linecolor": "white",
                        "ticks": ""
                      },
                      "bgcolor": "#E5ECF6",
                      "radialaxis": {
                        "gridcolor": "white",
                        "linecolor": "white",
                        "ticks": ""
                      }
                    },
                    "scene": {
                      "xaxis": {
                        "backgroundcolor": "#E5ECF6",
                        "gridcolor": "white",
                        "gridwidth": 2,
                        "linecolor": "white",
                        "showbackground": true,
                        "ticks": "",
                        "zerolinecolor": "white"
                      },
                      "yaxis": {
                        "backgroundcolor": "#E5ECF6",
                        "gridcolor": "white",
                        "gridwidth": 2,
                        "linecolor": "white",
                        "showbackground": true,
                        "ticks": "",
                        "zerolinecolor": "white"
                      },
                      "zaxis": {
                        "backgroundcolor": "#E5ECF6",
                        "gridcolor": "white",
                        "gridwidth": 2,
                        "linecolor": "white",
                        "showbackground": true,
                        "ticks": "",
                        "zerolinecolor": "white"
                      }
                    },
                    "shapedefaults": {
                      "line": {
                        "color": "#2a3f5f"
                      }
                    },
                    "ternary": {
                      "aaxis": {
                        "gridcolor": "white",
                        "linecolor": "white",
                        "ticks": ""
                      },
                      "baxis": {
                        "gridcolor": "white",
                        "linecolor": "white",
                        "ticks": ""
                      },
                      "bgcolor": "#E5ECF6",
                      "caxis": {
                        "gridcolor": "white",
                        "linecolor": "white",
                        "ticks": ""
                      }
                    },
                    "title": {
                      "x": 0.05
                    },
                    "xaxis": {
                      "automargin": true,
                      "gridcolor": "white",
                      "linecolor": "white",
                      "ticks": "",
                      "title": {
                        "standoff": 15
                      },
                      "zerolinecolor": "white",
                      "zerolinewidth": 2
                    },
                    "yaxis": {
                      "automargin": true,
                      "gridcolor": "white",
                      "linecolor": "white",
                      "ticks": "",
                      "title": {
                        "standoff": 15
                      },
                      "zerolinecolor": "white",
                      "zerolinewidth": 2
                    }
                  }
                },
                "title": {
                  "text": "GPU Distribution"
                },
                "xaxis": {
                  "anchor": "y",
                  "categoryarray": [
                    "4GB AMD Radeon RX 6500M",
                    "Intel UHD Graphics",
                    "Intel Iris Xe Graphics",
                    "Intel Integrated Iris Xe",
                    "Apple M1 Integrated Graphics",
                    "6GB NVIDIA GeForce RTX 4050",
                    "Intel Iris Xe",
                    "Intel Integrated UHD",
                    "Intel Integrated UHD Graphics",
                    "4GB NVIDIA GeForce RTX 3050",
                    "ARM Mali G72",
                    "AMD Radeon Graphics",
                    "4GB NVIDIA GeForce RTX 2050",
                    "4GB NVIDIA GeForce GTX 1650",
                    "AMD Radeon Vega 7",
                    "8-Core GPU",
                    "AMD Radeon AMD",
                    "AMD Integrated",
                    "8GB NVIDIA GeForce RTX 4070",
                    "4GB AMD Radeon RX 6500M Graphics",
                    "AMD Graphics",
                    "8GB NVIDIA GeForce RTX 3070 Ti",
                    "Intel Integrated Integrated",
                    "Intel Graphics",
                    "6GB NVIDIA GeForce RTX 3050",
                    "Intel UHD Graphics ",
                    "16GB NVIDIA GeForce RTX 4090",
                    "AMD Radeon Radeon Graphics",
                    "8GB NVIDIA GeForce RTX 4060",
                    "Intel Integrated Intel UHD Graphics",
                    "4GB NVIDIA GeForce RTX 3050 Ti",
                    "Intel Integrated Intel UHD",
                    "4GB NVIDIA GeForce GTX 3050",
                    "AMD Radeon Vega 7 Graphics",
                    "4GB NVIDIA ",
                    "Intel Integrated",
                    "Intel Iris XE Graphics ",
                    "GB NVIDIA GeForce RTX 2050",
                    "8GB NVIDIA GeForce RTX 3070 Ti ",
                    "10-Core GPU",
                    "4GB NVIDIA GeForce RTX 3050 Graphics",
                    "8GB AMD Radeon RX 6650M",
                    "Intel HD Graphics",
                    "Intel UHD Graphics 600",
                    "Integrated Intel Iris Xe Graphics",
                    "AMD Radeon Radeon",
                    "Intel Integrated Intel Iris Xe Graphics",
                    "AMD Radeon Graphiics",
                    "NVIDIA GeForce RTX 4070",
                    "AMD Radeon 610M Graphics",
                    "4GB NVIDIA GTX 1650",
                    "AMD Radeon",
                    "4GB NVIDIA Geforce RTX 3050",
                    "Intel Graphics ",
                    "Intel Iris XE Graphics",
                    "Intel HD",
                    "AMD Radeon Vega 8",
                    "4GB Radeon Pro 5500M",
                    "AMD Radeon 610M",
                    "4GB NVIDIA GeForce RTX RTX 3050",
                    "AMD Radeon ",
                    "4GB AMD Radeon AMD Radeon RX 6500M",
                    "4GB NVIDIA GeForce GTX 2050",
                    "Integrated Intel UHD Graphics",
                    "4GB NVIDIA GeForce RTX2050",
                    "Intel Iris X Graphics",
                    "4GB NVIDIA GeForce RTX 2050 ",
                    "4GB NVIDIA GeForce RTX 3050 ",
                    "AMD Radeon Vega 8 Graphics",
                    "4GB Nvidia GeForce RTX 2050",
                    "Integrated Intel iris Xe Graphics",
                    "4GB AMD Radeon RX6500M",
                    "12GB NVIDIA GeForce RTX 4080",
                    "Intel Iris Xe Graphic",
                    "30-core GPU",
                    "19-core GPU",
                    " Intel Iris Xe Graphics",
                    "6GB NVIDIA GeForce RTX 3060",
                    "8GB NVIDIA GeForce RTX 3070Ti",
                    "4GB NVIDIA GeForce RTX A1000",
                    "16GB NVIDIA GeForce RTX 3080 Ti",
                    "Intel Iris Xe Graphics ",
                    "4GB NVIDIA Geforce GTX1650 Max Q",
                    "16-core GPU",
                    "32-core GPU",
                    "2GB NVIDIA GeForce MX350",
                    "AMD Radeon Vega 6",
                    "AMD Radeon Vega 9",
                    "2GB NVIDIA GeForce MX250",
                    "Integrated UHD Graphics 620",
                    "Intel Integrated UHD 620",
                    "Intel Iris Plus Graphics 655",
                    "4GB Intel Arc A350M Graphics",
                    "Intel Iris Plus",
                    "4GB Geforce MX130",
                    "Intel UHD Graphics 630",
                    "4GB NVIDIA Geforce GTX 1050Ti",
                    "Integrated AMD Radeon Graphics",
                    "6GB NVIDIA Geforce RTX 4050",
                    "16GB NVIDIA GeForce RTX 4090 ",
                    "AMD Radeon 780M Graphics",
                    "12GB NVIDIA Geforce RTX 4080",
                    "8GB NVIDIA RTX 3000 Ada",
                    "4GB AMD Radeon RX6550M",
                    "4GB  NVIDIA GeForce RTX 2050",
                    "Intel Integrated Graphics",
                    "Intel Integrated Graphics ",
                    "8GB NVIDIA GeForce RTX A2000 Ada",
                    "Intel Integrated Iris",
                    "Intel Integrated UHD 600",
                    "Intel Integrated Integrated Intel® UHD Graphics",
                    "NVIDIA Geforce RTX",
                    "AMD Integrated SoC",
                    "4GB NVIDIA GeForce RTX 3050 GPU",
                    "2GB NVIDIA GeForce MX450",
                    "6GB NVIDIA RTX 4050",
                    "8GB NVIDIA GEFORCE RTX 4060",
                    "4GB NVIDIA RTX A500 ",
                    "12GB NVIDIA GeForce RTX 3080 Ti",
                    "6GB NVIDIA GeForce RTX 3050 ",
                    "AMD Radeon 7 Graphics",
                    "Iris Xe Graphics",
                    "AMD Radeon 680M",
                    "4GB NVIDIA Quadro T600",
                    "Intel UHD",
                    "8GB Nvidia GeForce RTX 4060",
                    "6GB Nvidia GeForce RTX 4050",
                    "2GB NVIDIA GeForce MX570",
                    "8GB NVIDIA Geforce RTX 4060",
                    "4GB Nvidia RTX 3050",
                    "4GB NVIDIA GeForce GTX 1650 ",
                    "6GB NVIDIA GEFORCE RTX 4050",
                    "Intel UHD Integrated",
                    "4GB AMD Radeon RX 5600M "
                  ],
                  "categoryorder": "array",
                  "domain": [
                    0,
                    1
                  ],
                  "title": {
                    "text": "GPU"
                  }
                },
                "yaxis": {
                  "anchor": "x",
                  "domain": [
                    0,
                    1
                  ],
                  "title": {
                    "text": "count"
                  }
                }
              }
            }
          },
          "metadata": {},
          "output_type": "display_data"
        }
      ],
      "source": [
        "# GPU Distribution\n",
        "plt = px.histogram(df, x='GPU', color='GPU', title=\"GPU Distribution\")\n",
        "plt.show()"
      ]
    },
    {
      "cell_type": "code",
      "execution_count": 18,
      "metadata": {
        "colab": {
          "base_uri": "https://localhost:8080/",
          "height": 542
        },
        "id": "pdmb_X5jQoFT",
        "outputId": "ef632219-4a69-4b7f-f63f-dd9471411aa4"
      },
      "outputs": [
        {
          "data": {
            "application/vnd.plotly.v1+json": {
              "config": {
                "plotlyServerURL": "https://plot.ly"
              },
              "data": [
                {
                  "alignmentgroup": "True",
                  "bingroup": "x",
                  "hovertemplate": "display_size=%{x}<br>count=%{y}<extra></extra>",
                  "legendgroup": "15.6",
                  "marker": {
                    "color": "rgb(102, 197, 204)",
                    "pattern": {
                      "shape": ""
                    }
                  },
                  "name": "15.6",
                  "offsetgroup": "15.6",
                  "orientation": "v",
                  "showlegend": true,
                  "type": "histogram",
                  "x": [
                    15.6,
                    15.6,
                    15.6,
                    15.6,
                    15.6,
                    15.6,
                    15.6,
                    15.6,
                    15.6,
                    15.6,
                    15.6,
                    15.6,
                    15.6,
                    15.6,
                    15.6,
                    15.6,
                    15.6,
                    15.6,
                    15.6,
                    15.6,
                    15.6,
                    15.6,
                    15.6,
                    15.6,
                    15.6,
                    15.6,
                    15.6,
                    15.6,
                    15.6,
                    15.6,
                    15.6,
                    15.6,
                    15.6,
                    15.6,
                    15.6,
                    15.6,
                    15.6,
                    15.6,
                    15.6,
                    15.6,
                    15.6,
                    15.6,
                    15.6,
                    15.6,
                    15.6,
                    15.6,
                    15.6,
                    15.6,
                    15.6,
                    15.6,
                    15.6,
                    15.6,
                    15.6,
                    15.6,
                    15.6,
                    15.6,
                    15.6,
                    15.6,
                    15.6,
                    15.6,
                    15.6,
                    15.6,
                    15.6,
                    15.6,
                    15.6,
                    15.6,
                    15.6,
                    15.6,
                    15.6,
                    15.6,
                    15.6,
                    15.6,
                    15.6,
                    15.6,
                    15.6,
                    15.6,
                    15.6,
                    15.6,
                    15.6,
                    15.6,
                    15.6,
                    15.6,
                    15.6,
                    15.6,
                    15.6,
                    15.6,
                    15.6,
                    15.6,
                    15.6,
                    15.6,
                    15.6,
                    15.6,
                    15.6,
                    15.6,
                    15.6,
                    15.6,
                    15.6,
                    15.6,
                    15.6,
                    15.6,
                    15.6,
                    15.6,
                    15.6,
                    15.6,
                    15.6,
                    15.6,
                    15.6,
                    15.6,
                    15.6,
                    15.6,
                    15.6,
                    15.6,
                    15.6,
                    15.6,
                    15.6,
                    15.6,
                    15.6,
                    15.6,
                    15.6,
                    15.6,
                    15.6,
                    15.6,
                    15.6,
                    15.6,
                    15.6,
                    15.6,
                    15.6,
                    15.6,
                    15.6,
                    15.6,
                    15.6,
                    15.6,
                    15.6,
                    15.6,
                    15.6,
                    15.6,
                    15.6,
                    15.6,
                    15.6,
                    15.6,
                    15.6,
                    15.6,
                    15.6,
                    15.6,
                    15.6,
                    15.6,
                    15.6,
                    15.6,
                    15.6,
                    15.6,
                    15.6,
                    15.6,
                    15.6,
                    15.6,
                    15.6,
                    15.6,
                    15.6,
                    15.6,
                    15.6,
                    15.6,
                    15.6,
                    15.6,
                    15.6,
                    15.6,
                    15.6,
                    15.6,
                    15.6,
                    15.6,
                    15.6,
                    15.6,
                    15.6,
                    15.6,
                    15.6,
                    15.6,
                    15.6,
                    15.6,
                    15.6,
                    15.6,
                    15.6,
                    15.6,
                    15.6,
                    15.6,
                    15.6,
                    15.6,
                    15.6,
                    15.6,
                    15.6,
                    15.6,
                    15.6,
                    15.6,
                    15.6,
                    15.6,
                    15.6,
                    15.6,
                    15.6,
                    15.6,
                    15.6,
                    15.6,
                    15.6,
                    15.6,
                    15.6,
                    15.6,
                    15.6,
                    15.6,
                    15.6,
                    15.6,
                    15.6,
                    15.6,
                    15.6,
                    15.6,
                    15.6,
                    15.6,
                    15.6,
                    15.6,
                    15.6,
                    15.6,
                    15.6,
                    15.6,
                    15.6,
                    15.6,
                    15.6,
                    15.6,
                    15.6,
                    15.6,
                    15.6,
                    15.6,
                    15.6,
                    15.6,
                    15.6,
                    15.6,
                    15.6,
                    15.6,
                    15.6,
                    15.6,
                    15.6,
                    15.6,
                    15.6,
                    15.6,
                    15.6,
                    15.6,
                    15.6,
                    15.6,
                    15.6,
                    15.6,
                    15.6,
                    15.6,
                    15.6,
                    15.6,
                    15.6,
                    15.6,
                    15.6,
                    15.6,
                    15.6,
                    15.6,
                    15.6,
                    15.6,
                    15.6,
                    15.6,
                    15.6,
                    15.6,
                    15.6,
                    15.6,
                    15.6,
                    15.6,
                    15.6,
                    15.6,
                    15.6,
                    15.6,
                    15.6,
                    15.6,
                    15.6,
                    15.6,
                    15.6,
                    15.6,
                    15.6,
                    15.6,
                    15.6,
                    15.6,
                    15.6,
                    15.6,
                    15.6,
                    15.6,
                    15.6,
                    15.6,
                    15.6,
                    15.6,
                    15.6,
                    15.6,
                    15.6,
                    15.6,
                    15.6,
                    15.6,
                    15.6,
                    15.6,
                    15.6,
                    15.6,
                    15.6,
                    15.6,
                    15.6,
                    15.6,
                    15.6,
                    15.6,
                    15.6,
                    15.6,
                    15.6,
                    15.6,
                    15.6,
                    15.6,
                    15.6,
                    15.6,
                    15.6,
                    15.6,
                    15.6,
                    15.6,
                    15.6,
                    15.6,
                    15.6,
                    15.6,
                    15.6,
                    15.6,
                    15.6,
                    15.6,
                    15.6,
                    15.6,
                    15.6,
                    15.6,
                    15.6,
                    15.6,
                    15.6,
                    15.6,
                    15.6,
                    15.6,
                    15.6,
                    15.6,
                    15.6,
                    15.6,
                    15.6,
                    15.6,
                    15.6,
                    15.6,
                    15.6,
                    15.6,
                    15.6,
                    15.6,
                    15.6,
                    15.6,
                    15.6,
                    15.6,
                    15.6,
                    15.6,
                    15.6,
                    15.6,
                    15.6,
                    15.6,
                    15.6,
                    15.6,
                    15.6,
                    15.6,
                    15.6,
                    15.6,
                    15.6,
                    15.6,
                    15.6,
                    15.6,
                    15.6,
                    15.6,
                    15.6,
                    15.6,
                    15.6,
                    15.6,
                    15.6,
                    15.6,
                    15.6,
                    15.6,
                    15.6,
                    15.6,
                    15.6,
                    15.6,
                    15.6,
                    15.6,
                    15.6,
                    15.6,
                    15.6,
                    15.6,
                    15.6,
                    15.6,
                    15.6,
                    15.6,
                    15.6,
                    15.6,
                    15.6,
                    15.6,
                    15.6,
                    15.6,
                    15.6,
                    15.6,
                    15.6,
                    15.6,
                    15.6,
                    15.6,
                    15.6,
                    15.6,
                    15.6,
                    15.6,
                    15.6,
                    15.6,
                    15.6,
                    15.6,
                    15.6,
                    15.6,
                    15.6,
                    15.6,
                    15.6,
                    15.6,
                    15.6,
                    15.6,
                    15.6,
                    15.6,
                    15.6,
                    15.6,
                    15.6,
                    15.6,
                    15.6,
                    15.6,
                    15.6,
                    15.6,
                    15.6,
                    15.6,
                    15.6,
                    15.6,
                    15.6,
                    15.6,
                    15.6,
                    15.6,
                    15.6,
                    15.6,
                    15.6,
                    15.6,
                    15.6,
                    15.6,
                    15.6,
                    15.6,
                    15.6,
                    15.6,
                    15.6,
                    15.6,
                    15.6,
                    15.6,
                    15.6,
                    15.6,
                    15.6,
                    15.6,
                    15.6,
                    15.6,
                    15.6,
                    15.6,
                    15.6,
                    15.6,
                    15.6,
                    15.6,
                    15.6,
                    15.6,
                    15.6,
                    15.6
                  ],
                  "xaxis": "x",
                  "yaxis": "y"
                },
                {
                  "alignmentgroup": "True",
                  "bingroup": "x",
                  "hovertemplate": "display_size=%{x}<br>count=%{y}<extra></extra>",
                  "legendgroup": "14.0",
                  "marker": {
                    "color": "rgb(246, 207, 113)",
                    "pattern": {
                      "shape": ""
                    }
                  },
                  "name": "14.0",
                  "offsetgroup": "14.0",
                  "orientation": "v",
                  "showlegend": true,
                  "type": "histogram",
                  "x": [
                    14,
                    14,
                    14,
                    14,
                    14,
                    14,
                    14,
                    14,
                    14,
                    14,
                    14,
                    14,
                    14,
                    14,
                    14,
                    14,
                    14,
                    14,
                    14,
                    14,
                    14,
                    14,
                    14,
                    14,
                    14,
                    14,
                    14,
                    14,
                    14,
                    14,
                    14,
                    14,
                    14,
                    14,
                    14,
                    14,
                    14,
                    14,
                    14,
                    14,
                    14,
                    14,
                    14,
                    14,
                    14,
                    14,
                    14,
                    14,
                    14,
                    14,
                    14,
                    14,
                    14,
                    14,
                    14,
                    14,
                    14,
                    14,
                    14,
                    14,
                    14,
                    14,
                    14,
                    14,
                    14,
                    14,
                    14,
                    14,
                    14,
                    14,
                    14,
                    14,
                    14,
                    14,
                    14,
                    14,
                    14,
                    14,
                    14,
                    14,
                    14,
                    14,
                    14,
                    14,
                    14,
                    14,
                    14,
                    14,
                    14,
                    14,
                    14,
                    14,
                    14,
                    14,
                    14,
                    14,
                    14,
                    14,
                    14,
                    14,
                    14,
                    14,
                    14,
                    14,
                    14,
                    14,
                    14,
                    14,
                    14,
                    14,
                    14,
                    14,
                    14,
                    14,
                    14,
                    14,
                    14,
                    14,
                    14,
                    14,
                    14,
                    14,
                    14,
                    14,
                    14,
                    14,
                    14,
                    14,
                    14,
                    14,
                    14,
                    14,
                    14,
                    14,
                    14,
                    14,
                    14,
                    14,
                    14,
                    14,
                    14,
                    14,
                    14,
                    14,
                    14,
                    14,
                    14,
                    14,
                    14,
                    14,
                    14,
                    14,
                    14,
                    14,
                    14,
                    14,
                    14,
                    14,
                    14,
                    14,
                    14,
                    14,
                    14,
                    14,
                    14,
                    14,
                    14,
                    14,
                    14,
                    14,
                    14,
                    14,
                    14,
                    14,
                    14,
                    14,
                    14,
                    14,
                    14,
                    14,
                    14,
                    14,
                    14,
                    14,
                    14,
                    14,
                    14,
                    14,
                    14,
                    14,
                    14,
                    14,
                    14,
                    14,
                    14,
                    14,
                    14,
                    14,
                    14,
                    14,
                    14,
                    14,
                    14,
                    14,
                    14,
                    14,
                    14,
                    14,
                    14,
                    14,
                    14,
                    14,
                    14,
                    14
                  ],
                  "xaxis": "x",
                  "yaxis": "y"
                },
                {
                  "alignmentgroup": "True",
                  "bingroup": "x",
                  "hovertemplate": "display_size=%{x}<br>count=%{y}<extra></extra>",
                  "legendgroup": "13.3",
                  "marker": {
                    "color": "rgb(248, 156, 116)",
                    "pattern": {
                      "shape": ""
                    }
                  },
                  "name": "13.3",
                  "offsetgroup": "13.3",
                  "orientation": "v",
                  "showlegend": true,
                  "type": "histogram",
                  "x": [
                    13.3,
                    13.3,
                    13.3,
                    13.3,
                    13.3,
                    13.3,
                    13.3,
                    13.3,
                    13.3,
                    13.3,
                    13.3,
                    13.3,
                    13.3,
                    13.3,
                    13.3,
                    13.3,
                    13.3,
                    13.3,
                    13.3,
                    13.3,
                    13.3,
                    13.3,
                    13.3,
                    13.3,
                    13.3,
                    13.3,
                    13.3,
                    13.3
                  ],
                  "xaxis": "x",
                  "yaxis": "y"
                },
                {
                  "alignmentgroup": "True",
                  "bingroup": "x",
                  "hovertemplate": "display_size=%{x}<br>count=%{y}<extra></extra>",
                  "legendgroup": "14.1",
                  "marker": {
                    "color": "rgb(220, 176, 242)",
                    "pattern": {
                      "shape": ""
                    }
                  },
                  "name": "14.1",
                  "offsetgroup": "14.1",
                  "orientation": "v",
                  "showlegend": true,
                  "type": "histogram",
                  "x": [
                    14.1,
                    14.1,
                    14.1,
                    14.1,
                    14.1,
                    14.1,
                    14.1
                  ],
                  "xaxis": "x",
                  "yaxis": "y"
                },
                {
                  "alignmentgroup": "True",
                  "bingroup": "x",
                  "hovertemplate": "display_size=%{x}<br>count=%{y}<extra></extra>",
                  "legendgroup": "11.6",
                  "marker": {
                    "color": "rgb(135, 197, 95)",
                    "pattern": {
                      "shape": ""
                    }
                  },
                  "name": "11.6",
                  "offsetgroup": "11.6",
                  "orientation": "v",
                  "showlegend": true,
                  "type": "histogram",
                  "x": [
                    11.6,
                    11.6,
                    11.6,
                    11.6,
                    11.6,
                    11.6,
                    11.6
                  ],
                  "xaxis": "x",
                  "yaxis": "y"
                },
                {
                  "alignmentgroup": "True",
                  "bingroup": "x",
                  "hovertemplate": "display_size=%{x}<br>count=%{y}<extra></extra>",
                  "legendgroup": "16.0",
                  "marker": {
                    "color": "rgb(158, 185, 243)",
                    "pattern": {
                      "shape": ""
                    }
                  },
                  "name": "16.0",
                  "offsetgroup": "16.0",
                  "orientation": "v",
                  "showlegend": true,
                  "type": "histogram",
                  "x": [
                    16,
                    16,
                    16,
                    16,
                    16,
                    16,
                    16,
                    16,
                    16,
                    16,
                    16,
                    16,
                    16,
                    16,
                    16,
                    16,
                    16,
                    16,
                    16,
                    16,
                    16,
                    16,
                    16,
                    16,
                    16,
                    16,
                    16,
                    16,
                    16,
                    16,
                    16,
                    16,
                    16,
                    16,
                    16,
                    16,
                    16,
                    16,
                    16,
                    16,
                    16,
                    16,
                    16,
                    16,
                    16,
                    16,
                    16,
                    16,
                    16,
                    16,
                    16,
                    16,
                    16,
                    16,
                    16,
                    16,
                    16,
                    16,
                    16,
                    16,
                    16,
                    16,
                    16,
                    16,
                    16,
                    16,
                    16,
                    16,
                    16,
                    16,
                    16,
                    16,
                    16,
                    16,
                    16,
                    16,
                    16,
                    16,
                    16,
                    16,
                    16,
                    16,
                    16,
                    16,
                    16,
                    16,
                    16,
                    16,
                    16,
                    16,
                    16,
                    16,
                    16,
                    16,
                    16,
                    16,
                    16,
                    16,
                    16,
                    16,
                    16,
                    16,
                    16,
                    16,
                    16,
                    16,
                    16,
                    16,
                    16,
                    16,
                    16,
                    16
                  ],
                  "xaxis": "x",
                  "yaxis": "y"
                },
                {
                  "alignmentgroup": "True",
                  "bingroup": "x",
                  "hovertemplate": "display_size=%{x}<br>count=%{y}<extra></extra>",
                  "legendgroup": "13.6",
                  "marker": {
                    "color": "rgb(254, 136, 177)",
                    "pattern": {
                      "shape": ""
                    }
                  },
                  "name": "13.6",
                  "offsetgroup": "13.6",
                  "orientation": "v",
                  "showlegend": true,
                  "type": "histogram",
                  "x": [
                    13.6,
                    13.6
                  ],
                  "xaxis": "x",
                  "yaxis": "y"
                },
                {
                  "alignmentgroup": "True",
                  "bingroup": "x",
                  "hovertemplate": "display_size=%{x}<br>count=%{y}<extra></extra>",
                  "legendgroup": "16.1",
                  "marker": {
                    "color": "rgb(201, 219, 116)",
                    "pattern": {
                      "shape": ""
                    }
                  },
                  "name": "16.1",
                  "offsetgroup": "16.1",
                  "orientation": "v",
                  "showlegend": true,
                  "type": "histogram",
                  "x": [
                    16.1,
                    16.1,
                    16.1,
                    16.1,
                    16.1,
                    16.1,
                    16.1,
                    16.1,
                    16.1,
                    16.1,
                    16.1,
                    16.1,
                    16.1,
                    16.1,
                    16.1,
                    16.1,
                    16.1,
                    16.1,
                    16.1,
                    16.1,
                    16.1
                  ],
                  "xaxis": "x",
                  "yaxis": "y"
                },
                {
                  "alignmentgroup": "True",
                  "bingroup": "x",
                  "hovertemplate": "display_size=%{x}<br>count=%{y}<extra></extra>",
                  "legendgroup": "17.3",
                  "marker": {
                    "color": "rgb(139, 224, 164)",
                    "pattern": {
                      "shape": ""
                    }
                  },
                  "name": "17.3",
                  "offsetgroup": "17.3",
                  "orientation": "v",
                  "showlegend": true,
                  "type": "histogram",
                  "x": [
                    17.3,
                    17.3,
                    17.3,
                    17.3,
                    17.3,
                    17.3,
                    17.3,
                    17.3,
                    17.3,
                    17.3,
                    17.3,
                    17.3,
                    17.3,
                    17.3
                  ],
                  "xaxis": "x",
                  "yaxis": "y"
                },
                {
                  "alignmentgroup": "True",
                  "bingroup": "x",
                  "hovertemplate": "display_size=%{x}<br>count=%{y}<extra></extra>",
                  "legendgroup": "15.3",
                  "marker": {
                    "color": "rgb(180, 151, 231)",
                    "pattern": {
                      "shape": ""
                    }
                  },
                  "name": "15.3",
                  "offsetgroup": "15.3",
                  "orientation": "v",
                  "showlegend": true,
                  "type": "histogram",
                  "x": [
                    15.3,
                    15.3
                  ],
                  "xaxis": "x",
                  "yaxis": "y"
                },
                {
                  "alignmentgroup": "True",
                  "bingroup": "x",
                  "hovertemplate": "display_size=%{x}<br>count=%{y}<extra></extra>",
                  "legendgroup": "15.56",
                  "marker": {
                    "color": "rgb(179, 179, 179)",
                    "pattern": {
                      "shape": ""
                    }
                  },
                  "name": "15.56",
                  "offsetgroup": "15.56",
                  "orientation": "v",
                  "showlegend": true,
                  "type": "histogram",
                  "x": [
                    15.56
                  ],
                  "xaxis": "x",
                  "yaxis": "y"
                },
                {
                  "alignmentgroup": "True",
                  "bingroup": "x",
                  "hovertemplate": "display_size=%{x}<br>count=%{y}<extra></extra>",
                  "legendgroup": "13.4",
                  "marker": {
                    "color": "rgb(102, 197, 204)",
                    "pattern": {
                      "shape": ""
                    }
                  },
                  "name": "13.4",
                  "offsetgroup": "13.4",
                  "orientation": "v",
                  "showlegend": true,
                  "type": "histogram",
                  "x": [
                    13.4,
                    13.4,
                    13.4,
                    13.4
                  ],
                  "xaxis": "x",
                  "yaxis": "y"
                },
                {
                  "alignmentgroup": "True",
                  "bingroup": "x",
                  "hovertemplate": "display_size=%{x}<br>count=%{y}<extra></extra>",
                  "legendgroup": "13.5",
                  "marker": {
                    "color": "rgb(246, 207, 113)",
                    "pattern": {
                      "shape": ""
                    }
                  },
                  "name": "13.5",
                  "offsetgroup": "13.5",
                  "orientation": "v",
                  "showlegend": true,
                  "type": "histogram",
                  "x": [
                    13.5,
                    13.5
                  ],
                  "xaxis": "x",
                  "yaxis": "y"
                },
                {
                  "alignmentgroup": "True",
                  "bingroup": "x",
                  "hovertemplate": "display_size=%{x}<br>count=%{y}<extra></extra>",
                  "legendgroup": "18.0",
                  "marker": {
                    "color": "rgb(248, 156, 116)",
                    "pattern": {
                      "shape": ""
                    }
                  },
                  "name": "18.0",
                  "offsetgroup": "18.0",
                  "orientation": "v",
                  "showlegend": true,
                  "type": "histogram",
                  "x": [
                    18
                  ],
                  "xaxis": "x",
                  "yaxis": "y"
                },
                {
                  "alignmentgroup": "True",
                  "bingroup": "x",
                  "hovertemplate": "display_size=%{x}<br>count=%{y}<extra></extra>",
                  "legendgroup": "14.2",
                  "marker": {
                    "color": "rgb(220, 176, 242)",
                    "pattern": {
                      "shape": ""
                    }
                  },
                  "name": "14.2",
                  "offsetgroup": "14.2",
                  "orientation": "v",
                  "showlegend": true,
                  "type": "histogram",
                  "x": [
                    14.2,
                    14.2,
                    14.2,
                    14.2
                  ],
                  "xaxis": "x",
                  "yaxis": "y"
                },
                {
                  "alignmentgroup": "True",
                  "bingroup": "x",
                  "hovertemplate": "display_size=%{x}<br>count=%{y}<extra></extra>",
                  "legendgroup": "16.2",
                  "marker": {
                    "color": "rgb(135, 197, 95)",
                    "pattern": {
                      "shape": ""
                    }
                  },
                  "name": "16.2",
                  "offsetgroup": "16.2",
                  "orientation": "v",
                  "showlegend": true,
                  "type": "histogram",
                  "x": [
                    16.2,
                    16.2
                  ],
                  "xaxis": "x",
                  "yaxis": "y"
                },
                {
                  "alignmentgroup": "True",
                  "bingroup": "x",
                  "hovertemplate": "display_size=%{x}<br>count=%{y}<extra></extra>",
                  "legendgroup": "15.0",
                  "marker": {
                    "color": "rgb(158, 185, 243)",
                    "pattern": {
                      "shape": ""
                    }
                  },
                  "name": "15.0",
                  "offsetgroup": "15.0",
                  "orientation": "v",
                  "showlegend": true,
                  "type": "histogram",
                  "x": [
                    15,
                    15,
                    15
                  ],
                  "xaxis": "x",
                  "yaxis": "y"
                },
                {
                  "alignmentgroup": "True",
                  "bingroup": "x",
                  "hovertemplate": "display_size=%{x}<br>count=%{y}<extra></extra>",
                  "legendgroup": "17.0",
                  "marker": {
                    "color": "rgb(254, 136, 177)",
                    "pattern": {
                      "shape": ""
                    }
                  },
                  "name": "17.0",
                  "offsetgroup": "17.0",
                  "orientation": "v",
                  "showlegend": true,
                  "type": "histogram",
                  "x": [
                    17,
                    17,
                    17,
                    17,
                    17
                  ],
                  "xaxis": "x",
                  "yaxis": "y"
                }
              ],
              "layout": {
                "barmode": "relative",
                "legend": {
                  "title": {
                    "text": "display_size"
                  },
                  "tracegroupgap": 0
                },
                "template": {
                  "data": {
                    "bar": [
                      {
                        "error_x": {
                          "color": "#2a3f5f"
                        },
                        "error_y": {
                          "color": "#2a3f5f"
                        },
                        "marker": {
                          "line": {
                            "color": "#E5ECF6",
                            "width": 0.5
                          },
                          "pattern": {
                            "fillmode": "overlay",
                            "size": 10,
                            "solidity": 0.2
                          }
                        },
                        "type": "bar"
                      }
                    ],
                    "barpolar": [
                      {
                        "marker": {
                          "line": {
                            "color": "#E5ECF6",
                            "width": 0.5
                          },
                          "pattern": {
                            "fillmode": "overlay",
                            "size": 10,
                            "solidity": 0.2
                          }
                        },
                        "type": "barpolar"
                      }
                    ],
                    "carpet": [
                      {
                        "aaxis": {
                          "endlinecolor": "#2a3f5f",
                          "gridcolor": "white",
                          "linecolor": "white",
                          "minorgridcolor": "white",
                          "startlinecolor": "#2a3f5f"
                        },
                        "baxis": {
                          "endlinecolor": "#2a3f5f",
                          "gridcolor": "white",
                          "linecolor": "white",
                          "minorgridcolor": "white",
                          "startlinecolor": "#2a3f5f"
                        },
                        "type": "carpet"
                      }
                    ],
                    "choropleth": [
                      {
                        "colorbar": {
                          "outlinewidth": 0,
                          "ticks": ""
                        },
                        "type": "choropleth"
                      }
                    ],
                    "contour": [
                      {
                        "colorbar": {
                          "outlinewidth": 0,
                          "ticks": ""
                        },
                        "colorscale": [
                          [
                            0,
                            "#0d0887"
                          ],
                          [
                            0.1111111111111111,
                            "#46039f"
                          ],
                          [
                            0.2222222222222222,
                            "#7201a8"
                          ],
                          [
                            0.3333333333333333,
                            "#9c179e"
                          ],
                          [
                            0.4444444444444444,
                            "#bd3786"
                          ],
                          [
                            0.5555555555555556,
                            "#d8576b"
                          ],
                          [
                            0.6666666666666666,
                            "#ed7953"
                          ],
                          [
                            0.7777777777777778,
                            "#fb9f3a"
                          ],
                          [
                            0.8888888888888888,
                            "#fdca26"
                          ],
                          [
                            1,
                            "#f0f921"
                          ]
                        ],
                        "type": "contour"
                      }
                    ],
                    "contourcarpet": [
                      {
                        "colorbar": {
                          "outlinewidth": 0,
                          "ticks": ""
                        },
                        "type": "contourcarpet"
                      }
                    ],
                    "heatmap": [
                      {
                        "colorbar": {
                          "outlinewidth": 0,
                          "ticks": ""
                        },
                        "colorscale": [
                          [
                            0,
                            "#0d0887"
                          ],
                          [
                            0.1111111111111111,
                            "#46039f"
                          ],
                          [
                            0.2222222222222222,
                            "#7201a8"
                          ],
                          [
                            0.3333333333333333,
                            "#9c179e"
                          ],
                          [
                            0.4444444444444444,
                            "#bd3786"
                          ],
                          [
                            0.5555555555555556,
                            "#d8576b"
                          ],
                          [
                            0.6666666666666666,
                            "#ed7953"
                          ],
                          [
                            0.7777777777777778,
                            "#fb9f3a"
                          ],
                          [
                            0.8888888888888888,
                            "#fdca26"
                          ],
                          [
                            1,
                            "#f0f921"
                          ]
                        ],
                        "type": "heatmap"
                      }
                    ],
                    "heatmapgl": [
                      {
                        "colorbar": {
                          "outlinewidth": 0,
                          "ticks": ""
                        },
                        "colorscale": [
                          [
                            0,
                            "#0d0887"
                          ],
                          [
                            0.1111111111111111,
                            "#46039f"
                          ],
                          [
                            0.2222222222222222,
                            "#7201a8"
                          ],
                          [
                            0.3333333333333333,
                            "#9c179e"
                          ],
                          [
                            0.4444444444444444,
                            "#bd3786"
                          ],
                          [
                            0.5555555555555556,
                            "#d8576b"
                          ],
                          [
                            0.6666666666666666,
                            "#ed7953"
                          ],
                          [
                            0.7777777777777778,
                            "#fb9f3a"
                          ],
                          [
                            0.8888888888888888,
                            "#fdca26"
                          ],
                          [
                            1,
                            "#f0f921"
                          ]
                        ],
                        "type": "heatmapgl"
                      }
                    ],
                    "histogram": [
                      {
                        "marker": {
                          "pattern": {
                            "fillmode": "overlay",
                            "size": 10,
                            "solidity": 0.2
                          }
                        },
                        "type": "histogram"
                      }
                    ],
                    "histogram2d": [
                      {
                        "colorbar": {
                          "outlinewidth": 0,
                          "ticks": ""
                        },
                        "colorscale": [
                          [
                            0,
                            "#0d0887"
                          ],
                          [
                            0.1111111111111111,
                            "#46039f"
                          ],
                          [
                            0.2222222222222222,
                            "#7201a8"
                          ],
                          [
                            0.3333333333333333,
                            "#9c179e"
                          ],
                          [
                            0.4444444444444444,
                            "#bd3786"
                          ],
                          [
                            0.5555555555555556,
                            "#d8576b"
                          ],
                          [
                            0.6666666666666666,
                            "#ed7953"
                          ],
                          [
                            0.7777777777777778,
                            "#fb9f3a"
                          ],
                          [
                            0.8888888888888888,
                            "#fdca26"
                          ],
                          [
                            1,
                            "#f0f921"
                          ]
                        ],
                        "type": "histogram2d"
                      }
                    ],
                    "histogram2dcontour": [
                      {
                        "colorbar": {
                          "outlinewidth": 0,
                          "ticks": ""
                        },
                        "colorscale": [
                          [
                            0,
                            "#0d0887"
                          ],
                          [
                            0.1111111111111111,
                            "#46039f"
                          ],
                          [
                            0.2222222222222222,
                            "#7201a8"
                          ],
                          [
                            0.3333333333333333,
                            "#9c179e"
                          ],
                          [
                            0.4444444444444444,
                            "#bd3786"
                          ],
                          [
                            0.5555555555555556,
                            "#d8576b"
                          ],
                          [
                            0.6666666666666666,
                            "#ed7953"
                          ],
                          [
                            0.7777777777777778,
                            "#fb9f3a"
                          ],
                          [
                            0.8888888888888888,
                            "#fdca26"
                          ],
                          [
                            1,
                            "#f0f921"
                          ]
                        ],
                        "type": "histogram2dcontour"
                      }
                    ],
                    "mesh3d": [
                      {
                        "colorbar": {
                          "outlinewidth": 0,
                          "ticks": ""
                        },
                        "type": "mesh3d"
                      }
                    ],
                    "parcoords": [
                      {
                        "line": {
                          "colorbar": {
                            "outlinewidth": 0,
                            "ticks": ""
                          }
                        },
                        "type": "parcoords"
                      }
                    ],
                    "pie": [
                      {
                        "automargin": true,
                        "type": "pie"
                      }
                    ],
                    "scatter": [
                      {
                        "fillpattern": {
                          "fillmode": "overlay",
                          "size": 10,
                          "solidity": 0.2
                        },
                        "type": "scatter"
                      }
                    ],
                    "scatter3d": [
                      {
                        "line": {
                          "colorbar": {
                            "outlinewidth": 0,
                            "ticks": ""
                          }
                        },
                        "marker": {
                          "colorbar": {
                            "outlinewidth": 0,
                            "ticks": ""
                          }
                        },
                        "type": "scatter3d"
                      }
                    ],
                    "scattercarpet": [
                      {
                        "marker": {
                          "colorbar": {
                            "outlinewidth": 0,
                            "ticks": ""
                          }
                        },
                        "type": "scattercarpet"
                      }
                    ],
                    "scattergeo": [
                      {
                        "marker": {
                          "colorbar": {
                            "outlinewidth": 0,
                            "ticks": ""
                          }
                        },
                        "type": "scattergeo"
                      }
                    ],
                    "scattergl": [
                      {
                        "marker": {
                          "colorbar": {
                            "outlinewidth": 0,
                            "ticks": ""
                          }
                        },
                        "type": "scattergl"
                      }
                    ],
                    "scattermapbox": [
                      {
                        "marker": {
                          "colorbar": {
                            "outlinewidth": 0,
                            "ticks": ""
                          }
                        },
                        "type": "scattermapbox"
                      }
                    ],
                    "scatterpolar": [
                      {
                        "marker": {
                          "colorbar": {
                            "outlinewidth": 0,
                            "ticks": ""
                          }
                        },
                        "type": "scatterpolar"
                      }
                    ],
                    "scatterpolargl": [
                      {
                        "marker": {
                          "colorbar": {
                            "outlinewidth": 0,
                            "ticks": ""
                          }
                        },
                        "type": "scatterpolargl"
                      }
                    ],
                    "scatterternary": [
                      {
                        "marker": {
                          "colorbar": {
                            "outlinewidth": 0,
                            "ticks": ""
                          }
                        },
                        "type": "scatterternary"
                      }
                    ],
                    "surface": [
                      {
                        "colorbar": {
                          "outlinewidth": 0,
                          "ticks": ""
                        },
                        "colorscale": [
                          [
                            0,
                            "#0d0887"
                          ],
                          [
                            0.1111111111111111,
                            "#46039f"
                          ],
                          [
                            0.2222222222222222,
                            "#7201a8"
                          ],
                          [
                            0.3333333333333333,
                            "#9c179e"
                          ],
                          [
                            0.4444444444444444,
                            "#bd3786"
                          ],
                          [
                            0.5555555555555556,
                            "#d8576b"
                          ],
                          [
                            0.6666666666666666,
                            "#ed7953"
                          ],
                          [
                            0.7777777777777778,
                            "#fb9f3a"
                          ],
                          [
                            0.8888888888888888,
                            "#fdca26"
                          ],
                          [
                            1,
                            "#f0f921"
                          ]
                        ],
                        "type": "surface"
                      }
                    ],
                    "table": [
                      {
                        "cells": {
                          "fill": {
                            "color": "#EBF0F8"
                          },
                          "line": {
                            "color": "white"
                          }
                        },
                        "header": {
                          "fill": {
                            "color": "#C8D4E3"
                          },
                          "line": {
                            "color": "white"
                          }
                        },
                        "type": "table"
                      }
                    ]
                  },
                  "layout": {
                    "annotationdefaults": {
                      "arrowcolor": "#2a3f5f",
                      "arrowhead": 0,
                      "arrowwidth": 1
                    },
                    "autotypenumbers": "strict",
                    "coloraxis": {
                      "colorbar": {
                        "outlinewidth": 0,
                        "ticks": ""
                      }
                    },
                    "colorscale": {
                      "diverging": [
                        [
                          0,
                          "#8e0152"
                        ],
                        [
                          0.1,
                          "#c51b7d"
                        ],
                        [
                          0.2,
                          "#de77ae"
                        ],
                        [
                          0.3,
                          "#f1b6da"
                        ],
                        [
                          0.4,
                          "#fde0ef"
                        ],
                        [
                          0.5,
                          "#f7f7f7"
                        ],
                        [
                          0.6,
                          "#e6f5d0"
                        ],
                        [
                          0.7,
                          "#b8e186"
                        ],
                        [
                          0.8,
                          "#7fbc41"
                        ],
                        [
                          0.9,
                          "#4d9221"
                        ],
                        [
                          1,
                          "#276419"
                        ]
                      ],
                      "sequential": [
                        [
                          0,
                          "#0d0887"
                        ],
                        [
                          0.1111111111111111,
                          "#46039f"
                        ],
                        [
                          0.2222222222222222,
                          "#7201a8"
                        ],
                        [
                          0.3333333333333333,
                          "#9c179e"
                        ],
                        [
                          0.4444444444444444,
                          "#bd3786"
                        ],
                        [
                          0.5555555555555556,
                          "#d8576b"
                        ],
                        [
                          0.6666666666666666,
                          "#ed7953"
                        ],
                        [
                          0.7777777777777778,
                          "#fb9f3a"
                        ],
                        [
                          0.8888888888888888,
                          "#fdca26"
                        ],
                        [
                          1,
                          "#f0f921"
                        ]
                      ],
                      "sequentialminus": [
                        [
                          0,
                          "#0d0887"
                        ],
                        [
                          0.1111111111111111,
                          "#46039f"
                        ],
                        [
                          0.2222222222222222,
                          "#7201a8"
                        ],
                        [
                          0.3333333333333333,
                          "#9c179e"
                        ],
                        [
                          0.4444444444444444,
                          "#bd3786"
                        ],
                        [
                          0.5555555555555556,
                          "#d8576b"
                        ],
                        [
                          0.6666666666666666,
                          "#ed7953"
                        ],
                        [
                          0.7777777777777778,
                          "#fb9f3a"
                        ],
                        [
                          0.8888888888888888,
                          "#fdca26"
                        ],
                        [
                          1,
                          "#f0f921"
                        ]
                      ]
                    },
                    "colorway": [
                      "#636efa",
                      "#EF553B",
                      "#00cc96",
                      "#ab63fa",
                      "#FFA15A",
                      "#19d3f3",
                      "#FF6692",
                      "#B6E880",
                      "#FF97FF",
                      "#FECB52"
                    ],
                    "font": {
                      "color": "#2a3f5f"
                    },
                    "geo": {
                      "bgcolor": "white",
                      "lakecolor": "white",
                      "landcolor": "#E5ECF6",
                      "showlakes": true,
                      "showland": true,
                      "subunitcolor": "white"
                    },
                    "hoverlabel": {
                      "align": "left"
                    },
                    "hovermode": "closest",
                    "mapbox": {
                      "style": "light"
                    },
                    "paper_bgcolor": "white",
                    "plot_bgcolor": "#E5ECF6",
                    "polar": {
                      "angularaxis": {
                        "gridcolor": "white",
                        "linecolor": "white",
                        "ticks": ""
                      },
                      "bgcolor": "#E5ECF6",
                      "radialaxis": {
                        "gridcolor": "white",
                        "linecolor": "white",
                        "ticks": ""
                      }
                    },
                    "scene": {
                      "xaxis": {
                        "backgroundcolor": "#E5ECF6",
                        "gridcolor": "white",
                        "gridwidth": 2,
                        "linecolor": "white",
                        "showbackground": true,
                        "ticks": "",
                        "zerolinecolor": "white"
                      },
                      "yaxis": {
                        "backgroundcolor": "#E5ECF6",
                        "gridcolor": "white",
                        "gridwidth": 2,
                        "linecolor": "white",
                        "showbackground": true,
                        "ticks": "",
                        "zerolinecolor": "white"
                      },
                      "zaxis": {
                        "backgroundcolor": "#E5ECF6",
                        "gridcolor": "white",
                        "gridwidth": 2,
                        "linecolor": "white",
                        "showbackground": true,
                        "ticks": "",
                        "zerolinecolor": "white"
                      }
                    },
                    "shapedefaults": {
                      "line": {
                        "color": "#2a3f5f"
                      }
                    },
                    "ternary": {
                      "aaxis": {
                        "gridcolor": "white",
                        "linecolor": "white",
                        "ticks": ""
                      },
                      "baxis": {
                        "gridcolor": "white",
                        "linecolor": "white",
                        "ticks": ""
                      },
                      "bgcolor": "#E5ECF6",
                      "caxis": {
                        "gridcolor": "white",
                        "linecolor": "white",
                        "ticks": ""
                      }
                    },
                    "title": {
                      "x": 0.05
                    },
                    "xaxis": {
                      "automargin": true,
                      "gridcolor": "white",
                      "linecolor": "white",
                      "ticks": "",
                      "title": {
                        "standoff": 15
                      },
                      "zerolinecolor": "white",
                      "zerolinewidth": 2
                    },
                    "yaxis": {
                      "automargin": true,
                      "gridcolor": "white",
                      "linecolor": "white",
                      "ticks": "",
                      "title": {
                        "standoff": 15
                      },
                      "zerolinecolor": "white",
                      "zerolinewidth": 2
                    }
                  }
                },
                "title": {
                  "text": "Display Size Distribution"
                },
                "xaxis": {
                  "anchor": "y",
                  "categoryarray": [
                    15.6,
                    14,
                    13.3,
                    14.1,
                    11.6,
                    16,
                    13.6,
                    16.1,
                    17.3,
                    15.3,
                    15.56,
                    13.4,
                    13.5,
                    18,
                    14.2,
                    16.2,
                    15,
                    17
                  ],
                  "categoryorder": "array",
                  "domain": [
                    0,
                    1
                  ],
                  "title": {
                    "text": "display_size"
                  }
                },
                "yaxis": {
                  "anchor": "x",
                  "domain": [
                    0,
                    1
                  ],
                  "title": {
                    "text": "count"
                  }
                }
              }
            }
          },
          "metadata": {},
          "output_type": "display_data"
        }
      ],
      "source": [
        "# Display\n",
        "plt = px.histogram(df, x='display_size', color='display_size', title=\"Display Size Distribution\", color_discrete_sequence=px.colors.qualitative.Pastel)\n",
        "plt.show()"
      ]
    },
    {
      "cell_type": "code",
      "execution_count": 19,
      "metadata": {
        "colab": {
          "base_uri": "https://localhost:8080/",
          "height": 542
        },
        "id": "mYjrztu8QuAd",
        "outputId": "c61f55f9-951e-4290-9382-fd6230d5cd40"
      },
      "outputs": [
        {
          "data": {
            "application/vnd.plotly.v1+json": {
              "config": {
                "plotlyServerURL": "https://plot.ly"
              },
              "data": [
                {
                  "alignmentgroup": "True",
                  "bingroup": "x",
                  "hovertemplate": "OS=%{x}<br>count=%{y}<extra></extra>",
                  "legendgroup": "Windows 11 OS",
                  "marker": {
                    "color": "rgb(102, 197, 204)",
                    "pattern": {
                      "shape": ""
                    }
                  },
                  "name": "Windows 11 OS",
                  "offsetgroup": "Windows 11 OS",
                  "orientation": "v",
                  "showlegend": true,
                  "type": "histogram",
                  "x": [
                    "Windows 11 OS",
                    "Windows 11 OS",
                    "Windows 11 OS",
                    "Windows 11 OS",
                    "Windows 11 OS",
                    "Windows 11 OS",
                    "Windows 11 OS",
                    "Windows 11 OS",
                    "Windows 11 OS",
                    "Windows 11 OS",
                    "Windows 11 OS",
                    "Windows 11 OS",
                    "Windows 11 OS",
                    "Windows 11 OS",
                    "Windows 11 OS",
                    "Windows 11 OS",
                    "Windows 11 OS",
                    "Windows 11 OS",
                    "Windows 11 OS",
                    "Windows 11 OS",
                    "Windows 11 OS",
                    "Windows 11 OS",
                    "Windows 11 OS",
                    "Windows 11 OS",
                    "Windows 11 OS",
                    "Windows 11 OS",
                    "Windows 11 OS",
                    "Windows 11 OS",
                    "Windows 11 OS",
                    "Windows 11 OS",
                    "Windows 11 OS",
                    "Windows 11 OS",
                    "Windows 11 OS",
                    "Windows 11 OS",
                    "Windows 11 OS",
                    "Windows 11 OS",
                    "Windows 11 OS",
                    "Windows 11 OS",
                    "Windows 11 OS",
                    "Windows 11 OS",
                    "Windows 11 OS",
                    "Windows 11 OS",
                    "Windows 11 OS",
                    "Windows 11 OS",
                    "Windows 11 OS",
                    "Windows 11 OS",
                    "Windows 11 OS",
                    "Windows 11 OS",
                    "Windows 11 OS",
                    "Windows 11 OS",
                    "Windows 11 OS",
                    "Windows 11 OS",
                    "Windows 11 OS",
                    "Windows 11 OS",
                    "Windows 11 OS",
                    "Windows 11 OS",
                    "Windows 11 OS",
                    "Windows 11 OS",
                    "Windows 11 OS",
                    "Windows 11 OS",
                    "Windows 11 OS",
                    "Windows 11 OS",
                    "Windows 11 OS",
                    "Windows 11 OS",
                    "Windows 11 OS",
                    "Windows 11 OS",
                    "Windows 11 OS",
                    "Windows 11 OS",
                    "Windows 11 OS",
                    "Windows 11 OS",
                    "Windows 11 OS",
                    "Windows 11 OS",
                    "Windows 11 OS",
                    "Windows 11 OS",
                    "Windows 11 OS",
                    "Windows 11 OS",
                    "Windows 11 OS",
                    "Windows 11 OS",
                    "Windows 11 OS",
                    "Windows 11 OS",
                    "Windows 11 OS",
                    "Windows 11 OS",
                    "Windows 11 OS",
                    "Windows 11 OS",
                    "Windows 11 OS",
                    "Windows 11 OS",
                    "Windows 11 OS",
                    "Windows 11 OS",
                    "Windows 11 OS",
                    "Windows 11 OS",
                    "Windows 11 OS",
                    "Windows 11 OS",
                    "Windows 11 OS",
                    "Windows 11 OS",
                    "Windows 11 OS",
                    "Windows 11 OS",
                    "Windows 11 OS",
                    "Windows 11 OS",
                    "Windows 11 OS",
                    "Windows 11 OS",
                    "Windows 11 OS",
                    "Windows 11 OS",
                    "Windows 11 OS",
                    "Windows 11 OS",
                    "Windows 11 OS",
                    "Windows 11 OS",
                    "Windows 11 OS",
                    "Windows 11 OS",
                    "Windows 11 OS",
                    "Windows 11 OS",
                    "Windows 11 OS",
                    "Windows 11 OS",
                    "Windows 11 OS",
                    "Windows 11 OS",
                    "Windows 11 OS",
                    "Windows 11 OS",
                    "Windows 11 OS",
                    "Windows 11 OS",
                    "Windows 11 OS",
                    "Windows 11 OS",
                    "Windows 11 OS",
                    "Windows 11 OS",
                    "Windows 11 OS",
                    "Windows 11 OS",
                    "Windows 11 OS",
                    "Windows 11 OS",
                    "Windows 11 OS",
                    "Windows 11 OS",
                    "Windows 11 OS",
                    "Windows 11 OS",
                    "Windows 11 OS",
                    "Windows 11 OS",
                    "Windows 11 OS",
                    "Windows 11 OS",
                    "Windows 11 OS",
                    "Windows 11 OS",
                    "Windows 11 OS",
                    "Windows 11 OS",
                    "Windows 11 OS",
                    "Windows 11 OS",
                    "Windows 11 OS",
                    "Windows 11 OS",
                    "Windows 11 OS",
                    "Windows 11 OS",
                    "Windows 11 OS",
                    "Windows 11 OS",
                    "Windows 11 OS",
                    "Windows 11 OS",
                    "Windows 11 OS",
                    "Windows 11 OS",
                    "Windows 11 OS",
                    "Windows 11 OS",
                    "Windows 11 OS",
                    "Windows 11 OS",
                    "Windows 11 OS",
                    "Windows 11 OS",
                    "Windows 11 OS",
                    "Windows 11 OS",
                    "Windows 11 OS",
                    "Windows 11 OS",
                    "Windows 11 OS",
                    "Windows 11 OS",
                    "Windows 11 OS",
                    "Windows 11 OS",
                    "Windows 11 OS",
                    "Windows 11 OS",
                    "Windows 11 OS",
                    "Windows 11 OS",
                    "Windows 11 OS",
                    "Windows 11 OS",
                    "Windows 11 OS",
                    "Windows 11 OS",
                    "Windows 11 OS",
                    "Windows 11 OS",
                    "Windows 11 OS",
                    "Windows 11 OS",
                    "Windows 11 OS",
                    "Windows 11 OS",
                    "Windows 11 OS",
                    "Windows 11 OS",
                    "Windows 11 OS",
                    "Windows 11 OS",
                    "Windows 11 OS",
                    "Windows 11 OS",
                    "Windows 11 OS",
                    "Windows 11 OS",
                    "Windows 11 OS",
                    "Windows 11 OS",
                    "Windows 11 OS",
                    "Windows 11 OS",
                    "Windows 11 OS",
                    "Windows 11 OS",
                    "Windows 11 OS",
                    "Windows 11 OS",
                    "Windows 11 OS",
                    "Windows 11 OS",
                    "Windows 11 OS",
                    "Windows 11 OS",
                    "Windows 11 OS",
                    "Windows 11 OS",
                    "Windows 11 OS",
                    "Windows 11 OS",
                    "Windows 11 OS",
                    "Windows 11 OS",
                    "Windows 11 OS",
                    "Windows 11 OS",
                    "Windows 11 OS",
                    "Windows 11 OS",
                    "Windows 11 OS",
                    "Windows 11 OS",
                    "Windows 11 OS",
                    "Windows 11 OS",
                    "Windows 11 OS",
                    "Windows 11 OS",
                    "Windows 11 OS",
                    "Windows 11 OS",
                    "Windows 11 OS",
                    "Windows 11 OS",
                    "Windows 11 OS",
                    "Windows 11 OS",
                    "Windows 11 OS",
                    "Windows 11 OS",
                    "Windows 11 OS",
                    "Windows 11 OS",
                    "Windows 11 OS",
                    "Windows 11 OS",
                    "Windows 11 OS",
                    "Windows 11 OS",
                    "Windows 11 OS",
                    "Windows 11 OS",
                    "Windows 11 OS",
                    "Windows 11 OS",
                    "Windows 11 OS",
                    "Windows 11 OS",
                    "Windows 11 OS",
                    "Windows 11 OS",
                    "Windows 11 OS",
                    "Windows 11 OS",
                    "Windows 11 OS",
                    "Windows 11 OS",
                    "Windows 11 OS",
                    "Windows 11 OS",
                    "Windows 11 OS",
                    "Windows 11 OS",
                    "Windows 11 OS",
                    "Windows 11 OS",
                    "Windows 11 OS",
                    "Windows 11 OS",
                    "Windows 11 OS",
                    "Windows 11 OS",
                    "Windows 11 OS",
                    "Windows 11 OS",
                    "Windows 11 OS",
                    "Windows 11 OS",
                    "Windows 11 OS",
                    "Windows 11 OS",
                    "Windows 11 OS",
                    "Windows 11 OS",
                    "Windows 11 OS",
                    "Windows 11 OS",
                    "Windows 11 OS",
                    "Windows 11 OS",
                    "Windows 11 OS",
                    "Windows 11 OS",
                    "Windows 11 OS",
                    "Windows 11 OS",
                    "Windows 11 OS",
                    "Windows 11 OS",
                    "Windows 11 OS",
                    "Windows 11 OS",
                    "Windows 11 OS",
                    "Windows 11 OS",
                    "Windows 11 OS",
                    "Windows 11 OS",
                    "Windows 11 OS",
                    "Windows 11 OS",
                    "Windows 11 OS",
                    "Windows 11 OS",
                    "Windows 11 OS",
                    "Windows 11 OS",
                    "Windows 11 OS",
                    "Windows 11 OS",
                    "Windows 11 OS",
                    "Windows 11 OS",
                    "Windows 11 OS",
                    "Windows 11 OS",
                    "Windows 11 OS",
                    "Windows 11 OS",
                    "Windows 11 OS",
                    "Windows 11 OS",
                    "Windows 11 OS",
                    "Windows 11 OS",
                    "Windows 11 OS",
                    "Windows 11 OS",
                    "Windows 11 OS",
                    "Windows 11 OS",
                    "Windows 11 OS",
                    "Windows 11 OS",
                    "Windows 11 OS",
                    "Windows 11 OS",
                    "Windows 11 OS",
                    "Windows 11 OS",
                    "Windows 11 OS",
                    "Windows 11 OS",
                    "Windows 11 OS",
                    "Windows 11 OS",
                    "Windows 11 OS",
                    "Windows 11 OS",
                    "Windows 11 OS",
                    "Windows 11 OS",
                    "Windows 11 OS",
                    "Windows 11 OS",
                    "Windows 11 OS",
                    "Windows 11 OS",
                    "Windows 11 OS",
                    "Windows 11 OS",
                    "Windows 11 OS",
                    "Windows 11 OS",
                    "Windows 11 OS",
                    "Windows 11 OS",
                    "Windows 11 OS",
                    "Windows 11 OS",
                    "Windows 11 OS",
                    "Windows 11 OS",
                    "Windows 11 OS",
                    "Windows 11 OS",
                    "Windows 11 OS",
                    "Windows 11 OS",
                    "Windows 11 OS",
                    "Windows 11 OS",
                    "Windows 11 OS",
                    "Windows 11 OS",
                    "Windows 11 OS",
                    "Windows 11 OS",
                    "Windows 11 OS",
                    "Windows 11 OS",
                    "Windows 11 OS",
                    "Windows 11 OS",
                    "Windows 11 OS",
                    "Windows 11 OS",
                    "Windows 11 OS",
                    "Windows 11 OS",
                    "Windows 11 OS",
                    "Windows 11 OS",
                    "Windows 11 OS",
                    "Windows 11 OS",
                    "Windows 11 OS",
                    "Windows 11 OS",
                    "Windows 11 OS",
                    "Windows 11 OS",
                    "Windows 11 OS",
                    "Windows 11 OS",
                    "Windows 11 OS",
                    "Windows 11 OS",
                    "Windows 11 OS",
                    "Windows 11 OS",
                    "Windows 11 OS",
                    "Windows 11 OS",
                    "Windows 11 OS",
                    "Windows 11 OS",
                    "Windows 11 OS",
                    "Windows 11 OS",
                    "Windows 11 OS",
                    "Windows 11 OS",
                    "Windows 11 OS",
                    "Windows 11 OS",
                    "Windows 11 OS",
                    "Windows 11 OS",
                    "Windows 11 OS",
                    "Windows 11 OS",
                    "Windows 11 OS",
                    "Windows 11 OS",
                    "Windows 11 OS",
                    "Windows 11 OS",
                    "Windows 11 OS",
                    "Windows 11 OS",
                    "Windows 11 OS",
                    "Windows 11 OS",
                    "Windows 11 OS",
                    "Windows 11 OS",
                    "Windows 11 OS",
                    "Windows 11 OS",
                    "Windows 11 OS",
                    "Windows 11 OS",
                    "Windows 11 OS",
                    "Windows 11 OS",
                    "Windows 11 OS",
                    "Windows 11 OS",
                    "Windows 11 OS",
                    "Windows 11 OS",
                    "Windows 11 OS",
                    "Windows 11 OS",
                    "Windows 11 OS",
                    "Windows 11 OS",
                    "Windows 11 OS",
                    "Windows 11 OS",
                    "Windows 11 OS",
                    "Windows 11 OS",
                    "Windows 11 OS",
                    "Windows 11 OS",
                    "Windows 11 OS",
                    "Windows 11 OS",
                    "Windows 11 OS",
                    "Windows 11 OS",
                    "Windows 11 OS",
                    "Windows 11 OS",
                    "Windows 11 OS",
                    "Windows 11 OS",
                    "Windows 11 OS",
                    "Windows 11 OS",
                    "Windows 11 OS",
                    "Windows 11 OS",
                    "Windows 11 OS",
                    "Windows 11 OS",
                    "Windows 11 OS",
                    "Windows 11 OS",
                    "Windows 11 OS",
                    "Windows 11 OS",
                    "Windows 11 OS",
                    "Windows 11 OS",
                    "Windows 11 OS",
                    "Windows 11 OS",
                    "Windows 11 OS",
                    "Windows 11 OS",
                    "Windows 11 OS",
                    "Windows 11 OS",
                    "Windows 11 OS",
                    "Windows 11 OS",
                    "Windows 11 OS",
                    "Windows 11 OS",
                    "Windows 11 OS",
                    "Windows 11 OS",
                    "Windows 11 OS",
                    "Windows 11 OS",
                    "Windows 11 OS",
                    "Windows 11 OS",
                    "Windows 11 OS",
                    "Windows 11 OS",
                    "Windows 11 OS",
                    "Windows 11 OS",
                    "Windows 11 OS",
                    "Windows 11 OS",
                    "Windows 11 OS",
                    "Windows 11 OS",
                    "Windows 11 OS",
                    "Windows 11 OS",
                    "Windows 11 OS",
                    "Windows 11 OS",
                    "Windows 11 OS",
                    "Windows 11 OS",
                    "Windows 11 OS",
                    "Windows 11 OS",
                    "Windows 11 OS",
                    "Windows 11 OS",
                    "Windows 11 OS",
                    "Windows 11 OS",
                    "Windows 11 OS",
                    "Windows 11 OS",
                    "Windows 11 OS",
                    "Windows 11 OS",
                    "Windows 11 OS",
                    "Windows 11 OS",
                    "Windows 11 OS",
                    "Windows 11 OS",
                    "Windows 11 OS",
                    "Windows 11 OS",
                    "Windows 11 OS",
                    "Windows 11 OS",
                    "Windows 11 OS",
                    "Windows 11 OS",
                    "Windows 11 OS",
                    "Windows 11 OS",
                    "Windows 11 OS",
                    "Windows 11 OS",
                    "Windows 11 OS",
                    "Windows 11 OS",
                    "Windows 11 OS",
                    "Windows 11 OS",
                    "Windows 11 OS",
                    "Windows 11 OS",
                    "Windows 11 OS",
                    "Windows 11 OS",
                    "Windows 11 OS",
                    "Windows 11 OS",
                    "Windows 11 OS",
                    "Windows 11 OS",
                    "Windows 11 OS",
                    "Windows 11 OS",
                    "Windows 11 OS",
                    "Windows 11 OS",
                    "Windows 11 OS",
                    "Windows 11 OS",
                    "Windows 11 OS",
                    "Windows 11 OS",
                    "Windows 11 OS",
                    "Windows 11 OS",
                    "Windows 11 OS",
                    "Windows 11 OS",
                    "Windows 11 OS",
                    "Windows 11 OS",
                    "Windows 11 OS",
                    "Windows 11 OS",
                    "Windows 11 OS",
                    "Windows 11 OS",
                    "Windows 11 OS",
                    "Windows 11 OS",
                    "Windows 11 OS",
                    "Windows 11 OS",
                    "Windows 11 OS",
                    "Windows 11 OS",
                    "Windows 11 OS",
                    "Windows 11 OS",
                    "Windows 11 OS",
                    "Windows 11 OS",
                    "Windows 11 OS",
                    "Windows 11 OS",
                    "Windows 11 OS",
                    "Windows 11 OS",
                    "Windows 11 OS",
                    "Windows 11 OS",
                    "Windows 11 OS",
                    "Windows 11 OS",
                    "Windows 11 OS",
                    "Windows 11 OS",
                    "Windows 11 OS",
                    "Windows 11 OS",
                    "Windows 11 OS",
                    "Windows 11 OS",
                    "Windows 11 OS",
                    "Windows 11 OS",
                    "Windows 11 OS",
                    "Windows 11 OS",
                    "Windows 11 OS",
                    "Windows 11 OS",
                    "Windows 11 OS",
                    "Windows 11 OS",
                    "Windows 11 OS",
                    "Windows 11 OS",
                    "Windows 11 OS",
                    "Windows 11 OS",
                    "Windows 11 OS",
                    "Windows 11 OS",
                    "Windows 11 OS",
                    "Windows 11 OS",
                    "Windows 11 OS",
                    "Windows 11 OS",
                    "Windows 11 OS",
                    "Windows 11 OS",
                    "Windows 11 OS",
                    "Windows 11 OS",
                    "Windows 11 OS",
                    "Windows 11 OS",
                    "Windows 11 OS",
                    "Windows 11 OS",
                    "Windows 11 OS",
                    "Windows 11 OS",
                    "Windows 11 OS",
                    "Windows 11 OS",
                    "Windows 11 OS",
                    "Windows 11 OS",
                    "Windows 11 OS",
                    "Windows 11 OS",
                    "Windows 11 OS",
                    "Windows 11 OS",
                    "Windows 11 OS",
                    "Windows 11 OS",
                    "Windows 11 OS",
                    "Windows 11 OS",
                    "Windows 11 OS",
                    "Windows 11 OS",
                    "Windows 11 OS",
                    "Windows 11 OS",
                    "Windows 11 OS",
                    "Windows 11 OS",
                    "Windows 11 OS",
                    "Windows 11 OS",
                    "Windows 11 OS",
                    "Windows 11 OS",
                    "Windows 11 OS",
                    "Windows 11 OS",
                    "Windows 11 OS",
                    "Windows 11 OS",
                    "Windows 11 OS",
                    "Windows 11 OS",
                    "Windows 11 OS",
                    "Windows 11 OS",
                    "Windows 11 OS",
                    "Windows 11 OS",
                    "Windows 11 OS",
                    "Windows 11 OS",
                    "Windows 11 OS",
                    "Windows 11 OS",
                    "Windows 11 OS",
                    "Windows 11 OS",
                    "Windows 11 OS",
                    "Windows 11 OS",
                    "Windows 11 OS",
                    "Windows 11 OS",
                    "Windows 11 OS",
                    "Windows 11 OS",
                    "Windows 11 OS",
                    "Windows 11 OS",
                    "Windows 11 OS",
                    "Windows 11 OS",
                    "Windows 11 OS",
                    "Windows 11 OS",
                    "Windows 11 OS",
                    "Windows 11 OS",
                    "Windows 11 OS",
                    "Windows 11 OS",
                    "Windows 11 OS",
                    "Windows 11 OS",
                    "Windows 11 OS",
                    "Windows 11 OS",
                    "Windows 11 OS",
                    "Windows 11 OS",
                    "Windows 11 OS",
                    "Windows 11 OS",
                    "Windows 11 OS",
                    "Windows 11 OS",
                    "Windows 11 OS",
                    "Windows 11 OS",
                    "Windows 11 OS",
                    "Windows 11 OS",
                    "Windows 11 OS",
                    "Windows 11 OS",
                    "Windows 11 OS",
                    "Windows 11 OS",
                    "Windows 11 OS",
                    "Windows 11 OS",
                    "Windows 11 OS",
                    "Windows 11 OS",
                    "Windows 11 OS",
                    "Windows 11 OS",
                    "Windows 11 OS",
                    "Windows 11 OS",
                    "Windows 11 OS",
                    "Windows 11 OS",
                    "Windows 11 OS",
                    "Windows 11 OS",
                    "Windows 11 OS",
                    "Windows 11 OS",
                    "Windows 11 OS",
                    "Windows 11 OS",
                    "Windows 11 OS",
                    "Windows 11 OS",
                    "Windows 11 OS",
                    "Windows 11 OS",
                    "Windows 11 OS",
                    "Windows 11 OS",
                    "Windows 11 OS",
                    "Windows 11 OS",
                    "Windows 11 OS",
                    "Windows 11 OS",
                    "Windows 11 OS",
                    "Windows 11 OS",
                    "Windows 11 OS",
                    "Windows 11 OS",
                    "Windows 11 OS",
                    "Windows 11 OS",
                    "Windows 11 OS",
                    "Windows 11 OS",
                    "Windows 11 OS",
                    "Windows 11 OS",
                    "Windows 11 OS",
                    "Windows 11 OS",
                    "Windows 11 OS",
                    "Windows 11 OS",
                    "Windows 11 OS",
                    "Windows 11 OS",
                    "Windows 11 OS",
                    "Windows 11 OS",
                    "Windows 11 OS",
                    "Windows 11 OS",
                    "Windows 11 OS",
                    "Windows 11 OS",
                    "Windows 11 OS",
                    "Windows 11 OS",
                    "Windows 11 OS",
                    "Windows 11 OS",
                    "Windows 11 OS",
                    "Windows 11 OS",
                    "Windows 11 OS",
                    "Windows 11 OS",
                    "Windows 11 OS",
                    "Windows 11 OS",
                    "Windows 11 OS",
                    "Windows 11 OS",
                    "Windows 11 OS",
                    "Windows 11 OS",
                    "Windows 11 OS",
                    "Windows 11 OS",
                    "Windows 11 OS",
                    "Windows 11 OS",
                    "Windows 11 OS",
                    "Windows 11 OS",
                    "Windows 11 OS",
                    "Windows 11 OS",
                    "Windows 11 OS",
                    "Windows 11 OS",
                    "Windows 11 OS",
                    "Windows 11 OS",
                    "Windows 11 OS",
                    "Windows 11 OS",
                    "Windows 11 OS",
                    "Windows 11 OS",
                    "Windows 11 OS",
                    "Windows 11 OS",
                    "Windows 11 OS",
                    "Windows 11 OS",
                    "Windows 11 OS",
                    "Windows 11 OS",
                    "Windows 11 OS",
                    "Windows 11 OS",
                    "Windows 11 OS",
                    "Windows 11 OS",
                    "Windows 11 OS",
                    "Windows 11 OS",
                    "Windows 11 OS",
                    "Windows 11 OS",
                    "Windows 11 OS",
                    "Windows 11 OS",
                    "Windows 11 OS",
                    "Windows 11 OS",
                    "Windows 11 OS",
                    "Windows 11 OS",
                    "Windows 11 OS",
                    "Windows 11 OS",
                    "Windows 11 OS",
                    "Windows 11 OS",
                    "Windows 11 OS",
                    "Windows 11 OS",
                    "Windows 11 OS",
                    "Windows 11 OS",
                    "Windows 11 OS",
                    "Windows 11 OS",
                    "Windows 11 OS",
                    "Windows 11 OS",
                    "Windows 11 OS",
                    "Windows 11 OS",
                    "Windows 11 OS",
                    "Windows 11 OS",
                    "Windows 11 OS",
                    "Windows 11 OS",
                    "Windows 11 OS",
                    "Windows 11 OS",
                    "Windows 11 OS",
                    "Windows 11 OS",
                    "Windows 11 OS",
                    "Windows 11 OS",
                    "Windows 11 OS",
                    "Windows 11 OS",
                    "Windows 11 OS",
                    "Windows 11 OS",
                    "Windows 11 OS",
                    "Windows 11 OS",
                    "Windows 11 OS",
                    "Windows 11 OS",
                    "Windows 11 OS",
                    "Windows 11 OS",
                    "Windows 11 OS",
                    "Windows 11 OS",
                    "Windows 11 OS",
                    "Windows 11 OS",
                    "Windows 11 OS",
                    "Windows 11 OS",
                    "Windows 11 OS",
                    "Windows 11 OS",
                    "Windows 11 OS",
                    "Windows 11 OS",
                    "Windows 11 OS",
                    "Windows 11 OS",
                    "Windows 11 OS",
                    "Windows 11 OS",
                    "Windows 11 OS",
                    "Windows 11 OS",
                    "Windows 11 OS",
                    "Windows 11 OS",
                    "Windows 11 OS",
                    "Windows 11 OS",
                    "Windows 11 OS",
                    "Windows 11 OS"
                  ],
                  "xaxis": "x",
                  "yaxis": "y"
                },
                {
                  "alignmentgroup": "True",
                  "bingroup": "x",
                  "hovertemplate": "OS=%{x}<br>count=%{y}<extra></extra>",
                  "legendgroup": "Mac OS",
                  "marker": {
                    "color": "rgb(246, 207, 113)",
                    "pattern": {
                      "shape": ""
                    }
                  },
                  "name": "Mac OS",
                  "offsetgroup": "Mac OS",
                  "orientation": "v",
                  "showlegend": true,
                  "type": "histogram",
                  "x": [
                    "Mac OS",
                    "Mac OS",
                    "Mac OS",
                    "Mac OS",
                    "Mac OS",
                    "Mac OS",
                    "Mac OS",
                    "Mac OS",
                    "Mac OS",
                    "Mac OS",
                    "Mac OS",
                    "Mac OS"
                  ],
                  "xaxis": "x",
                  "yaxis": "y"
                },
                {
                  "alignmentgroup": "True",
                  "bingroup": "x",
                  "hovertemplate": "OS=%{x}<br>count=%{y}<extra></extra>",
                  "legendgroup": "Android 11 OS",
                  "marker": {
                    "color": "rgb(248, 156, 116)",
                    "pattern": {
                      "shape": ""
                    }
                  },
                  "name": "Android 11 OS",
                  "offsetgroup": "Android 11 OS",
                  "orientation": "v",
                  "showlegend": true,
                  "type": "histogram",
                  "x": [
                    "Android 11 OS"
                  ],
                  "xaxis": "x",
                  "yaxis": "y"
                },
                {
                  "alignmentgroup": "True",
                  "bingroup": "x",
                  "hovertemplate": "OS=%{x}<br>count=%{y}<extra></extra>",
                  "legendgroup": "DOS OS",
                  "marker": {
                    "color": "rgb(220, 176, 242)",
                    "pattern": {
                      "shape": ""
                    }
                  },
                  "name": "DOS OS",
                  "offsetgroup": "DOS OS",
                  "orientation": "v",
                  "showlegend": true,
                  "type": "histogram",
                  "x": [
                    "DOS OS",
                    "DOS OS",
                    "DOS OS",
                    "DOS OS",
                    "DOS OS",
                    "DOS OS",
                    "DOS OS",
                    "DOS OS",
                    "DOS OS",
                    "DOS OS",
                    "DOS OS",
                    "DOS OS",
                    "DOS OS",
                    "DOS OS",
                    "DOS OS",
                    "DOS OS",
                    "DOS OS",
                    "DOS OS"
                  ],
                  "xaxis": "x",
                  "yaxis": "y"
                },
                {
                  "alignmentgroup": "True",
                  "bingroup": "x",
                  "hovertemplate": "OS=%{x}<br>count=%{y}<extra></extra>",
                  "legendgroup": "Windows 10 OS",
                  "marker": {
                    "color": "rgb(135, 197, 95)",
                    "pattern": {
                      "shape": ""
                    }
                  },
                  "name": "Windows 10 OS",
                  "offsetgroup": "Windows 10 OS",
                  "orientation": "v",
                  "showlegend": true,
                  "type": "histogram",
                  "x": [
                    "Windows 10 OS",
                    "Windows 10 OS",
                    "Windows 10 OS",
                    "Windows 10 OS",
                    "Windows 10 OS",
                    "Windows 10 OS",
                    "Windows 10 OS",
                    "Windows 10 OS",
                    "Windows 10 OS",
                    "Windows 10 OS",
                    "Windows 10 OS",
                    "Windows 10 OS",
                    "Windows 10 OS",
                    "Windows 10 OS",
                    "Windows 10 OS",
                    "Windows 10 OS",
                    "Windows 10 OS",
                    "Windows 10 OS",
                    "Windows 10 OS",
                    "Windows 10 OS",
                    "Windows 10 OS",
                    "Windows 10 OS",
                    "Windows 10 OS",
                    "Windows 10 OS",
                    "Windows 10 OS",
                    "Windows 10 OS",
                    "Windows 10 OS",
                    "Windows 10 OS"
                  ],
                  "xaxis": "x",
                  "yaxis": "y"
                },
                {
                  "alignmentgroup": "True",
                  "bingroup": "x",
                  "hovertemplate": "OS=%{x}<br>count=%{y}<extra></extra>",
                  "legendgroup": "Windows 10  OS",
                  "marker": {
                    "color": "rgb(158, 185, 243)",
                    "pattern": {
                      "shape": ""
                    }
                  },
                  "name": "Windows 10  OS",
                  "offsetgroup": "Windows 10  OS",
                  "orientation": "v",
                  "showlegend": true,
                  "type": "histogram",
                  "x": [
                    "Windows 10  OS",
                    "Windows 10  OS",
                    "Windows 10  OS",
                    "Windows 10  OS",
                    "Windows 10  OS",
                    "Windows 10  OS",
                    "Windows 10  OS",
                    "Windows 10  OS",
                    "Windows 10  OS",
                    "Windows 10  OS"
                  ],
                  "xaxis": "x",
                  "yaxis": "y"
                },
                {
                  "alignmentgroup": "True",
                  "bingroup": "x",
                  "hovertemplate": "OS=%{x}<br>count=%{y}<extra></extra>",
                  "legendgroup": "Chrome OS",
                  "marker": {
                    "color": "rgb(254, 136, 177)",
                    "pattern": {
                      "shape": ""
                    }
                  },
                  "name": "Chrome OS",
                  "offsetgroup": "Chrome OS",
                  "orientation": "v",
                  "showlegend": true,
                  "type": "histogram",
                  "x": [
                    "Chrome OS",
                    "Chrome OS",
                    "Chrome OS",
                    "Chrome OS",
                    "Chrome OS",
                    "Chrome OS",
                    "Chrome OS",
                    "Chrome OS",
                    "Chrome OS",
                    "Chrome OS"
                  ],
                  "xaxis": "x",
                  "yaxis": "y"
                },
                {
                  "alignmentgroup": "True",
                  "bingroup": "x",
                  "hovertemplate": "OS=%{x}<br>count=%{y}<extra></extra>",
                  "legendgroup": "Windows OS",
                  "marker": {
                    "color": "rgb(201, 219, 116)",
                    "pattern": {
                      "shape": ""
                    }
                  },
                  "name": "Windows OS",
                  "offsetgroup": "Windows OS",
                  "orientation": "v",
                  "showlegend": true,
                  "type": "histogram",
                  "x": [
                    "Windows OS",
                    "Windows OS",
                    "Windows OS",
                    "Windows OS",
                    "Windows OS",
                    "Windows OS",
                    "Windows OS",
                    "Windows OS",
                    "Windows OS"
                  ],
                  "xaxis": "x",
                  "yaxis": "y"
                },
                {
                  "alignmentgroup": "True",
                  "bingroup": "x",
                  "hovertemplate": "OS=%{x}<br>count=%{y}<extra></extra>",
                  "legendgroup": "Ubuntu OS",
                  "marker": {
                    "color": "rgb(139, 224, 164)",
                    "pattern": {
                      "shape": ""
                    }
                  },
                  "name": "Ubuntu OS",
                  "offsetgroup": "Ubuntu OS",
                  "orientation": "v",
                  "showlegend": true,
                  "type": "histogram",
                  "x": [
                    "Ubuntu OS",
                    "Ubuntu OS"
                  ],
                  "xaxis": "x",
                  "yaxis": "y"
                },
                {
                  "alignmentgroup": "True",
                  "bingroup": "x",
                  "hovertemplate": "OS=%{x}<br>count=%{y}<extra></extra>",
                  "legendgroup": "Mac Catalina OS",
                  "marker": {
                    "color": "rgb(180, 151, 231)",
                    "pattern": {
                      "shape": ""
                    }
                  },
                  "name": "Mac Catalina OS",
                  "offsetgroup": "Mac Catalina OS",
                  "orientation": "v",
                  "showlegend": true,
                  "type": "histogram",
                  "x": [
                    "Mac Catalina OS"
                  ],
                  "xaxis": "x",
                  "yaxis": "y"
                },
                {
                  "alignmentgroup": "True",
                  "bingroup": "x",
                  "hovertemplate": "OS=%{x}<br>count=%{y}<extra></extra>",
                  "legendgroup": "DOS 3.0 OS",
                  "marker": {
                    "color": "rgb(179, 179, 179)",
                    "pattern": {
                      "shape": ""
                    }
                  },
                  "name": "DOS 3.0 OS",
                  "offsetgroup": "DOS 3.0 OS",
                  "orientation": "v",
                  "showlegend": true,
                  "type": "histogram",
                  "x": [
                    "DOS 3.0 OS",
                    "DOS 3.0 OS"
                  ],
                  "xaxis": "x",
                  "yaxis": "y"
                },
                {
                  "alignmentgroup": "True",
                  "bingroup": "x",
                  "hovertemplate": "OS=%{x}<br>count=%{y}<extra></extra>",
                  "legendgroup": "Windows 11  OS",
                  "marker": {
                    "color": "rgb(102, 197, 204)",
                    "pattern": {
                      "shape": ""
                    }
                  },
                  "name": "Windows 11  OS",
                  "offsetgroup": "Windows 11  OS",
                  "orientation": "v",
                  "showlegend": true,
                  "type": "histogram",
                  "x": [
                    "Windows 11  OS",
                    "Windows 11  OS",
                    "Windows 11  OS",
                    "Windows 11  OS",
                    "Windows 11  OS",
                    "Windows 11  OS",
                    "Windows 11  OS",
                    "Windows 11  OS",
                    "Windows 11  OS",
                    "Windows 11  OS",
                    "Windows 11  OS",
                    "Windows 11  OS",
                    "Windows 11  OS",
                    "Windows 11  OS",
                    "Windows 11  OS"
                  ],
                  "xaxis": "x",
                  "yaxis": "y"
                },
                {
                  "alignmentgroup": "True",
                  "bingroup": "x",
                  "hovertemplate": "OS=%{x}<br>count=%{y}<extra></extra>",
                  "legendgroup": "Mac High Sierra OS",
                  "marker": {
                    "color": "rgb(246, 207, 113)",
                    "pattern": {
                      "shape": ""
                    }
                  },
                  "name": "Mac High Sierra OS",
                  "offsetgroup": "Mac High Sierra OS",
                  "orientation": "v",
                  "showlegend": true,
                  "type": "histogram",
                  "x": [
                    "Mac High Sierra OS"
                  ],
                  "xaxis": "x",
                  "yaxis": "y"
                },
                {
                  "alignmentgroup": "True",
                  "bingroup": "x",
                  "hovertemplate": "OS=%{x}<br>count=%{y}<extra></extra>",
                  "legendgroup": "Mac 10.15.3\t OS",
                  "marker": {
                    "color": "rgb(248, 156, 116)",
                    "pattern": {
                      "shape": ""
                    }
                  },
                  "name": "Mac 10.15.3\t OS",
                  "offsetgroup": "Mac 10.15.3\t OS",
                  "orientation": "v",
                  "showlegend": true,
                  "type": "histogram",
                  "x": [
                    "Mac 10.15.3\t OS",
                    "Mac 10.15.3\t OS"
                  ],
                  "xaxis": "x",
                  "yaxis": "y"
                }
              ],
              "layout": {
                "barmode": "relative",
                "legend": {
                  "title": {
                    "text": "OS"
                  },
                  "tracegroupgap": 0
                },
                "template": {
                  "data": {
                    "bar": [
                      {
                        "error_x": {
                          "color": "#2a3f5f"
                        },
                        "error_y": {
                          "color": "#2a3f5f"
                        },
                        "marker": {
                          "line": {
                            "color": "#E5ECF6",
                            "width": 0.5
                          },
                          "pattern": {
                            "fillmode": "overlay",
                            "size": 10,
                            "solidity": 0.2
                          }
                        },
                        "type": "bar"
                      }
                    ],
                    "barpolar": [
                      {
                        "marker": {
                          "line": {
                            "color": "#E5ECF6",
                            "width": 0.5
                          },
                          "pattern": {
                            "fillmode": "overlay",
                            "size": 10,
                            "solidity": 0.2
                          }
                        },
                        "type": "barpolar"
                      }
                    ],
                    "carpet": [
                      {
                        "aaxis": {
                          "endlinecolor": "#2a3f5f",
                          "gridcolor": "white",
                          "linecolor": "white",
                          "minorgridcolor": "white",
                          "startlinecolor": "#2a3f5f"
                        },
                        "baxis": {
                          "endlinecolor": "#2a3f5f",
                          "gridcolor": "white",
                          "linecolor": "white",
                          "minorgridcolor": "white",
                          "startlinecolor": "#2a3f5f"
                        },
                        "type": "carpet"
                      }
                    ],
                    "choropleth": [
                      {
                        "colorbar": {
                          "outlinewidth": 0,
                          "ticks": ""
                        },
                        "type": "choropleth"
                      }
                    ],
                    "contour": [
                      {
                        "colorbar": {
                          "outlinewidth": 0,
                          "ticks": ""
                        },
                        "colorscale": [
                          [
                            0,
                            "#0d0887"
                          ],
                          [
                            0.1111111111111111,
                            "#46039f"
                          ],
                          [
                            0.2222222222222222,
                            "#7201a8"
                          ],
                          [
                            0.3333333333333333,
                            "#9c179e"
                          ],
                          [
                            0.4444444444444444,
                            "#bd3786"
                          ],
                          [
                            0.5555555555555556,
                            "#d8576b"
                          ],
                          [
                            0.6666666666666666,
                            "#ed7953"
                          ],
                          [
                            0.7777777777777778,
                            "#fb9f3a"
                          ],
                          [
                            0.8888888888888888,
                            "#fdca26"
                          ],
                          [
                            1,
                            "#f0f921"
                          ]
                        ],
                        "type": "contour"
                      }
                    ],
                    "contourcarpet": [
                      {
                        "colorbar": {
                          "outlinewidth": 0,
                          "ticks": ""
                        },
                        "type": "contourcarpet"
                      }
                    ],
                    "heatmap": [
                      {
                        "colorbar": {
                          "outlinewidth": 0,
                          "ticks": ""
                        },
                        "colorscale": [
                          [
                            0,
                            "#0d0887"
                          ],
                          [
                            0.1111111111111111,
                            "#46039f"
                          ],
                          [
                            0.2222222222222222,
                            "#7201a8"
                          ],
                          [
                            0.3333333333333333,
                            "#9c179e"
                          ],
                          [
                            0.4444444444444444,
                            "#bd3786"
                          ],
                          [
                            0.5555555555555556,
                            "#d8576b"
                          ],
                          [
                            0.6666666666666666,
                            "#ed7953"
                          ],
                          [
                            0.7777777777777778,
                            "#fb9f3a"
                          ],
                          [
                            0.8888888888888888,
                            "#fdca26"
                          ],
                          [
                            1,
                            "#f0f921"
                          ]
                        ],
                        "type": "heatmap"
                      }
                    ],
                    "heatmapgl": [
                      {
                        "colorbar": {
                          "outlinewidth": 0,
                          "ticks": ""
                        },
                        "colorscale": [
                          [
                            0,
                            "#0d0887"
                          ],
                          [
                            0.1111111111111111,
                            "#46039f"
                          ],
                          [
                            0.2222222222222222,
                            "#7201a8"
                          ],
                          [
                            0.3333333333333333,
                            "#9c179e"
                          ],
                          [
                            0.4444444444444444,
                            "#bd3786"
                          ],
                          [
                            0.5555555555555556,
                            "#d8576b"
                          ],
                          [
                            0.6666666666666666,
                            "#ed7953"
                          ],
                          [
                            0.7777777777777778,
                            "#fb9f3a"
                          ],
                          [
                            0.8888888888888888,
                            "#fdca26"
                          ],
                          [
                            1,
                            "#f0f921"
                          ]
                        ],
                        "type": "heatmapgl"
                      }
                    ],
                    "histogram": [
                      {
                        "marker": {
                          "pattern": {
                            "fillmode": "overlay",
                            "size": 10,
                            "solidity": 0.2
                          }
                        },
                        "type": "histogram"
                      }
                    ],
                    "histogram2d": [
                      {
                        "colorbar": {
                          "outlinewidth": 0,
                          "ticks": ""
                        },
                        "colorscale": [
                          [
                            0,
                            "#0d0887"
                          ],
                          [
                            0.1111111111111111,
                            "#46039f"
                          ],
                          [
                            0.2222222222222222,
                            "#7201a8"
                          ],
                          [
                            0.3333333333333333,
                            "#9c179e"
                          ],
                          [
                            0.4444444444444444,
                            "#bd3786"
                          ],
                          [
                            0.5555555555555556,
                            "#d8576b"
                          ],
                          [
                            0.6666666666666666,
                            "#ed7953"
                          ],
                          [
                            0.7777777777777778,
                            "#fb9f3a"
                          ],
                          [
                            0.8888888888888888,
                            "#fdca26"
                          ],
                          [
                            1,
                            "#f0f921"
                          ]
                        ],
                        "type": "histogram2d"
                      }
                    ],
                    "histogram2dcontour": [
                      {
                        "colorbar": {
                          "outlinewidth": 0,
                          "ticks": ""
                        },
                        "colorscale": [
                          [
                            0,
                            "#0d0887"
                          ],
                          [
                            0.1111111111111111,
                            "#46039f"
                          ],
                          [
                            0.2222222222222222,
                            "#7201a8"
                          ],
                          [
                            0.3333333333333333,
                            "#9c179e"
                          ],
                          [
                            0.4444444444444444,
                            "#bd3786"
                          ],
                          [
                            0.5555555555555556,
                            "#d8576b"
                          ],
                          [
                            0.6666666666666666,
                            "#ed7953"
                          ],
                          [
                            0.7777777777777778,
                            "#fb9f3a"
                          ],
                          [
                            0.8888888888888888,
                            "#fdca26"
                          ],
                          [
                            1,
                            "#f0f921"
                          ]
                        ],
                        "type": "histogram2dcontour"
                      }
                    ],
                    "mesh3d": [
                      {
                        "colorbar": {
                          "outlinewidth": 0,
                          "ticks": ""
                        },
                        "type": "mesh3d"
                      }
                    ],
                    "parcoords": [
                      {
                        "line": {
                          "colorbar": {
                            "outlinewidth": 0,
                            "ticks": ""
                          }
                        },
                        "type": "parcoords"
                      }
                    ],
                    "pie": [
                      {
                        "automargin": true,
                        "type": "pie"
                      }
                    ],
                    "scatter": [
                      {
                        "fillpattern": {
                          "fillmode": "overlay",
                          "size": 10,
                          "solidity": 0.2
                        },
                        "type": "scatter"
                      }
                    ],
                    "scatter3d": [
                      {
                        "line": {
                          "colorbar": {
                            "outlinewidth": 0,
                            "ticks": ""
                          }
                        },
                        "marker": {
                          "colorbar": {
                            "outlinewidth": 0,
                            "ticks": ""
                          }
                        },
                        "type": "scatter3d"
                      }
                    ],
                    "scattercarpet": [
                      {
                        "marker": {
                          "colorbar": {
                            "outlinewidth": 0,
                            "ticks": ""
                          }
                        },
                        "type": "scattercarpet"
                      }
                    ],
                    "scattergeo": [
                      {
                        "marker": {
                          "colorbar": {
                            "outlinewidth": 0,
                            "ticks": ""
                          }
                        },
                        "type": "scattergeo"
                      }
                    ],
                    "scattergl": [
                      {
                        "marker": {
                          "colorbar": {
                            "outlinewidth": 0,
                            "ticks": ""
                          }
                        },
                        "type": "scattergl"
                      }
                    ],
                    "scattermapbox": [
                      {
                        "marker": {
                          "colorbar": {
                            "outlinewidth": 0,
                            "ticks": ""
                          }
                        },
                        "type": "scattermapbox"
                      }
                    ],
                    "scatterpolar": [
                      {
                        "marker": {
                          "colorbar": {
                            "outlinewidth": 0,
                            "ticks": ""
                          }
                        },
                        "type": "scatterpolar"
                      }
                    ],
                    "scatterpolargl": [
                      {
                        "marker": {
                          "colorbar": {
                            "outlinewidth": 0,
                            "ticks": ""
                          }
                        },
                        "type": "scatterpolargl"
                      }
                    ],
                    "scatterternary": [
                      {
                        "marker": {
                          "colorbar": {
                            "outlinewidth": 0,
                            "ticks": ""
                          }
                        },
                        "type": "scatterternary"
                      }
                    ],
                    "surface": [
                      {
                        "colorbar": {
                          "outlinewidth": 0,
                          "ticks": ""
                        },
                        "colorscale": [
                          [
                            0,
                            "#0d0887"
                          ],
                          [
                            0.1111111111111111,
                            "#46039f"
                          ],
                          [
                            0.2222222222222222,
                            "#7201a8"
                          ],
                          [
                            0.3333333333333333,
                            "#9c179e"
                          ],
                          [
                            0.4444444444444444,
                            "#bd3786"
                          ],
                          [
                            0.5555555555555556,
                            "#d8576b"
                          ],
                          [
                            0.6666666666666666,
                            "#ed7953"
                          ],
                          [
                            0.7777777777777778,
                            "#fb9f3a"
                          ],
                          [
                            0.8888888888888888,
                            "#fdca26"
                          ],
                          [
                            1,
                            "#f0f921"
                          ]
                        ],
                        "type": "surface"
                      }
                    ],
                    "table": [
                      {
                        "cells": {
                          "fill": {
                            "color": "#EBF0F8"
                          },
                          "line": {
                            "color": "white"
                          }
                        },
                        "header": {
                          "fill": {
                            "color": "#C8D4E3"
                          },
                          "line": {
                            "color": "white"
                          }
                        },
                        "type": "table"
                      }
                    ]
                  },
                  "layout": {
                    "annotationdefaults": {
                      "arrowcolor": "#2a3f5f",
                      "arrowhead": 0,
                      "arrowwidth": 1
                    },
                    "autotypenumbers": "strict",
                    "coloraxis": {
                      "colorbar": {
                        "outlinewidth": 0,
                        "ticks": ""
                      }
                    },
                    "colorscale": {
                      "diverging": [
                        [
                          0,
                          "#8e0152"
                        ],
                        [
                          0.1,
                          "#c51b7d"
                        ],
                        [
                          0.2,
                          "#de77ae"
                        ],
                        [
                          0.3,
                          "#f1b6da"
                        ],
                        [
                          0.4,
                          "#fde0ef"
                        ],
                        [
                          0.5,
                          "#f7f7f7"
                        ],
                        [
                          0.6,
                          "#e6f5d0"
                        ],
                        [
                          0.7,
                          "#b8e186"
                        ],
                        [
                          0.8,
                          "#7fbc41"
                        ],
                        [
                          0.9,
                          "#4d9221"
                        ],
                        [
                          1,
                          "#276419"
                        ]
                      ],
                      "sequential": [
                        [
                          0,
                          "#0d0887"
                        ],
                        [
                          0.1111111111111111,
                          "#46039f"
                        ],
                        [
                          0.2222222222222222,
                          "#7201a8"
                        ],
                        [
                          0.3333333333333333,
                          "#9c179e"
                        ],
                        [
                          0.4444444444444444,
                          "#bd3786"
                        ],
                        [
                          0.5555555555555556,
                          "#d8576b"
                        ],
                        [
                          0.6666666666666666,
                          "#ed7953"
                        ],
                        [
                          0.7777777777777778,
                          "#fb9f3a"
                        ],
                        [
                          0.8888888888888888,
                          "#fdca26"
                        ],
                        [
                          1,
                          "#f0f921"
                        ]
                      ],
                      "sequentialminus": [
                        [
                          0,
                          "#0d0887"
                        ],
                        [
                          0.1111111111111111,
                          "#46039f"
                        ],
                        [
                          0.2222222222222222,
                          "#7201a8"
                        ],
                        [
                          0.3333333333333333,
                          "#9c179e"
                        ],
                        [
                          0.4444444444444444,
                          "#bd3786"
                        ],
                        [
                          0.5555555555555556,
                          "#d8576b"
                        ],
                        [
                          0.6666666666666666,
                          "#ed7953"
                        ],
                        [
                          0.7777777777777778,
                          "#fb9f3a"
                        ],
                        [
                          0.8888888888888888,
                          "#fdca26"
                        ],
                        [
                          1,
                          "#f0f921"
                        ]
                      ]
                    },
                    "colorway": [
                      "#636efa",
                      "#EF553B",
                      "#00cc96",
                      "#ab63fa",
                      "#FFA15A",
                      "#19d3f3",
                      "#FF6692",
                      "#B6E880",
                      "#FF97FF",
                      "#FECB52"
                    ],
                    "font": {
                      "color": "#2a3f5f"
                    },
                    "geo": {
                      "bgcolor": "white",
                      "lakecolor": "white",
                      "landcolor": "#E5ECF6",
                      "showlakes": true,
                      "showland": true,
                      "subunitcolor": "white"
                    },
                    "hoverlabel": {
                      "align": "left"
                    },
                    "hovermode": "closest",
                    "mapbox": {
                      "style": "light"
                    },
                    "paper_bgcolor": "white",
                    "plot_bgcolor": "#E5ECF6",
                    "polar": {
                      "angularaxis": {
                        "gridcolor": "white",
                        "linecolor": "white",
                        "ticks": ""
                      },
                      "bgcolor": "#E5ECF6",
                      "radialaxis": {
                        "gridcolor": "white",
                        "linecolor": "white",
                        "ticks": ""
                      }
                    },
                    "scene": {
                      "xaxis": {
                        "backgroundcolor": "#E5ECF6",
                        "gridcolor": "white",
                        "gridwidth": 2,
                        "linecolor": "white",
                        "showbackground": true,
                        "ticks": "",
                        "zerolinecolor": "white"
                      },
                      "yaxis": {
                        "backgroundcolor": "#E5ECF6",
                        "gridcolor": "white",
                        "gridwidth": 2,
                        "linecolor": "white",
                        "showbackground": true,
                        "ticks": "",
                        "zerolinecolor": "white"
                      },
                      "zaxis": {
                        "backgroundcolor": "#E5ECF6",
                        "gridcolor": "white",
                        "gridwidth": 2,
                        "linecolor": "white",
                        "showbackground": true,
                        "ticks": "",
                        "zerolinecolor": "white"
                      }
                    },
                    "shapedefaults": {
                      "line": {
                        "color": "#2a3f5f"
                      }
                    },
                    "ternary": {
                      "aaxis": {
                        "gridcolor": "white",
                        "linecolor": "white",
                        "ticks": ""
                      },
                      "baxis": {
                        "gridcolor": "white",
                        "linecolor": "white",
                        "ticks": ""
                      },
                      "bgcolor": "#E5ECF6",
                      "caxis": {
                        "gridcolor": "white",
                        "linecolor": "white",
                        "ticks": ""
                      }
                    },
                    "title": {
                      "x": 0.05
                    },
                    "xaxis": {
                      "automargin": true,
                      "gridcolor": "white",
                      "linecolor": "white",
                      "ticks": "",
                      "title": {
                        "standoff": 15
                      },
                      "zerolinecolor": "white",
                      "zerolinewidth": 2
                    },
                    "yaxis": {
                      "automargin": true,
                      "gridcolor": "white",
                      "linecolor": "white",
                      "ticks": "",
                      "title": {
                        "standoff": 15
                      },
                      "zerolinecolor": "white",
                      "zerolinewidth": 2
                    }
                  }
                },
                "title": {
                  "text": "OS Distribution"
                },
                "xaxis": {
                  "anchor": "y",
                  "categoryarray": [
                    "Windows 11 OS",
                    "Mac OS",
                    "Android 11 OS",
                    "DOS OS",
                    "Windows 10 OS",
                    "Windows 10  OS",
                    "Chrome OS",
                    "Windows OS",
                    "Ubuntu OS",
                    "Mac Catalina OS",
                    "DOS 3.0 OS",
                    "Windows 11  OS",
                    "Mac High Sierra OS",
                    "Mac 10.15.3\t OS"
                  ],
                  "categoryorder": "array",
                  "domain": [
                    0,
                    1
                  ],
                  "title": {
                    "text": "OS"
                  }
                },
                "yaxis": {
                  "anchor": "x",
                  "domain": [
                    0,
                    1
                  ],
                  "title": {
                    "text": "count"
                  }
                }
              }
            }
          },
          "metadata": {},
          "output_type": "display_data"
        }
      ],
      "source": [
        "# OS(Widows 11 and Windows 10 are the most common)\n",
        "plt = px.histogram(df, x='OS', color='OS', title=\"OS Distribution\", color_discrete_sequence=px.colors.qualitative.Pastel)\n",
        "plt.show()"
      ]
    },
    {
      "cell_type": "code",
      "execution_count": 20,
      "metadata": {
        "colab": {
          "base_uri": "https://localhost:8080/",
          "height": 542
        },
        "id": "AMUb20FkQ3DN",
        "outputId": "d8bd00c9-4753-48db-e25b-7c4ed87f9475"
      },
      "outputs": [
        {
          "data": {
            "application/vnd.plotly.v1+json": {
              "config": {
                "plotlyServerURL": "https://plot.ly"
              },
              "data": [
                {
                  "hovertemplate": "price=%{marker.color}<br>index=%{y}<extra></extra>",
                  "legendgroup": "",
                  "marker": {
                    "color": [
                      49900,
                      39900,
                      26990,
                      59729,
                      69990,
                      39990,
                      36790,
                      76990,
                      48990,
                      74990,
                      49990,
                      10990,
                      72990,
                      10990,
                      29990,
                      53649,
                      33990,
                      79990,
                      68990,
                      45990,
                      49900,
                      104990,
                      54990,
                      49580,
                      55990,
                      43990,
                      19850,
                      28990,
                      54999,
                      70990,
                      56889,
                      179880,
                      53790,
                      37990,
                      96990,
                      71990,
                      59990,
                      62990,
                      30990,
                      74990,
                      36490,
                      77990,
                      54990,
                      41190,
                      89990,
                      399999,
                      31990,
                      31490,
                      70590,
                      104990,
                      23990,
                      37999,
                      52990,
                      30849,
                      58990,
                      34990,
                      49990,
                      51780,
                      68990,
                      85990,
                      96990,
                      148990,
                      72990,
                      84490,
                      60990,
                      33990,
                      35990,
                      60990,
                      43990,
                      62990,
                      65990,
                      23990,
                      61990,
                      36990,
                      50970,
                      184999,
                      109990,
                      42990,
                      39150,
                      92999,
                      80990,
                      55850,
                      38990,
                      53990,
                      38990,
                      139234,
                      57990,
                      89999,
                      37990,
                      30990,
                      92990,
                      42990,
                      59089,
                      72999,
                      126742,
                      126990,
                      49990,
                      74390,
                      52990,
                      60990,
                      98174,
                      18990,
                      38990,
                      41950,
                      46990,
                      9999,
                      40990,
                      74990,
                      33990,
                      39990,
                      10990,
                      88990,
                      54990,
                      49990,
                      80739,
                      62990,
                      62990,
                      69501,
                      59990,
                      54990,
                      64990,
                      37729,
                      50712,
                      44990,
                      23990,
                      49990,
                      72990,
                      52101,
                      28990,
                      69490,
                      39965,
                      54990,
                      46999,
                      83990,
                      51499,
                      50990,
                      23990,
                      27990,
                      79990,
                      84390,
                      24990,
                      281990,
                      26590,
                      37990,
                      71189,
                      85999,
                      93990,
                      84990,
                      44190,
                      159990,
                      52990,
                      39990,
                      73990,
                      57500,
                      59990,
                      53990,
                      33990,
                      75990,
                      144990,
                      60539,
                      56990,
                      75533,
                      74990,
                      94990,
                      179990,
                      77990,
                      37990,
                      62990,
                      129999,
                      52990,
                      104990,
                      47999,
                      114499,
                      49990,
                      39990,
                      68990,
                      79990,
                      66490,
                      69990,
                      86490,
                      32790,
                      429990,
                      49990,
                      43990,
                      36990,
                      102990,
                      29990,
                      77889,
                      69990,
                      138990,
                      51990,
                      69990,
                      72990,
                      50400,
                      108000,
                      50990,
                      47990,
                      91990,
                      25449,
                      33207,
                      52990,
                      42434,
                      42200,
                      41990,
                      80900,
                      38990,
                      135990,
                      72490,
                      72490,
                      35990,
                      45989,
                      52500,
                      59999,
                      112990,
                      21990,
                      201498,
                      64990,
                      68999,
                      60990,
                      40990,
                      107690,
                      25490,
                      38999,
                      59990,
                      60990,
                      55500,
                      124999,
                      104990,
                      136990,
                      131990,
                      36490,
                      188752,
                      36999,
                      92890,
                      57990,
                      51999,
                      79990,
                      76890,
                      37790,
                      17990,
                      38990,
                      41990,
                      68990,
                      69990,
                      56990,
                      89990,
                      62990,
                      37990,
                      58990,
                      26990,
                      94990,
                      86189,
                      37990,
                      194990,
                      51990,
                      31990,
                      41990,
                      31990,
                      51390,
                      76900,
                      27890,
                      56990,
                      73990,
                      24999,
                      33999,
                      61990,
                      47990,
                      53990,
                      31890,
                      62390,
                      49990,
                      29990,
                      49990,
                      43490,
                      95640,
                      125990,
                      72990,
                      47990,
                      99999,
                      40990,
                      94990,
                      37990,
                      73990,
                      109990,
                      65999,
                      35990,
                      37980,
                      40789,
                      450039,
                      89990,
                      56990,
                      16990,
                      54990,
                      67000,
                      34499,
                      107763,
                      61490,
                      80490,
                      57990,
                      39990,
                      53990,
                      44500,
                      48999,
                      116990,
                      30990,
                      33790,
                      51990,
                      45990,
                      51990,
                      34099,
                      65600,
                      27990,
                      46990,
                      161590,
                      98990,
                      172990,
                      25990,
                      61990,
                      76990,
                      126790,
                      209990,
                      209990,
                      142990,
                      156990,
                      93980,
                      53990,
                      51990,
                      35990,
                      37990,
                      46490,
                      90490,
                      55990,
                      159990,
                      57990,
                      104990,
                      99990,
                      80500,
                      37990,
                      34250,
                      109990,
                      33990,
                      79990,
                      64990,
                      109990,
                      62990,
                      58999,
                      420000,
                      23990,
                      42999,
                      38861,
                      33590,
                      15990,
                      33980,
                      78400,
                      79990,
                      47990,
                      74990,
                      45889,
                      90990,
                      50990,
                      74990,
                      25990,
                      133990,
                      165990,
                      163990,
                      109990,
                      139990,
                      109990,
                      149990,
                      179990,
                      155990,
                      229900,
                      35990,
                      37990,
                      34999,
                      290990,
                      234990,
                      82799,
                      31790,
                      60990,
                      86990,
                      52990,
                      38990,
                      52558,
                      31990,
                      34499,
                      94490,
                      33800,
                      74390,
                      104490,
                      105739,
                      45500,
                      50760,
                      49990,
                      33199,
                      70990,
                      64990,
                      59990,
                      88990,
                      44990,
                      77990,
                      70990,
                      55990,
                      43999,
                      37990,
                      64990,
                      32990,
                      179490,
                      56990,
                      56990,
                      34990,
                      83249,
                      57990,
                      85490,
                      55890,
                      40689,
                      48990,
                      66648,
                      36990,
                      74990,
                      144990,
                      118499,
                      35490,
                      62889,
                      63999,
                      41990,
                      49990,
                      54990,
                      119990,
                      85990,
                      85590,
                      31990,
                      55800,
                      72422,
                      31500,
                      37990,
                      63490,
                      60990,
                      39900,
                      33990,
                      57580,
                      339990,
                      34999,
                      54990,
                      35999,
                      41710,
                      50090,
                      45890,
                      29990,
                      37672,
                      83523,
                      52128,
                      39990,
                      54790,
                      147090,
                      67990,
                      49290,
                      51990,
                      83149,
                      54999,
                      74990,
                      66990,
                      61990,
                      51573,
                      31500,
                      29000,
                      32990,
                      36990,
                      239900,
                      309490,
                      49990,
                      40250,
                      59990,
                      57990,
                      36999,
                      53990,
                      48990,
                      39990,
                      37290,
                      60390,
                      54999,
                      90464,
                      54490,
                      199900,
                      89999,
                      260000,
                      45999,
                      106990,
                      221990,
                      146990,
                      52990,
                      59990,
                      52990,
                      64490,
                      78990,
                      59900,
                      55990,
                      19990,
                      47990,
                      112990,
                      101990,
                      102990,
                      33499,
                      33999,
                      215994,
                      215994,
                      26500,
                      79990,
                      68000,
                      47925,
                      59990,
                      67800,
                      60490,
                      72999,
                      109999,
                      87990,
                      121900,
                      136490,
                      143700,
                      50490,
                      71990,
                      136899,
                      62990,
                      43990,
                      33990,
                      58990,
                      154990,
                      69990,
                      50000,
                      36990,
                      76500,
                      33990,
                      32990,
                      103221,
                      89990,
                      56990,
                      44980,
                      23990,
                      76990,
                      26920,
                      14490,
                      38990,
                      52990,
                      362999,
                      64990,
                      62990,
                      18990,
                      169999,
                      189999,
                      298999,
                      99999,
                      267999,
                      108990,
                      51990,
                      62608,
                      57999,
                      62990,
                      71990,
                      297990,
                      138490,
                      103395,
                      88990,
                      419990,
                      87990,
                      48990,
                      79990,
                      33990,
                      26990,
                      13990,
                      49990,
                      59990,
                      91990,
                      95689,
                      26732,
                      89999,
                      69990,
                      65391,
                      90000,
                      38390,
                      40990,
                      50990,
                      47990,
                      59990,
                      61990,
                      31990,
                      129990,
                      49989,
                      42990,
                      259990,
                      44690,
                      61990,
                      123300,
                      74499,
                      47990,
                      85990,
                      61990,
                      21990,
                      49990,
                      112990,
                      127990,
                      91590,
                      103060,
                      39600,
                      137590,
                      53980,
                      54990,
                      28099,
                      415000,
                      64990,
                      84990,
                      52999,
                      34999,
                      65990,
                      56990,
                      88999,
                      35990,
                      111490,
                      50990,
                      89500,
                      66388,
                      66990,
                      74990,
                      26990,
                      65990,
                      87990,
                      36480,
                      63989,
                      90990,
                      104990,
                      64800,
                      27990,
                      14990,
                      22990,
                      23990,
                      42900,
                      130000,
                      94990,
                      57990,
                      104222,
                      69990,
                      63990,
                      48990,
                      46990,
                      55990,
                      66990,
                      89990,
                      62990,
                      85990,
                      47100,
                      91990,
                      67990,
                      39990,
                      36990,
                      33990,
                      43800,
                      179490,
                      164990,
                      84990,
                      104990,
                      57990,
                      58990,
                      304990,
                      33990,
                      28990,
                      39900,
                      36490,
                      87490,
                      44990,
                      107990,
                      46900,
                      98890,
                      76990,
                      86990,
                      86990,
                      58490,
                      69199,
                      45990,
                      94990,
                      97990,
                      179990,
                      125990,
                      116463,
                      109990,
                      153625,
                      270129,
                      149990,
                      58990,
                      107190,
                      32999,
                      102090,
                      231746,
                      81990,
                      36890,
                      87990,
                      77990,
                      117574,
                      97990,
                      284990,
                      344990,
                      146599,
                      44990,
                      57990,
                      128599,
                      21990,
                      151990,
                      52990,
                      119888,
                      22990,
                      76888,
                      256990,
                      83090,
                      67999,
                      96256,
                      77990,
                      323290,
                      67990,
                      82990,
                      199990,
                      189999,
                      73990,
                      67990,
                      142990,
                      64990,
                      84800,
                      64990,
                      129990,
                      114990,
                      80000,
                      54990,
                      98999,
                      69990,
                      76990,
                      74990,
                      89990,
                      29999,
                      97705,
                      240707,
                      234990,
                      209990,
                      390914,
                      172588,
                      254657,
                      152499,
                      23990,
                      119990,
                      78299,
                      115990,
                      61990,
                      26999,
                      103099,
                      64990,
                      47990,
                      24990,
                      130800,
                      57990,
                      38500,
                      47990,
                      44990,
                      69990,
                      61990,
                      89990,
                      65990,
                      58990,
                      94990,
                      86490,
                      77490,
                      85490,
                      44000,
                      51990,
                      37990,
                      34990,
                      57799,
                      65990,
                      53990,
                      49990,
                      171990,
                      44990,
                      115990,
                      50990,
                      109990,
                      29990,
                      163999,
                      58990,
                      83990,
                      43890,
                      79999,
                      35490,
                      137890,
                      94990,
                      67990,
                      46990,
                      94990,
                      83500,
                      91990,
                      111990,
                      67990,
                      67999,
                      46200,
                      52998,
                      45499,
                      49999,
                      29980,
                      57290,
                      58990,
                      199990,
                      79990,
                      78990,
                      51990,
                      104990,
                      104990,
                      39990,
                      59990,
                      47990,
                      47890,
                      85490,
                      94990,
                      95490,
                      54999,
                      159000,
                      80610,
                      77990,
                      303490,
                      201990,
                      278290,
                      286200,
                      157544,
                      140990,
                      133000,
                      72500,
                      127000,
                      146990,
                      142990,
                      205000,
                      89799,
                      63999,
                      43490,
                      12990,
                      15990,
                      36990,
                      63990,
                      45990,
                      34990,
                      41490,
                      64990,
                      57990,
                      54990,
                      208990,
                      91560,
                      74000,
                      51999,
                      31990,
                      32490,
                      74888,
                      66500,
                      156799,
                      166899,
                      89990,
                      171499,
                      29999,
                      35998,
                      44989,
                      34990,
                      48990,
                      72990,
                      71570,
                      74990,
                      25990,
                      46490,
                      64590,
                      63990,
                      247999,
                      93990,
                      51990,
                      47990,
                      34390,
                      50990,
                      28490,
                      79990,
                      79990,
                      29990,
                      59990,
                      107399,
                      129199,
                      119990,
                      187490,
                      125699,
                      49990,
                      56990,
                      44990,
                      110000,
                      189990,
                      129990,
                      131990
                    ],
                    "coloraxis": "coloraxis",
                    "symbol": "circle"
                  },
                  "mode": "markers",
                  "name": "",
                  "orientation": "h",
                  "showlegend": false,
                  "type": "scatter",
                  "x": [
                    49900,
                    39900,
                    26990,
                    59729,
                    69990,
                    39990,
                    36790,
                    76990,
                    48990,
                    74990,
                    49990,
                    10990,
                    72990,
                    10990,
                    29990,
                    53649,
                    33990,
                    79990,
                    68990,
                    45990,
                    49900,
                    104990,
                    54990,
                    49580,
                    55990,
                    43990,
                    19850,
                    28990,
                    54999,
                    70990,
                    56889,
                    179880,
                    53790,
                    37990,
                    96990,
                    71990,
                    59990,
                    62990,
                    30990,
                    74990,
                    36490,
                    77990,
                    54990,
                    41190,
                    89990,
                    399999,
                    31990,
                    31490,
                    70590,
                    104990,
                    23990,
                    37999,
                    52990,
                    30849,
                    58990,
                    34990,
                    49990,
                    51780,
                    68990,
                    85990,
                    96990,
                    148990,
                    72990,
                    84490,
                    60990,
                    33990,
                    35990,
                    60990,
                    43990,
                    62990,
                    65990,
                    23990,
                    61990,
                    36990,
                    50970,
                    184999,
                    109990,
                    42990,
                    39150,
                    92999,
                    80990,
                    55850,
                    38990,
                    53990,
                    38990,
                    139234,
                    57990,
                    89999,
                    37990,
                    30990,
                    92990,
                    42990,
                    59089,
                    72999,
                    126742,
                    126990,
                    49990,
                    74390,
                    52990,
                    60990,
                    98174,
                    18990,
                    38990,
                    41950,
                    46990,
                    9999,
                    40990,
                    74990,
                    33990,
                    39990,
                    10990,
                    88990,
                    54990,
                    49990,
                    80739,
                    62990,
                    62990,
                    69501,
                    59990,
                    54990,
                    64990,
                    37729,
                    50712,
                    44990,
                    23990,
                    49990,
                    72990,
                    52101,
                    28990,
                    69490,
                    39965,
                    54990,
                    46999,
                    83990,
                    51499,
                    50990,
                    23990,
                    27990,
                    79990,
                    84390,
                    24990,
                    281990,
                    26590,
                    37990,
                    71189,
                    85999,
                    93990,
                    84990,
                    44190,
                    159990,
                    52990,
                    39990,
                    73990,
                    57500,
                    59990,
                    53990,
                    33990,
                    75990,
                    144990,
                    60539,
                    56990,
                    75533,
                    74990,
                    94990,
                    179990,
                    77990,
                    37990,
                    62990,
                    129999,
                    52990,
                    104990,
                    47999,
                    114499,
                    49990,
                    39990,
                    68990,
                    79990,
                    66490,
                    69990,
                    86490,
                    32790,
                    429990,
                    49990,
                    43990,
                    36990,
                    102990,
                    29990,
                    77889,
                    69990,
                    138990,
                    51990,
                    69990,
                    72990,
                    50400,
                    108000,
                    50990,
                    47990,
                    91990,
                    25449,
                    33207,
                    52990,
                    42434,
                    42200,
                    41990,
                    80900,
                    38990,
                    135990,
                    72490,
                    72490,
                    35990,
                    45989,
                    52500,
                    59999,
                    112990,
                    21990,
                    201498,
                    64990,
                    68999,
                    60990,
                    40990,
                    107690,
                    25490,
                    38999,
                    59990,
                    60990,
                    55500,
                    124999,
                    104990,
                    136990,
                    131990,
                    36490,
                    188752,
                    36999,
                    92890,
                    57990,
                    51999,
                    79990,
                    76890,
                    37790,
                    17990,
                    38990,
                    41990,
                    68990,
                    69990,
                    56990,
                    89990,
                    62990,
                    37990,
                    58990,
                    26990,
                    94990,
                    86189,
                    37990,
                    194990,
                    51990,
                    31990,
                    41990,
                    31990,
                    51390,
                    76900,
                    27890,
                    56990,
                    73990,
                    24999,
                    33999,
                    61990,
                    47990,
                    53990,
                    31890,
                    62390,
                    49990,
                    29990,
                    49990,
                    43490,
                    95640,
                    125990,
                    72990,
                    47990,
                    99999,
                    40990,
                    94990,
                    37990,
                    73990,
                    109990,
                    65999,
                    35990,
                    37980,
                    40789,
                    450039,
                    89990,
                    56990,
                    16990,
                    54990,
                    67000,
                    34499,
                    107763,
                    61490,
                    80490,
                    57990,
                    39990,
                    53990,
                    44500,
                    48999,
                    116990,
                    30990,
                    33790,
                    51990,
                    45990,
                    51990,
                    34099,
                    65600,
                    27990,
                    46990,
                    161590,
                    98990,
                    172990,
                    25990,
                    61990,
                    76990,
                    126790,
                    209990,
                    209990,
                    142990,
                    156990,
                    93980,
                    53990,
                    51990,
                    35990,
                    37990,
                    46490,
                    90490,
                    55990,
                    159990,
                    57990,
                    104990,
                    99990,
                    80500,
                    37990,
                    34250,
                    109990,
                    33990,
                    79990,
                    64990,
                    109990,
                    62990,
                    58999,
                    420000,
                    23990,
                    42999,
                    38861,
                    33590,
                    15990,
                    33980,
                    78400,
                    79990,
                    47990,
                    74990,
                    45889,
                    90990,
                    50990,
                    74990,
                    25990,
                    133990,
                    165990,
                    163990,
                    109990,
                    139990,
                    109990,
                    149990,
                    179990,
                    155990,
                    229900,
                    35990,
                    37990,
                    34999,
                    290990,
                    234990,
                    82799,
                    31790,
                    60990,
                    86990,
                    52990,
                    38990,
                    52558,
                    31990,
                    34499,
                    94490,
                    33800,
                    74390,
                    104490,
                    105739,
                    45500,
                    50760,
                    49990,
                    33199,
                    70990,
                    64990,
                    59990,
                    88990,
                    44990,
                    77990,
                    70990,
                    55990,
                    43999,
                    37990,
                    64990,
                    32990,
                    179490,
                    56990,
                    56990,
                    34990,
                    83249,
                    57990,
                    85490,
                    55890,
                    40689,
                    48990,
                    66648,
                    36990,
                    74990,
                    144990,
                    118499,
                    35490,
                    62889,
                    63999,
                    41990,
                    49990,
                    54990,
                    119990,
                    85990,
                    85590,
                    31990,
                    55800,
                    72422,
                    31500,
                    37990,
                    63490,
                    60990,
                    39900,
                    33990,
                    57580,
                    339990,
                    34999,
                    54990,
                    35999,
                    41710,
                    50090,
                    45890,
                    29990,
                    37672,
                    83523,
                    52128,
                    39990,
                    54790,
                    147090,
                    67990,
                    49290,
                    51990,
                    83149,
                    54999,
                    74990,
                    66990,
                    61990,
                    51573,
                    31500,
                    29000,
                    32990,
                    36990,
                    239900,
                    309490,
                    49990,
                    40250,
                    59990,
                    57990,
                    36999,
                    53990,
                    48990,
                    39990,
                    37290,
                    60390,
                    54999,
                    90464,
                    54490,
                    199900,
                    89999,
                    260000,
                    45999,
                    106990,
                    221990,
                    146990,
                    52990,
                    59990,
                    52990,
                    64490,
                    78990,
                    59900,
                    55990,
                    19990,
                    47990,
                    112990,
                    101990,
                    102990,
                    33499,
                    33999,
                    215994,
                    215994,
                    26500,
                    79990,
                    68000,
                    47925,
                    59990,
                    67800,
                    60490,
                    72999,
                    109999,
                    87990,
                    121900,
                    136490,
                    143700,
                    50490,
                    71990,
                    136899,
                    62990,
                    43990,
                    33990,
                    58990,
                    154990,
                    69990,
                    50000,
                    36990,
                    76500,
                    33990,
                    32990,
                    103221,
                    89990,
                    56990,
                    44980,
                    23990,
                    76990,
                    26920,
                    14490,
                    38990,
                    52990,
                    362999,
                    64990,
                    62990,
                    18990,
                    169999,
                    189999,
                    298999,
                    99999,
                    267999,
                    108990,
                    51990,
                    62608,
                    57999,
                    62990,
                    71990,
                    297990,
                    138490,
                    103395,
                    88990,
                    419990,
                    87990,
                    48990,
                    79990,
                    33990,
                    26990,
                    13990,
                    49990,
                    59990,
                    91990,
                    95689,
                    26732,
                    89999,
                    69990,
                    65391,
                    90000,
                    38390,
                    40990,
                    50990,
                    47990,
                    59990,
                    61990,
                    31990,
                    129990,
                    49989,
                    42990,
                    259990,
                    44690,
                    61990,
                    123300,
                    74499,
                    47990,
                    85990,
                    61990,
                    21990,
                    49990,
                    112990,
                    127990,
                    91590,
                    103060,
                    39600,
                    137590,
                    53980,
                    54990,
                    28099,
                    415000,
                    64990,
                    84990,
                    52999,
                    34999,
                    65990,
                    56990,
                    88999,
                    35990,
                    111490,
                    50990,
                    89500,
                    66388,
                    66990,
                    74990,
                    26990,
                    65990,
                    87990,
                    36480,
                    63989,
                    90990,
                    104990,
                    64800,
                    27990,
                    14990,
                    22990,
                    23990,
                    42900,
                    130000,
                    94990,
                    57990,
                    104222,
                    69990,
                    63990,
                    48990,
                    46990,
                    55990,
                    66990,
                    89990,
                    62990,
                    85990,
                    47100,
                    91990,
                    67990,
                    39990,
                    36990,
                    33990,
                    43800,
                    179490,
                    164990,
                    84990,
                    104990,
                    57990,
                    58990,
                    304990,
                    33990,
                    28990,
                    39900,
                    36490,
                    87490,
                    44990,
                    107990,
                    46900,
                    98890,
                    76990,
                    86990,
                    86990,
                    58490,
                    69199,
                    45990,
                    94990,
                    97990,
                    179990,
                    125990,
                    116463,
                    109990,
                    153625,
                    270129,
                    149990,
                    58990,
                    107190,
                    32999,
                    102090,
                    231746,
                    81990,
                    36890,
                    87990,
                    77990,
                    117574,
                    97990,
                    284990,
                    344990,
                    146599,
                    44990,
                    57990,
                    128599,
                    21990,
                    151990,
                    52990,
                    119888,
                    22990,
                    76888,
                    256990,
                    83090,
                    67999,
                    96256,
                    77990,
                    323290,
                    67990,
                    82990,
                    199990,
                    189999,
                    73990,
                    67990,
                    142990,
                    64990,
                    84800,
                    64990,
                    129990,
                    114990,
                    80000,
                    54990,
                    98999,
                    69990,
                    76990,
                    74990,
                    89990,
                    29999,
                    97705,
                    240707,
                    234990,
                    209990,
                    390914,
                    172588,
                    254657,
                    152499,
                    23990,
                    119990,
                    78299,
                    115990,
                    61990,
                    26999,
                    103099,
                    64990,
                    47990,
                    24990,
                    130800,
                    57990,
                    38500,
                    47990,
                    44990,
                    69990,
                    61990,
                    89990,
                    65990,
                    58990,
                    94990,
                    86490,
                    77490,
                    85490,
                    44000,
                    51990,
                    37990,
                    34990,
                    57799,
                    65990,
                    53990,
                    49990,
                    171990,
                    44990,
                    115990,
                    50990,
                    109990,
                    29990,
                    163999,
                    58990,
                    83990,
                    43890,
                    79999,
                    35490,
                    137890,
                    94990,
                    67990,
                    46990,
                    94990,
                    83500,
                    91990,
                    111990,
                    67990,
                    67999,
                    46200,
                    52998,
                    45499,
                    49999,
                    29980,
                    57290,
                    58990,
                    199990,
                    79990,
                    78990,
                    51990,
                    104990,
                    104990,
                    39990,
                    59990,
                    47990,
                    47890,
                    85490,
                    94990,
                    95490,
                    54999,
                    159000,
                    80610,
                    77990,
                    303490,
                    201990,
                    278290,
                    286200,
                    157544,
                    140990,
                    133000,
                    72500,
                    127000,
                    146990,
                    142990,
                    205000,
                    89799,
                    63999,
                    43490,
                    12990,
                    15990,
                    36990,
                    63990,
                    45990,
                    34990,
                    41490,
                    64990,
                    57990,
                    54990,
                    208990,
                    91560,
                    74000,
                    51999,
                    31990,
                    32490,
                    74888,
                    66500,
                    156799,
                    166899,
                    89990,
                    171499,
                    29999,
                    35998,
                    44989,
                    34990,
                    48990,
                    72990,
                    71570,
                    74990,
                    25990,
                    46490,
                    64590,
                    63990,
                    247999,
                    93990,
                    51990,
                    47990,
                    34390,
                    50990,
                    28490,
                    79990,
                    79990,
                    29990,
                    59990,
                    107399,
                    129199,
                    119990,
                    187490,
                    125699,
                    49990,
                    56990,
                    44990,
                    110000,
                    189990,
                    129990,
                    131990
                  ],
                  "xaxis": "x",
                  "y": [
                    0,
                    1,
                    2,
                    3,
                    4,
                    5,
                    6,
                    7,
                    8,
                    9,
                    10,
                    11,
                    12,
                    13,
                    14,
                    15,
                    16,
                    17,
                    18,
                    19,
                    20,
                    21,
                    22,
                    23,
                    24,
                    25,
                    26,
                    27,
                    28,
                    29,
                    30,
                    31,
                    32,
                    33,
                    34,
                    35,
                    36,
                    37,
                    38,
                    39,
                    40,
                    41,
                    42,
                    43,
                    44,
                    45,
                    46,
                    47,
                    48,
                    49,
                    50,
                    51,
                    52,
                    53,
                    54,
                    55,
                    56,
                    57,
                    58,
                    59,
                    60,
                    61,
                    62,
                    63,
                    64,
                    65,
                    66,
                    67,
                    68,
                    69,
                    70,
                    71,
                    72,
                    73,
                    74,
                    75,
                    76,
                    77,
                    78,
                    79,
                    80,
                    81,
                    82,
                    83,
                    84,
                    85,
                    86,
                    87,
                    88,
                    89,
                    90,
                    91,
                    92,
                    93,
                    94,
                    95,
                    96,
                    97,
                    98,
                    99,
                    100,
                    101,
                    102,
                    103,
                    104,
                    105,
                    106,
                    107,
                    108,
                    109,
                    110,
                    111,
                    112,
                    113,
                    114,
                    115,
                    116,
                    117,
                    118,
                    119,
                    120,
                    121,
                    122,
                    123,
                    124,
                    125,
                    126,
                    127,
                    128,
                    129,
                    130,
                    131,
                    132,
                    133,
                    134,
                    135,
                    136,
                    137,
                    138,
                    139,
                    140,
                    141,
                    142,
                    143,
                    144,
                    145,
                    146,
                    147,
                    148,
                    149,
                    150,
                    151,
                    152,
                    153,
                    154,
                    155,
                    156,
                    157,
                    158,
                    159,
                    160,
                    161,
                    162,
                    163,
                    164,
                    165,
                    166,
                    167,
                    168,
                    169,
                    170,
                    171,
                    172,
                    173,
                    174,
                    175,
                    176,
                    177,
                    178,
                    179,
                    180,
                    181,
                    182,
                    183,
                    184,
                    185,
                    186,
                    187,
                    188,
                    189,
                    190,
                    191,
                    192,
                    193,
                    194,
                    195,
                    196,
                    197,
                    198,
                    199,
                    200,
                    201,
                    202,
                    203,
                    204,
                    205,
                    206,
                    207,
                    208,
                    209,
                    210,
                    211,
                    212,
                    213,
                    214,
                    215,
                    216,
                    217,
                    218,
                    219,
                    220,
                    221,
                    222,
                    223,
                    224,
                    225,
                    226,
                    227,
                    228,
                    229,
                    230,
                    231,
                    232,
                    233,
                    234,
                    235,
                    236,
                    237,
                    238,
                    239,
                    240,
                    241,
                    242,
                    243,
                    244,
                    245,
                    246,
                    247,
                    248,
                    249,
                    250,
                    251,
                    252,
                    253,
                    254,
                    255,
                    256,
                    257,
                    258,
                    259,
                    260,
                    261,
                    262,
                    263,
                    264,
                    265,
                    266,
                    267,
                    268,
                    269,
                    270,
                    271,
                    272,
                    273,
                    274,
                    275,
                    276,
                    277,
                    278,
                    279,
                    280,
                    281,
                    282,
                    283,
                    284,
                    285,
                    286,
                    287,
                    288,
                    289,
                    290,
                    291,
                    292,
                    293,
                    294,
                    295,
                    296,
                    297,
                    298,
                    299,
                    300,
                    301,
                    302,
                    303,
                    304,
                    305,
                    306,
                    307,
                    308,
                    309,
                    310,
                    311,
                    312,
                    313,
                    314,
                    315,
                    316,
                    317,
                    318,
                    319,
                    320,
                    321,
                    322,
                    323,
                    324,
                    325,
                    326,
                    327,
                    328,
                    329,
                    330,
                    331,
                    332,
                    333,
                    334,
                    335,
                    336,
                    337,
                    338,
                    339,
                    340,
                    341,
                    342,
                    343,
                    344,
                    345,
                    346,
                    347,
                    348,
                    349,
                    350,
                    351,
                    352,
                    353,
                    354,
                    355,
                    356,
                    357,
                    358,
                    359,
                    360,
                    361,
                    362,
                    363,
                    364,
                    365,
                    366,
                    367,
                    368,
                    369,
                    370,
                    371,
                    372,
                    373,
                    374,
                    375,
                    376,
                    377,
                    378,
                    379,
                    380,
                    381,
                    382,
                    383,
                    384,
                    385,
                    386,
                    387,
                    388,
                    389,
                    390,
                    391,
                    392,
                    393,
                    394,
                    395,
                    396,
                    397,
                    398,
                    399,
                    400,
                    401,
                    402,
                    403,
                    404,
                    405,
                    406,
                    407,
                    408,
                    409,
                    410,
                    411,
                    412,
                    413,
                    414,
                    415,
                    416,
                    417,
                    418,
                    419,
                    420,
                    421,
                    422,
                    423,
                    424,
                    425,
                    426,
                    427,
                    428,
                    429,
                    430,
                    431,
                    432,
                    433,
                    434,
                    435,
                    436,
                    437,
                    438,
                    439,
                    440,
                    441,
                    442,
                    443,
                    444,
                    445,
                    446,
                    447,
                    448,
                    449,
                    450,
                    451,
                    452,
                    453,
                    454,
                    455,
                    456,
                    457,
                    458,
                    459,
                    460,
                    461,
                    462,
                    463,
                    464,
                    465,
                    466,
                    467,
                    468,
                    469,
                    470,
                    471,
                    472,
                    473,
                    474,
                    475,
                    476,
                    477,
                    478,
                    479,
                    480,
                    481,
                    482,
                    483,
                    484,
                    485,
                    486,
                    487,
                    488,
                    489,
                    490,
                    491,
                    492,
                    493,
                    494,
                    495,
                    496,
                    497,
                    498,
                    499,
                    500,
                    501,
                    502,
                    503,
                    504,
                    505,
                    506,
                    507,
                    508,
                    509,
                    510,
                    511,
                    512,
                    513,
                    514,
                    515,
                    516,
                    517,
                    518,
                    519,
                    520,
                    521,
                    522,
                    523,
                    524,
                    525,
                    526,
                    527,
                    528,
                    529,
                    530,
                    531,
                    532,
                    533,
                    534,
                    535,
                    536,
                    537,
                    538,
                    539,
                    540,
                    541,
                    542,
                    543,
                    544,
                    545,
                    546,
                    547,
                    548,
                    549,
                    550,
                    551,
                    552,
                    553,
                    554,
                    555,
                    556,
                    557,
                    558,
                    559,
                    560,
                    561,
                    562,
                    563,
                    564,
                    565,
                    566,
                    567,
                    568,
                    569,
                    570,
                    571,
                    572,
                    573,
                    574,
                    575,
                    576,
                    577,
                    578,
                    579,
                    580,
                    581,
                    582,
                    583,
                    584,
                    585,
                    586,
                    587,
                    588,
                    589,
                    590,
                    591,
                    592,
                    593,
                    594,
                    595,
                    596,
                    597,
                    598,
                    599,
                    600,
                    601,
                    602,
                    603,
                    604,
                    605,
                    606,
                    607,
                    608,
                    609,
                    610,
                    611,
                    612,
                    613,
                    614,
                    615,
                    616,
                    617,
                    618,
                    619,
                    620,
                    621,
                    622,
                    623,
                    624,
                    625,
                    626,
                    627,
                    628,
                    629,
                    630,
                    631,
                    632,
                    633,
                    634,
                    635,
                    636,
                    637,
                    638,
                    639,
                    640,
                    641,
                    642,
                    643,
                    644,
                    645,
                    646,
                    647,
                    648,
                    649,
                    650,
                    651,
                    652,
                    653,
                    654,
                    655,
                    656,
                    657,
                    658,
                    659,
                    660,
                    661,
                    662,
                    663,
                    664,
                    665,
                    666,
                    667,
                    668,
                    669,
                    670,
                    671,
                    672,
                    673,
                    674,
                    675,
                    676,
                    677,
                    678,
                    679,
                    680,
                    681,
                    682,
                    683,
                    684,
                    685,
                    686,
                    687,
                    688,
                    689,
                    690,
                    691,
                    692,
                    693,
                    694,
                    695,
                    696,
                    697,
                    698,
                    699,
                    700,
                    701,
                    702,
                    703,
                    704,
                    705,
                    706,
                    707,
                    708,
                    709,
                    710,
                    711,
                    712,
                    713,
                    714,
                    715,
                    716,
                    717,
                    718,
                    719,
                    720,
                    721,
                    722,
                    723,
                    724,
                    725,
                    726,
                    727,
                    728,
                    729,
                    730,
                    731,
                    732,
                    733,
                    734,
                    735,
                    736,
                    737,
                    738,
                    739,
                    740,
                    741,
                    742,
                    743,
                    744,
                    745,
                    746,
                    747,
                    748,
                    749,
                    750,
                    751,
                    752,
                    753,
                    754,
                    755,
                    756,
                    757,
                    758,
                    759,
                    760,
                    761,
                    762,
                    763,
                    764,
                    765,
                    766,
                    767,
                    768,
                    769,
                    770,
                    771,
                    772,
                    773,
                    774,
                    775,
                    776,
                    777,
                    778,
                    779,
                    780,
                    781,
                    782,
                    783,
                    784,
                    785,
                    786,
                    787,
                    788,
                    789,
                    790,
                    791,
                    792,
                    793,
                    794,
                    795,
                    796,
                    797,
                    798,
                    799,
                    800,
                    801,
                    802,
                    803,
                    804,
                    805,
                    806,
                    807,
                    808,
                    809,
                    810,
                    811,
                    812,
                    813,
                    814,
                    815,
                    816,
                    817,
                    818,
                    819,
                    820,
                    821,
                    822,
                    823,
                    824,
                    825,
                    826,
                    827,
                    828,
                    829,
                    830,
                    831,
                    832,
                    833,
                    834,
                    835,
                    836,
                    837,
                    838,
                    839,
                    840,
                    841,
                    842,
                    843,
                    844,
                    845,
                    846,
                    847,
                    848,
                    849,
                    850,
                    851,
                    852,
                    853,
                    854,
                    855,
                    856,
                    857,
                    858,
                    859,
                    860,
                    861,
                    862,
                    863,
                    864,
                    865,
                    866,
                    867,
                    868,
                    869,
                    870,
                    871,
                    872,
                    873,
                    874,
                    875,
                    876,
                    877,
                    878,
                    879,
                    880,
                    881,
                    882,
                    883,
                    884,
                    885,
                    886,
                    887,
                    888,
                    889,
                    890,
                    891,
                    892
                  ],
                  "yaxis": "y"
                }
              ],
              "layout": {
                "coloraxis": {
                  "colorbar": {
                    "title": {
                      "text": "price"
                    }
                  },
                  "colorscale": [
                    [
                      0,
                      "#0d0887"
                    ],
                    [
                      0.1111111111111111,
                      "#46039f"
                    ],
                    [
                      0.2222222222222222,
                      "#7201a8"
                    ],
                    [
                      0.3333333333333333,
                      "#9c179e"
                    ],
                    [
                      0.4444444444444444,
                      "#bd3786"
                    ],
                    [
                      0.5555555555555556,
                      "#d8576b"
                    ],
                    [
                      0.6666666666666666,
                      "#ed7953"
                    ],
                    [
                      0.7777777777777778,
                      "#fb9f3a"
                    ],
                    [
                      0.8888888888888888,
                      "#fdca26"
                    ],
                    [
                      1,
                      "#f0f921"
                    ]
                  ]
                },
                "legend": {
                  "tracegroupgap": 0
                },
                "template": {
                  "data": {
                    "bar": [
                      {
                        "error_x": {
                          "color": "#2a3f5f"
                        },
                        "error_y": {
                          "color": "#2a3f5f"
                        },
                        "marker": {
                          "line": {
                            "color": "#E5ECF6",
                            "width": 0.5
                          },
                          "pattern": {
                            "fillmode": "overlay",
                            "size": 10,
                            "solidity": 0.2
                          }
                        },
                        "type": "bar"
                      }
                    ],
                    "barpolar": [
                      {
                        "marker": {
                          "line": {
                            "color": "#E5ECF6",
                            "width": 0.5
                          },
                          "pattern": {
                            "fillmode": "overlay",
                            "size": 10,
                            "solidity": 0.2
                          }
                        },
                        "type": "barpolar"
                      }
                    ],
                    "carpet": [
                      {
                        "aaxis": {
                          "endlinecolor": "#2a3f5f",
                          "gridcolor": "white",
                          "linecolor": "white",
                          "minorgridcolor": "white",
                          "startlinecolor": "#2a3f5f"
                        },
                        "baxis": {
                          "endlinecolor": "#2a3f5f",
                          "gridcolor": "white",
                          "linecolor": "white",
                          "minorgridcolor": "white",
                          "startlinecolor": "#2a3f5f"
                        },
                        "type": "carpet"
                      }
                    ],
                    "choropleth": [
                      {
                        "colorbar": {
                          "outlinewidth": 0,
                          "ticks": ""
                        },
                        "type": "choropleth"
                      }
                    ],
                    "contour": [
                      {
                        "colorbar": {
                          "outlinewidth": 0,
                          "ticks": ""
                        },
                        "colorscale": [
                          [
                            0,
                            "#0d0887"
                          ],
                          [
                            0.1111111111111111,
                            "#46039f"
                          ],
                          [
                            0.2222222222222222,
                            "#7201a8"
                          ],
                          [
                            0.3333333333333333,
                            "#9c179e"
                          ],
                          [
                            0.4444444444444444,
                            "#bd3786"
                          ],
                          [
                            0.5555555555555556,
                            "#d8576b"
                          ],
                          [
                            0.6666666666666666,
                            "#ed7953"
                          ],
                          [
                            0.7777777777777778,
                            "#fb9f3a"
                          ],
                          [
                            0.8888888888888888,
                            "#fdca26"
                          ],
                          [
                            1,
                            "#f0f921"
                          ]
                        ],
                        "type": "contour"
                      }
                    ],
                    "contourcarpet": [
                      {
                        "colorbar": {
                          "outlinewidth": 0,
                          "ticks": ""
                        },
                        "type": "contourcarpet"
                      }
                    ],
                    "heatmap": [
                      {
                        "colorbar": {
                          "outlinewidth": 0,
                          "ticks": ""
                        },
                        "colorscale": [
                          [
                            0,
                            "#0d0887"
                          ],
                          [
                            0.1111111111111111,
                            "#46039f"
                          ],
                          [
                            0.2222222222222222,
                            "#7201a8"
                          ],
                          [
                            0.3333333333333333,
                            "#9c179e"
                          ],
                          [
                            0.4444444444444444,
                            "#bd3786"
                          ],
                          [
                            0.5555555555555556,
                            "#d8576b"
                          ],
                          [
                            0.6666666666666666,
                            "#ed7953"
                          ],
                          [
                            0.7777777777777778,
                            "#fb9f3a"
                          ],
                          [
                            0.8888888888888888,
                            "#fdca26"
                          ],
                          [
                            1,
                            "#f0f921"
                          ]
                        ],
                        "type": "heatmap"
                      }
                    ],
                    "heatmapgl": [
                      {
                        "colorbar": {
                          "outlinewidth": 0,
                          "ticks": ""
                        },
                        "colorscale": [
                          [
                            0,
                            "#0d0887"
                          ],
                          [
                            0.1111111111111111,
                            "#46039f"
                          ],
                          [
                            0.2222222222222222,
                            "#7201a8"
                          ],
                          [
                            0.3333333333333333,
                            "#9c179e"
                          ],
                          [
                            0.4444444444444444,
                            "#bd3786"
                          ],
                          [
                            0.5555555555555556,
                            "#d8576b"
                          ],
                          [
                            0.6666666666666666,
                            "#ed7953"
                          ],
                          [
                            0.7777777777777778,
                            "#fb9f3a"
                          ],
                          [
                            0.8888888888888888,
                            "#fdca26"
                          ],
                          [
                            1,
                            "#f0f921"
                          ]
                        ],
                        "type": "heatmapgl"
                      }
                    ],
                    "histogram": [
                      {
                        "marker": {
                          "pattern": {
                            "fillmode": "overlay",
                            "size": 10,
                            "solidity": 0.2
                          }
                        },
                        "type": "histogram"
                      }
                    ],
                    "histogram2d": [
                      {
                        "colorbar": {
                          "outlinewidth": 0,
                          "ticks": ""
                        },
                        "colorscale": [
                          [
                            0,
                            "#0d0887"
                          ],
                          [
                            0.1111111111111111,
                            "#46039f"
                          ],
                          [
                            0.2222222222222222,
                            "#7201a8"
                          ],
                          [
                            0.3333333333333333,
                            "#9c179e"
                          ],
                          [
                            0.4444444444444444,
                            "#bd3786"
                          ],
                          [
                            0.5555555555555556,
                            "#d8576b"
                          ],
                          [
                            0.6666666666666666,
                            "#ed7953"
                          ],
                          [
                            0.7777777777777778,
                            "#fb9f3a"
                          ],
                          [
                            0.8888888888888888,
                            "#fdca26"
                          ],
                          [
                            1,
                            "#f0f921"
                          ]
                        ],
                        "type": "histogram2d"
                      }
                    ],
                    "histogram2dcontour": [
                      {
                        "colorbar": {
                          "outlinewidth": 0,
                          "ticks": ""
                        },
                        "colorscale": [
                          [
                            0,
                            "#0d0887"
                          ],
                          [
                            0.1111111111111111,
                            "#46039f"
                          ],
                          [
                            0.2222222222222222,
                            "#7201a8"
                          ],
                          [
                            0.3333333333333333,
                            "#9c179e"
                          ],
                          [
                            0.4444444444444444,
                            "#bd3786"
                          ],
                          [
                            0.5555555555555556,
                            "#d8576b"
                          ],
                          [
                            0.6666666666666666,
                            "#ed7953"
                          ],
                          [
                            0.7777777777777778,
                            "#fb9f3a"
                          ],
                          [
                            0.8888888888888888,
                            "#fdca26"
                          ],
                          [
                            1,
                            "#f0f921"
                          ]
                        ],
                        "type": "histogram2dcontour"
                      }
                    ],
                    "mesh3d": [
                      {
                        "colorbar": {
                          "outlinewidth": 0,
                          "ticks": ""
                        },
                        "type": "mesh3d"
                      }
                    ],
                    "parcoords": [
                      {
                        "line": {
                          "colorbar": {
                            "outlinewidth": 0,
                            "ticks": ""
                          }
                        },
                        "type": "parcoords"
                      }
                    ],
                    "pie": [
                      {
                        "automargin": true,
                        "type": "pie"
                      }
                    ],
                    "scatter": [
                      {
                        "fillpattern": {
                          "fillmode": "overlay",
                          "size": 10,
                          "solidity": 0.2
                        },
                        "type": "scatter"
                      }
                    ],
                    "scatter3d": [
                      {
                        "line": {
                          "colorbar": {
                            "outlinewidth": 0,
                            "ticks": ""
                          }
                        },
                        "marker": {
                          "colorbar": {
                            "outlinewidth": 0,
                            "ticks": ""
                          }
                        },
                        "type": "scatter3d"
                      }
                    ],
                    "scattercarpet": [
                      {
                        "marker": {
                          "colorbar": {
                            "outlinewidth": 0,
                            "ticks": ""
                          }
                        },
                        "type": "scattercarpet"
                      }
                    ],
                    "scattergeo": [
                      {
                        "marker": {
                          "colorbar": {
                            "outlinewidth": 0,
                            "ticks": ""
                          }
                        },
                        "type": "scattergeo"
                      }
                    ],
                    "scattergl": [
                      {
                        "marker": {
                          "colorbar": {
                            "outlinewidth": 0,
                            "ticks": ""
                          }
                        },
                        "type": "scattergl"
                      }
                    ],
                    "scattermapbox": [
                      {
                        "marker": {
                          "colorbar": {
                            "outlinewidth": 0,
                            "ticks": ""
                          }
                        },
                        "type": "scattermapbox"
                      }
                    ],
                    "scatterpolar": [
                      {
                        "marker": {
                          "colorbar": {
                            "outlinewidth": 0,
                            "ticks": ""
                          }
                        },
                        "type": "scatterpolar"
                      }
                    ],
                    "scatterpolargl": [
                      {
                        "marker": {
                          "colorbar": {
                            "outlinewidth": 0,
                            "ticks": ""
                          }
                        },
                        "type": "scatterpolargl"
                      }
                    ],
                    "scatterternary": [
                      {
                        "marker": {
                          "colorbar": {
                            "outlinewidth": 0,
                            "ticks": ""
                          }
                        },
                        "type": "scatterternary"
                      }
                    ],
                    "surface": [
                      {
                        "colorbar": {
                          "outlinewidth": 0,
                          "ticks": ""
                        },
                        "colorscale": [
                          [
                            0,
                            "#0d0887"
                          ],
                          [
                            0.1111111111111111,
                            "#46039f"
                          ],
                          [
                            0.2222222222222222,
                            "#7201a8"
                          ],
                          [
                            0.3333333333333333,
                            "#9c179e"
                          ],
                          [
                            0.4444444444444444,
                            "#bd3786"
                          ],
                          [
                            0.5555555555555556,
                            "#d8576b"
                          ],
                          [
                            0.6666666666666666,
                            "#ed7953"
                          ],
                          [
                            0.7777777777777778,
                            "#fb9f3a"
                          ],
                          [
                            0.8888888888888888,
                            "#fdca26"
                          ],
                          [
                            1,
                            "#f0f921"
                          ]
                        ],
                        "type": "surface"
                      }
                    ],
                    "table": [
                      {
                        "cells": {
                          "fill": {
                            "color": "#EBF0F8"
                          },
                          "line": {
                            "color": "white"
                          }
                        },
                        "header": {
                          "fill": {
                            "color": "#C8D4E3"
                          },
                          "line": {
                            "color": "white"
                          }
                        },
                        "type": "table"
                      }
                    ]
                  },
                  "layout": {
                    "annotationdefaults": {
                      "arrowcolor": "#2a3f5f",
                      "arrowhead": 0,
                      "arrowwidth": 1
                    },
                    "autotypenumbers": "strict",
                    "coloraxis": {
                      "colorbar": {
                        "outlinewidth": 0,
                        "ticks": ""
                      }
                    },
                    "colorscale": {
                      "diverging": [
                        [
                          0,
                          "#8e0152"
                        ],
                        [
                          0.1,
                          "#c51b7d"
                        ],
                        [
                          0.2,
                          "#de77ae"
                        ],
                        [
                          0.3,
                          "#f1b6da"
                        ],
                        [
                          0.4,
                          "#fde0ef"
                        ],
                        [
                          0.5,
                          "#f7f7f7"
                        ],
                        [
                          0.6,
                          "#e6f5d0"
                        ],
                        [
                          0.7,
                          "#b8e186"
                        ],
                        [
                          0.8,
                          "#7fbc41"
                        ],
                        [
                          0.9,
                          "#4d9221"
                        ],
                        [
                          1,
                          "#276419"
                        ]
                      ],
                      "sequential": [
                        [
                          0,
                          "#0d0887"
                        ],
                        [
                          0.1111111111111111,
                          "#46039f"
                        ],
                        [
                          0.2222222222222222,
                          "#7201a8"
                        ],
                        [
                          0.3333333333333333,
                          "#9c179e"
                        ],
                        [
                          0.4444444444444444,
                          "#bd3786"
                        ],
                        [
                          0.5555555555555556,
                          "#d8576b"
                        ],
                        [
                          0.6666666666666666,
                          "#ed7953"
                        ],
                        [
                          0.7777777777777778,
                          "#fb9f3a"
                        ],
                        [
                          0.8888888888888888,
                          "#fdca26"
                        ],
                        [
                          1,
                          "#f0f921"
                        ]
                      ],
                      "sequentialminus": [
                        [
                          0,
                          "#0d0887"
                        ],
                        [
                          0.1111111111111111,
                          "#46039f"
                        ],
                        [
                          0.2222222222222222,
                          "#7201a8"
                        ],
                        [
                          0.3333333333333333,
                          "#9c179e"
                        ],
                        [
                          0.4444444444444444,
                          "#bd3786"
                        ],
                        [
                          0.5555555555555556,
                          "#d8576b"
                        ],
                        [
                          0.6666666666666666,
                          "#ed7953"
                        ],
                        [
                          0.7777777777777778,
                          "#fb9f3a"
                        ],
                        [
                          0.8888888888888888,
                          "#fdca26"
                        ],
                        [
                          1,
                          "#f0f921"
                        ]
                      ]
                    },
                    "colorway": [
                      "#636efa",
                      "#EF553B",
                      "#00cc96",
                      "#ab63fa",
                      "#FFA15A",
                      "#19d3f3",
                      "#FF6692",
                      "#B6E880",
                      "#FF97FF",
                      "#FECB52"
                    ],
                    "font": {
                      "color": "#2a3f5f"
                    },
                    "geo": {
                      "bgcolor": "white",
                      "lakecolor": "white",
                      "landcolor": "#E5ECF6",
                      "showlakes": true,
                      "showland": true,
                      "subunitcolor": "white"
                    },
                    "hoverlabel": {
                      "align": "left"
                    },
                    "hovermode": "closest",
                    "mapbox": {
                      "style": "light"
                    },
                    "paper_bgcolor": "white",
                    "plot_bgcolor": "#E5ECF6",
                    "polar": {
                      "angularaxis": {
                        "gridcolor": "white",
                        "linecolor": "white",
                        "ticks": ""
                      },
                      "bgcolor": "#E5ECF6",
                      "radialaxis": {
                        "gridcolor": "white",
                        "linecolor": "white",
                        "ticks": ""
                      }
                    },
                    "scene": {
                      "xaxis": {
                        "backgroundcolor": "#E5ECF6",
                        "gridcolor": "white",
                        "gridwidth": 2,
                        "linecolor": "white",
                        "showbackground": true,
                        "ticks": "",
                        "zerolinecolor": "white"
                      },
                      "yaxis": {
                        "backgroundcolor": "#E5ECF6",
                        "gridcolor": "white",
                        "gridwidth": 2,
                        "linecolor": "white",
                        "showbackground": true,
                        "ticks": "",
                        "zerolinecolor": "white"
                      },
                      "zaxis": {
                        "backgroundcolor": "#E5ECF6",
                        "gridcolor": "white",
                        "gridwidth": 2,
                        "linecolor": "white",
                        "showbackground": true,
                        "ticks": "",
                        "zerolinecolor": "white"
                      }
                    },
                    "shapedefaults": {
                      "line": {
                        "color": "#2a3f5f"
                      }
                    },
                    "ternary": {
                      "aaxis": {
                        "gridcolor": "white",
                        "linecolor": "white",
                        "ticks": ""
                      },
                      "baxis": {
                        "gridcolor": "white",
                        "linecolor": "white",
                        "ticks": ""
                      },
                      "bgcolor": "#E5ECF6",
                      "caxis": {
                        "gridcolor": "white",
                        "linecolor": "white",
                        "ticks": ""
                      }
                    },
                    "title": {
                      "x": 0.05
                    },
                    "xaxis": {
                      "automargin": true,
                      "gridcolor": "white",
                      "linecolor": "white",
                      "ticks": "",
                      "title": {
                        "standoff": 15
                      },
                      "zerolinecolor": "white",
                      "zerolinewidth": 2
                    },
                    "yaxis": {
                      "automargin": true,
                      "gridcolor": "white",
                      "linecolor": "white",
                      "ticks": "",
                      "title": {
                        "standoff": 15
                      },
                      "zerolinecolor": "white",
                      "zerolinewidth": 2
                    }
                  }
                },
                "title": {
                  "text": "Price Distribution"
                },
                "xaxis": {
                  "anchor": "y",
                  "domain": [
                    0,
                    1
                  ],
                  "title": {
                    "text": "price"
                  }
                },
                "yaxis": {
                  "anchor": "x",
                  "domain": [
                    0,
                    1
                  ],
                  "title": {
                    "text": "index"
                  }
                }
              }
            }
          },
          "metadata": {},
          "output_type": "display_data"
        }
      ],
      "source": [
        "# Here is the price vs all features plot to get a basic overview of price variable\n",
        "plt = px.scatter(df, x='price', color='price', title=\"Price Distribution\", color_discrete_sequence=px.colors.qualitative.Pastel)\n",
        "plt.show()"
      ]
    },
    {
      "cell_type": "markdown",
      "metadata": {
        "id": "zv1011-yRQg7"
      },
      "source": [
        "We can conclude that price depends on a lot of features, and the specs directly impact on the variability of price."
      ]
    },
    {
      "cell_type": "markdown",
      "metadata": {
        "id": "r_ERK6eaRdwl"
      },
      "source": [
        "## Machine Learning and Predictions"
      ]
    },
    {
      "cell_type": "code",
      "execution_count": 22,
      "metadata": {
        "id": "y7XK-sfxRI1y"
      },
      "outputs": [],
      "source": [
        "import pandas as pd\n",
        "from sklearn.compose import ColumnTransformer\n",
        "from sklearn.preprocessing import LabelEncoder, StandardScaler, OneHotEncoder\n",
        "from sklearn.pipeline import Pipeline\n",
        "from sklearn.model_selection import train_test_split\n",
        "from sklearn.ensemble import RandomForestRegressor\n",
        "from sklearn.linear_model import LinearRegression\n",
        "from xgboost import XGBRegressor\n",
        "from sklearn.svm import SVR\n",
        "from sklearn.metrics import r2_score\n",
        "import joblib"
      ]
    },
    {
      "cell_type": "code",
      "execution_count": 23,
      "metadata": {
        "id": "LhFY1IvJRlUL"
      },
      "outputs": [],
      "source": [
        "# Let's split the columns into Categorical and Numerical\n",
        "categorical_columns = df.select_dtypes(include=['object']).columns.tolist()\n",
        "numerical_columns = df.select_dtypes(include=['int64', 'float64']).columns.tolist()\n",
        "numerical_columns.remove('price')  # Exclude the target column from numerical columns\n",
        "numerical_columns.remove('spec_rating') #As ratings are based on other specs"
      ]
    },
    {
      "cell_type": "code",
      "execution_count": 24,
      "metadata": {
        "id": "Ut1V1q4ZSP7E"
      },
      "outputs": [],
      "source": [
        "# Create transformers for numerical and categorical features\n",
        "numerical_transformer = StandardScaler()\n",
        "categorical_transformer = OneHotEncoder(handle_unknown='ignore')\n",
        "\n",
        "# Combine transformers into a ColumnTransformer\n",
        "preprocessor = ColumnTransformer(\n",
        "    transformers=[\n",
        "        ('num', numerical_transformer, numerical_columns),\n",
        "        ('cat', categorical_transformer, categorical_columns)\n",
        "    ])"
      ]
    },
    {
      "cell_type": "code",
      "execution_count": 25,
      "metadata": {
        "colab": {
          "base_uri": "https://localhost:8080/"
        },
        "id": "dqdn-Yz7SVWu",
        "outputId": "cd0c33cc-ec1d-47a5-ceef-586b44e2e5dc"
      },
      "outputs": [
        {
          "data": {
            "text/plain": [
              "['preprocessor.pkl']"
            ]
          },
          "execution_count": 25,
          "metadata": {},
          "output_type": "execute_result"
        }
      ],
      "source": [
        "X = df.drop(columns = ['spec_rating', 'price'])\n",
        "y = df['price']\n",
        "X_train, X_test, y_train, y_test = train_test_split(X, y, test_size=0.2, random_state=42)\n",
        "\n",
        "preprocessor.fit(X_train)\n",
        "\n",
        "joblib.dump(preprocessor, 'preprocessor.pkl')"
      ]
    },
    {
      "cell_type": "code",
      "execution_count": 26,
      "metadata": {
        "colab": {
          "base_uri": "https://localhost:8080/"
        },
        "id": "5EyK9rGTS0RJ",
        "outputId": "a0a157df-0c6d-4049-9dcd-ad2566d1ad97"
      },
      "outputs": [
        {
          "name": "stdout",
          "output_type": "stream",
          "text": [
            "Linear Regression R^2 score: 0.8705190983697756\n",
            "Random Forest R^2 score: 0.8267143889892317\n",
            "XGBoost R^2 score: 0.8404990037693847\n",
            "SVR R^2 score: -0.0607171938986637\n",
            "Best model: Linear Regression with R^2 score: 0.8705190983697756\n"
          ]
        }
      ],
      "source": [
        "# Let's train and save multiple models\n",
        "\n",
        "models = {\n",
        "    \"Linear Regression\": LinearRegression(),\n",
        "    \"Random Forest\": RandomForestRegressor(n_estimators=100, max_depth=100, random_state=42),\n",
        "    \"XGBoost\": XGBRegressor(n_estimators=100, random_state=42),\n",
        "    \"SVR\": SVR()\n",
        "}\n",
        "\n",
        "best_model = None\n",
        "best_score = float('-inf')\n",
        "best_model_name = \"\"\n",
        "\n",
        "for name, model in models.items():\n",
        "    model.fit(preprocessor.transform(X_train), y_train)\n",
        "    y_pred = model.predict(preprocessor.transform(X_test))\n",
        "    r2 = r2_score(y_test, y_pred)\n",
        "    print(f\"{name} R^2 score: {r2}\")\n",
        "    if r2 > best_score:\n",
        "        best_score = r2\n",
        "        best_model = model\n",
        "        best_model_name = name\n",
        "\n",
        "# Save the best model\n",
        "joblib.dump(best_model, 'best_model.pkl')\n",
        "\n",
        "print(f\"Best model: {best_model_name} with R^2 score: {best_score}\")"
      ]
    },
    {
      "cell_type": "markdown",
      "metadata": {
        "id": "Ku2lAOApTalr"
      },
      "source": [
        "Here we can clearly see that the best model is Linear Regressor"
      ]
    },
    {
      "cell_type": "markdown",
      "metadata": {
        "id": "xp6TIfeVTh6N"
      },
      "source": [
        "### Hyperparameter Tuning"
      ]
    },
    {
      "cell_type": "code",
      "execution_count": 27,
      "metadata": {
        "id": "0eXJN06mTU55"
      },
      "outputs": [],
      "source": [
        "from sklearn.model_selection import RandomizedSearchCV"
      ]
    },
    {
      "cell_type": "code",
      "execution_count": 28,
      "metadata": {
        "colab": {
          "base_uri": "https://localhost:8080/"
        },
        "id": "ayhkLdi1To2C",
        "outputId": "df020046-6149-493e-a121-2c2b2873e359"
      },
      "outputs": [
        {
          "name": "stdout",
          "output_type": "stream",
          "text": [
            "Linear Regression R^2 score: 0.8705190983697756\n",
            "Random Forest R^2 score: 0.8292279226472555\n",
            "XGBoost R^2 score: 0.8532602840781043\n",
            "SVR R^2 score: 0.5420927530121156\n",
            "Best model: Linear Regression with R^2 score: 0.8705190983697756\n"
          ]
        }
      ],
      "source": [
        "models = {\n",
        "    \"Linear Regression\": (LinearRegression(), {}),\n",
        "    \"Random Forest\": (RandomForestRegressor(random_state=42), {\n",
        "        'n_estimators': [50, 100, 200],\n",
        "        'max_depth': [None, 10, 20, 30, 40, 50]\n",
        "    }),\n",
        "    \"XGBoost\": (XGBRegressor(random_state=42), {\n",
        "        'n_estimators': [50, 100, 200],\n",
        "        'max_depth': [3, 4, 5, 6, 7],\n",
        "        'learning_rate': [0.01, 0.1, 0.2, 0.3]\n",
        "    }),\n",
        "    \"SVR\": (SVR(), {\n",
        "        'kernel': ['linear', 'rbf'],\n",
        "        'C': [0.1, 1, 10, 100],\n",
        "        'gamma': ['scale', 'auto']\n",
        "    })\n",
        "}\n",
        "\n",
        "best_model = None\n",
        "best_score = float('-inf')\n",
        "best_model_name = \"\"\n",
        "\n",
        "for name, (model, param_grid) in models.items():\n",
        "    if param_grid:\n",
        "        search = RandomizedSearchCV(model, param_grid, n_iter=10, cv=5, scoring='r2', random_state=42, n_jobs=-1)\n",
        "        search.fit(preprocessor.transform(X_train), y_train)\n",
        "        best_model_for_name = search.best_estimator_\n",
        "    else:\n",
        "        best_model_for_name = model\n",
        "        best_model_for_name.fit(preprocessor.transform(X_train), y_train)\n",
        "\n",
        "    y_pred = best_model_for_name.predict(preprocessor.transform(X_test))\n",
        "    r2 = r2_score(y_test, y_pred)\n",
        "    print(f\"{name} R^2 score: {r2}\")\n",
        "    if r2 > best_score:\n",
        "      best_score = r2\n",
        "      best_model = best_model_for_name\n",
        "      best_model_name = name\n",
        "\n",
        "joblib.dump(best_model, 'best_model_hypertuned.pkl')\n",
        "\n",
        "print(f\"Best model: {best_model_name} with R^2 score: {best_score}\")"
      ]
    },
    {
      "cell_type": "code",
      "execution_count": null,
      "metadata": {},
      "outputs": [],
      "source": []
    }
  ],
  "metadata": {
    "colab": {
      "provenance": []
    },
    "kernelspec": {
      "display_name": "base",
      "language": "python",
      "name": "python3"
    },
    "language_info": {
      "codemirror_mode": {
        "name": "ipython",
        "version": 3
      },
      "file_extension": ".py",
      "mimetype": "text/x-python",
      "name": "python",
      "nbconvert_exporter": "python",
      "pygments_lexer": "ipython3",
      "version": "3.12.4"
    }
  },
  "nbformat": 4,
  "nbformat_minor": 0
}
